{
 "cells": [
  {
   "cell_type": "markdown",
   "id": "92c1c05c-f802-40c4-af89-a8fcac4c4ebd",
   "metadata": {},
   "source": [
    "**This is the simplified Opensantions data in csv format**"
   ]
  },
  {
   "cell_type": "code",
   "execution_count": 1,
   "id": "6901f4df-cc11-4f78-97b6-5166a9ef3ba5",
   "metadata": {
    "tags": []
   },
   "outputs": [],
   "source": [
    "#import packages\n",
    "import requests\n",
    "import pandas as pd\n",
    "import numpy as np\n",
    "import datetime\n",
    "import os\n",
    "import re"
   ]
  },
  {
   "cell_type": "markdown",
   "id": "1c2ba7a7-891b-49d8-8222-73f00eed1640",
   "metadata": {},
   "source": [
    "# Retrieval of the data"
   ]
  },
  {
   "cell_type": "code",
   "execution_count": 2,
   "id": "82ebf753-460d-4660-98f8-1ed7536f6910",
   "metadata": {
    "tags": []
   },
   "outputs": [],
   "source": [
    "#I can access the data via pandas very easily, output already in tabular form\n",
    "#data = pd.read_csv('https://data.opensanctions.org/datasets/20240121/us_ofac_sdn/targets.simple.csv')\n",
    "#data"
   ]
  },
  {
   "cell_type": "code",
   "execution_count": 3,
   "id": "94ed0cb0-b7e6-481f-b892-551480b54548",
   "metadata": {
    "tags": []
   },
   "outputs": [
    {
     "data": {
      "text/plain": [
       "Index(['20210801', '20210802', '20210803', '20210804', '20210805', '20210806',\n",
       "       '20210807', '20210808', '20210809', '20210810',\n",
       "       ...\n",
       "       '20231222', '20231223', '20231224', '20231225', '20231226', '20231227',\n",
       "       '20231228', '20231229', '20231230', '20231231'],\n",
       "      dtype='object', length=883)"
      ]
     },
     "execution_count": 3,
     "metadata": {},
     "output_type": "execute_result"
    }
   ],
   "source": [
    "#create urls for all relevant dates\n",
    "date_list = pd.date_range(start='20210801',end='20231231',freq='D').strftime('%Y%m%d')\n",
    "date_list"
   ]
  },
  {
   "cell_type": "code",
   "execution_count": 4,
   "id": "e1ef95cd-ae2c-42b4-9c55-ab230836e4ba",
   "metadata": {
    "collapsed": true,
    "jupyter": {
     "outputs_hidden": true
    },
    "tags": []
   },
   "outputs": [
    {
     "name": "stdout",
     "output_type": "stream",
     "text": [
      "['https://data.opensanctions.org/datasets/20210801/eu_fsf/targets.simple.csv', 'https://data.opensanctions.org/datasets/20210802/eu_fsf/targets.simple.csv', 'https://data.opensanctions.org/datasets/20210803/eu_fsf/targets.simple.csv', 'https://data.opensanctions.org/datasets/20210804/eu_fsf/targets.simple.csv', 'https://data.opensanctions.org/datasets/20210805/eu_fsf/targets.simple.csv', 'https://data.opensanctions.org/datasets/20210806/eu_fsf/targets.simple.csv', 'https://data.opensanctions.org/datasets/20210807/eu_fsf/targets.simple.csv', 'https://data.opensanctions.org/datasets/20210808/eu_fsf/targets.simple.csv', 'https://data.opensanctions.org/datasets/20210809/eu_fsf/targets.simple.csv', 'https://data.opensanctions.org/datasets/20210810/eu_fsf/targets.simple.csv', 'https://data.opensanctions.org/datasets/20210811/eu_fsf/targets.simple.csv', 'https://data.opensanctions.org/datasets/20210812/eu_fsf/targets.simple.csv', 'https://data.opensanctions.org/datasets/20210813/eu_fsf/targets.simple.csv', 'https://data.opensanctions.org/datasets/20210814/eu_fsf/targets.simple.csv', 'https://data.opensanctions.org/datasets/20210815/eu_fsf/targets.simple.csv', 'https://data.opensanctions.org/datasets/20210816/eu_fsf/targets.simple.csv', 'https://data.opensanctions.org/datasets/20210817/eu_fsf/targets.simple.csv', 'https://data.opensanctions.org/datasets/20210818/eu_fsf/targets.simple.csv', 'https://data.opensanctions.org/datasets/20210819/eu_fsf/targets.simple.csv', 'https://data.opensanctions.org/datasets/20210820/eu_fsf/targets.simple.csv', 'https://data.opensanctions.org/datasets/20210821/eu_fsf/targets.simple.csv', 'https://data.opensanctions.org/datasets/20210822/eu_fsf/targets.simple.csv', 'https://data.opensanctions.org/datasets/20210823/eu_fsf/targets.simple.csv', 'https://data.opensanctions.org/datasets/20210824/eu_fsf/targets.simple.csv', 'https://data.opensanctions.org/datasets/20210825/eu_fsf/targets.simple.csv', 'https://data.opensanctions.org/datasets/20210826/eu_fsf/targets.simple.csv', 'https://data.opensanctions.org/datasets/20210827/eu_fsf/targets.simple.csv', 'https://data.opensanctions.org/datasets/20210828/eu_fsf/targets.simple.csv', 'https://data.opensanctions.org/datasets/20210829/eu_fsf/targets.simple.csv', 'https://data.opensanctions.org/datasets/20210830/eu_fsf/targets.simple.csv', 'https://data.opensanctions.org/datasets/20210831/eu_fsf/targets.simple.csv', 'https://data.opensanctions.org/datasets/20210901/eu_fsf/targets.simple.csv', 'https://data.opensanctions.org/datasets/20210902/eu_fsf/targets.simple.csv', 'https://data.opensanctions.org/datasets/20210903/eu_fsf/targets.simple.csv', 'https://data.opensanctions.org/datasets/20210904/eu_fsf/targets.simple.csv', 'https://data.opensanctions.org/datasets/20210905/eu_fsf/targets.simple.csv', 'https://data.opensanctions.org/datasets/20210906/eu_fsf/targets.simple.csv', 'https://data.opensanctions.org/datasets/20210907/eu_fsf/targets.simple.csv', 'https://data.opensanctions.org/datasets/20210908/eu_fsf/targets.simple.csv', 'https://data.opensanctions.org/datasets/20210909/eu_fsf/targets.simple.csv', 'https://data.opensanctions.org/datasets/20210910/eu_fsf/targets.simple.csv', 'https://data.opensanctions.org/datasets/20210911/eu_fsf/targets.simple.csv', 'https://data.opensanctions.org/datasets/20210912/eu_fsf/targets.simple.csv', 'https://data.opensanctions.org/datasets/20210913/eu_fsf/targets.simple.csv', 'https://data.opensanctions.org/datasets/20210914/eu_fsf/targets.simple.csv', 'https://data.opensanctions.org/datasets/20210915/eu_fsf/targets.simple.csv', 'https://data.opensanctions.org/datasets/20210916/eu_fsf/targets.simple.csv', 'https://data.opensanctions.org/datasets/20210917/eu_fsf/targets.simple.csv', 'https://data.opensanctions.org/datasets/20210918/eu_fsf/targets.simple.csv', 'https://data.opensanctions.org/datasets/20210919/eu_fsf/targets.simple.csv', 'https://data.opensanctions.org/datasets/20210920/eu_fsf/targets.simple.csv', 'https://data.opensanctions.org/datasets/20210921/eu_fsf/targets.simple.csv', 'https://data.opensanctions.org/datasets/20210922/eu_fsf/targets.simple.csv', 'https://data.opensanctions.org/datasets/20210923/eu_fsf/targets.simple.csv', 'https://data.opensanctions.org/datasets/20210924/eu_fsf/targets.simple.csv', 'https://data.opensanctions.org/datasets/20210925/eu_fsf/targets.simple.csv', 'https://data.opensanctions.org/datasets/20210926/eu_fsf/targets.simple.csv', 'https://data.opensanctions.org/datasets/20210927/eu_fsf/targets.simple.csv', 'https://data.opensanctions.org/datasets/20210928/eu_fsf/targets.simple.csv', 'https://data.opensanctions.org/datasets/20210929/eu_fsf/targets.simple.csv', 'https://data.opensanctions.org/datasets/20210930/eu_fsf/targets.simple.csv', 'https://data.opensanctions.org/datasets/20211001/eu_fsf/targets.simple.csv', 'https://data.opensanctions.org/datasets/20211002/eu_fsf/targets.simple.csv', 'https://data.opensanctions.org/datasets/20211003/eu_fsf/targets.simple.csv', 'https://data.opensanctions.org/datasets/20211004/eu_fsf/targets.simple.csv', 'https://data.opensanctions.org/datasets/20211005/eu_fsf/targets.simple.csv', 'https://data.opensanctions.org/datasets/20211006/eu_fsf/targets.simple.csv', 'https://data.opensanctions.org/datasets/20211007/eu_fsf/targets.simple.csv', 'https://data.opensanctions.org/datasets/20211008/eu_fsf/targets.simple.csv', 'https://data.opensanctions.org/datasets/20211009/eu_fsf/targets.simple.csv', 'https://data.opensanctions.org/datasets/20211010/eu_fsf/targets.simple.csv', 'https://data.opensanctions.org/datasets/20211011/eu_fsf/targets.simple.csv', 'https://data.opensanctions.org/datasets/20211012/eu_fsf/targets.simple.csv', 'https://data.opensanctions.org/datasets/20211013/eu_fsf/targets.simple.csv', 'https://data.opensanctions.org/datasets/20211014/eu_fsf/targets.simple.csv', 'https://data.opensanctions.org/datasets/20211015/eu_fsf/targets.simple.csv', 'https://data.opensanctions.org/datasets/20211016/eu_fsf/targets.simple.csv', 'https://data.opensanctions.org/datasets/20211017/eu_fsf/targets.simple.csv', 'https://data.opensanctions.org/datasets/20211018/eu_fsf/targets.simple.csv', 'https://data.opensanctions.org/datasets/20211019/eu_fsf/targets.simple.csv', 'https://data.opensanctions.org/datasets/20211020/eu_fsf/targets.simple.csv', 'https://data.opensanctions.org/datasets/20211021/eu_fsf/targets.simple.csv', 'https://data.opensanctions.org/datasets/20211022/eu_fsf/targets.simple.csv', 'https://data.opensanctions.org/datasets/20211023/eu_fsf/targets.simple.csv', 'https://data.opensanctions.org/datasets/20211024/eu_fsf/targets.simple.csv', 'https://data.opensanctions.org/datasets/20211025/eu_fsf/targets.simple.csv', 'https://data.opensanctions.org/datasets/20211026/eu_fsf/targets.simple.csv', 'https://data.opensanctions.org/datasets/20211027/eu_fsf/targets.simple.csv', 'https://data.opensanctions.org/datasets/20211028/eu_fsf/targets.simple.csv', 'https://data.opensanctions.org/datasets/20211029/eu_fsf/targets.simple.csv', 'https://data.opensanctions.org/datasets/20211030/eu_fsf/targets.simple.csv', 'https://data.opensanctions.org/datasets/20211031/eu_fsf/targets.simple.csv', 'https://data.opensanctions.org/datasets/20211101/eu_fsf/targets.simple.csv', 'https://data.opensanctions.org/datasets/20211102/eu_fsf/targets.simple.csv', 'https://data.opensanctions.org/datasets/20211103/eu_fsf/targets.simple.csv', 'https://data.opensanctions.org/datasets/20211104/eu_fsf/targets.simple.csv', 'https://data.opensanctions.org/datasets/20211105/eu_fsf/targets.simple.csv', 'https://data.opensanctions.org/datasets/20211106/eu_fsf/targets.simple.csv', 'https://data.opensanctions.org/datasets/20211107/eu_fsf/targets.simple.csv', 'https://data.opensanctions.org/datasets/20211108/eu_fsf/targets.simple.csv', 'https://data.opensanctions.org/datasets/20211109/eu_fsf/targets.simple.csv', 'https://data.opensanctions.org/datasets/20211110/eu_fsf/targets.simple.csv', 'https://data.opensanctions.org/datasets/20211111/eu_fsf/targets.simple.csv', 'https://data.opensanctions.org/datasets/20211112/eu_fsf/targets.simple.csv', 'https://data.opensanctions.org/datasets/20211113/eu_fsf/targets.simple.csv', 'https://data.opensanctions.org/datasets/20211114/eu_fsf/targets.simple.csv', 'https://data.opensanctions.org/datasets/20211115/eu_fsf/targets.simple.csv', 'https://data.opensanctions.org/datasets/20211116/eu_fsf/targets.simple.csv', 'https://data.opensanctions.org/datasets/20211117/eu_fsf/targets.simple.csv', 'https://data.opensanctions.org/datasets/20211118/eu_fsf/targets.simple.csv', 'https://data.opensanctions.org/datasets/20211119/eu_fsf/targets.simple.csv', 'https://data.opensanctions.org/datasets/20211120/eu_fsf/targets.simple.csv', 'https://data.opensanctions.org/datasets/20211121/eu_fsf/targets.simple.csv', 'https://data.opensanctions.org/datasets/20211122/eu_fsf/targets.simple.csv', 'https://data.opensanctions.org/datasets/20211123/eu_fsf/targets.simple.csv', 'https://data.opensanctions.org/datasets/20211124/eu_fsf/targets.simple.csv', 'https://data.opensanctions.org/datasets/20211125/eu_fsf/targets.simple.csv', 'https://data.opensanctions.org/datasets/20211126/eu_fsf/targets.simple.csv', 'https://data.opensanctions.org/datasets/20211127/eu_fsf/targets.simple.csv', 'https://data.opensanctions.org/datasets/20211128/eu_fsf/targets.simple.csv', 'https://data.opensanctions.org/datasets/20211129/eu_fsf/targets.simple.csv', 'https://data.opensanctions.org/datasets/20211130/eu_fsf/targets.simple.csv', 'https://data.opensanctions.org/datasets/20211201/eu_fsf/targets.simple.csv', 'https://data.opensanctions.org/datasets/20211202/eu_fsf/targets.simple.csv', 'https://data.opensanctions.org/datasets/20211203/eu_fsf/targets.simple.csv', 'https://data.opensanctions.org/datasets/20211204/eu_fsf/targets.simple.csv', 'https://data.opensanctions.org/datasets/20211205/eu_fsf/targets.simple.csv', 'https://data.opensanctions.org/datasets/20211206/eu_fsf/targets.simple.csv', 'https://data.opensanctions.org/datasets/20211207/eu_fsf/targets.simple.csv', 'https://data.opensanctions.org/datasets/20211208/eu_fsf/targets.simple.csv', 'https://data.opensanctions.org/datasets/20211209/eu_fsf/targets.simple.csv', 'https://data.opensanctions.org/datasets/20211210/eu_fsf/targets.simple.csv', 'https://data.opensanctions.org/datasets/20211211/eu_fsf/targets.simple.csv', 'https://data.opensanctions.org/datasets/20211212/eu_fsf/targets.simple.csv', 'https://data.opensanctions.org/datasets/20211213/eu_fsf/targets.simple.csv', 'https://data.opensanctions.org/datasets/20211214/eu_fsf/targets.simple.csv', 'https://data.opensanctions.org/datasets/20211215/eu_fsf/targets.simple.csv', 'https://data.opensanctions.org/datasets/20211216/eu_fsf/targets.simple.csv', 'https://data.opensanctions.org/datasets/20211217/eu_fsf/targets.simple.csv', 'https://data.opensanctions.org/datasets/20211218/eu_fsf/targets.simple.csv', 'https://data.opensanctions.org/datasets/20211219/eu_fsf/targets.simple.csv', 'https://data.opensanctions.org/datasets/20211220/eu_fsf/targets.simple.csv', 'https://data.opensanctions.org/datasets/20211221/eu_fsf/targets.simple.csv', 'https://data.opensanctions.org/datasets/20211222/eu_fsf/targets.simple.csv', 'https://data.opensanctions.org/datasets/20211223/eu_fsf/targets.simple.csv', 'https://data.opensanctions.org/datasets/20211224/eu_fsf/targets.simple.csv', 'https://data.opensanctions.org/datasets/20211225/eu_fsf/targets.simple.csv', 'https://data.opensanctions.org/datasets/20211226/eu_fsf/targets.simple.csv', 'https://data.opensanctions.org/datasets/20211227/eu_fsf/targets.simple.csv', 'https://data.opensanctions.org/datasets/20211228/eu_fsf/targets.simple.csv', 'https://data.opensanctions.org/datasets/20211229/eu_fsf/targets.simple.csv', 'https://data.opensanctions.org/datasets/20211230/eu_fsf/targets.simple.csv', 'https://data.opensanctions.org/datasets/20211231/eu_fsf/targets.simple.csv', 'https://data.opensanctions.org/datasets/20220101/eu_fsf/targets.simple.csv', 'https://data.opensanctions.org/datasets/20220102/eu_fsf/targets.simple.csv', 'https://data.opensanctions.org/datasets/20220103/eu_fsf/targets.simple.csv', 'https://data.opensanctions.org/datasets/20220104/eu_fsf/targets.simple.csv', 'https://data.opensanctions.org/datasets/20220105/eu_fsf/targets.simple.csv', 'https://data.opensanctions.org/datasets/20220106/eu_fsf/targets.simple.csv', 'https://data.opensanctions.org/datasets/20220107/eu_fsf/targets.simple.csv', 'https://data.opensanctions.org/datasets/20220108/eu_fsf/targets.simple.csv', 'https://data.opensanctions.org/datasets/20220109/eu_fsf/targets.simple.csv', 'https://data.opensanctions.org/datasets/20220110/eu_fsf/targets.simple.csv', 'https://data.opensanctions.org/datasets/20220111/eu_fsf/targets.simple.csv', 'https://data.opensanctions.org/datasets/20220112/eu_fsf/targets.simple.csv', 'https://data.opensanctions.org/datasets/20220113/eu_fsf/targets.simple.csv', 'https://data.opensanctions.org/datasets/20220114/eu_fsf/targets.simple.csv', 'https://data.opensanctions.org/datasets/20220115/eu_fsf/targets.simple.csv', 'https://data.opensanctions.org/datasets/20220116/eu_fsf/targets.simple.csv', 'https://data.opensanctions.org/datasets/20220117/eu_fsf/targets.simple.csv', 'https://data.opensanctions.org/datasets/20220118/eu_fsf/targets.simple.csv', 'https://data.opensanctions.org/datasets/20220119/eu_fsf/targets.simple.csv', 'https://data.opensanctions.org/datasets/20220120/eu_fsf/targets.simple.csv', 'https://data.opensanctions.org/datasets/20220121/eu_fsf/targets.simple.csv', 'https://data.opensanctions.org/datasets/20220122/eu_fsf/targets.simple.csv', 'https://data.opensanctions.org/datasets/20220123/eu_fsf/targets.simple.csv', 'https://data.opensanctions.org/datasets/20220124/eu_fsf/targets.simple.csv', 'https://data.opensanctions.org/datasets/20220125/eu_fsf/targets.simple.csv', 'https://data.opensanctions.org/datasets/20220126/eu_fsf/targets.simple.csv', 'https://data.opensanctions.org/datasets/20220127/eu_fsf/targets.simple.csv', 'https://data.opensanctions.org/datasets/20220128/eu_fsf/targets.simple.csv', 'https://data.opensanctions.org/datasets/20220129/eu_fsf/targets.simple.csv', 'https://data.opensanctions.org/datasets/20220130/eu_fsf/targets.simple.csv', 'https://data.opensanctions.org/datasets/20220131/eu_fsf/targets.simple.csv', 'https://data.opensanctions.org/datasets/20220201/eu_fsf/targets.simple.csv', 'https://data.opensanctions.org/datasets/20220202/eu_fsf/targets.simple.csv', 'https://data.opensanctions.org/datasets/20220203/eu_fsf/targets.simple.csv', 'https://data.opensanctions.org/datasets/20220204/eu_fsf/targets.simple.csv', 'https://data.opensanctions.org/datasets/20220205/eu_fsf/targets.simple.csv', 'https://data.opensanctions.org/datasets/20220206/eu_fsf/targets.simple.csv', 'https://data.opensanctions.org/datasets/20220207/eu_fsf/targets.simple.csv', 'https://data.opensanctions.org/datasets/20220208/eu_fsf/targets.simple.csv', 'https://data.opensanctions.org/datasets/20220209/eu_fsf/targets.simple.csv', 'https://data.opensanctions.org/datasets/20220210/eu_fsf/targets.simple.csv', 'https://data.opensanctions.org/datasets/20220211/eu_fsf/targets.simple.csv', 'https://data.opensanctions.org/datasets/20220212/eu_fsf/targets.simple.csv', 'https://data.opensanctions.org/datasets/20220213/eu_fsf/targets.simple.csv', 'https://data.opensanctions.org/datasets/20220214/eu_fsf/targets.simple.csv', 'https://data.opensanctions.org/datasets/20220215/eu_fsf/targets.simple.csv', 'https://data.opensanctions.org/datasets/20220216/eu_fsf/targets.simple.csv', 'https://data.opensanctions.org/datasets/20220217/eu_fsf/targets.simple.csv', 'https://data.opensanctions.org/datasets/20220218/eu_fsf/targets.simple.csv', 'https://data.opensanctions.org/datasets/20220219/eu_fsf/targets.simple.csv', 'https://data.opensanctions.org/datasets/20220220/eu_fsf/targets.simple.csv', 'https://data.opensanctions.org/datasets/20220221/eu_fsf/targets.simple.csv', 'https://data.opensanctions.org/datasets/20220222/eu_fsf/targets.simple.csv', 'https://data.opensanctions.org/datasets/20220223/eu_fsf/targets.simple.csv', 'https://data.opensanctions.org/datasets/20220224/eu_fsf/targets.simple.csv', 'https://data.opensanctions.org/datasets/20220225/eu_fsf/targets.simple.csv', 'https://data.opensanctions.org/datasets/20220226/eu_fsf/targets.simple.csv', 'https://data.opensanctions.org/datasets/20220227/eu_fsf/targets.simple.csv', 'https://data.opensanctions.org/datasets/20220228/eu_fsf/targets.simple.csv', 'https://data.opensanctions.org/datasets/20220301/eu_fsf/targets.simple.csv', 'https://data.opensanctions.org/datasets/20220302/eu_fsf/targets.simple.csv', 'https://data.opensanctions.org/datasets/20220303/eu_fsf/targets.simple.csv', 'https://data.opensanctions.org/datasets/20220304/eu_fsf/targets.simple.csv', 'https://data.opensanctions.org/datasets/20220305/eu_fsf/targets.simple.csv', 'https://data.opensanctions.org/datasets/20220306/eu_fsf/targets.simple.csv', 'https://data.opensanctions.org/datasets/20220307/eu_fsf/targets.simple.csv', 'https://data.opensanctions.org/datasets/20220308/eu_fsf/targets.simple.csv', 'https://data.opensanctions.org/datasets/20220309/eu_fsf/targets.simple.csv', 'https://data.opensanctions.org/datasets/20220310/eu_fsf/targets.simple.csv', 'https://data.opensanctions.org/datasets/20220311/eu_fsf/targets.simple.csv', 'https://data.opensanctions.org/datasets/20220312/eu_fsf/targets.simple.csv', 'https://data.opensanctions.org/datasets/20220313/eu_fsf/targets.simple.csv', 'https://data.opensanctions.org/datasets/20220314/eu_fsf/targets.simple.csv', 'https://data.opensanctions.org/datasets/20220315/eu_fsf/targets.simple.csv', 'https://data.opensanctions.org/datasets/20220316/eu_fsf/targets.simple.csv', 'https://data.opensanctions.org/datasets/20220317/eu_fsf/targets.simple.csv', 'https://data.opensanctions.org/datasets/20220318/eu_fsf/targets.simple.csv', 'https://data.opensanctions.org/datasets/20220319/eu_fsf/targets.simple.csv', 'https://data.opensanctions.org/datasets/20220320/eu_fsf/targets.simple.csv', 'https://data.opensanctions.org/datasets/20220321/eu_fsf/targets.simple.csv', 'https://data.opensanctions.org/datasets/20220322/eu_fsf/targets.simple.csv', 'https://data.opensanctions.org/datasets/20220323/eu_fsf/targets.simple.csv', 'https://data.opensanctions.org/datasets/20220324/eu_fsf/targets.simple.csv', 'https://data.opensanctions.org/datasets/20220325/eu_fsf/targets.simple.csv', 'https://data.opensanctions.org/datasets/20220326/eu_fsf/targets.simple.csv', 'https://data.opensanctions.org/datasets/20220327/eu_fsf/targets.simple.csv', 'https://data.opensanctions.org/datasets/20220328/eu_fsf/targets.simple.csv', 'https://data.opensanctions.org/datasets/20220329/eu_fsf/targets.simple.csv', 'https://data.opensanctions.org/datasets/20220330/eu_fsf/targets.simple.csv', 'https://data.opensanctions.org/datasets/20220331/eu_fsf/targets.simple.csv', 'https://data.opensanctions.org/datasets/20220401/eu_fsf/targets.simple.csv', 'https://data.opensanctions.org/datasets/20220402/eu_fsf/targets.simple.csv', 'https://data.opensanctions.org/datasets/20220403/eu_fsf/targets.simple.csv', 'https://data.opensanctions.org/datasets/20220404/eu_fsf/targets.simple.csv', 'https://data.opensanctions.org/datasets/20220405/eu_fsf/targets.simple.csv', 'https://data.opensanctions.org/datasets/20220406/eu_fsf/targets.simple.csv', 'https://data.opensanctions.org/datasets/20220407/eu_fsf/targets.simple.csv', 'https://data.opensanctions.org/datasets/20220408/eu_fsf/targets.simple.csv', 'https://data.opensanctions.org/datasets/20220409/eu_fsf/targets.simple.csv', 'https://data.opensanctions.org/datasets/20220410/eu_fsf/targets.simple.csv', 'https://data.opensanctions.org/datasets/20220411/eu_fsf/targets.simple.csv', 'https://data.opensanctions.org/datasets/20220412/eu_fsf/targets.simple.csv', 'https://data.opensanctions.org/datasets/20220413/eu_fsf/targets.simple.csv', 'https://data.opensanctions.org/datasets/20220414/eu_fsf/targets.simple.csv', 'https://data.opensanctions.org/datasets/20220415/eu_fsf/targets.simple.csv', 'https://data.opensanctions.org/datasets/20220416/eu_fsf/targets.simple.csv', 'https://data.opensanctions.org/datasets/20220417/eu_fsf/targets.simple.csv', 'https://data.opensanctions.org/datasets/20220418/eu_fsf/targets.simple.csv', 'https://data.opensanctions.org/datasets/20220419/eu_fsf/targets.simple.csv', 'https://data.opensanctions.org/datasets/20220420/eu_fsf/targets.simple.csv', 'https://data.opensanctions.org/datasets/20220421/eu_fsf/targets.simple.csv', 'https://data.opensanctions.org/datasets/20220422/eu_fsf/targets.simple.csv', 'https://data.opensanctions.org/datasets/20220423/eu_fsf/targets.simple.csv', 'https://data.opensanctions.org/datasets/20220424/eu_fsf/targets.simple.csv', 'https://data.opensanctions.org/datasets/20220425/eu_fsf/targets.simple.csv', 'https://data.opensanctions.org/datasets/20220426/eu_fsf/targets.simple.csv', 'https://data.opensanctions.org/datasets/20220427/eu_fsf/targets.simple.csv', 'https://data.opensanctions.org/datasets/20220428/eu_fsf/targets.simple.csv', 'https://data.opensanctions.org/datasets/20220429/eu_fsf/targets.simple.csv', 'https://data.opensanctions.org/datasets/20220430/eu_fsf/targets.simple.csv', 'https://data.opensanctions.org/datasets/20220501/eu_fsf/targets.simple.csv', 'https://data.opensanctions.org/datasets/20220502/eu_fsf/targets.simple.csv', 'https://data.opensanctions.org/datasets/20220503/eu_fsf/targets.simple.csv', 'https://data.opensanctions.org/datasets/20220504/eu_fsf/targets.simple.csv', 'https://data.opensanctions.org/datasets/20220505/eu_fsf/targets.simple.csv', 'https://data.opensanctions.org/datasets/20220506/eu_fsf/targets.simple.csv', 'https://data.opensanctions.org/datasets/20220507/eu_fsf/targets.simple.csv', 'https://data.opensanctions.org/datasets/20220508/eu_fsf/targets.simple.csv', 'https://data.opensanctions.org/datasets/20220509/eu_fsf/targets.simple.csv', 'https://data.opensanctions.org/datasets/20220510/eu_fsf/targets.simple.csv', 'https://data.opensanctions.org/datasets/20220511/eu_fsf/targets.simple.csv', 'https://data.opensanctions.org/datasets/20220512/eu_fsf/targets.simple.csv', 'https://data.opensanctions.org/datasets/20220513/eu_fsf/targets.simple.csv', 'https://data.opensanctions.org/datasets/20220514/eu_fsf/targets.simple.csv', 'https://data.opensanctions.org/datasets/20220515/eu_fsf/targets.simple.csv', 'https://data.opensanctions.org/datasets/20220516/eu_fsf/targets.simple.csv', 'https://data.opensanctions.org/datasets/20220517/eu_fsf/targets.simple.csv', 'https://data.opensanctions.org/datasets/20220518/eu_fsf/targets.simple.csv', 'https://data.opensanctions.org/datasets/20220519/eu_fsf/targets.simple.csv', 'https://data.opensanctions.org/datasets/20220520/eu_fsf/targets.simple.csv', 'https://data.opensanctions.org/datasets/20220521/eu_fsf/targets.simple.csv', 'https://data.opensanctions.org/datasets/20220522/eu_fsf/targets.simple.csv', 'https://data.opensanctions.org/datasets/20220523/eu_fsf/targets.simple.csv', 'https://data.opensanctions.org/datasets/20220524/eu_fsf/targets.simple.csv', 'https://data.opensanctions.org/datasets/20220525/eu_fsf/targets.simple.csv', 'https://data.opensanctions.org/datasets/20220526/eu_fsf/targets.simple.csv', 'https://data.opensanctions.org/datasets/20220527/eu_fsf/targets.simple.csv', 'https://data.opensanctions.org/datasets/20220528/eu_fsf/targets.simple.csv', 'https://data.opensanctions.org/datasets/20220529/eu_fsf/targets.simple.csv', 'https://data.opensanctions.org/datasets/20220530/eu_fsf/targets.simple.csv', 'https://data.opensanctions.org/datasets/20220531/eu_fsf/targets.simple.csv', 'https://data.opensanctions.org/datasets/20220601/eu_fsf/targets.simple.csv', 'https://data.opensanctions.org/datasets/20220602/eu_fsf/targets.simple.csv', 'https://data.opensanctions.org/datasets/20220603/eu_fsf/targets.simple.csv', 'https://data.opensanctions.org/datasets/20220604/eu_fsf/targets.simple.csv', 'https://data.opensanctions.org/datasets/20220605/eu_fsf/targets.simple.csv', 'https://data.opensanctions.org/datasets/20220606/eu_fsf/targets.simple.csv', 'https://data.opensanctions.org/datasets/20220607/eu_fsf/targets.simple.csv', 'https://data.opensanctions.org/datasets/20220608/eu_fsf/targets.simple.csv', 'https://data.opensanctions.org/datasets/20220609/eu_fsf/targets.simple.csv', 'https://data.opensanctions.org/datasets/20220610/eu_fsf/targets.simple.csv', 'https://data.opensanctions.org/datasets/20220611/eu_fsf/targets.simple.csv', 'https://data.opensanctions.org/datasets/20220612/eu_fsf/targets.simple.csv', 'https://data.opensanctions.org/datasets/20220613/eu_fsf/targets.simple.csv', 'https://data.opensanctions.org/datasets/20220614/eu_fsf/targets.simple.csv', 'https://data.opensanctions.org/datasets/20220615/eu_fsf/targets.simple.csv', 'https://data.opensanctions.org/datasets/20220616/eu_fsf/targets.simple.csv', 'https://data.opensanctions.org/datasets/20220617/eu_fsf/targets.simple.csv', 'https://data.opensanctions.org/datasets/20220618/eu_fsf/targets.simple.csv', 'https://data.opensanctions.org/datasets/20220619/eu_fsf/targets.simple.csv', 'https://data.opensanctions.org/datasets/20220620/eu_fsf/targets.simple.csv', 'https://data.opensanctions.org/datasets/20220621/eu_fsf/targets.simple.csv', 'https://data.opensanctions.org/datasets/20220622/eu_fsf/targets.simple.csv', 'https://data.opensanctions.org/datasets/20220623/eu_fsf/targets.simple.csv', 'https://data.opensanctions.org/datasets/20220624/eu_fsf/targets.simple.csv', 'https://data.opensanctions.org/datasets/20220625/eu_fsf/targets.simple.csv', 'https://data.opensanctions.org/datasets/20220626/eu_fsf/targets.simple.csv', 'https://data.opensanctions.org/datasets/20220627/eu_fsf/targets.simple.csv', 'https://data.opensanctions.org/datasets/20220628/eu_fsf/targets.simple.csv', 'https://data.opensanctions.org/datasets/20220629/eu_fsf/targets.simple.csv', 'https://data.opensanctions.org/datasets/20220630/eu_fsf/targets.simple.csv', 'https://data.opensanctions.org/datasets/20220701/eu_fsf/targets.simple.csv', 'https://data.opensanctions.org/datasets/20220702/eu_fsf/targets.simple.csv', 'https://data.opensanctions.org/datasets/20220703/eu_fsf/targets.simple.csv', 'https://data.opensanctions.org/datasets/20220704/eu_fsf/targets.simple.csv', 'https://data.opensanctions.org/datasets/20220705/eu_fsf/targets.simple.csv', 'https://data.opensanctions.org/datasets/20220706/eu_fsf/targets.simple.csv', 'https://data.opensanctions.org/datasets/20220707/eu_fsf/targets.simple.csv', 'https://data.opensanctions.org/datasets/20220708/eu_fsf/targets.simple.csv', 'https://data.opensanctions.org/datasets/20220709/eu_fsf/targets.simple.csv', 'https://data.opensanctions.org/datasets/20220710/eu_fsf/targets.simple.csv', 'https://data.opensanctions.org/datasets/20220711/eu_fsf/targets.simple.csv', 'https://data.opensanctions.org/datasets/20220712/eu_fsf/targets.simple.csv', 'https://data.opensanctions.org/datasets/20220713/eu_fsf/targets.simple.csv', 'https://data.opensanctions.org/datasets/20220714/eu_fsf/targets.simple.csv', 'https://data.opensanctions.org/datasets/20220715/eu_fsf/targets.simple.csv', 'https://data.opensanctions.org/datasets/20220716/eu_fsf/targets.simple.csv', 'https://data.opensanctions.org/datasets/20220717/eu_fsf/targets.simple.csv', 'https://data.opensanctions.org/datasets/20220718/eu_fsf/targets.simple.csv', 'https://data.opensanctions.org/datasets/20220719/eu_fsf/targets.simple.csv', 'https://data.opensanctions.org/datasets/20220720/eu_fsf/targets.simple.csv', 'https://data.opensanctions.org/datasets/20220721/eu_fsf/targets.simple.csv', 'https://data.opensanctions.org/datasets/20220722/eu_fsf/targets.simple.csv', 'https://data.opensanctions.org/datasets/20220723/eu_fsf/targets.simple.csv', 'https://data.opensanctions.org/datasets/20220724/eu_fsf/targets.simple.csv', 'https://data.opensanctions.org/datasets/20220725/eu_fsf/targets.simple.csv', 'https://data.opensanctions.org/datasets/20220726/eu_fsf/targets.simple.csv', 'https://data.opensanctions.org/datasets/20220727/eu_fsf/targets.simple.csv', 'https://data.opensanctions.org/datasets/20220728/eu_fsf/targets.simple.csv', 'https://data.opensanctions.org/datasets/20220729/eu_fsf/targets.simple.csv', 'https://data.opensanctions.org/datasets/20220730/eu_fsf/targets.simple.csv', 'https://data.opensanctions.org/datasets/20220731/eu_fsf/targets.simple.csv', 'https://data.opensanctions.org/datasets/20220801/eu_fsf/targets.simple.csv', 'https://data.opensanctions.org/datasets/20220802/eu_fsf/targets.simple.csv', 'https://data.opensanctions.org/datasets/20220803/eu_fsf/targets.simple.csv', 'https://data.opensanctions.org/datasets/20220804/eu_fsf/targets.simple.csv', 'https://data.opensanctions.org/datasets/20220805/eu_fsf/targets.simple.csv', 'https://data.opensanctions.org/datasets/20220806/eu_fsf/targets.simple.csv', 'https://data.opensanctions.org/datasets/20220807/eu_fsf/targets.simple.csv', 'https://data.opensanctions.org/datasets/20220808/eu_fsf/targets.simple.csv', 'https://data.opensanctions.org/datasets/20220809/eu_fsf/targets.simple.csv', 'https://data.opensanctions.org/datasets/20220810/eu_fsf/targets.simple.csv', 'https://data.opensanctions.org/datasets/20220811/eu_fsf/targets.simple.csv', 'https://data.opensanctions.org/datasets/20220812/eu_fsf/targets.simple.csv', 'https://data.opensanctions.org/datasets/20220813/eu_fsf/targets.simple.csv', 'https://data.opensanctions.org/datasets/20220814/eu_fsf/targets.simple.csv', 'https://data.opensanctions.org/datasets/20220815/eu_fsf/targets.simple.csv', 'https://data.opensanctions.org/datasets/20220816/eu_fsf/targets.simple.csv', 'https://data.opensanctions.org/datasets/20220817/eu_fsf/targets.simple.csv', 'https://data.opensanctions.org/datasets/20220818/eu_fsf/targets.simple.csv', 'https://data.opensanctions.org/datasets/20220819/eu_fsf/targets.simple.csv', 'https://data.opensanctions.org/datasets/20220820/eu_fsf/targets.simple.csv', 'https://data.opensanctions.org/datasets/20220821/eu_fsf/targets.simple.csv', 'https://data.opensanctions.org/datasets/20220822/eu_fsf/targets.simple.csv', 'https://data.opensanctions.org/datasets/20220823/eu_fsf/targets.simple.csv', 'https://data.opensanctions.org/datasets/20220824/eu_fsf/targets.simple.csv', 'https://data.opensanctions.org/datasets/20220825/eu_fsf/targets.simple.csv', 'https://data.opensanctions.org/datasets/20220826/eu_fsf/targets.simple.csv', 'https://data.opensanctions.org/datasets/20220827/eu_fsf/targets.simple.csv', 'https://data.opensanctions.org/datasets/20220828/eu_fsf/targets.simple.csv', 'https://data.opensanctions.org/datasets/20220829/eu_fsf/targets.simple.csv', 'https://data.opensanctions.org/datasets/20220830/eu_fsf/targets.simple.csv', 'https://data.opensanctions.org/datasets/20220831/eu_fsf/targets.simple.csv', 'https://data.opensanctions.org/datasets/20220901/eu_fsf/targets.simple.csv', 'https://data.opensanctions.org/datasets/20220902/eu_fsf/targets.simple.csv', 'https://data.opensanctions.org/datasets/20220903/eu_fsf/targets.simple.csv', 'https://data.opensanctions.org/datasets/20220904/eu_fsf/targets.simple.csv', 'https://data.opensanctions.org/datasets/20220905/eu_fsf/targets.simple.csv', 'https://data.opensanctions.org/datasets/20220906/eu_fsf/targets.simple.csv', 'https://data.opensanctions.org/datasets/20220907/eu_fsf/targets.simple.csv', 'https://data.opensanctions.org/datasets/20220908/eu_fsf/targets.simple.csv', 'https://data.opensanctions.org/datasets/20220909/eu_fsf/targets.simple.csv', 'https://data.opensanctions.org/datasets/20220910/eu_fsf/targets.simple.csv', 'https://data.opensanctions.org/datasets/20220911/eu_fsf/targets.simple.csv', 'https://data.opensanctions.org/datasets/20220912/eu_fsf/targets.simple.csv', 'https://data.opensanctions.org/datasets/20220913/eu_fsf/targets.simple.csv', 'https://data.opensanctions.org/datasets/20220914/eu_fsf/targets.simple.csv', 'https://data.opensanctions.org/datasets/20220915/eu_fsf/targets.simple.csv', 'https://data.opensanctions.org/datasets/20220916/eu_fsf/targets.simple.csv', 'https://data.opensanctions.org/datasets/20220917/eu_fsf/targets.simple.csv', 'https://data.opensanctions.org/datasets/20220918/eu_fsf/targets.simple.csv', 'https://data.opensanctions.org/datasets/20220919/eu_fsf/targets.simple.csv', 'https://data.opensanctions.org/datasets/20220920/eu_fsf/targets.simple.csv', 'https://data.opensanctions.org/datasets/20220921/eu_fsf/targets.simple.csv', 'https://data.opensanctions.org/datasets/20220922/eu_fsf/targets.simple.csv', 'https://data.opensanctions.org/datasets/20220923/eu_fsf/targets.simple.csv', 'https://data.opensanctions.org/datasets/20220924/eu_fsf/targets.simple.csv', 'https://data.opensanctions.org/datasets/20220925/eu_fsf/targets.simple.csv', 'https://data.opensanctions.org/datasets/20220926/eu_fsf/targets.simple.csv', 'https://data.opensanctions.org/datasets/20220927/eu_fsf/targets.simple.csv', 'https://data.opensanctions.org/datasets/20220928/eu_fsf/targets.simple.csv', 'https://data.opensanctions.org/datasets/20220929/eu_fsf/targets.simple.csv', 'https://data.opensanctions.org/datasets/20220930/eu_fsf/targets.simple.csv', 'https://data.opensanctions.org/datasets/20221001/eu_fsf/targets.simple.csv', 'https://data.opensanctions.org/datasets/20221002/eu_fsf/targets.simple.csv', 'https://data.opensanctions.org/datasets/20221003/eu_fsf/targets.simple.csv', 'https://data.opensanctions.org/datasets/20221004/eu_fsf/targets.simple.csv', 'https://data.opensanctions.org/datasets/20221005/eu_fsf/targets.simple.csv', 'https://data.opensanctions.org/datasets/20221006/eu_fsf/targets.simple.csv', 'https://data.opensanctions.org/datasets/20221007/eu_fsf/targets.simple.csv', 'https://data.opensanctions.org/datasets/20221008/eu_fsf/targets.simple.csv', 'https://data.opensanctions.org/datasets/20221009/eu_fsf/targets.simple.csv', 'https://data.opensanctions.org/datasets/20221010/eu_fsf/targets.simple.csv', 'https://data.opensanctions.org/datasets/20221011/eu_fsf/targets.simple.csv', 'https://data.opensanctions.org/datasets/20221012/eu_fsf/targets.simple.csv', 'https://data.opensanctions.org/datasets/20221013/eu_fsf/targets.simple.csv', 'https://data.opensanctions.org/datasets/20221014/eu_fsf/targets.simple.csv', 'https://data.opensanctions.org/datasets/20221015/eu_fsf/targets.simple.csv', 'https://data.opensanctions.org/datasets/20221016/eu_fsf/targets.simple.csv', 'https://data.opensanctions.org/datasets/20221017/eu_fsf/targets.simple.csv', 'https://data.opensanctions.org/datasets/20221018/eu_fsf/targets.simple.csv', 'https://data.opensanctions.org/datasets/20221019/eu_fsf/targets.simple.csv', 'https://data.opensanctions.org/datasets/20221020/eu_fsf/targets.simple.csv', 'https://data.opensanctions.org/datasets/20221021/eu_fsf/targets.simple.csv', 'https://data.opensanctions.org/datasets/20221022/eu_fsf/targets.simple.csv', 'https://data.opensanctions.org/datasets/20221023/eu_fsf/targets.simple.csv', 'https://data.opensanctions.org/datasets/20221024/eu_fsf/targets.simple.csv', 'https://data.opensanctions.org/datasets/20221025/eu_fsf/targets.simple.csv', 'https://data.opensanctions.org/datasets/20221026/eu_fsf/targets.simple.csv', 'https://data.opensanctions.org/datasets/20221027/eu_fsf/targets.simple.csv', 'https://data.opensanctions.org/datasets/20221028/eu_fsf/targets.simple.csv', 'https://data.opensanctions.org/datasets/20221029/eu_fsf/targets.simple.csv', 'https://data.opensanctions.org/datasets/20221030/eu_fsf/targets.simple.csv', 'https://data.opensanctions.org/datasets/20221031/eu_fsf/targets.simple.csv', 'https://data.opensanctions.org/datasets/20221101/eu_fsf/targets.simple.csv', 'https://data.opensanctions.org/datasets/20221102/eu_fsf/targets.simple.csv', 'https://data.opensanctions.org/datasets/20221103/eu_fsf/targets.simple.csv', 'https://data.opensanctions.org/datasets/20221104/eu_fsf/targets.simple.csv', 'https://data.opensanctions.org/datasets/20221105/eu_fsf/targets.simple.csv', 'https://data.opensanctions.org/datasets/20221106/eu_fsf/targets.simple.csv', 'https://data.opensanctions.org/datasets/20221107/eu_fsf/targets.simple.csv', 'https://data.opensanctions.org/datasets/20221108/eu_fsf/targets.simple.csv', 'https://data.opensanctions.org/datasets/20221109/eu_fsf/targets.simple.csv', 'https://data.opensanctions.org/datasets/20221110/eu_fsf/targets.simple.csv', 'https://data.opensanctions.org/datasets/20221111/eu_fsf/targets.simple.csv', 'https://data.opensanctions.org/datasets/20221112/eu_fsf/targets.simple.csv', 'https://data.opensanctions.org/datasets/20221113/eu_fsf/targets.simple.csv', 'https://data.opensanctions.org/datasets/20221114/eu_fsf/targets.simple.csv', 'https://data.opensanctions.org/datasets/20221115/eu_fsf/targets.simple.csv', 'https://data.opensanctions.org/datasets/20221116/eu_fsf/targets.simple.csv', 'https://data.opensanctions.org/datasets/20221117/eu_fsf/targets.simple.csv', 'https://data.opensanctions.org/datasets/20221118/eu_fsf/targets.simple.csv', 'https://data.opensanctions.org/datasets/20221119/eu_fsf/targets.simple.csv', 'https://data.opensanctions.org/datasets/20221120/eu_fsf/targets.simple.csv', 'https://data.opensanctions.org/datasets/20221121/eu_fsf/targets.simple.csv', 'https://data.opensanctions.org/datasets/20221122/eu_fsf/targets.simple.csv', 'https://data.opensanctions.org/datasets/20221123/eu_fsf/targets.simple.csv', 'https://data.opensanctions.org/datasets/20221124/eu_fsf/targets.simple.csv', 'https://data.opensanctions.org/datasets/20221125/eu_fsf/targets.simple.csv', 'https://data.opensanctions.org/datasets/20221126/eu_fsf/targets.simple.csv', 'https://data.opensanctions.org/datasets/20221127/eu_fsf/targets.simple.csv', 'https://data.opensanctions.org/datasets/20221128/eu_fsf/targets.simple.csv', 'https://data.opensanctions.org/datasets/20221129/eu_fsf/targets.simple.csv', 'https://data.opensanctions.org/datasets/20221130/eu_fsf/targets.simple.csv', 'https://data.opensanctions.org/datasets/20221201/eu_fsf/targets.simple.csv', 'https://data.opensanctions.org/datasets/20221202/eu_fsf/targets.simple.csv', 'https://data.opensanctions.org/datasets/20221203/eu_fsf/targets.simple.csv', 'https://data.opensanctions.org/datasets/20221204/eu_fsf/targets.simple.csv', 'https://data.opensanctions.org/datasets/20221205/eu_fsf/targets.simple.csv', 'https://data.opensanctions.org/datasets/20221206/eu_fsf/targets.simple.csv', 'https://data.opensanctions.org/datasets/20221207/eu_fsf/targets.simple.csv', 'https://data.opensanctions.org/datasets/20221208/eu_fsf/targets.simple.csv', 'https://data.opensanctions.org/datasets/20221209/eu_fsf/targets.simple.csv', 'https://data.opensanctions.org/datasets/20221210/eu_fsf/targets.simple.csv', 'https://data.opensanctions.org/datasets/20221211/eu_fsf/targets.simple.csv', 'https://data.opensanctions.org/datasets/20221212/eu_fsf/targets.simple.csv', 'https://data.opensanctions.org/datasets/20221213/eu_fsf/targets.simple.csv', 'https://data.opensanctions.org/datasets/20221214/eu_fsf/targets.simple.csv', 'https://data.opensanctions.org/datasets/20221215/eu_fsf/targets.simple.csv', 'https://data.opensanctions.org/datasets/20221216/eu_fsf/targets.simple.csv', 'https://data.opensanctions.org/datasets/20221217/eu_fsf/targets.simple.csv', 'https://data.opensanctions.org/datasets/20221218/eu_fsf/targets.simple.csv', 'https://data.opensanctions.org/datasets/20221219/eu_fsf/targets.simple.csv', 'https://data.opensanctions.org/datasets/20221220/eu_fsf/targets.simple.csv', 'https://data.opensanctions.org/datasets/20221221/eu_fsf/targets.simple.csv', 'https://data.opensanctions.org/datasets/20221222/eu_fsf/targets.simple.csv', 'https://data.opensanctions.org/datasets/20221223/eu_fsf/targets.simple.csv', 'https://data.opensanctions.org/datasets/20221224/eu_fsf/targets.simple.csv', 'https://data.opensanctions.org/datasets/20221225/eu_fsf/targets.simple.csv', 'https://data.opensanctions.org/datasets/20221226/eu_fsf/targets.simple.csv', 'https://data.opensanctions.org/datasets/20221227/eu_fsf/targets.simple.csv', 'https://data.opensanctions.org/datasets/20221228/eu_fsf/targets.simple.csv', 'https://data.opensanctions.org/datasets/20221229/eu_fsf/targets.simple.csv', 'https://data.opensanctions.org/datasets/20221230/eu_fsf/targets.simple.csv', 'https://data.opensanctions.org/datasets/20221231/eu_fsf/targets.simple.csv', 'https://data.opensanctions.org/datasets/20230101/eu_fsf/targets.simple.csv', 'https://data.opensanctions.org/datasets/20230102/eu_fsf/targets.simple.csv', 'https://data.opensanctions.org/datasets/20230103/eu_fsf/targets.simple.csv', 'https://data.opensanctions.org/datasets/20230104/eu_fsf/targets.simple.csv', 'https://data.opensanctions.org/datasets/20230105/eu_fsf/targets.simple.csv', 'https://data.opensanctions.org/datasets/20230106/eu_fsf/targets.simple.csv', 'https://data.opensanctions.org/datasets/20230107/eu_fsf/targets.simple.csv', 'https://data.opensanctions.org/datasets/20230108/eu_fsf/targets.simple.csv', 'https://data.opensanctions.org/datasets/20230109/eu_fsf/targets.simple.csv', 'https://data.opensanctions.org/datasets/20230110/eu_fsf/targets.simple.csv', 'https://data.opensanctions.org/datasets/20230111/eu_fsf/targets.simple.csv', 'https://data.opensanctions.org/datasets/20230112/eu_fsf/targets.simple.csv', 'https://data.opensanctions.org/datasets/20230113/eu_fsf/targets.simple.csv', 'https://data.opensanctions.org/datasets/20230114/eu_fsf/targets.simple.csv', 'https://data.opensanctions.org/datasets/20230115/eu_fsf/targets.simple.csv', 'https://data.opensanctions.org/datasets/20230116/eu_fsf/targets.simple.csv', 'https://data.opensanctions.org/datasets/20230117/eu_fsf/targets.simple.csv', 'https://data.opensanctions.org/datasets/20230118/eu_fsf/targets.simple.csv', 'https://data.opensanctions.org/datasets/20230119/eu_fsf/targets.simple.csv', 'https://data.opensanctions.org/datasets/20230120/eu_fsf/targets.simple.csv', 'https://data.opensanctions.org/datasets/20230121/eu_fsf/targets.simple.csv', 'https://data.opensanctions.org/datasets/20230122/eu_fsf/targets.simple.csv', 'https://data.opensanctions.org/datasets/20230123/eu_fsf/targets.simple.csv', 'https://data.opensanctions.org/datasets/20230124/eu_fsf/targets.simple.csv', 'https://data.opensanctions.org/datasets/20230125/eu_fsf/targets.simple.csv', 'https://data.opensanctions.org/datasets/20230126/eu_fsf/targets.simple.csv', 'https://data.opensanctions.org/datasets/20230127/eu_fsf/targets.simple.csv', 'https://data.opensanctions.org/datasets/20230128/eu_fsf/targets.simple.csv', 'https://data.opensanctions.org/datasets/20230129/eu_fsf/targets.simple.csv', 'https://data.opensanctions.org/datasets/20230130/eu_fsf/targets.simple.csv', 'https://data.opensanctions.org/datasets/20230131/eu_fsf/targets.simple.csv', 'https://data.opensanctions.org/datasets/20230201/eu_fsf/targets.simple.csv', 'https://data.opensanctions.org/datasets/20230202/eu_fsf/targets.simple.csv', 'https://data.opensanctions.org/datasets/20230203/eu_fsf/targets.simple.csv', 'https://data.opensanctions.org/datasets/20230204/eu_fsf/targets.simple.csv', 'https://data.opensanctions.org/datasets/20230205/eu_fsf/targets.simple.csv', 'https://data.opensanctions.org/datasets/20230206/eu_fsf/targets.simple.csv', 'https://data.opensanctions.org/datasets/20230207/eu_fsf/targets.simple.csv', 'https://data.opensanctions.org/datasets/20230208/eu_fsf/targets.simple.csv', 'https://data.opensanctions.org/datasets/20230209/eu_fsf/targets.simple.csv', 'https://data.opensanctions.org/datasets/20230210/eu_fsf/targets.simple.csv', 'https://data.opensanctions.org/datasets/20230211/eu_fsf/targets.simple.csv', 'https://data.opensanctions.org/datasets/20230212/eu_fsf/targets.simple.csv', 'https://data.opensanctions.org/datasets/20230213/eu_fsf/targets.simple.csv', 'https://data.opensanctions.org/datasets/20230214/eu_fsf/targets.simple.csv', 'https://data.opensanctions.org/datasets/20230215/eu_fsf/targets.simple.csv', 'https://data.opensanctions.org/datasets/20230216/eu_fsf/targets.simple.csv', 'https://data.opensanctions.org/datasets/20230217/eu_fsf/targets.simple.csv', 'https://data.opensanctions.org/datasets/20230218/eu_fsf/targets.simple.csv', 'https://data.opensanctions.org/datasets/20230219/eu_fsf/targets.simple.csv', 'https://data.opensanctions.org/datasets/20230220/eu_fsf/targets.simple.csv', 'https://data.opensanctions.org/datasets/20230221/eu_fsf/targets.simple.csv', 'https://data.opensanctions.org/datasets/20230222/eu_fsf/targets.simple.csv', 'https://data.opensanctions.org/datasets/20230223/eu_fsf/targets.simple.csv', 'https://data.opensanctions.org/datasets/20230224/eu_fsf/targets.simple.csv', 'https://data.opensanctions.org/datasets/20230225/eu_fsf/targets.simple.csv', 'https://data.opensanctions.org/datasets/20230226/eu_fsf/targets.simple.csv', 'https://data.opensanctions.org/datasets/20230227/eu_fsf/targets.simple.csv', 'https://data.opensanctions.org/datasets/20230228/eu_fsf/targets.simple.csv', 'https://data.opensanctions.org/datasets/20230301/eu_fsf/targets.simple.csv', 'https://data.opensanctions.org/datasets/20230302/eu_fsf/targets.simple.csv', 'https://data.opensanctions.org/datasets/20230303/eu_fsf/targets.simple.csv', 'https://data.opensanctions.org/datasets/20230304/eu_fsf/targets.simple.csv', 'https://data.opensanctions.org/datasets/20230305/eu_fsf/targets.simple.csv', 'https://data.opensanctions.org/datasets/20230306/eu_fsf/targets.simple.csv', 'https://data.opensanctions.org/datasets/20230307/eu_fsf/targets.simple.csv', 'https://data.opensanctions.org/datasets/20230308/eu_fsf/targets.simple.csv', 'https://data.opensanctions.org/datasets/20230309/eu_fsf/targets.simple.csv', 'https://data.opensanctions.org/datasets/20230310/eu_fsf/targets.simple.csv', 'https://data.opensanctions.org/datasets/20230311/eu_fsf/targets.simple.csv', 'https://data.opensanctions.org/datasets/20230312/eu_fsf/targets.simple.csv', 'https://data.opensanctions.org/datasets/20230313/eu_fsf/targets.simple.csv', 'https://data.opensanctions.org/datasets/20230314/eu_fsf/targets.simple.csv', 'https://data.opensanctions.org/datasets/20230315/eu_fsf/targets.simple.csv', 'https://data.opensanctions.org/datasets/20230316/eu_fsf/targets.simple.csv', 'https://data.opensanctions.org/datasets/20230317/eu_fsf/targets.simple.csv', 'https://data.opensanctions.org/datasets/20230318/eu_fsf/targets.simple.csv', 'https://data.opensanctions.org/datasets/20230319/eu_fsf/targets.simple.csv', 'https://data.opensanctions.org/datasets/20230320/eu_fsf/targets.simple.csv', 'https://data.opensanctions.org/datasets/20230321/eu_fsf/targets.simple.csv', 'https://data.opensanctions.org/datasets/20230322/eu_fsf/targets.simple.csv', 'https://data.opensanctions.org/datasets/20230323/eu_fsf/targets.simple.csv', 'https://data.opensanctions.org/datasets/20230324/eu_fsf/targets.simple.csv', 'https://data.opensanctions.org/datasets/20230325/eu_fsf/targets.simple.csv', 'https://data.opensanctions.org/datasets/20230326/eu_fsf/targets.simple.csv', 'https://data.opensanctions.org/datasets/20230327/eu_fsf/targets.simple.csv', 'https://data.opensanctions.org/datasets/20230328/eu_fsf/targets.simple.csv', 'https://data.opensanctions.org/datasets/20230329/eu_fsf/targets.simple.csv', 'https://data.opensanctions.org/datasets/20230330/eu_fsf/targets.simple.csv', 'https://data.opensanctions.org/datasets/20230331/eu_fsf/targets.simple.csv', 'https://data.opensanctions.org/datasets/20230401/eu_fsf/targets.simple.csv', 'https://data.opensanctions.org/datasets/20230402/eu_fsf/targets.simple.csv', 'https://data.opensanctions.org/datasets/20230403/eu_fsf/targets.simple.csv', 'https://data.opensanctions.org/datasets/20230404/eu_fsf/targets.simple.csv', 'https://data.opensanctions.org/datasets/20230405/eu_fsf/targets.simple.csv', 'https://data.opensanctions.org/datasets/20230406/eu_fsf/targets.simple.csv', 'https://data.opensanctions.org/datasets/20230407/eu_fsf/targets.simple.csv', 'https://data.opensanctions.org/datasets/20230408/eu_fsf/targets.simple.csv', 'https://data.opensanctions.org/datasets/20230409/eu_fsf/targets.simple.csv', 'https://data.opensanctions.org/datasets/20230410/eu_fsf/targets.simple.csv', 'https://data.opensanctions.org/datasets/20230411/eu_fsf/targets.simple.csv', 'https://data.opensanctions.org/datasets/20230412/eu_fsf/targets.simple.csv', 'https://data.opensanctions.org/datasets/20230413/eu_fsf/targets.simple.csv', 'https://data.opensanctions.org/datasets/20230414/eu_fsf/targets.simple.csv', 'https://data.opensanctions.org/datasets/20230415/eu_fsf/targets.simple.csv', 'https://data.opensanctions.org/datasets/20230416/eu_fsf/targets.simple.csv', 'https://data.opensanctions.org/datasets/20230417/eu_fsf/targets.simple.csv', 'https://data.opensanctions.org/datasets/20230418/eu_fsf/targets.simple.csv', 'https://data.opensanctions.org/datasets/20230419/eu_fsf/targets.simple.csv', 'https://data.opensanctions.org/datasets/20230420/eu_fsf/targets.simple.csv', 'https://data.opensanctions.org/datasets/20230421/eu_fsf/targets.simple.csv', 'https://data.opensanctions.org/datasets/20230422/eu_fsf/targets.simple.csv', 'https://data.opensanctions.org/datasets/20230423/eu_fsf/targets.simple.csv', 'https://data.opensanctions.org/datasets/20230424/eu_fsf/targets.simple.csv', 'https://data.opensanctions.org/datasets/20230425/eu_fsf/targets.simple.csv', 'https://data.opensanctions.org/datasets/20230426/eu_fsf/targets.simple.csv', 'https://data.opensanctions.org/datasets/20230427/eu_fsf/targets.simple.csv', 'https://data.opensanctions.org/datasets/20230428/eu_fsf/targets.simple.csv', 'https://data.opensanctions.org/datasets/20230429/eu_fsf/targets.simple.csv', 'https://data.opensanctions.org/datasets/20230430/eu_fsf/targets.simple.csv', 'https://data.opensanctions.org/datasets/20230501/eu_fsf/targets.simple.csv', 'https://data.opensanctions.org/datasets/20230502/eu_fsf/targets.simple.csv', 'https://data.opensanctions.org/datasets/20230503/eu_fsf/targets.simple.csv', 'https://data.opensanctions.org/datasets/20230504/eu_fsf/targets.simple.csv', 'https://data.opensanctions.org/datasets/20230505/eu_fsf/targets.simple.csv', 'https://data.opensanctions.org/datasets/20230506/eu_fsf/targets.simple.csv', 'https://data.opensanctions.org/datasets/20230507/eu_fsf/targets.simple.csv', 'https://data.opensanctions.org/datasets/20230508/eu_fsf/targets.simple.csv', 'https://data.opensanctions.org/datasets/20230509/eu_fsf/targets.simple.csv', 'https://data.opensanctions.org/datasets/20230510/eu_fsf/targets.simple.csv', 'https://data.opensanctions.org/datasets/20230511/eu_fsf/targets.simple.csv', 'https://data.opensanctions.org/datasets/20230512/eu_fsf/targets.simple.csv', 'https://data.opensanctions.org/datasets/20230513/eu_fsf/targets.simple.csv', 'https://data.opensanctions.org/datasets/20230514/eu_fsf/targets.simple.csv', 'https://data.opensanctions.org/datasets/20230515/eu_fsf/targets.simple.csv', 'https://data.opensanctions.org/datasets/20230516/eu_fsf/targets.simple.csv', 'https://data.opensanctions.org/datasets/20230517/eu_fsf/targets.simple.csv', 'https://data.opensanctions.org/datasets/20230518/eu_fsf/targets.simple.csv', 'https://data.opensanctions.org/datasets/20230519/eu_fsf/targets.simple.csv', 'https://data.opensanctions.org/datasets/20230520/eu_fsf/targets.simple.csv', 'https://data.opensanctions.org/datasets/20230521/eu_fsf/targets.simple.csv', 'https://data.opensanctions.org/datasets/20230522/eu_fsf/targets.simple.csv', 'https://data.opensanctions.org/datasets/20230523/eu_fsf/targets.simple.csv', 'https://data.opensanctions.org/datasets/20230524/eu_fsf/targets.simple.csv', 'https://data.opensanctions.org/datasets/20230525/eu_fsf/targets.simple.csv', 'https://data.opensanctions.org/datasets/20230526/eu_fsf/targets.simple.csv', 'https://data.opensanctions.org/datasets/20230527/eu_fsf/targets.simple.csv', 'https://data.opensanctions.org/datasets/20230528/eu_fsf/targets.simple.csv', 'https://data.opensanctions.org/datasets/20230529/eu_fsf/targets.simple.csv', 'https://data.opensanctions.org/datasets/20230530/eu_fsf/targets.simple.csv', 'https://data.opensanctions.org/datasets/20230531/eu_fsf/targets.simple.csv', 'https://data.opensanctions.org/datasets/20230601/eu_fsf/targets.simple.csv', 'https://data.opensanctions.org/datasets/20230602/eu_fsf/targets.simple.csv', 'https://data.opensanctions.org/datasets/20230603/eu_fsf/targets.simple.csv', 'https://data.opensanctions.org/datasets/20230604/eu_fsf/targets.simple.csv', 'https://data.opensanctions.org/datasets/20230605/eu_fsf/targets.simple.csv', 'https://data.opensanctions.org/datasets/20230606/eu_fsf/targets.simple.csv', 'https://data.opensanctions.org/datasets/20230607/eu_fsf/targets.simple.csv', 'https://data.opensanctions.org/datasets/20230608/eu_fsf/targets.simple.csv', 'https://data.opensanctions.org/datasets/20230609/eu_fsf/targets.simple.csv', 'https://data.opensanctions.org/datasets/20230610/eu_fsf/targets.simple.csv', 'https://data.opensanctions.org/datasets/20230611/eu_fsf/targets.simple.csv', 'https://data.opensanctions.org/datasets/20230612/eu_fsf/targets.simple.csv', 'https://data.opensanctions.org/datasets/20230613/eu_fsf/targets.simple.csv', 'https://data.opensanctions.org/datasets/20230614/eu_fsf/targets.simple.csv', 'https://data.opensanctions.org/datasets/20230615/eu_fsf/targets.simple.csv', 'https://data.opensanctions.org/datasets/20230616/eu_fsf/targets.simple.csv', 'https://data.opensanctions.org/datasets/20230617/eu_fsf/targets.simple.csv', 'https://data.opensanctions.org/datasets/20230618/eu_fsf/targets.simple.csv', 'https://data.opensanctions.org/datasets/20230619/eu_fsf/targets.simple.csv', 'https://data.opensanctions.org/datasets/20230620/eu_fsf/targets.simple.csv', 'https://data.opensanctions.org/datasets/20230621/eu_fsf/targets.simple.csv', 'https://data.opensanctions.org/datasets/20230622/eu_fsf/targets.simple.csv', 'https://data.opensanctions.org/datasets/20230623/eu_fsf/targets.simple.csv', 'https://data.opensanctions.org/datasets/20230624/eu_fsf/targets.simple.csv', 'https://data.opensanctions.org/datasets/20230625/eu_fsf/targets.simple.csv', 'https://data.opensanctions.org/datasets/20230626/eu_fsf/targets.simple.csv', 'https://data.opensanctions.org/datasets/20230627/eu_fsf/targets.simple.csv', 'https://data.opensanctions.org/datasets/20230628/eu_fsf/targets.simple.csv', 'https://data.opensanctions.org/datasets/20230629/eu_fsf/targets.simple.csv', 'https://data.opensanctions.org/datasets/20230630/eu_fsf/targets.simple.csv', 'https://data.opensanctions.org/datasets/20230701/eu_fsf/targets.simple.csv', 'https://data.opensanctions.org/datasets/20230702/eu_fsf/targets.simple.csv', 'https://data.opensanctions.org/datasets/20230703/eu_fsf/targets.simple.csv', 'https://data.opensanctions.org/datasets/20230704/eu_fsf/targets.simple.csv', 'https://data.opensanctions.org/datasets/20230705/eu_fsf/targets.simple.csv', 'https://data.opensanctions.org/datasets/20230706/eu_fsf/targets.simple.csv', 'https://data.opensanctions.org/datasets/20230707/eu_fsf/targets.simple.csv', 'https://data.opensanctions.org/datasets/20230708/eu_fsf/targets.simple.csv', 'https://data.opensanctions.org/datasets/20230709/eu_fsf/targets.simple.csv', 'https://data.opensanctions.org/datasets/20230710/eu_fsf/targets.simple.csv', 'https://data.opensanctions.org/datasets/20230711/eu_fsf/targets.simple.csv', 'https://data.opensanctions.org/datasets/20230712/eu_fsf/targets.simple.csv', 'https://data.opensanctions.org/datasets/20230713/eu_fsf/targets.simple.csv', 'https://data.opensanctions.org/datasets/20230714/eu_fsf/targets.simple.csv', 'https://data.opensanctions.org/datasets/20230715/eu_fsf/targets.simple.csv', 'https://data.opensanctions.org/datasets/20230716/eu_fsf/targets.simple.csv', 'https://data.opensanctions.org/datasets/20230717/eu_fsf/targets.simple.csv', 'https://data.opensanctions.org/datasets/20230718/eu_fsf/targets.simple.csv', 'https://data.opensanctions.org/datasets/20230719/eu_fsf/targets.simple.csv', 'https://data.opensanctions.org/datasets/20230720/eu_fsf/targets.simple.csv', 'https://data.opensanctions.org/datasets/20230721/eu_fsf/targets.simple.csv', 'https://data.opensanctions.org/datasets/20230722/eu_fsf/targets.simple.csv', 'https://data.opensanctions.org/datasets/20230723/eu_fsf/targets.simple.csv', 'https://data.opensanctions.org/datasets/20230724/eu_fsf/targets.simple.csv', 'https://data.opensanctions.org/datasets/20230725/eu_fsf/targets.simple.csv', 'https://data.opensanctions.org/datasets/20230726/eu_fsf/targets.simple.csv', 'https://data.opensanctions.org/datasets/20230727/eu_fsf/targets.simple.csv', 'https://data.opensanctions.org/datasets/20230728/eu_fsf/targets.simple.csv', 'https://data.opensanctions.org/datasets/20230729/eu_fsf/targets.simple.csv', 'https://data.opensanctions.org/datasets/20230730/eu_fsf/targets.simple.csv', 'https://data.opensanctions.org/datasets/20230731/eu_fsf/targets.simple.csv', 'https://data.opensanctions.org/datasets/20230801/eu_fsf/targets.simple.csv', 'https://data.opensanctions.org/datasets/20230802/eu_fsf/targets.simple.csv', 'https://data.opensanctions.org/datasets/20230803/eu_fsf/targets.simple.csv', 'https://data.opensanctions.org/datasets/20230804/eu_fsf/targets.simple.csv', 'https://data.opensanctions.org/datasets/20230805/eu_fsf/targets.simple.csv', 'https://data.opensanctions.org/datasets/20230806/eu_fsf/targets.simple.csv', 'https://data.opensanctions.org/datasets/20230807/eu_fsf/targets.simple.csv', 'https://data.opensanctions.org/datasets/20230808/eu_fsf/targets.simple.csv', 'https://data.opensanctions.org/datasets/20230809/eu_fsf/targets.simple.csv', 'https://data.opensanctions.org/datasets/20230810/eu_fsf/targets.simple.csv', 'https://data.opensanctions.org/datasets/20230811/eu_fsf/targets.simple.csv', 'https://data.opensanctions.org/datasets/20230812/eu_fsf/targets.simple.csv', 'https://data.opensanctions.org/datasets/20230813/eu_fsf/targets.simple.csv', 'https://data.opensanctions.org/datasets/20230814/eu_fsf/targets.simple.csv', 'https://data.opensanctions.org/datasets/20230815/eu_fsf/targets.simple.csv', 'https://data.opensanctions.org/datasets/20230816/eu_fsf/targets.simple.csv', 'https://data.opensanctions.org/datasets/20230817/eu_fsf/targets.simple.csv', 'https://data.opensanctions.org/datasets/20230818/eu_fsf/targets.simple.csv', 'https://data.opensanctions.org/datasets/20230819/eu_fsf/targets.simple.csv', 'https://data.opensanctions.org/datasets/20230820/eu_fsf/targets.simple.csv', 'https://data.opensanctions.org/datasets/20230821/eu_fsf/targets.simple.csv', 'https://data.opensanctions.org/datasets/20230822/eu_fsf/targets.simple.csv', 'https://data.opensanctions.org/datasets/20230823/eu_fsf/targets.simple.csv', 'https://data.opensanctions.org/datasets/20230824/eu_fsf/targets.simple.csv', 'https://data.opensanctions.org/datasets/20230825/eu_fsf/targets.simple.csv', 'https://data.opensanctions.org/datasets/20230826/eu_fsf/targets.simple.csv', 'https://data.opensanctions.org/datasets/20230827/eu_fsf/targets.simple.csv', 'https://data.opensanctions.org/datasets/20230828/eu_fsf/targets.simple.csv', 'https://data.opensanctions.org/datasets/20230829/eu_fsf/targets.simple.csv', 'https://data.opensanctions.org/datasets/20230830/eu_fsf/targets.simple.csv', 'https://data.opensanctions.org/datasets/20230831/eu_fsf/targets.simple.csv', 'https://data.opensanctions.org/datasets/20230901/eu_fsf/targets.simple.csv', 'https://data.opensanctions.org/datasets/20230902/eu_fsf/targets.simple.csv', 'https://data.opensanctions.org/datasets/20230903/eu_fsf/targets.simple.csv', 'https://data.opensanctions.org/datasets/20230904/eu_fsf/targets.simple.csv', 'https://data.opensanctions.org/datasets/20230905/eu_fsf/targets.simple.csv', 'https://data.opensanctions.org/datasets/20230906/eu_fsf/targets.simple.csv', 'https://data.opensanctions.org/datasets/20230907/eu_fsf/targets.simple.csv', 'https://data.opensanctions.org/datasets/20230908/eu_fsf/targets.simple.csv', 'https://data.opensanctions.org/datasets/20230909/eu_fsf/targets.simple.csv', 'https://data.opensanctions.org/datasets/20230910/eu_fsf/targets.simple.csv', 'https://data.opensanctions.org/datasets/20230911/eu_fsf/targets.simple.csv', 'https://data.opensanctions.org/datasets/20230912/eu_fsf/targets.simple.csv', 'https://data.opensanctions.org/datasets/20230913/eu_fsf/targets.simple.csv', 'https://data.opensanctions.org/datasets/20230914/eu_fsf/targets.simple.csv', 'https://data.opensanctions.org/datasets/20230915/eu_fsf/targets.simple.csv', 'https://data.opensanctions.org/datasets/20230916/eu_fsf/targets.simple.csv', 'https://data.opensanctions.org/datasets/20230917/eu_fsf/targets.simple.csv', 'https://data.opensanctions.org/datasets/20230918/eu_fsf/targets.simple.csv', 'https://data.opensanctions.org/datasets/20230919/eu_fsf/targets.simple.csv', 'https://data.opensanctions.org/datasets/20230920/eu_fsf/targets.simple.csv', 'https://data.opensanctions.org/datasets/20230921/eu_fsf/targets.simple.csv', 'https://data.opensanctions.org/datasets/20230922/eu_fsf/targets.simple.csv', 'https://data.opensanctions.org/datasets/20230923/eu_fsf/targets.simple.csv', 'https://data.opensanctions.org/datasets/20230924/eu_fsf/targets.simple.csv', 'https://data.opensanctions.org/datasets/20230925/eu_fsf/targets.simple.csv', 'https://data.opensanctions.org/datasets/20230926/eu_fsf/targets.simple.csv', 'https://data.opensanctions.org/datasets/20230927/eu_fsf/targets.simple.csv', 'https://data.opensanctions.org/datasets/20230928/eu_fsf/targets.simple.csv', 'https://data.opensanctions.org/datasets/20230929/eu_fsf/targets.simple.csv', 'https://data.opensanctions.org/datasets/20230930/eu_fsf/targets.simple.csv', 'https://data.opensanctions.org/datasets/20231001/eu_fsf/targets.simple.csv', 'https://data.opensanctions.org/datasets/20231002/eu_fsf/targets.simple.csv', 'https://data.opensanctions.org/datasets/20231003/eu_fsf/targets.simple.csv', 'https://data.opensanctions.org/datasets/20231004/eu_fsf/targets.simple.csv', 'https://data.opensanctions.org/datasets/20231005/eu_fsf/targets.simple.csv', 'https://data.opensanctions.org/datasets/20231006/eu_fsf/targets.simple.csv', 'https://data.opensanctions.org/datasets/20231007/eu_fsf/targets.simple.csv', 'https://data.opensanctions.org/datasets/20231008/eu_fsf/targets.simple.csv', 'https://data.opensanctions.org/datasets/20231009/eu_fsf/targets.simple.csv', 'https://data.opensanctions.org/datasets/20231010/eu_fsf/targets.simple.csv', 'https://data.opensanctions.org/datasets/20231011/eu_fsf/targets.simple.csv', 'https://data.opensanctions.org/datasets/20231012/eu_fsf/targets.simple.csv', 'https://data.opensanctions.org/datasets/20231013/eu_fsf/targets.simple.csv', 'https://data.opensanctions.org/datasets/20231014/eu_fsf/targets.simple.csv', 'https://data.opensanctions.org/datasets/20231015/eu_fsf/targets.simple.csv', 'https://data.opensanctions.org/datasets/20231016/eu_fsf/targets.simple.csv', 'https://data.opensanctions.org/datasets/20231017/eu_fsf/targets.simple.csv', 'https://data.opensanctions.org/datasets/20231018/eu_fsf/targets.simple.csv', 'https://data.opensanctions.org/datasets/20231019/eu_fsf/targets.simple.csv', 'https://data.opensanctions.org/datasets/20231020/eu_fsf/targets.simple.csv', 'https://data.opensanctions.org/datasets/20231021/eu_fsf/targets.simple.csv', 'https://data.opensanctions.org/datasets/20231022/eu_fsf/targets.simple.csv', 'https://data.opensanctions.org/datasets/20231023/eu_fsf/targets.simple.csv', 'https://data.opensanctions.org/datasets/20231024/eu_fsf/targets.simple.csv', 'https://data.opensanctions.org/datasets/20231025/eu_fsf/targets.simple.csv', 'https://data.opensanctions.org/datasets/20231026/eu_fsf/targets.simple.csv', 'https://data.opensanctions.org/datasets/20231027/eu_fsf/targets.simple.csv', 'https://data.opensanctions.org/datasets/20231028/eu_fsf/targets.simple.csv', 'https://data.opensanctions.org/datasets/20231029/eu_fsf/targets.simple.csv', 'https://data.opensanctions.org/datasets/20231030/eu_fsf/targets.simple.csv', 'https://data.opensanctions.org/datasets/20231031/eu_fsf/targets.simple.csv', 'https://data.opensanctions.org/datasets/20231101/eu_fsf/targets.simple.csv', 'https://data.opensanctions.org/datasets/20231102/eu_fsf/targets.simple.csv', 'https://data.opensanctions.org/datasets/20231103/eu_fsf/targets.simple.csv', 'https://data.opensanctions.org/datasets/20231104/eu_fsf/targets.simple.csv', 'https://data.opensanctions.org/datasets/20231105/eu_fsf/targets.simple.csv', 'https://data.opensanctions.org/datasets/20231106/eu_fsf/targets.simple.csv', 'https://data.opensanctions.org/datasets/20231107/eu_fsf/targets.simple.csv', 'https://data.opensanctions.org/datasets/20231108/eu_fsf/targets.simple.csv', 'https://data.opensanctions.org/datasets/20231109/eu_fsf/targets.simple.csv', 'https://data.opensanctions.org/datasets/20231110/eu_fsf/targets.simple.csv', 'https://data.opensanctions.org/datasets/20231111/eu_fsf/targets.simple.csv', 'https://data.opensanctions.org/datasets/20231112/eu_fsf/targets.simple.csv', 'https://data.opensanctions.org/datasets/20231113/eu_fsf/targets.simple.csv', 'https://data.opensanctions.org/datasets/20231114/eu_fsf/targets.simple.csv', 'https://data.opensanctions.org/datasets/20231115/eu_fsf/targets.simple.csv', 'https://data.opensanctions.org/datasets/20231116/eu_fsf/targets.simple.csv', 'https://data.opensanctions.org/datasets/20231117/eu_fsf/targets.simple.csv', 'https://data.opensanctions.org/datasets/20231118/eu_fsf/targets.simple.csv', 'https://data.opensanctions.org/datasets/20231119/eu_fsf/targets.simple.csv', 'https://data.opensanctions.org/datasets/20231120/eu_fsf/targets.simple.csv', 'https://data.opensanctions.org/datasets/20231121/eu_fsf/targets.simple.csv', 'https://data.opensanctions.org/datasets/20231122/eu_fsf/targets.simple.csv', 'https://data.opensanctions.org/datasets/20231123/eu_fsf/targets.simple.csv', 'https://data.opensanctions.org/datasets/20231124/eu_fsf/targets.simple.csv', 'https://data.opensanctions.org/datasets/20231125/eu_fsf/targets.simple.csv', 'https://data.opensanctions.org/datasets/20231126/eu_fsf/targets.simple.csv', 'https://data.opensanctions.org/datasets/20231127/eu_fsf/targets.simple.csv', 'https://data.opensanctions.org/datasets/20231128/eu_fsf/targets.simple.csv', 'https://data.opensanctions.org/datasets/20231129/eu_fsf/targets.simple.csv', 'https://data.opensanctions.org/datasets/20231130/eu_fsf/targets.simple.csv', 'https://data.opensanctions.org/datasets/20231201/eu_fsf/targets.simple.csv', 'https://data.opensanctions.org/datasets/20231202/eu_fsf/targets.simple.csv', 'https://data.opensanctions.org/datasets/20231203/eu_fsf/targets.simple.csv', 'https://data.opensanctions.org/datasets/20231204/eu_fsf/targets.simple.csv', 'https://data.opensanctions.org/datasets/20231205/eu_fsf/targets.simple.csv', 'https://data.opensanctions.org/datasets/20231206/eu_fsf/targets.simple.csv', 'https://data.opensanctions.org/datasets/20231207/eu_fsf/targets.simple.csv', 'https://data.opensanctions.org/datasets/20231208/eu_fsf/targets.simple.csv', 'https://data.opensanctions.org/datasets/20231209/eu_fsf/targets.simple.csv', 'https://data.opensanctions.org/datasets/20231210/eu_fsf/targets.simple.csv', 'https://data.opensanctions.org/datasets/20231211/eu_fsf/targets.simple.csv', 'https://data.opensanctions.org/datasets/20231212/eu_fsf/targets.simple.csv', 'https://data.opensanctions.org/datasets/20231213/eu_fsf/targets.simple.csv', 'https://data.opensanctions.org/datasets/20231214/eu_fsf/targets.simple.csv', 'https://data.opensanctions.org/datasets/20231215/eu_fsf/targets.simple.csv', 'https://data.opensanctions.org/datasets/20231216/eu_fsf/targets.simple.csv', 'https://data.opensanctions.org/datasets/20231217/eu_fsf/targets.simple.csv', 'https://data.opensanctions.org/datasets/20231218/eu_fsf/targets.simple.csv', 'https://data.opensanctions.org/datasets/20231219/eu_fsf/targets.simple.csv', 'https://data.opensanctions.org/datasets/20231220/eu_fsf/targets.simple.csv', 'https://data.opensanctions.org/datasets/20231221/eu_fsf/targets.simple.csv', 'https://data.opensanctions.org/datasets/20231222/eu_fsf/targets.simple.csv', 'https://data.opensanctions.org/datasets/20231223/eu_fsf/targets.simple.csv', 'https://data.opensanctions.org/datasets/20231224/eu_fsf/targets.simple.csv', 'https://data.opensanctions.org/datasets/20231225/eu_fsf/targets.simple.csv', 'https://data.opensanctions.org/datasets/20231226/eu_fsf/targets.simple.csv', 'https://data.opensanctions.org/datasets/20231227/eu_fsf/targets.simple.csv', 'https://data.opensanctions.org/datasets/20231228/eu_fsf/targets.simple.csv', 'https://data.opensanctions.org/datasets/20231229/eu_fsf/targets.simple.csv', 'https://data.opensanctions.org/datasets/20231230/eu_fsf/targets.simple.csv', 'https://data.opensanctions.org/datasets/20231231/eu_fsf/targets.simple.csv']\n"
     ]
    }
   ],
   "source": [
    "#get all the urls for all the dates we need the data for\n",
    "#make each day an individual list so we can compare and match them\n",
    "websites = []\n",
    "\n",
    "for i in date_list:\n",
    "    test = 'https://data.opensanctions.org/datasets/'+(i)+'/eu_fsf/targets.simple.csv'\n",
    "    websites.append(test)\n",
    "print(websites)"
   ]
  },
  {
   "cell_type": "markdown",
   "id": "ced09101-3719-494b-a616-9fb68059438e",
   "metadata": {},
   "source": [
    "#first check for missing days\n",
    "for site in websites:\n",
    "    try:\n",
    "        response = requests.get(site)\n",
    "        response.raise_for_status()  # Raises an HTTPError for bad response\n",
    "    except requests.exceptions.RequestException as e:\n",
    "        print(f\"Error accessing {site}: {e}\")\n",
    "        continue"
   ]
  },
  {
   "cell_type": "code",
   "execution_count": 5,
   "id": "51e7ee1f-ff5c-4c3b-ad29-4f7901e302c4",
   "metadata": {
    "tags": []
   },
   "outputs": [
    {
     "name": "stderr",
     "output_type": "stream",
     "text": [
      "\n",
      "KeyboardInterrupt\n",
      "\n"
     ]
    }
   ],
   "source": [
    "#now loop over the batches to get all the data and append the dataframes to one another\n",
    "#this gives us a list of dataframes\n",
    "#the loop must contain a date identifyer as a new column so each dataframe is marked with the retrieval date that is then needed to match the different days against each other\n",
    "entities_list = []\n",
    "date_pattern = r'/datasets/(\\d{8})/'\n",
    "for site in websites:\n",
    "    response = requests.get(site)\n",
    "    if response.status_code != 200:\n",
    "        continue\n",
    "    data = pd.read_csv(site, low_memory=False)\n",
    "    match = re.search(date_pattern, site) #extract the date from the url\n",
    "    if match:\n",
    "        date = match.group(1)\n",
    "        data['date_stamp'] = date #set an individual date stamp for each dataframe matching the url date\n",
    "        #ata =  data.set_index('date_stamp') #set as an index\n",
    "    entities_list.append(data)\n",
    "res = pd.concat(entities_list)  # concatenate list of dataframes"
   ]
  },
  {
   "cell_type": "code",
   "execution_count": null,
   "id": "0d9525ed-d806-411d-9d27-d2868aa595bf",
   "metadata": {
    "collapsed": true,
    "jupyter": {
     "outputs_hidden": true
    },
    "tags": []
   },
   "outputs": [],
   "source": [
    "res"
   ]
  },
  {
   "cell_type": "markdown",
   "id": "fd888c80-3c04-4134-bfbc-d6212e0b4aed",
   "metadata": {},
   "source": [
    "# Match the dates against each other"
   ]
  },
  {
   "cell_type": "code",
   "execution_count": null,
   "id": "d86643c1-e839-43bb-9e6b-bc5a9a898dca",
   "metadata": {
    "tags": []
   },
   "outputs": [],
   "source": [
    "#now match the different dates against each other and return an indicator per row for a new listing or delisting\n",
    "# Sort the DataFrame based on date_stamp and id\n",
    "res.sort_values(by=['id', 'date_stamp'], inplace=True)\n",
    "\n",
    "# Identify new entries and deletions based on the index and columns you want to compare\n",
    "new_entries = ~res.duplicated(subset=['id'], keep='first')\n",
    "deletions = ~res.duplicated(subset=['id'], keep='last')\n",
    "\n",
    "# Identify unchanged rows by checking for duplicates based on the id and date_stamp\n",
    "unchanged_rows = ~new_entries & ~deletions\n",
    "\n",
    "# Set the values of new_entry, deletion, and unchanged columns\n",
    "res['new_entry'] = new_entries\n",
    "res['deletion'] = deletions\n",
    "res['unchanged'] = unchanged_rows\n",
    "\n",
    "# Reset index for the final result\n",
    "res.reset_index(drop=True, inplace=True)"
   ]
  },
  {
   "cell_type": "code",
   "execution_count": null,
   "id": "fd472046-0114-4862-9845-c017b62fa17f",
   "metadata": {
    "tags": []
   },
   "outputs": [],
   "source": [
    "res"
   ]
  },
  {
   "cell_type": "code",
   "execution_count": null,
   "id": "4aba9a87-be6e-475f-9cc0-4c7b27cb56e6",
   "metadata": {
    "collapsed": true,
    "jupyter": {
     "outputs_hidden": true
    },
    "tags": []
   },
   "outputs": [],
   "source": [
    "#test thematching function\n",
    "test = res.query('new_entry == True')\n",
    "test"
   ]
  },
  {
   "cell_type": "markdown",
   "id": "8235a7d9-ee8a-4f5e-a4f0-9788cb002939",
   "metadata": {},
   "source": [
    "# Deduplicate"
   ]
  },
  {
   "cell_type": "code",
   "execution_count": null,
   "id": "d12b15b4-d649-40fd-a67f-b739b58655d6",
   "metadata": {
    "collapsed": true,
    "jupyter": {
     "outputs_hidden": true
    },
    "tags": []
   },
   "outputs": [],
   "source": [
    "res_deduplicated = res.copy()\n",
    "res_deduplicated.sort_values(by=['id', 'date_stamp'], inplace=True)\n",
    "\n",
    "# Identify new entries and deletions based on the index and columns you want to compare\n",
    "new_entries = ~res_deduplicated.duplicated(subset=['id'], keep='first')\n",
    "deletions = ~res_deduplicated.duplicated(subset=['id'], keep='last')\n",
    "\n",
    "# Identify unchanged rows by checking for duplicates based on the id and date_stamp\n",
    "unchanged_rows = ~new_entries & ~deletions\n",
    "\n",
    "# Create new columns for first seen and last seen dates\n",
    "res_deduplicated['listing_date'] = res_deduplicated['date_stamp'].where(new_entries)\n",
    "res_deduplicated['delisting_date'] = res_deduplicated['date_stamp'].where(deletions)\n",
    "\n",
    "# Add a 'month' column\n",
    "res_deduplicated['month'] = pd.to_datetime(res_deduplicated['date_stamp']).dt.to_period('M')\n",
    "\n",
    "# Deduplicate the entries (keep the first occurrence for each entity)\n",
    "res_deduplicated = res_deduplicated.drop_duplicates(subset=['id'], keep='first')\n",
    "\n",
    "# Reset index for the final result\n",
    "res_deduplicated.reset_index(drop=True, inplace=True)\n",
    "\n",
    "# Print or further analyze the deduplicated DataFrame 'res_deduplicated'\n",
    "print(res_deduplicated)"
   ]
  },
  {
   "cell_type": "code",
   "execution_count": null,
   "id": "749c861f-aed3-4d27-8e41-18ed991504e9",
   "metadata": {
    "collapsed": true,
    "jupyter": {
     "outputs_hidden": true
    },
    "tags": []
   },
   "outputs": [],
   "source": [
    "res_deduplicated"
   ]
  },
  {
   "cell_type": "markdown",
   "id": "9306b8ad-342b-4649-9771-dc93961f601f",
   "metadata": {},
   "source": [
    "# Descriptives and clean up"
   ]
  },
  {
   "cell_type": "code",
   "execution_count": null,
   "id": "4c6e040a-07ca-4bb2-aa35-d64b17a6fde7",
   "metadata": {
    "tags": []
   },
   "outputs": [],
   "source": [
    "#the countries are coded as iso2 codes -> transform to iso 3\n",
    "#keep both countries? could search for \"ru\" over regex functions\n",
    "print(res_deduplicated.countries.unique())\n",
    "print(res_deduplicated.schema.unique())\n",
    "print(res_deduplicated.listing_date.unique())"
   ]
  },
  {
   "cell_type": "code",
   "execution_count": null,
   "id": "761fb596-3474-4d31-b1cd-0671faa24941",
   "metadata": {
    "collapsed": true,
    "jupyter": {
     "outputs_hidden": true
    },
    "tags": []
   },
   "outputs": [],
   "source": [
    "list_regimes = list[res_deduplicated.sanctions.unique()]\n",
    "print(list_regimes)\n",
    "#but it doesnt show me all"
   ]
  },
  {
   "cell_type": "code",
   "execution_count": null,
   "id": "81c5f7ba-ce5b-491d-b38a-50e7424dbf51",
   "metadata": {
    "tags": []
   },
   "outputs": [],
   "source": [
    "#get missingness\n",
    "is_null = res_deduplicated.isnull().sum()\n",
    "display(is_null)"
   ]
  },
  {
   "cell_type": "code",
   "execution_count": null,
   "id": "7e32e093-4211-4b73-a608-9d714745584e",
   "metadata": {
    "tags": []
   },
   "outputs": [],
   "source": [
    "res_deduplicated.columns"
   ]
  },
  {
   "cell_type": "code",
   "execution_count": null,
   "id": "a547af54-d06a-4bc9-b63d-bf9b1fb3a81f",
   "metadata": {},
   "outputs": [],
   "source": [
    "res_deduplicated['new_listing_count'] = 0  # Initialize the 'listing_count' column with zeros\n",
    "res_deduplicated['new_listing_count'] = res_deduplicated.groupby('month')['id'].transform('nunique')\n",
    "res_deduplicated"
   ]
  },
  {
   "cell_type": "code",
   "execution_count": null,
   "id": "880c0e0b-f524-4e4d-b38d-1d47dfe4be52",
   "metadata": {
    "tags": []
   },
   "outputs": [],
   "source": [
    "res_deduplicated = res_deduplicated.drop(['last_seen', 'first_seen','new_entry', 'deletion','unchanged'],axis = 1)"
   ]
  },
  {
   "cell_type": "code",
   "execution_count": null,
   "id": "2a48145d-17af-498c-acca-e77ea1765392",
   "metadata": {
    "tags": []
   },
   "outputs": [],
   "source": [
    "res_deduplicated.to_csv(\"default_batch5.csv\")"
   ]
  },
  {
   "cell_type": "code",
   "execution_count": null,
   "id": "bfd38b21-5cdb-41b7-bb2d-d887098301dc",
   "metadata": {},
   "outputs": [],
   "source": []
  }
 ],
 "metadata": {
  "kernelspec": {
   "display_name": "Python 3 (ipykernel)",
   "language": "python",
   "name": "python3"
  },
  "language_info": {
   "codemirror_mode": {
    "name": "ipython",
    "version": 3
   },
   "file_extension": ".py",
   "mimetype": "text/x-python",
   "name": "python",
   "nbconvert_exporter": "python",
   "pygments_lexer": "ipython3",
   "version": "3.11.5"
  }
 },
 "nbformat": 4,
 "nbformat_minor": 5
}
