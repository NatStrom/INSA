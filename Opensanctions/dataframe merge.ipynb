{
 "cells": [
  {
   "cell_type": "markdown",
   "id": "7fd73d64-92dd-474e-8541-5949f8a2c750",
   "metadata": {},
   "source": [
    "produce the dataframes"
   ]
  },
  {
   "cell_type": "markdown",
   "id": "cf43b786-fd4b-485d-b1b6-3ac4046d62dd",
   "metadata": {},
   "source": [
    "# OFAC SDN"
   ]
  },
  {
   "cell_type": "code",
   "execution_count": null,
   "id": "0a318f8e-c55e-474d-b970-d82c830e8187",
   "metadata": {},
   "outputs": [],
   "source": [
    "df1= pd.load_csv('ofac_sdn_batch1')"
   ]
  }
 ],
 "metadata": {
  "kernelspec": {
   "display_name": "Python 3 (ipykernel)",
   "language": "python",
   "name": "python3"
  },
  "language_info": {
   "codemirror_mode": {
    "name": "ipython",
    "version": 3
   },
   "file_extension": ".py",
   "mimetype": "text/x-python",
   "name": "python",
   "nbconvert_exporter": "python",
   "pygments_lexer": "ipython3",
   "version": "3.11.5"
  }
 },
 "nbformat": 4,
 "nbformat_minor": 5
}
