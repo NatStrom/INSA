{
 "cells": [
  {
   "cell_type": "code",
   "execution_count": 1,
   "id": "99b6fe2d-849b-46a1-9094-88b5b71e5798",
   "metadata": {
    "tags": []
   },
   "outputs": [],
   "source": [
    "#load all the relevant packages\n",
    "import pandas as pd\n",
    "import numpy as np\n",
    "import os\n",
    "import seaborn as sns\n",
    "import matplotlib as mlt"
   ]
  },
  {
   "cell_type": "code",
   "execution_count": 2,
   "id": "e9e96afd-8674-40e0-9b1d-92f88c21f25a",
   "metadata": {
    "tags": []
   },
   "outputs": [
    {
     "data": {
      "text/plain": [
       "'C:\\\\Users\\\\cecilianatalie.strom\\\\GitHub\\\\INSA\\\\Opensanctions\\\\Clean'"
      ]
     },
     "execution_count": 2,
     "metadata": {},
     "output_type": "execute_result"
    }
   ],
   "source": [
    "os.getcwd()"
   ]
  },
  {
   "cell_type": "code",
   "execution_count": 3,
   "id": "8b1c26af-3b6c-41fe-a8e8-89d4898cd355",
   "metadata": {
    "tags": []
   },
   "outputs": [],
   "source": [
    "fsf = pd.read_csv('eu_fsf.csv',low_memory=False)\n",
    "sanction_map= pd.read_csv('eu_map.csv',low_memory=False)"
   ]
  },
  {
   "cell_type": "markdown",
   "id": "bd769220-d588-4c5a-be54-c2f4b6eda910",
   "metadata": {},
   "source": [
    "# descriptives"
   ]
  },
  {
   "cell_type": "code",
   "execution_count": 4,
   "id": "823423be-af2d-4dda-b451-5f12aec4a099",
   "metadata": {
    "collapsed": true,
    "jupyter": {
     "outputs_hidden": true
    },
    "tags": []
   },
   "outputs": [
    {
     "ename": "NameError",
     "evalue": "name 'eu_fsf' is not defined",
     "output_type": "error",
     "traceback": [
      "\u001b[1;31m---------------------------------------------------------------------------\u001b[0m",
      "\u001b[1;31mNameError\u001b[0m                                 Traceback (most recent call last)",
      "Cell \u001b[1;32mIn[4], line 1\u001b[0m\n\u001b[1;32m----> 1\u001b[0m data \u001b[38;5;241m=\u001b[39m eu_fsf\u001b[38;5;241m.\u001b[39mcopy()\n\u001b[0;32m      2\u001b[0m \u001b[38;5;66;03m#get column names\u001b[39;00m\n\u001b[0;32m      3\u001b[0m \u001b[38;5;28mprint\u001b[39m(data\u001b[38;5;241m.\u001b[39mcolumns)\n",
      "\u001b[1;31mNameError\u001b[0m: name 'eu_fsf' is not defined"
     ]
    }
   ],
   "source": [
    "data = eu_fsf.copy()\n",
    "#get column names\n",
    "print(data.columns)\n",
    "print(data.describe())\n",
    "print(data.schema.unique())\n",
    "print(data.month.unique())\n",
    "print(data.month.nunique())\n",
    "\n",
    "print(data.date_stamp.unique())\n",
    "print(data.date_stamp.nunique())\n",
    "# receive information on missing values/ null values\n",
    "is_null = data.isnull().sum()\n",
    "print(is_null)"
   ]
  },
  {
   "cell_type": "code",
   "execution_count": null,
   "id": "5e842380-ceb3-43bd-a762-daa5c0a0e3c9",
   "metadata": {
    "collapsed": true,
    "jupyter": {
     "outputs_hidden": true
    },
    "tags": []
   },
   "outputs": [],
   "source": [
    "data = sanction_map.copy()\n",
    "#get column names\n",
    "print(data.columns)\n",
    "print(data.describe())\n",
    "print(data.schema.unique())\n",
    "print(data.month.unique())\n",
    "print(data.month.nunique())\n",
    "\n",
    "print(data.date_stamp.unique())\n",
    "print(data.date_stamp.nunique())\n",
    "# receive information on missing values/ null values\n",
    "is_null = data.isnull().sum()\n",
    "print(is_null)"
   ]
  },
  {
   "cell_type": "markdown",
   "id": "7dceaae9-be1c-45aa-970b-2649025ca79c",
   "metadata": {},
   "source": [
    "# listings per month"
   ]
  },
  {
   "cell_type": "code",
   "execution_count": null,
   "id": "84e8d446-490e-4c14-8fe1-7b5017f80fb9",
   "metadata": {
    "tags": []
   },
   "outputs": [],
   "source": [
    "#get the listings per month\n",
    "listings_eu_fsf = sns.lineplot(data= fsf,x='month',y='listing_count')\n",
    "listings_eu_fsf"
   ]
  },
  {
   "cell_type": "code",
   "execution_count": null,
   "id": "617c789a-bd7e-4efa-ad1d-8431ec1692b3",
   "metadata": {
    "tags": []
   },
   "outputs": [],
   "source": [
    "#get the listings per month\n",
    "listings_sanction_map = sns.lineplot(data=sanction_map,x='month',y='listing_count')\n",
    "listings_sanction_map"
   ]
  },
  {
   "cell_type": "code",
   "execution_count": null,
   "id": "32ef728d-254e-4d73-8bfd-74b38e0d7082",
   "metadata": {
    "tags": []
   },
   "outputs": [],
   "source": [
    "df_russia = data(data['iso'] == 'RUS')"
   ]
  }
 ],
 "metadata": {
  "kernelspec": {
   "display_name": "Python 3 (ipykernel)",
   "language": "python",
   "name": "python3"
  },
  "language_info": {
   "codemirror_mode": {
    "name": "ipython",
    "version": 3
   },
   "file_extension": ".py",
   "mimetype": "text/x-python",
   "name": "python",
   "nbconvert_exporter": "python",
   "pygments_lexer": "ipython3",
   "version": "3.11.5"
  }
 },
 "nbformat": 4,
 "nbformat_minor": 5
}
