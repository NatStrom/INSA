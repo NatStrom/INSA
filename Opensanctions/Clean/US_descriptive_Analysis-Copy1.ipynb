{
 "cells": [
  {
   "cell_type": "markdown",
   "id": "f5a3a15a-cb42-4b1c-91ce-4e58612bf256",
   "metadata": {
    "jp-MarkdownHeadingCollapsed": true,
    "tags": []
   },
   "source": [
    "# start with importing all the data and packages needed"
   ]
  },
  {
   "cell_type": "code",
   "execution_count": 1,
   "id": "99b6fe2d-849b-46a1-9094-88b5b71e5798",
   "metadata": {
    "tags": []
   },
   "outputs": [],
   "source": [
    "#load all the relevant packages\n",
    "import pandas as pd\n",
    "import numpy as np\n",
    "import os\n",
    "import seaborn as sns\n",
    "import matplotlib as mlt"
   ]
  },
  {
   "cell_type": "code",
   "execution_count": 2,
   "id": "e9e96afd-8674-40e0-9b1d-92f88c21f25a",
   "metadata": {
    "tags": []
   },
   "outputs": [
    {
     "data": {
      "text/plain": [
       "'C:\\\\Users\\\\cecilianatalie.strom\\\\GitHub\\\\INSA\\\\Opensanctions\\\\Clean'"
      ]
     },
     "execution_count": 2,
     "metadata": {},
     "output_type": "execute_result"
    }
   ],
   "source": [
    "os.getcwd()"
   ]
  },
  {
   "cell_type": "code",
   "execution_count": 3,
   "id": "8b1c26af-3b6c-41fe-a8e8-89d4898cd355",
   "metadata": {
    "tags": []
   },
   "outputs": [],
   "source": [
    "us = pd.read_csv('ofac_sdn.csv',low_memory=False)\n",
    "bis = pd.read_csv('us_bis.csv',low_memory=False)\n",
    "cons = pd.read_csv('ofac_cons.csv',low_memory=False)"
   ]
  },
  {
   "cell_type": "markdown",
   "id": "802875c0-f881-43f0-88fe-dfd35fa5dbe7",
   "metadata": {
    "jp-MarkdownHeadingCollapsed": true,
    "tags": []
   },
   "source": [
    "# import trigger data"
   ]
  },
  {
   "cell_type": "code",
   "execution_count": 23,
   "id": "43b189cf-102b-4a22-91fa-bf7b8a70df19",
   "metadata": {
    "tags": []
   },
   "outputs": [],
   "source": [
    "#load trigger data\n",
    "conflict = pd.read_csv('IV\\\\ucdp_cleaned.csv')\n",
    "conflict_os = pd.read_csv('IV\\\\ucdp_os.csv')\n",
    "coup= pd.read_csv('IV\\\\coup_data.csv')\n",
    "terror= pd.read_csv('IV\\\\data_gti.csv')\n",
    "protest= pd.read_csv('IV\\\\acled_clean.csv')"
   ]
  },
  {
   "cell_type": "markdown",
   "id": "2fb2007e-a922-442c-aafc-3345476bb950",
   "metadata": {},
   "source": [
    "# us SDN list"
   ]
  },
  {
   "cell_type": "markdown",
   "id": "bd769220-d588-4c5a-be54-c2f4b6eda910",
   "metadata": {},
   "source": [
    "**descriptives**"
   ]
  },
  {
   "cell_type": "code",
   "execution_count": 4,
   "id": "823423be-af2d-4dda-b451-5f12aec4a099",
   "metadata": {
    "tags": []
   },
   "outputs": [
    {
     "name": "stdout",
     "output_type": "stream",
     "text": [
      "Index(['Unnamed: 0.1', 'Unnamed: 0', 'id', 'schema', 'name', 'aliases',\n",
      "       'birth_date', 'countries', 'addresses', 'identifiers', 'sanctions',\n",
      "       'phones', 'emails', 'dataset', 'last_seen', 'first_seen', 'date_stamp',\n",
      "       'last_change', 'new_entry', 'deletion', 'unchanged', 'month',\n",
      "       'listing_count', 'listing_date', 'delisting_date', 'new_listing_count',\n",
      "       'iso', 'country_0', 'year_id', 'month_id'],\n",
      "      dtype='object')\n",
      "       Unnamed: 0.1    Unnamed: 0    date_stamp  listing_count  listing_date  \\\n",
      "count  41204.000000  41204.000000  4.120400e+04   41204.000000  4.120400e+04   \n",
      "mean   20601.500000  14570.199956  2.021572e+07   12879.596034  2.021572e+07   \n",
      "std    11894.714583   8220.362660  6.811643e+03    3961.327226  6.811643e+03   \n",
      "min        0.000000      0.000000  2.021082e+07    9053.000000  2.021082e+07   \n",
      "25%    10300.750000   7749.750000  2.021082e+07    9124.000000  2.021082e+07   \n",
      "50%    20601.500000  14478.500000  2.021093e+07   10966.000000  2.021093e+07   \n",
      "75%    30902.250000  21555.000000  2.022053e+07   18450.000000  2.022053e+07   \n",
      "max    41203.000000  29652.000000  2.023123e+07   18450.000000  2.023123e+07   \n",
      "\n",
      "       delisting_date  new_listing_count       year_id      month_id  \n",
      "count    1.990000e+03            41204.0  41204.000000  41204.000000  \n",
      "mean     2.022235e+07                1.0   2021.492816     11.455999  \n",
      "std      4.077634e+03                0.0      0.691057      8.716786  \n",
      "min      2.021092e+07                1.0   2021.000000      1.000000  \n",
      "25%      2.022093e+07                1.0   2021.000000      1.000000  \n",
      "50%      2.022093e+07                1.0   2021.000000     11.000000  \n",
      "75%      2.022093e+07                1.0   2022.000000     19.000000  \n",
      "max      2.023122e+07                1.0   2023.000000     29.000000  \n",
      "['Organization' 'Person' 'Company' 'Vessel' 'Airplane']\n",
      "['2021-09' '2023-03' '2021-11' '2021-10' '2023-11' '2021-12' '2022-02'\n",
      " '2022-04' '2022-01' '2023-02' '2022-03' '2023-05' '2022-06' '2022-08'\n",
      " '2023-10' '2022-07' '2022-05' '2023-08' '2021-08' '2023-12' '2022-11'\n",
      " '2022-09' '2023-09' '2022-10' '2023-01' '2023-06' '2022-12' '2023-04'\n",
      " '2023-07']\n",
      "29\n",
      "[20210930 20210927 20210928 20210918 20210922 20210929 20230331 20210923\n",
      " 20211102 20211003 20211117 20211030 20231120 20211115 20211208 20211214\n",
      " 20211014 20211109 20220225 20211005 20211216 20220428 20220102 20211112\n",
      " 20211123 20211224 20211004 20230205 20220304 20220103 20211001 20230513\n",
      " 20220203 20220611 20220601 20220804 20231003 20220730 20220531 20220608\n",
      " 20220725 20220602 20220604 20220527 20220612 20230326 20220610 20230328\n",
      " 20230519 20230530 20230817 20210820 20231214 20210924 20230507 20221109\n",
      " 20231218 20220623 20220930 20231127 20220909 20220904 20221130 20230309\n",
      " 20231212 20230916 20230223 20231020 20221029 20221117 20230125 20231019\n",
      " 20231220 20221007 20230921 20231211 20230630 20230522 20220919 20221222\n",
      " 20230425 20221014 20221210 20230113 20230427 20230304 20230108 20230501\n",
      " 20221115 20230929 20230322 20221004 20220413 20230301 20221006 20230127\n",
      " 20211229 20231213 20230314 20231215 20231221 20221018 20220222 20221213\n",
      " 20221112 20221120 20230228 20211207 20230605 20221119 20231119 20220223\n",
      " 20230129 20230523 20220913 20211205 20220206 20221128 20211228 20220303\n",
      " 20221214 20230502 20231217 20221122 20230323 20221021 20220226 20220418\n",
      " 20220228 20230212 20220911 20211220 20230516 20230214 20220224 20221001\n",
      " 20221230 20220925 20221208 20220227 20231207 20220727 20220728 20220324\n",
      " 20220312 20221110 20231116 20221212 20230124 20211119 20220616 20220330\n",
      " 20220525 20220914 20220706 20221028 20220922 20230106 20220929 20221026\n",
      " 20221103 20221116 20221124 20221209 20221221 20230123 20230203 20230209\n",
      " 20230302 20230308 20230419 20230424 20230601 20230606 20230602 20230919\n",
      " 20230915 20230927 20230918 20231018 20231027 20231117 20231129 20231219\n",
      " 20210904 20230226 20231106 20220421 20220406 20230722 20220803 20220705\n",
      " 20220630 20230520 20230710 20220416 20220512 20230830 20230914 20220408\n",
      " 20220702 20220422 20230721 20220704 20220401 20220425 20230414 20230418\n",
      " 20220628 20230201 20220417 20220510 20220509 20220403 20221215 20230917\n",
      " 20221219 20220505 20220316 20220701 20230825 20220424 20220306 20221228\n",
      " 20220823 20230908 20230703 20220621 20220517 20220301 20230818 20220411\n",
      " 20220305 20231004 20221102 20221031 20220816 20220302 20230403 20230318\n",
      " 20221220 20230210 20230531 20231112 20220718 20230224 20220722 20221118\n",
      " 20220903 20231114 20220712 20230120 20230902 20231222 20230725 20220724\n",
      " 20220314 20221231 20231026 20231202 20230729 20220501 20220709 20221019\n",
      " 20230117 20220624 20230227 20220626 20220404 20220119 20220121 20220716\n",
      " 20220520 20231006 20220721 20230411 20231230 20230514 20220719 20231208\n",
      " 20221010 20231108 20230723 20230814 20220802 20231201 20230421 20231210\n",
      " 20221015 20211022 20211113 20220327 20230505 20220715 20220317 20220827\n",
      " 20220819 20230428 20220414 20230306 20220614 20211221 20230310 20220315\n",
      " 20211124 20211211 20220615 20220113 20220729 20220420 20220331 20221114\n",
      " 20230126 20230831 20220407 20220915 20220508 20230623 20230303 20230720\n",
      " 20230627 20230811 20230816 20230824 20230907 20231103 20230928 20231102\n",
      " 20231205 20220905 20211202 20230912 20230926 20210917 20230713 20231121\n",
      " 20231204 20220412 20220318 20220524 20220801 20221020 20230524 20230521\n",
      " 20230213 20220529 20211007 20230616 20220218 20220211 20231107 20220711\n",
      " 20230130 20230809 20230222 20230509 20230719 20230712 20231130 20231206\n",
      " 20211103 20210926 20220703 20220129 20220603 20220726 20230608 20220309\n",
      " 20231031 20220208 20220307 20220308 20211121 20211023 20220609 20211019\n",
      " 20220530 20220419 20220516 20230121 20220323 20230131 20220204 20220824\n",
      " 20230307 20220503 20220613 20220519 20220811 20220920 20220817 20220809\n",
      " 20211203 20211209 20220321 20220405 20220506 20220808 20221101 20230325\n",
      " 20230406 20220713 20230525 20230709 20220521 20230215 20230216 20230506\n",
      " 20211210 20231118 20230810 20211028 20220122 20230404 20221202 20230313\n",
      " 20230217 20230220 20221017 20231228 20230219 20231227 20230105 20230801\n",
      " 20220205 20221123 20230206 20220201 20220325 20230621 20230823 20221107\n",
      " 20220708 20220825 20231115 20230412 20231113 20230906 20221204 20221104\n",
      " 20211027 20220502 20231021 20220319 20220310 20220927 20230620 20230727\n",
      " 20230724 20230731 20220105 20220606 20221003 20220926 20230315 20210825\n",
      " 20231125 20211223]\n",
      "458\n",
      "Unnamed: 0.1             0\n",
      "Unnamed: 0               0\n",
      "id                       0\n",
      "schema                   0\n",
      "name                     0\n",
      "aliases              17382\n",
      "birth_date           16274\n",
      "countries            22905\n",
      "addresses            20648\n",
      "identifiers          26828\n",
      "sanctions               25\n",
      "phones               41188\n",
      "emails               40915\n",
      "dataset                  0\n",
      "last_seen                0\n",
      "first_seen               0\n",
      "date_stamp               0\n",
      "last_change          38916\n",
      "new_entry                0\n",
      "deletion                 0\n",
      "unchanged                0\n",
      "month                    0\n",
      "listing_count            0\n",
      "listing_date             0\n",
      "delisting_date       39214\n",
      "new_listing_count        0\n",
      "iso                   4581\n",
      "country_0            22905\n",
      "year_id                  0\n",
      "month_id                 0\n",
      "dtype: int64\n"
     ]
    }
   ],
   "source": [
    "data = us.copy()\n",
    "#get column names\n",
    "print(data.columns)\n",
    "print(data.describe())\n",
    "print(data.schema.unique())\n",
    "print(data.month.unique())\n",
    "print(data.month.nunique())\n",
    "\n",
    "print(data.date_stamp.unique())\n",
    "print(data.date_stamp.nunique())\n",
    "# receive information on missing values/ null values\n",
    "is_null = data.isnull().sum()\n",
    "print(is_null)\n"
   ]
  },
  {
   "cell_type": "code",
   "execution_count": 5,
   "id": "5e03785c-c11f-41bd-90e0-4ef7d3573325",
   "metadata": {
    "tags": []
   },
   "outputs": [
    {
     "data": {
      "text/html": [
       "<div>\n",
       "<style scoped>\n",
       "    .dataframe tbody tr th:only-of-type {\n",
       "        vertical-align: middle;\n",
       "    }\n",
       "\n",
       "    .dataframe tbody tr th {\n",
       "        vertical-align: top;\n",
       "    }\n",
       "\n",
       "    .dataframe thead th {\n",
       "        text-align: right;\n",
       "    }\n",
       "</style>\n",
       "<table border=\"1\" class=\"dataframe\">\n",
       "  <thead>\n",
       "    <tr style=\"text-align: right;\">\n",
       "      <th></th>\n",
       "      <th>index</th>\n",
       "      <th>id</th>\n",
       "      <th>schema</th>\n",
       "      <th>name</th>\n",
       "      <th>aliases</th>\n",
       "      <th>birth_date</th>\n",
       "      <th>countries</th>\n",
       "      <th>addresses</th>\n",
       "      <th>identifiers</th>\n",
       "      <th>sanctions</th>\n",
       "      <th>...</th>\n",
       "      <th>unchanged</th>\n",
       "      <th>month</th>\n",
       "      <th>listing_count</th>\n",
       "      <th>listing_date</th>\n",
       "      <th>delisting_date</th>\n",
       "      <th>new_listing_count</th>\n",
       "      <th>iso</th>\n",
       "      <th>country_0</th>\n",
       "      <th>year_id</th>\n",
       "      <th>month_id</th>\n",
       "    </tr>\n",
       "  </thead>\n",
       "  <tbody>\n",
       "    <tr>\n",
       "      <th>0</th>\n",
       "      <td>0</td>\n",
       "      <td>NK-226JTDehVMSXex35EbKPmi</td>\n",
       "      <td>Organization</td>\n",
       "      <td>BENA PROPERTIES</td>\n",
       "      <td>BANNA PROPERTIES;BENA</td>\n",
       "      <td>NaN</td>\n",
       "      <td>sy</td>\n",
       "      <td>Cham Holding Building, Daraa Highway, Sahnaya ...</td>\n",
       "      <td>NaN</td>\n",
       "      <td>Block - Program - SDN List - Executive Order 1...</td>\n",
       "      <td>...</td>\n",
       "      <td>False</td>\n",
       "      <td>2021-09</td>\n",
       "      <td>18450</td>\n",
       "      <td>20210930</td>\n",
       "      <td>NaN</td>\n",
       "      <td>1</td>\n",
       "      <td>SYR</td>\n",
       "      <td>sy</td>\n",
       "      <td>2021</td>\n",
       "      <td>1</td>\n",
       "    </tr>\n",
       "    <tr>\n",
       "      <th>1</th>\n",
       "      <td>1</td>\n",
       "      <td>NK-2VJN9QGiw4gQvrDnYUGmn7</td>\n",
       "      <td>Person</td>\n",
       "      <td>Baha' al-Layiq</td>\n",
       "      <td>NaN</td>\n",
       "      <td>1985-08-31</td>\n",
       "      <td>sy</td>\n",
       "      <td>Syria</td>\n",
       "      <td>NaN</td>\n",
       "      <td>Block - Program - SDN List - Executive Order 1...</td>\n",
       "      <td>...</td>\n",
       "      <td>False</td>\n",
       "      <td>2021-09</td>\n",
       "      <td>18450</td>\n",
       "      <td>20210930</td>\n",
       "      <td>NaN</td>\n",
       "      <td>1</td>\n",
       "      <td>SYR</td>\n",
       "      <td>sy</td>\n",
       "      <td>2021</td>\n",
       "      <td>1</td>\n",
       "    </tr>\n",
       "    <tr>\n",
       "      <th>2</th>\n",
       "      <td>2</td>\n",
       "      <td>NK-2XncETAkENzQ32NswLA73B</td>\n",
       "      <td>Company</td>\n",
       "      <td>Nagham al Hayat Ltd.</td>\n",
       "      <td>Nagham al Hayat</td>\n",
       "      <td>NaN</td>\n",
       "      <td>sy</td>\n",
       "      <td>Building 25, al-Bahdaliyah, Damascus</td>\n",
       "      <td>10822</td>\n",
       "      <td>Block - SDN List - Program - Executive Order 1...</td>\n",
       "      <td>...</td>\n",
       "      <td>False</td>\n",
       "      <td>2021-09</td>\n",
       "      <td>18450</td>\n",
       "      <td>20210927</td>\n",
       "      <td>NaN</td>\n",
       "      <td>1</td>\n",
       "      <td>SYR</td>\n",
       "      <td>sy</td>\n",
       "      <td>2021</td>\n",
       "      <td>1</td>\n",
       "    </tr>\n",
       "    <tr>\n",
       "      <th>3</th>\n",
       "      <td>3</td>\n",
       "      <td>NK-2fhGTbFxugJixrZhT8swFY</td>\n",
       "      <td>Person</td>\n",
       "      <td>Rana Bunduqji</td>\n",
       "      <td>NaN</td>\n",
       "      <td>1984-01-09</td>\n",
       "      <td>sy</td>\n",
       "      <td>Syria</td>\n",
       "      <td>NaN</td>\n",
       "      <td>Block - Program - SDN List - Executive Order 1...</td>\n",
       "      <td>...</td>\n",
       "      <td>False</td>\n",
       "      <td>2021-09</td>\n",
       "      <td>18450</td>\n",
       "      <td>20210930</td>\n",
       "      <td>NaN</td>\n",
       "      <td>1</td>\n",
       "      <td>SYR</td>\n",
       "      <td>sy</td>\n",
       "      <td>2021</td>\n",
       "      <td>1</td>\n",
       "    </tr>\n",
       "    <tr>\n",
       "      <th>4</th>\n",
       "      <td>4</td>\n",
       "      <td>NK-2iUFgUFtHBiX53DfXXjpEw</td>\n",
       "      <td>Person</td>\n",
       "      <td>Akram al-Qutmah</td>\n",
       "      <td>NaN</td>\n",
       "      <td>1961-12-04</td>\n",
       "      <td>sy</td>\n",
       "      <td>Syria</td>\n",
       "      <td>NaN</td>\n",
       "      <td>Program - Block - SDN List - Executive Order 1...</td>\n",
       "      <td>...</td>\n",
       "      <td>False</td>\n",
       "      <td>2021-09</td>\n",
       "      <td>18450</td>\n",
       "      <td>20210928</td>\n",
       "      <td>NaN</td>\n",
       "      <td>1</td>\n",
       "      <td>SYR</td>\n",
       "      <td>sy</td>\n",
       "      <td>2021</td>\n",
       "      <td>1</td>\n",
       "    </tr>\n",
       "    <tr>\n",
       "      <th>...</th>\n",
       "      <td>...</td>\n",
       "      <td>...</td>\n",
       "      <td>...</td>\n",
       "      <td>...</td>\n",
       "      <td>...</td>\n",
       "      <td>...</td>\n",
       "      <td>...</td>\n",
       "      <td>...</td>\n",
       "      <td>...</td>\n",
       "      <td>...</td>\n",
       "      <td>...</td>\n",
       "      <td>...</td>\n",
       "      <td>...</td>\n",
       "      <td>...</td>\n",
       "      <td>...</td>\n",
       "      <td>...</td>\n",
       "      <td>...</td>\n",
       "      <td>...</td>\n",
       "      <td>...</td>\n",
       "      <td>...</td>\n",
       "      <td>...</td>\n",
       "    </tr>\n",
       "    <tr>\n",
       "      <th>41199</th>\n",
       "      <td>41199</td>\n",
       "      <td>ofac-34138</td>\n",
       "      <td>Company</td>\n",
       "      <td>Baia Consulting Limited</td>\n",
       "      <td>Consultadoria Baia Limitada</td>\n",
       "      <td>NaN</td>\n",
       "      <td>mo</td>\n",
       "      <td>7th Floor, Lun Pong Building, No. 763 Avenida ...</td>\n",
       "      <td>60367 SO</td>\n",
       "      <td>Program - Block - SDN List - Executive Order 1...</td>\n",
       "      <td>...</td>\n",
       "      <td>False</td>\n",
       "      <td>2021-12</td>\n",
       "      <td>9391</td>\n",
       "      <td>20211210</td>\n",
       "      <td>NaN</td>\n",
       "      <td>1</td>\n",
       "      <td>MNE</td>\n",
       "      <td>mo</td>\n",
       "      <td>2021</td>\n",
       "      <td>6</td>\n",
       "    </tr>\n",
       "    <tr>\n",
       "      <th>41200</th>\n",
       "      <td>41200</td>\n",
       "      <td>ofac-35740</td>\n",
       "      <td>Vessel</td>\n",
       "      <td>TANGO</td>\n",
       "      <td>NaN</td>\n",
       "      <td>NaN</td>\n",
       "      <td>ck</td>\n",
       "      <td>NaN</td>\n",
       "      <td>518100626;E5U3540;IMO 1010703</td>\n",
       "      <td>Block - Program - SDN List - Executive Order 1...</td>\n",
       "      <td>...</td>\n",
       "      <td>False</td>\n",
       "      <td>2022-03</td>\n",
       "      <td>10027</td>\n",
       "      <td>20220312</td>\n",
       "      <td>NaN</td>\n",
       "      <td>1</td>\n",
       "      <td>COL</td>\n",
       "      <td>ck</td>\n",
       "      <td>2022</td>\n",
       "      <td>11</td>\n",
       "    </tr>\n",
       "    <tr>\n",
       "      <th>41201</th>\n",
       "      <td>41201</td>\n",
       "      <td>ofac-39688</td>\n",
       "      <td>Vessel</td>\n",
       "      <td>Rain Drop</td>\n",
       "      <td>NaN</td>\n",
       "      <td>NaN</td>\n",
       "      <td>ck</td>\n",
       "      <td>NaN</td>\n",
       "      <td>518998461;IMO 9233208</td>\n",
       "      <td>SDN List - Block - Program - Executive Order 1...</td>\n",
       "      <td>...</td>\n",
       "      <td>False</td>\n",
       "      <td>2022-11</td>\n",
       "      <td>11189</td>\n",
       "      <td>20221103</td>\n",
       "      <td>NaN</td>\n",
       "      <td>1</td>\n",
       "      <td>COL</td>\n",
       "      <td>ck</td>\n",
       "      <td>2022</td>\n",
       "      <td>21</td>\n",
       "    </tr>\n",
       "    <tr>\n",
       "      <th>41202</th>\n",
       "      <td>41202</td>\n",
       "      <td>ofac-40885</td>\n",
       "      <td>Vessel</td>\n",
       "      <td>Dolphin</td>\n",
       "      <td>NaN</td>\n",
       "      <td>NaN</td>\n",
       "      <td>st</td>\n",
       "      <td>NaN</td>\n",
       "      <td>668116145;IMO 9052331</td>\n",
       "      <td>Block - SDN List - Program - Executive Order 1...</td>\n",
       "      <td>...</td>\n",
       "      <td>False</td>\n",
       "      <td>2023-03</td>\n",
       "      <td>12083</td>\n",
       "      <td>20230302</td>\n",
       "      <td>NaN</td>\n",
       "      <td>1</td>\n",
       "      <td>MAF</td>\n",
       "      <td>st</td>\n",
       "      <td>2023</td>\n",
       "      <td>2</td>\n",
       "    </tr>\n",
       "    <tr>\n",
       "      <th>41203</th>\n",
       "      <td>41203</td>\n",
       "      <td>ofac-40886</td>\n",
       "      <td>Vessel</td>\n",
       "      <td>Lauren</td>\n",
       "      <td>NaN</td>\n",
       "      <td>NaN</td>\n",
       "      <td>tv</td>\n",
       "      <td>NaN</td>\n",
       "      <td>572330220;IMO 9249685</td>\n",
       "      <td>Block - SDN List - Program - Executive Order 1...</td>\n",
       "      <td>...</td>\n",
       "      <td>False</td>\n",
       "      <td>2023-03</td>\n",
       "      <td>12083</td>\n",
       "      <td>20230302</td>\n",
       "      <td>NaN</td>\n",
       "      <td>1</td>\n",
       "      <td>TUV</td>\n",
       "      <td>tv</td>\n",
       "      <td>2023</td>\n",
       "      <td>2</td>\n",
       "    </tr>\n",
       "  </tbody>\n",
       "</table>\n",
       "<p>41204 rows × 29 columns</p>\n",
       "</div>"
      ],
      "text/plain": [
       "       index                         id        schema  \\\n",
       "0          0  NK-226JTDehVMSXex35EbKPmi  Organization   \n",
       "1          1  NK-2VJN9QGiw4gQvrDnYUGmn7        Person   \n",
       "2          2  NK-2XncETAkENzQ32NswLA73B       Company   \n",
       "3          3  NK-2fhGTbFxugJixrZhT8swFY        Person   \n",
       "4          4  NK-2iUFgUFtHBiX53DfXXjpEw        Person   \n",
       "...      ...                        ...           ...   \n",
       "41199  41199                 ofac-34138       Company   \n",
       "41200  41200                 ofac-35740        Vessel   \n",
       "41201  41201                 ofac-39688        Vessel   \n",
       "41202  41202                 ofac-40885        Vessel   \n",
       "41203  41203                 ofac-40886        Vessel   \n",
       "\n",
       "                          name                      aliases  birth_date  \\\n",
       "0              BENA PROPERTIES        BANNA PROPERTIES;BENA         NaN   \n",
       "1               Baha' al-Layiq                          NaN  1985-08-31   \n",
       "2         Nagham al Hayat Ltd.              Nagham al Hayat         NaN   \n",
       "3                Rana Bunduqji                          NaN  1984-01-09   \n",
       "4              Akram al-Qutmah                          NaN  1961-12-04   \n",
       "...                        ...                          ...         ...   \n",
       "41199  Baia Consulting Limited  Consultadoria Baia Limitada         NaN   \n",
       "41200                    TANGO                          NaN         NaN   \n",
       "41201                Rain Drop                          NaN         NaN   \n",
       "41202                  Dolphin                          NaN         NaN   \n",
       "41203                   Lauren                          NaN         NaN   \n",
       "\n",
       "      countries                                          addresses  \\\n",
       "0            sy  Cham Holding Building, Daraa Highway, Sahnaya ...   \n",
       "1            sy                                              Syria   \n",
       "2            sy               Building 25, al-Bahdaliyah, Damascus   \n",
       "3            sy                                              Syria   \n",
       "4            sy                                              Syria   \n",
       "...         ...                                                ...   \n",
       "41199        mo  7th Floor, Lun Pong Building, No. 763 Avenida ...   \n",
       "41200        ck                                                NaN   \n",
       "41201        ck                                                NaN   \n",
       "41202        st                                                NaN   \n",
       "41203        tv                                                NaN   \n",
       "\n",
       "                         identifiers  \\\n",
       "0                                NaN   \n",
       "1                                NaN   \n",
       "2                              10822   \n",
       "3                                NaN   \n",
       "4                                NaN   \n",
       "...                              ...   \n",
       "41199                       60367 SO   \n",
       "41200  518100626;E5U3540;IMO 1010703   \n",
       "41201          518998461;IMO 9233208   \n",
       "41202          668116145;IMO 9052331   \n",
       "41203          572330220;IMO 9249685   \n",
       "\n",
       "                                               sanctions  ... unchanged  \\\n",
       "0      Block - Program - SDN List - Executive Order 1...  ...     False   \n",
       "1      Block - Program - SDN List - Executive Order 1...  ...     False   \n",
       "2      Block - SDN List - Program - Executive Order 1...  ...     False   \n",
       "3      Block - Program - SDN List - Executive Order 1...  ...     False   \n",
       "4      Program - Block - SDN List - Executive Order 1...  ...     False   \n",
       "...                                                  ...  ...       ...   \n",
       "41199  Program - Block - SDN List - Executive Order 1...  ...     False   \n",
       "41200  Block - Program - SDN List - Executive Order 1...  ...     False   \n",
       "41201  SDN List - Block - Program - Executive Order 1...  ...     False   \n",
       "41202  Block - SDN List - Program - Executive Order 1...  ...     False   \n",
       "41203  Block - SDN List - Program - Executive Order 1...  ...     False   \n",
       "\n",
       "         month listing_count listing_date delisting_date  new_listing_count  \\\n",
       "0      2021-09         18450     20210930            NaN                  1   \n",
       "1      2021-09         18450     20210930            NaN                  1   \n",
       "2      2021-09         18450     20210927            NaN                  1   \n",
       "3      2021-09         18450     20210930            NaN                  1   \n",
       "4      2021-09         18450     20210928            NaN                  1   \n",
       "...        ...           ...          ...            ...                ...   \n",
       "41199  2021-12          9391     20211210            NaN                  1   \n",
       "41200  2022-03         10027     20220312            NaN                  1   \n",
       "41201  2022-11         11189     20221103            NaN                  1   \n",
       "41202  2023-03         12083     20230302            NaN                  1   \n",
       "41203  2023-03         12083     20230302            NaN                  1   \n",
       "\n",
       "       iso  country_0  year_id  month_id  \n",
       "0      SYR         sy     2021         1  \n",
       "1      SYR         sy     2021         1  \n",
       "2      SYR         sy     2021         1  \n",
       "3      SYR         sy     2021         1  \n",
       "4      SYR         sy     2021         1  \n",
       "...    ...        ...      ...       ...  \n",
       "41199  MNE         mo     2021         6  \n",
       "41200  COL         ck     2022        11  \n",
       "41201  COL         ck     2022        21  \n",
       "41202  MAF         st     2023         2  \n",
       "41203  TUV         tv     2023         2  \n",
       "\n",
       "[41204 rows x 29 columns]"
      ]
     },
     "execution_count": 5,
     "metadata": {},
     "output_type": "execute_result"
    }
   ],
   "source": [
    "data = data.reset_index()\n",
    "data = data.drop(['Unnamed: 0.1', 'Unnamed: 0'],axis= 'columns')\n",
    "data"
   ]
  },
  {
   "cell_type": "code",
   "execution_count": 6,
   "id": "ebbd98d5-b49b-4aad-a7d8-9ddcda18619b",
   "metadata": {
    "tags": []
   },
   "outputs": [
    {
     "name": "stdout",
     "output_type": "stream",
     "text": [
      "[18450 12083  9386  9410 13918  9391  9547 10447  9053 12137 10027 12825\n",
      " 10681 10564 13260 10574 10494 12873  9124 14229 11189 10966 13282 10992\n",
      " 11559 12622 11609 12317 12912]\n"
     ]
    }
   ],
   "source": [
    "print(data.listing_count.unique())"
   ]
  },
  {
   "cell_type": "code",
   "execution_count": 7,
   "id": "131bbc8a-376a-4707-bd24-fcc0aec86e6f",
   "metadata": {
    "tags": []
   },
   "outputs": [
    {
     "data": {
      "text/plain": [
       "month\n",
       "2021-08    11229\n",
       "2021-09    12998\n",
       "2021-10      491\n",
       "2021-11      506\n",
       "2021-12      363\n",
       "2022-01       45\n",
       "2022-02     1044\n",
       "2022-03     2687\n",
       "2022-04     1004\n",
       "2022-05      923\n",
       "2022-06      968\n",
       "2022-07      281\n",
       "2022-08      211\n",
       "2022-09     1630\n",
       "2022-10     1495\n",
       "2022-11      257\n",
       "2022-12      383\n",
       "2023-01      220\n",
       "2023-02      720\n",
       "2023-03      248\n",
       "2023-04      314\n",
       "2023-05      850\n",
       "2023-06       54\n",
       "2023-07      306\n",
       "2023-08       66\n",
       "2023-09      410\n",
       "2023-10      124\n",
       "2023-11      731\n",
       "2023-12      646\n",
       "Name: new_listing_count, dtype: int64"
      ]
     },
     "execution_count": 7,
     "metadata": {},
     "output_type": "execute_result"
    }
   ],
   "source": [
    "#get the number of listings per month\n",
    "listing_month = data.groupby('month').new_listing_count.sum()\n",
    "listing_month"
   ]
  },
  {
   "cell_type": "code",
   "execution_count": 8,
   "id": "3cc79342-e112-43a0-8273-e50085cd42d3",
   "metadata": {
    "tags": []
   },
   "outputs": [],
   "source": [
    "data['listing_month'] = data['new_listing_count'].groupby(data['month']).transform('sum')"
   ]
  },
  {
   "cell_type": "code",
   "execution_count": 9,
   "id": "7c3fc3c2-54fe-466d-9fce-8a179325c07a",
   "metadata": {
    "tags": []
   },
   "outputs": [
    {
     "name": "stdout",
     "output_type": "stream",
     "text": [
      "[12998   248   506   491   731   363  1044  1004    45   720  2687   850\n",
      "   968   211   124   281   923    66 11229   646   257  1630   410  1495\n",
      "   220    54   383   314   306]\n"
     ]
    }
   ],
   "source": [
    "print(data.listing_month.unique())"
   ]
  },
  {
   "cell_type": "code",
   "execution_count": 10,
   "id": "84e8d446-490e-4c14-8fe1-7b5017f80fb9",
   "metadata": {
    "tags": []
   },
   "outputs": [
    {
     "data": {
      "text/plain": [
       "<Axes: xlabel='month_id', ylabel='listing_count'>"
      ]
     },
     "execution_count": 10,
     "metadata": {},
     "output_type": "execute_result"
    },
    {
     "data": {
      "image/png": "[encoded data removed]",
      "text/plain": [
       "<Figure size 640x480 with 1 Axes>"
      ]
     },
     "metadata": {},
     "output_type": "display_data"
    }
   ],
   "source": [
    "#get the total listings per month\n",
    "listings_us_sdn = sns.lineplot(data=data,x='month_id',y='listing_count')\n",
    "listings_us_sdn"
   ]
  },
  {
   "cell_type": "code",
   "execution_count": 12,
   "id": "f91b994e-bad3-4277-a513-cf88e55bb16a",
   "metadata": {
    "tags": []
   },
   "outputs": [
    {
     "data": {
      "image/png": "[encoded data removed]",
      "text/plain": [
       "<Figure size 640x480 with 1 Axes>"
      ]
     },
     "metadata": {},
     "output_type": "display_data"
    }
   ],
   "source": [
    "#time trend of the top iso codes\n",
    "import matplotlib.pyplot as plt\n",
    "from matplotlib.pyplot import figure\n",
    "grouped2 = data.groupby(['countries', 'month_id']).agg({'listing_count': 'sum'})\n",
    "top_countries2 = grouped2.groupby('countries').agg({'listing_count': 'sum'}).nlargest(10, 'listing_count').index.tolist()\n",
    "filtered2 = grouped2[grouped2.index.get_level_values('countries').isin(top_countries2)]\n",
    "pivoted2 = filtered2.reset_index().pivot(index='month_id', columns='countries', values='listing_count')\n",
    "pivoted2.plot.area(stacked=False)\n",
    "\n",
    "plt.xlabel('month')\n",
    "plt.ylabel('number of listings per month')\n",
    "plt.savefig('timetrend_listings_stacked.png')\n",
    "\n",
    "# Show the plot\n",
    "plt.show()"
   ]
  },
  {
   "cell_type": "code",
   "execution_count": 13,
   "id": "4b9d85e5-46ea-4da0-82ba-3c88ad26d117",
   "metadata": {
    "tags": []
   },
   "outputs": [
    {
     "data": {
      "image/png": "[encoded data removed]",
      "text/plain": [
       "<Figure size 640x480 with 1 Axes>"
      ]
     },
     "metadata": {},
     "output_type": "display_data"
    }
   ],
   "source": [
    "#time trend of the top iso codes\n",
    "grouped2 = data.groupby(['countries', 'month_id']).agg({'new_listing_count': 'sum'})\n",
    "top_countries2 = grouped2.groupby('countries').agg({'new_listing_count': 'sum'}).nlargest(10, 'new_listing_count').index.tolist()\n",
    "filtered2 = grouped2[grouped2.index.get_level_values('countries').isin(top_countries2)]\n",
    "pivoted2 = filtered2.reset_index().pivot(index='month_id', columns='countries', values='new_listing_count')\n",
    "pivoted2.plot.area(stacked=False)\n",
    "\n",
    "plt.xlabel('month')\n",
    "plt.ylabel('number of new listings per month')\n",
    "plt.savefig('timetrend_new_listings.png')\n",
    "\n",
    "# Show the plot\n",
    "plt.show()"
   ]
  },
  {
   "cell_type": "code",
   "execution_count": 14,
   "id": "be0076c2-2823-48ed-b0c6-b125088caf5f",
   "metadata": {
    "tags": []
   },
   "outputs": [
    {
     "data": {
      "text/plain": [
       "listing_date\n",
       "20210820    11222\n",
       "20210930     7858\n",
       "20210918     1776\n",
       "20220324     1744\n",
       "20220930     1356\n",
       "20221001     1331\n",
       "20210922     1230\n",
       "20210928     1219\n",
       "20230519      594\n",
       "20210927      426\n",
       "Name: count, dtype: int64"
      ]
     },
     "execution_count": 14,
     "metadata": {},
     "output_type": "execute_result"
    }
   ],
   "source": [
    "#get the sates with the most new listings\n",
    "data['listing_date'].value_counts().nlargest(10)"
   ]
  },
  {
   "cell_type": "code",
   "execution_count": 15,
   "id": "f574b208-3ac6-499d-8812-6d1ecd568ca9",
   "metadata": {
    "tags": []
   },
   "outputs": [
    {
     "data": {
      "text/plain": [
       "schema\n",
       "Person          25535\n",
       "Organization     7721\n",
       "Company          3809\n",
       "Airplane         3238\n",
       "Vessel            901\n",
       "Name: count, dtype: int64"
      ]
     },
     "execution_count": 15,
     "metadata": {},
     "output_type": "execute_result"
    }
   ],
   "source": [
    "#get the top shema\n",
    "data['schema'].value_counts().nlargest(5)"
   ]
  },
  {
   "cell_type": "code",
   "execution_count": 16,
   "id": "30cd07e1-700b-4935-8992-15db4b2699cf",
   "metadata": {
    "collapsed": true,
    "jupyter": {
     "outputs_hidden": true
    },
    "tags": []
   },
   "outputs": [
    {
     "data": {
      "text/plain": [
       "sanctions\n",
       "Block - Program - SDN List - Executive Order 14024                        2257\n",
       "Block - SDN List - Program - Executive Order 14024                        1958\n",
       "Program - SDN List - Block - Executive Order 14024                        1931\n",
       "SDN List - Executive Order 14024 (Russia)                                 1506\n",
       "SDN List - Executive Order 14024                                           883\n",
       "SDN List - Program - Block - Executive Order 14024                         874\n",
       "SDN List - Block - Program - Executive Order 14024                         680\n",
       "Block - Program - SDN List - Executive Order 13599 (Iran) - 2018-11-05     636\n",
       "SDN List - Block - Program - Executive Order 13599 (Iran) - 2018-11-05     538\n",
       "SDN List - Block - Program - Unknown - 2003-05-29                          500\n",
       "Name: count, dtype: int64"
      ]
     },
     "execution_count": 16,
     "metadata": {},
     "output_type": "execute_result"
    }
   ],
   "source": [
    "#get the top sanctions regime\n",
    "data['sanctions'].value_counts().nlargest(10)"
   ]
  },
  {
   "cell_type": "markdown",
   "id": "de396d67-f023-4a94-9395-a4b282679597",
   "metadata": {},
   "source": [
    "filter russia"
   ]
  },
  {
   "cell_type": "code",
   "execution_count": 17,
   "id": "0de3654f-3494-4628-8327-562ccd1b494d",
   "metadata": {
    "collapsed": true,
    "jupyter": {
     "outputs_hidden": true
    },
    "tags": []
   },
   "outputs": [
    {
     "data": {
      "text/plain": [
       "array(['sy', 'pk', 'ir', 'ru', 'co', 'ae', 'mx', 'be', 'iq', 'gr', nan,\n",
       "       've', 'li', 'cf', 'cy', 'ao', 'gb', 'vc', 'gm', 'lb', 'ch', 'my',\n",
       "       'ye', 'sa', 'eg', 'au', 'tr', 'mm', 'sg', 'cr', 'jo', 'fr', 'ca',\n",
       "       'nl', 'bg', 'it', 'at', 'uz', 'sd', 'bi', 'ht', 'ec', 'ly', 'ph',\n",
       "       'za', 'ng', 'af', 'es', 'cd', 'bh', 'ke', 'gt', 'th', 'si', 'kg',\n",
       "       'ua', 'kz', 'tg', 'tz', 'fi', 'ws', 'pe', 'lv', 'bs', 'ss', 'se',\n",
       "       'so', 'qa', 'lu', 'mk', 'ml', 'xk', 'am', 'mv', 'dm', 'ug', 'cu',\n",
       "       'cm', 'mr', 'kn', 'ba', 'hu', 'jm', 'uy', 'mz', 'pl', 'pw', 'gi',\n",
       "       'sm', 'gw', 'sc', 'sl', 'py', 'dk', 'bd', 'no', 'ie', 'rw', 'nz',\n",
       "       'bm', 'ci', 'bb', 'et', 'gh', 'bo', 'cl', 'br', 'er', 'mo', 'ck',\n",
       "       'st', 'tv'], dtype=object)"
      ]
     },
     "execution_count": 17,
     "metadata": {},
     "output_type": "execute_result"
    }
   ],
   "source": [
    "data.countries.unique()"
   ]
  },
  {
   "cell_type": "code",
   "execution_count": 18,
   "id": "099c2887-e245-4507-8014-aa298bb65484",
   "metadata": {
    "collapsed": true,
    "jupyter": {
     "outputs_hidden": true
    },
    "tags": []
   },
   "outputs": [
    {
     "data": {
      "text/html": [
       "<div>\n",
       "<style scoped>\n",
       "    .dataframe tbody tr th:only-of-type {\n",
       "        vertical-align: middle;\n",
       "    }\n",
       "\n",
       "    .dataframe tbody tr th {\n",
       "        vertical-align: top;\n",
       "    }\n",
       "\n",
       "    .dataframe thead th {\n",
       "        text-align: right;\n",
       "    }\n",
       "</style>\n",
       "<table border=\"1\" class=\"dataframe\">\n",
       "  <thead>\n",
       "    <tr style=\"text-align: right;\">\n",
       "      <th></th>\n",
       "    </tr>\n",
       "  </thead>\n",
       "  <tbody>\n",
       "    <tr>\n",
       "      <th>0</th>\n",
       "    </tr>\n",
       "    <tr>\n",
       "      <th>1</th>\n",
       "    </tr>\n",
       "    <tr>\n",
       "      <th>2</th>\n",
       "    </tr>\n",
       "    <tr>\n",
       "      <th>3</th>\n",
       "    </tr>\n",
       "    <tr>\n",
       "      <th>4</th>\n",
       "    </tr>\n",
       "    <tr>\n",
       "      <th>...</th>\n",
       "    </tr>\n",
       "    <tr>\n",
       "      <th>41199</th>\n",
       "    </tr>\n",
       "    <tr>\n",
       "      <th>41200</th>\n",
       "    </tr>\n",
       "    <tr>\n",
       "      <th>41201</th>\n",
       "    </tr>\n",
       "    <tr>\n",
       "      <th>41202</th>\n",
       "    </tr>\n",
       "    <tr>\n",
       "      <th>41203</th>\n",
       "    </tr>\n",
       "  </tbody>\n",
       "</table>\n",
       "<p>41204 rows × 0 columns</p>\n",
       "</div>"
      ],
      "text/plain": [
       "Empty DataFrame\n",
       "Columns: []\n",
       "Index: [0, 1, 2, 3, 4, 5, 6, 7, 8, 9, 10, 11, 12, 13, 14, 15, 16, 17, 18, 19, 20, 21, 22, 23, 24, 25, 26, 27, 28, 29, 30, 31, 32, 33, 34, 35, 36, 37, 38, 39, 40, 41, 42, 43, 44, 45, 46, 47, 48, 49, 50, 51, 52, 53, 54, 55, 56, 57, 58, 59, 60, 61, 62, 63, 64, 65, 66, 67, 68, 69, 70, 71, 72, 73, 74, 75, 76, 77, 78, 79, 80, 81, 82, 83, 84, 85, 86, 87, 88, 89, 90, 91, 92, 93, 94, 95, 96, 97, 98, 99, ...]\n",
       "\n",
       "[41204 rows x 0 columns]"
      ]
     },
     "execution_count": 18,
     "metadata": {},
     "output_type": "execute_result"
    }
   ],
   "source": [
    "data_russ = data.copy()\n",
    "data_russ = data_russ.filter(data_russ['countries'] == 'ru')\n",
    "data_russ"
   ]
  },
  {
   "cell_type": "markdown",
   "id": "ac61cb32-0829-4036-8e77-671b57179120",
   "metadata": {},
   "source": [
    "add trigger events"
   ]
  },
  {
   "cell_type": "code",
   "execution_count": 29,
   "id": "80289ac1-43a3-4454-aa4c-3dfa5c9efe18",
   "metadata": {
    "tags": []
   },
   "outputs": [],
   "source": [
    "conflict.describe\n",
    "# get a month id\n",
    "conflict['month'] = pd.to_datetime(conflict['conflict_event']).dt.to_period('M')\n",
    "conflict_os['month'] = pd.to_datetime(conflict_os['conflict_event']).dt.to_period('M')"
   ]
  },
  {
   "cell_type": "code",
   "execution_count": 34,
   "id": "bf4efeac-4b2f-41ea-ac60-204d5945cb03",
   "metadata": {
    "tags": []
   },
   "outputs": [
    {
     "name": "stdout",
     "output_type": "stream",
     "text": [
      "Index(['Unnamed: 0', 'id', 'relid', 'year', 'type_of_violence', 'country',\n",
      "       'country_id', 'fatality_best_estimate', 'gwnoa', 'gwnob',\n",
      "       'conflict_event', 'iso', 'month'],\n",
      "      dtype='object')\n",
      "Index(['Unnamed: 0', 'id', 'relid', 'year', 'type_of_violence', 'country',\n",
      "       'country_id', 'fatality_best_estimate', 'gwnoa', 'gwnob',\n",
      "       'conflict_event', 'iso', 'month'],\n",
      "      dtype='object')\n",
      "Index(['Unnamed: 0', 'event_id_cnty', 'event_date', 'year', 'time_precision',\n",
      "       'disorder_type', 'event_type', 'sub_event_type', 'actor1',\n",
      "       'assoc_actor_1', 'inter1', 'actor2', 'assoc_actor_2', 'inter2',\n",
      "       'interaction', 'civilian_targeting', 'iso', 'country', 'fatalities',\n",
      "       'protest_event_date', 'month', 'event_count'],\n",
      "      dtype='object')\n"
     ]
    }
   ],
   "source": [
    "print(conflict.columns)\n",
    "print(conflict_os.columns)\n",
    "print(protest.columns)"
   ]
  },
  {
   "cell_type": "code",
   "execution_count": 44,
   "id": "d5df5203-9ceb-40c1-a831-3846cf5b1437",
   "metadata": {},
   "outputs": [
    {
     "data": {
      "text/html": [
       "<div>\n",
       "<style scoped>\n",
       "    .dataframe tbody tr th:only-of-type {\n",
       "        vertical-align: middle;\n",
       "    }\n",
       "\n",
       "    .dataframe tbody tr th {\n",
       "        vertical-align: top;\n",
       "    }\n",
       "\n",
       "    .dataframe thead th {\n",
       "        text-align: right;\n",
       "    }\n",
       "</style>\n",
       "<table border=\"1\" class=\"dataframe\">\n",
       "  <thead>\n",
       "    <tr style=\"text-align: right;\">\n",
       "      <th></th>\n",
       "      <th>listing_date</th>\n",
       "      <th>new_listing_count</th>\n",
       "    </tr>\n",
       "  </thead>\n",
       "  <tbody>\n",
       "    <tr>\n",
       "      <th>0</th>\n",
       "      <td>20210820</td>\n",
       "      <td>11222</td>\n",
       "    </tr>\n",
       "    <tr>\n",
       "      <th>1</th>\n",
       "      <td>20210825</td>\n",
       "      <td>7</td>\n",
       "    </tr>\n",
       "    <tr>\n",
       "      <th>2</th>\n",
       "      <td>20210904</td>\n",
       "      <td>4</td>\n",
       "    </tr>\n",
       "    <tr>\n",
       "      <th>3</th>\n",
       "      <td>20210917</td>\n",
       "      <td>10</td>\n",
       "    </tr>\n",
       "    <tr>\n",
       "      <th>4</th>\n",
       "      <td>20210918</td>\n",
       "      <td>1776</td>\n",
       "    </tr>\n",
       "    <tr>\n",
       "      <th>...</th>\n",
       "      <td>...</td>\n",
       "      <td>...</td>\n",
       "    </tr>\n",
       "    <tr>\n",
       "      <th>453</th>\n",
       "      <td>20231221</td>\n",
       "      <td>20</td>\n",
       "    </tr>\n",
       "    <tr>\n",
       "      <th>454</th>\n",
       "      <td>20231222</td>\n",
       "      <td>6</td>\n",
       "    </tr>\n",
       "    <tr>\n",
       "      <th>455</th>\n",
       "      <td>20231227</td>\n",
       "      <td>1</td>\n",
       "    </tr>\n",
       "    <tr>\n",
       "      <th>456</th>\n",
       "      <td>20231228</td>\n",
       "      <td>4</td>\n",
       "    </tr>\n",
       "    <tr>\n",
       "      <th>457</th>\n",
       "      <td>20231230</td>\n",
       "      <td>1</td>\n",
       "    </tr>\n",
       "  </tbody>\n",
       "</table>\n",
       "<p>458 rows × 2 columns</p>\n",
       "</div>"
      ],
      "text/plain": [
       "     listing_date  new_listing_count\n",
       "0        20210820              11222\n",
       "1        20210825                  7\n",
       "2        20210904                  4\n",
       "3        20210917                 10\n",
       "4        20210918               1776\n",
       "..            ...                ...\n",
       "453      20231221                 20\n",
       "454      20231222                  6\n",
       "455      20231227                  1\n",
       "456      20231228                  4\n",
       "457      20231230                  1\n",
       "\n",
       "[458 rows x 2 columns]"
      ]
     },
     "metadata": {},
     "output_type": "display_data"
    },
    {
     "data": {
      "text/html": [
       "<div>\n",
       "<style scoped>\n",
       "    .dataframe tbody tr th:only-of-type {\n",
       "        vertical-align: middle;\n",
       "    }\n",
       "\n",
       "    .dataframe tbody tr th {\n",
       "        vertical-align: top;\n",
       "    }\n",
       "\n",
       "    .dataframe thead th {\n",
       "        text-align: right;\n",
       "    }\n",
       "</style>\n",
       "<table border=\"1\" class=\"dataframe\">\n",
       "  <thead>\n",
       "    <tr style=\"text-align: right;\">\n",
       "      <th></th>\n",
       "      <th>conflict_event</th>\n",
       "      <th>fatality_best_estimate</th>\n",
       "    </tr>\n",
       "  </thead>\n",
       "  <tbody>\n",
       "    <tr>\n",
       "      <th>0</th>\n",
       "      <td>2020-01-01 00:00:00.000</td>\n",
       "      <td>59.0</td>\n",
       "    </tr>\n",
       "    <tr>\n",
       "      <th>1</th>\n",
       "      <td>2020-01-02 00:00:00.000</td>\n",
       "      <td>14.0</td>\n",
       "    </tr>\n",
       "    <tr>\n",
       "      <th>2</th>\n",
       "      <td>2020-01-03 00:00:00.000</td>\n",
       "      <td>11.0</td>\n",
       "    </tr>\n",
       "    <tr>\n",
       "      <th>3</th>\n",
       "      <td>2020-01-04 00:00:00.000</td>\n",
       "      <td>12.0</td>\n",
       "    </tr>\n",
       "    <tr>\n",
       "      <th>4</th>\n",
       "      <td>2020-01-05 00:00:00.000</td>\n",
       "      <td>18.0</td>\n",
       "    </tr>\n",
       "    <tr>\n",
       "      <th>...</th>\n",
       "      <td>...</td>\n",
       "      <td>...</td>\n",
       "    </tr>\n",
       "    <tr>\n",
       "      <th>960</th>\n",
       "      <td>2022-12-27 00:00:00.000</td>\n",
       "      <td>3.0</td>\n",
       "    </tr>\n",
       "    <tr>\n",
       "      <th>961</th>\n",
       "      <td>2022-12-28 00:00:00.000</td>\n",
       "      <td>20.0</td>\n",
       "    </tr>\n",
       "    <tr>\n",
       "      <th>962</th>\n",
       "      <td>2022-12-29 00:00:00.000</td>\n",
       "      <td>18.0</td>\n",
       "    </tr>\n",
       "    <tr>\n",
       "      <th>963</th>\n",
       "      <td>2022-12-30 00:00:00.000</td>\n",
       "      <td>4.0</td>\n",
       "    </tr>\n",
       "    <tr>\n",
       "      <th>964</th>\n",
       "      <td>2022-12-31 00:00:00.000</td>\n",
       "      <td>14.0</td>\n",
       "    </tr>\n",
       "  </tbody>\n",
       "</table>\n",
       "<p>965 rows × 2 columns</p>\n",
       "</div>"
      ],
      "text/plain": [
       "              conflict_event  fatality_best_estimate\n",
       "0    2020-01-01 00:00:00.000                    59.0\n",
       "1    2020-01-02 00:00:00.000                    14.0\n",
       "2    2020-01-03 00:00:00.000                    11.0\n",
       "3    2020-01-04 00:00:00.000                    12.0\n",
       "4    2020-01-05 00:00:00.000                    18.0\n",
       "..                       ...                     ...\n",
       "960  2022-12-27 00:00:00.000                     3.0\n",
       "961  2022-12-28 00:00:00.000                    20.0\n",
       "962  2022-12-29 00:00:00.000                    18.0\n",
       "963  2022-12-30 00:00:00.000                     4.0\n",
       "964  2022-12-31 00:00:00.000                    14.0\n",
       "\n",
       "[965 rows x 2 columns]"
      ]
     },
     "metadata": {},
     "output_type": "display_data"
    },
    {
     "data": {
      "text/html": [
       "<div>\n",
       "<style scoped>\n",
       "    .dataframe tbody tr th:only-of-type {\n",
       "        vertical-align: middle;\n",
       "    }\n",
       "\n",
       "    .dataframe tbody tr th {\n",
       "        vertical-align: top;\n",
       "    }\n",
       "\n",
       "    .dataframe thead th {\n",
       "        text-align: right;\n",
       "    }\n",
       "</style>\n",
       "<table border=\"1\" class=\"dataframe\">\n",
       "  <thead>\n",
       "    <tr style=\"text-align: right;\">\n",
       "      <th></th>\n",
       "      <th>conflict_event</th>\n",
       "      <th>fatality_best_estimate</th>\n",
       "    </tr>\n",
       "  </thead>\n",
       "  <tbody>\n",
       "    <tr>\n",
       "      <th>0</th>\n",
       "      <td>2020-01-01 00:00:00.000</td>\n",
       "      <td>3.0</td>\n",
       "    </tr>\n",
       "    <tr>\n",
       "      <th>1</th>\n",
       "      <td>2020-01-03 00:00:00.000</td>\n",
       "      <td>4.0</td>\n",
       "    </tr>\n",
       "    <tr>\n",
       "      <th>2</th>\n",
       "      <td>2020-01-05 00:00:00.000</td>\n",
       "      <td>1.0</td>\n",
       "    </tr>\n",
       "    <tr>\n",
       "      <th>3</th>\n",
       "      <td>2020-01-12 00:00:00.000</td>\n",
       "      <td>1.0</td>\n",
       "    </tr>\n",
       "    <tr>\n",
       "      <th>4</th>\n",
       "      <td>2020-01-13 00:00:00.000</td>\n",
       "      <td>2.0</td>\n",
       "    </tr>\n",
       "    <tr>\n",
       "      <th>...</th>\n",
       "      <td>...</td>\n",
       "      <td>...</td>\n",
       "    </tr>\n",
       "    <tr>\n",
       "      <th>801</th>\n",
       "      <td>2022-12-27 00:00:00.000</td>\n",
       "      <td>3.0</td>\n",
       "    </tr>\n",
       "    <tr>\n",
       "      <th>802</th>\n",
       "      <td>2022-12-28 00:00:00.000</td>\n",
       "      <td>20.0</td>\n",
       "    </tr>\n",
       "    <tr>\n",
       "      <th>803</th>\n",
       "      <td>2022-12-29 00:00:00.000</td>\n",
       "      <td>1.0</td>\n",
       "    </tr>\n",
       "    <tr>\n",
       "      <th>804</th>\n",
       "      <td>2022-12-30 00:00:00.000</td>\n",
       "      <td>1.0</td>\n",
       "    </tr>\n",
       "    <tr>\n",
       "      <th>805</th>\n",
       "      <td>2022-12-31 00:00:00.000</td>\n",
       "      <td>14.0</td>\n",
       "    </tr>\n",
       "  </tbody>\n",
       "</table>\n",
       "<p>806 rows × 2 columns</p>\n",
       "</div>"
      ],
      "text/plain": [
       "              conflict_event  fatality_best_estimate\n",
       "0    2020-01-01 00:00:00.000                     3.0\n",
       "1    2020-01-03 00:00:00.000                     4.0\n",
       "2    2020-01-05 00:00:00.000                     1.0\n",
       "3    2020-01-12 00:00:00.000                     1.0\n",
       "4    2020-01-13 00:00:00.000                     2.0\n",
       "..                       ...                     ...\n",
       "801  2022-12-27 00:00:00.000                     3.0\n",
       "802  2022-12-28 00:00:00.000                    20.0\n",
       "803  2022-12-29 00:00:00.000                     1.0\n",
       "804  2022-12-30 00:00:00.000                     1.0\n",
       "805  2022-12-31 00:00:00.000                    14.0\n",
       "\n",
       "[806 rows x 2 columns]"
      ]
     },
     "metadata": {},
     "output_type": "display_data"
    },
    {
     "data": {
      "text/html": [
       "<div>\n",
       "<style scoped>\n",
       "    .dataframe tbody tr th:only-of-type {\n",
       "        vertical-align: middle;\n",
       "    }\n",
       "\n",
       "    .dataframe tbody tr th {\n",
       "        vertical-align: top;\n",
       "    }\n",
       "\n",
       "    .dataframe thead th {\n",
       "        text-align: right;\n",
       "    }\n",
       "</style>\n",
       "<table border=\"1\" class=\"dataframe\">\n",
       "  <thead>\n",
       "    <tr style=\"text-align: right;\">\n",
       "      <th></th>\n",
       "      <th>protest_event_date</th>\n",
       "      <th>event_count</th>\n",
       "    </tr>\n",
       "  </thead>\n",
       "  <tbody>\n",
       "    <tr>\n",
       "      <th>0</th>\n",
       "      <td>2020-01-01</td>\n",
       "      <td>4923</td>\n",
       "    </tr>\n",
       "    <tr>\n",
       "      <th>1</th>\n",
       "      <td>2020-01-02</td>\n",
       "      <td>3829</td>\n",
       "    </tr>\n",
       "    <tr>\n",
       "      <th>2</th>\n",
       "      <td>2020-01-03</td>\n",
       "      <td>7658</td>\n",
       "    </tr>\n",
       "    <tr>\n",
       "      <th>3</th>\n",
       "      <td>2020-01-04</td>\n",
       "      <td>5470</td>\n",
       "    </tr>\n",
       "    <tr>\n",
       "      <th>4</th>\n",
       "      <td>2020-01-05</td>\n",
       "      <td>4923</td>\n",
       "    </tr>\n",
       "    <tr>\n",
       "      <th>...</th>\n",
       "      <td>...</td>\n",
       "      <td>...</td>\n",
       "    </tr>\n",
       "    <tr>\n",
       "      <th>1457</th>\n",
       "      <td>2023-12-28</td>\n",
       "      <td>852</td>\n",
       "    </tr>\n",
       "    <tr>\n",
       "      <th>1458</th>\n",
       "      <td>2023-12-29</td>\n",
       "      <td>2272</td>\n",
       "    </tr>\n",
       "    <tr>\n",
       "      <th>1459</th>\n",
       "      <td>2023-12-30</td>\n",
       "      <td>3692</td>\n",
       "    </tr>\n",
       "    <tr>\n",
       "      <th>1460</th>\n",
       "      <td>2023-12-31</td>\n",
       "      <td>1704</td>\n",
       "    </tr>\n",
       "    <tr>\n",
       "      <th>1461</th>\n",
       "      <td>2024-01-01</td>\n",
       "      <td>36</td>\n",
       "    </tr>\n",
       "  </tbody>\n",
       "</table>\n",
       "<p>1462 rows × 2 columns</p>\n",
       "</div>"
      ],
      "text/plain": [
       "     protest_event_date  event_count\n",
       "0            2020-01-01         4923\n",
       "1            2020-01-02         3829\n",
       "2            2020-01-03         7658\n",
       "3            2020-01-04         5470\n",
       "4            2020-01-05         4923\n",
       "...                 ...          ...\n",
       "1457         2023-12-28          852\n",
       "1458         2023-12-29         2272\n",
       "1459         2023-12-30         3692\n",
       "1460         2023-12-31         1704\n",
       "1461         2024-01-01           36\n",
       "\n",
       "[1462 rows x 2 columns]"
      ]
     },
     "metadata": {},
     "output_type": "display_data"
    },
    {
     "data": {
      "image/png": "[encoded data removed]",
      "text/plain": [
       "<Figure size 640x480 with 2 Axes>"
      ]
     },
     "metadata": {},
     "output_type": "display_data"
    }
   ],
   "source": [
    "#get the new listings per month toether with conflict fatalities and protest events\n",
    "# combined plot\n",
    "grouped_1 = data.groupby(['listing_date']).agg({'new_listing_count': 'sum'})\n",
    "grouped_2 = conflict.groupby(['conflict_event']).agg({'fatality_best_estimate': 'sum'})\n",
    "grouped_3 = conflict_os.groupby(['conflict_event']).agg({'fatality_best_estimate': 'sum'})\n",
    "grouped_4 = protest.groupby(['protest_event_date']).agg({'event_count': 'sum'})\n",
    "grouped_1 = grouped_1.reset_index()\n",
    "grouped_2 = grouped_2.reset_index()\n",
    "grouped_3 = grouped_3.reset_index()\n",
    "grouped_4 = grouped_4.reset_index()\n",
    "display(grouped_1)\n",
    "display(grouped_2)\n",
    "display(grouped_3)\n",
    "display(grouped_4)\n",
    "# create figure and axis objects with subplots()\n",
    "fig,ax = plt.subplots()\n",
    "# make a plot\n",
    "ax.plot(grouped_1.listing_date,\n",
    "        grouped_1.new_listing_count,\n",
    "        color=\"green\")\n",
    "# set x-axis label\n",
    "ax.set_xlabel(\"listing date\", fontsize = 10)\n",
    "# set y-axis label\n",
    "ax.set_ylabel(\"n new listings\",\n",
    "              color=\"green\",\n",
    "              fontsize=10)\n",
    "\n",
    "\n",
    "# twin object for two different y-axis on the sample plot\n",
    "ax2=ax.twinx()\n",
    "# make a plot with different y-axis using second axis object\n",
    "ax2.plot(grouped_2.conflict_event, grouped_2[\"fatality_best_estimate\"],color=\"blue\")\n",
    "ax2.set_ylabel(\"conflict fatalities\",color=\"blue\",fontsize=10)\n",
    "plt.savefig('timetrend_combined_listing_month.png')\n"
   ]
  },
  {
   "cell_type": "code",
   "execution_count": 45,
   "id": "e8744b73-df37-4b98-858c-eb9d7eb573f1",
   "metadata": {
    "tags": []
   },
   "outputs": [
    {
     "data": {
      "text/plain": [
       "<Figure size 640x480 with 0 Axes>"
      ]
     },
     "metadata": {},
     "output_type": "display_data"
    }
   ],
   "source": [
    "\n",
    "# twin object for two different y-axis on the sample plot\n",
    "ax3=ax.twinx()\n",
    "# make a plot with different y-axis using second axis object\n",
    "ax3.plot(grouped_3.conflict_event, grouped_3[\"fatality_best_estimate\"],color=\"red\")\n",
    "ax3.set_ylabel(\"conflict fatalities one sided violence\",color=\"red\",fontsize=10)\n",
    "plt.savefig('timetrend_conflict_os.png')"
   ]
  },
  {
   "cell_type": "code",
   "execution_count": 47,
   "id": "904f39ff-4bfc-4496-9040-03c77641a765",
   "metadata": {
    "tags": []
   },
   "outputs": [
    {
     "data": {
      "text/plain": [
       "<Figure size 640x480 with 0 Axes>"
      ]
     },
     "metadata": {},
     "output_type": "display_data"
    }
   ],
   "source": [
    "# twin object for two different y-axis on the sample plot\n",
    "ax4=ax.twinx()\n",
    "# make a plot with different y-axis using second axis object\n",
    "ax4.plot(grouped_4.protest_event_date, grouped_4[\"event_count\"],color=\"orange\")\n",
    "ax4.set_ylabel(\"n protest events\",color=\"orange\",fontsize=10)\n",
    "plt.savefig('timetrend_protest.png')"
   ]
  },
  {
   "cell_type": "code",
   "execution_count": 38,
   "id": "1bbad5f1-4916-42b3-b10b-91f9b232534b",
   "metadata": {
    "tags": []
   },
   "outputs": [],
   "source": [
    "import scipy\n",
    "from scipy import stats\n",
    "import statsmodels"
   ]
  },
  {
   "cell_type": "code",
   "execution_count": 41,
   "id": "bdea6e02-771d-41fb-9473-2fb7e1389968",
   "metadata": {
    "tags": []
   },
   "outputs": [
    {
     "name": "stderr",
     "output_type": "stream",
     "text": [
      "C:\\Users\\cecilianatalie.strom\\bin\\conda\\Lib\\site-packages\\scipy\\stats\\_morestats.py:1882: UserWarning: p-value may not be accurate for N > 5000.\n",
      "  warnings.warn(\"p-value may not be accurate for N > 5000.\")\n"
     ]
    },
    {
     "data": {
      "text/plain": [
       "ShapiroResult(statistic=nan, pvalue=1.0)"
      ]
     },
     "execution_count": 41,
     "metadata": {},
     "output_type": "execute_result"
    }
   ],
   "source": [
    "sanction = data['listing_month']\n",
    "conflicts =conflict['fatality_best_estimate']\n",
    "# homogeneity\n",
    "stats.levene(sanction, conflicts)\n",
    "# Shapiro-Wilk test for normality\n",
    "stats.shapiro(sanction)\n",
    "stats.shapiro(conflicts)"
   ]
  },
  {
   "cell_type": "code",
   "execution_count": 42,
   "id": "ce173c17-48ca-467c-ac43-43f22391f622",
   "metadata": {
    "tags": []
   },
   "outputs": [
    {
     "data": {
      "text/plain": [
       "TtestResult(statistic=nan, pvalue=nan, df=nan)"
      ]
     },
     "execution_count": 42,
     "metadata": {},
     "output_type": "execute_result"
    }
   ],
   "source": [
    "stats.ttest_ind(sanction,conflicts)"
   ]
  },
  {
   "cell_type": "code",
   "execution_count": 40,
   "id": "85f3d0c1-f125-4038-8c3b-300e4f7bd713",
   "metadata": {
    "collapsed": true,
    "jupyter": {
     "outputs_hidden": true
    },
    "tags": []
   },
   "outputs": [
    {
     "data": {
      "text/plain": [
       "\u001b[1;31mSignature:\u001b[0m\n",
       "\u001b[0mstats\u001b[0m\u001b[1;33m.\u001b[0m\u001b[0mttest_ind\u001b[0m\u001b[1;33m(\u001b[0m\u001b[1;33m\n",
       "\u001b[0m    \u001b[0ma\u001b[0m\u001b[1;33m,\u001b[0m\u001b[1;33m\n",
       "\u001b[0m    \u001b[0mb\u001b[0m\u001b[1;33m,\u001b[0m\u001b[1;33m\n",
       "\u001b[0m    \u001b[0maxis\u001b[0m\u001b[1;33m=\u001b[0m\u001b[1;36m0\u001b[0m\u001b[1;33m,\u001b[0m\u001b[1;33m\n",
       "\u001b[0m    \u001b[0mequal_var\u001b[0m\u001b[1;33m=\u001b[0m\u001b[1;32mTrue\u001b[0m\u001b[1;33m,\u001b[0m\u001b[1;33m\n",
       "\u001b[0m    \u001b[0mnan_policy\u001b[0m\u001b[1;33m=\u001b[0m\u001b[1;34m'propagate'\u001b[0m\u001b[1;33m,\u001b[0m\u001b[1;33m\n",
       "\u001b[0m    \u001b[0mpermutations\u001b[0m\u001b[1;33m=\u001b[0m\u001b[1;32mNone\u001b[0m\u001b[1;33m,\u001b[0m\u001b[1;33m\n",
       "\u001b[0m    \u001b[0mrandom_state\u001b[0m\u001b[1;33m=\u001b[0m\u001b[1;32mNone\u001b[0m\u001b[1;33m,\u001b[0m\u001b[1;33m\n",
       "\u001b[0m    \u001b[0malternative\u001b[0m\u001b[1;33m=\u001b[0m\u001b[1;34m'two-sided'\u001b[0m\u001b[1;33m,\u001b[0m\u001b[1;33m\n",
       "\u001b[0m    \u001b[0mtrim\u001b[0m\u001b[1;33m=\u001b[0m\u001b[1;36m0\u001b[0m\u001b[1;33m,\u001b[0m\u001b[1;33m\n",
       "\u001b[0m    \u001b[1;33m*\u001b[0m\u001b[1;33m,\u001b[0m\u001b[1;33m\n",
       "\u001b[0m    \u001b[0mkeepdims\u001b[0m\u001b[1;33m=\u001b[0m\u001b[1;32mFalse\u001b[0m\u001b[1;33m,\u001b[0m\u001b[1;33m\n",
       "\u001b[0m\u001b[1;33m)\u001b[0m\u001b[1;33m\u001b[0m\u001b[1;33m\u001b[0m\u001b[0m\n",
       "\u001b[1;31mDocstring:\u001b[0m\n",
       "Calculate the T-test for the means of *two independent* samples of scores.\n",
       "\n",
       "This is a test for the null hypothesis that 2 independent samples\n",
       "have identical average (expected) values. This test assumes that the\n",
       "populations have identical variances by default.\n",
       "\n",
       "Parameters\n",
       "----------\n",
       "a, b : array_like\n",
       "    The arrays must have the same shape, except in the dimension\n",
       "    corresponding to `axis` (the first, by default).\n",
       "axis : int or None, default: 0\n",
       "    If an int, the axis of the input along which to compute the statistic.\n",
       "    The statistic of each axis-slice (e.g. row) of the input will appear in a\n",
       "    corresponding element of the output.\n",
       "    If ``None``, the input will be raveled before computing the statistic.\n",
       "equal_var : bool, optional\n",
       "    If True (default), perform a standard independent 2 sample test\n",
       "    that assumes equal population variances [1]_.\n",
       "    If False, perform Welch's t-test, which does not assume equal\n",
       "    population variance [2]_.\n",
       "    \n",
       "    .. versionadded:: 0.11.0\n",
       "nan_policy : {'propagate', 'omit', 'raise'}\n",
       "    Defines how to handle input NaNs.\n",
       "    \n",
       "    - ``propagate``: if a NaN is present in the axis slice (e.g. row) along\n",
       "      which the  statistic is computed, the corresponding entry of the output\n",
       "      will be NaN.\n",
       "    - ``omit``: NaNs will be omitted when performing the calculation.\n",
       "      If insufficient data remains in the axis slice along which the\n",
       "      statistic is computed, the corresponding entry of the output will be\n",
       "      NaN.\n",
       "    - ``raise``: if a NaN is present, a ``ValueError`` will be raised.\n",
       "permutations : non-negative int, np.inf, or None (default), optional\n",
       "    If 0 or None (default), use the t-distribution to calculate p-values.\n",
       "    Otherwise, `permutations` is  the number of random permutations that\n",
       "    will be used to estimate p-values using a permutation test. If\n",
       "    `permutations` equals or exceeds the number of distinct partitions of\n",
       "    the pooled data, an exact test is performed instead (i.e. each\n",
       "    distinct partition is used exactly once). See Notes for details.\n",
       "    \n",
       "    .. versionadded:: 1.7.0\n",
       "random_state : {None, int, `numpy.random.Generator`,\n",
       "        `numpy.random.RandomState`}, optional\n",
       "    \n",
       "    If `seed` is None (or `np.random`), the `numpy.random.RandomState`\n",
       "    singleton is used.\n",
       "    If `seed` is an int, a new ``RandomState`` instance is used,\n",
       "    seeded with `seed`.\n",
       "    If `seed` is already a ``Generator`` or ``RandomState`` instance then\n",
       "    that instance is used.\n",
       "    \n",
       "    Pseudorandom number generator state used to generate permutations\n",
       "    (used only when `permutations` is not None).\n",
       "    \n",
       "    .. versionadded:: 1.7.0\n",
       "alternative : {'two-sided', 'less', 'greater'}, optional\n",
       "    Defines the alternative hypothesis.\n",
       "    The following options are available (default is 'two-sided'):\n",
       "    \n",
       "    * 'two-sided': the means of the distributions underlying the samples\n",
       "      are unequal.\n",
       "    * 'less': the mean of the distribution underlying the first sample\n",
       "      is less than the mean of the distribution underlying the second\n",
       "      sample.\n",
       "    * 'greater': the mean of the distribution underlying the first\n",
       "      sample is greater than the mean of the distribution underlying\n",
       "      the second sample.\n",
       "    \n",
       "    .. versionadded:: 1.6.0\n",
       "trim : float, optional\n",
       "    If nonzero, performs a trimmed (Yuen's) t-test.\n",
       "    Defines the fraction of elements to be trimmed from each end of the\n",
       "    input samples. If 0 (default), no elements will be trimmed from either\n",
       "    side. The number of trimmed elements from each tail is the floor of the\n",
       "    trim times the number of elements. Valid range is [0, .5).\n",
       "    \n",
       "    .. versionadded:: 1.7\n",
       "keepdims : bool, default: False\n",
       "    If this is set to True, the axes which are reduced are left\n",
       "    in the result as dimensions with size one. With this option,\n",
       "    the result will broadcast correctly against the input array.\n",
       "\n",
       "Returns\n",
       "-------\n",
       "result : `~scipy.stats._result_classes.TtestResult`\n",
       "    An object with the following attributes:\n",
       "    \n",
       "    statistic : float or ndarray\n",
       "        The t-statistic.\n",
       "    pvalue : float or ndarray\n",
       "        The p-value associated with the given alternative.\n",
       "    df : float or ndarray\n",
       "        The number of degrees of freedom used in calculation of the\n",
       "        t-statistic. This is always NaN for a permutation t-test.\n",
       "    \n",
       "        .. versionadded:: 1.11.0\n",
       "    \n",
       "    The object also has the following method:\n",
       "    \n",
       "    confidence_interval(confidence_level=0.95)\n",
       "        Computes a confidence interval around the difference in\n",
       "        population means for the given confidence level.\n",
       "        The confidence interval is returned in a ``namedtuple`` with\n",
       "        fields ``low`` and ``high``.\n",
       "        When a permutation t-test is performed, the confidence interval\n",
       "        is not computed, and fields ``low`` and ``high`` contain NaN.\n",
       "    \n",
       "        .. versionadded:: 1.11.0\n",
       "\n",
       "Notes\n",
       "-----\n",
       "Suppose we observe two independent samples, e.g. flower petal lengths, and\n",
       "we are considering whether the two samples were drawn from the same\n",
       "population (e.g. the same species of flower or two species with similar\n",
       "petal characteristics) or two different populations.\n",
       "\n",
       "The t-test quantifies the difference between the arithmetic means\n",
       "of the two samples. The p-value quantifies the probability of observing\n",
       "as or more extreme values assuming the null hypothesis, that the\n",
       "samples are drawn from populations with the same population means, is true.\n",
       "A p-value larger than a chosen threshold (e.g. 5% or 1%) indicates that\n",
       "our observation is not so unlikely to have occurred by chance. Therefore,\n",
       "we do not reject the null hypothesis of equal population means.\n",
       "If the p-value is smaller than our threshold, then we have evidence\n",
       "against the null hypothesis of equal population means.\n",
       "\n",
       "By default, the p-value is determined by comparing the t-statistic of the\n",
       "observed data against a theoretical t-distribution.\n",
       "When ``1 < permutations < binom(n, k)``, where\n",
       "\n",
       "* ``k`` is the number of observations in `a`,\n",
       "* ``n`` is the total number of observations in `a` and `b`, and\n",
       "* ``binom(n, k)`` is the binomial coefficient (``n`` choose ``k``),\n",
       "\n",
       "the data are pooled (concatenated), randomly assigned to either group `a`\n",
       "or `b`, and the t-statistic is calculated. This process is performed\n",
       "repeatedly (`permutation` times), generating a distribution of the\n",
       "t-statistic under the null hypothesis, and the t-statistic of the observed\n",
       "data is compared to this distribution to determine the p-value.\n",
       "Specifically, the p-value reported is the \"achieved significance level\"\n",
       "(ASL) as defined in 4.4 of [3]_. Note that there are other ways of\n",
       "estimating p-values using randomized permutation tests; for other\n",
       "options, see the more general `permutation_test`.\n",
       "\n",
       "When ``permutations >= binom(n, k)``, an exact test is performed: the data\n",
       "are partitioned between the groups in each distinct way exactly once.\n",
       "\n",
       "The permutation test can be computationally expensive and not necessarily\n",
       "more accurate than the analytical test, but it does not make strong\n",
       "assumptions about the shape of the underlying distribution.\n",
       "\n",
       "Use of trimming is commonly referred to as the trimmed t-test. At times\n",
       "called Yuen's t-test, this is an extension of Welch's t-test, with the\n",
       "difference being the use of winsorized means in calculation of the variance\n",
       "and the trimmed sample size in calculation of the statistic. Trimming is\n",
       "recommended if the underlying distribution is long-tailed or contaminated\n",
       "with outliers [4]_.\n",
       "\n",
       "The statistic is calculated as ``(np.mean(a) - np.mean(b))/se``, where\n",
       "``se`` is the standard error. Therefore, the statistic will be positive\n",
       "when the sample mean of `a` is greater than the sample mean of `b` and\n",
       "negative when the sample mean of `a` is less than the sample mean of\n",
       "`b`.\n",
       "\n",
       "Beginning in SciPy 1.9, ``np.matrix`` inputs (not recommended for new\n",
       "code) are converted to ``np.ndarray`` before the calculation is performed. In\n",
       "this case, the output will be a scalar or ``np.ndarray`` of appropriate shape\n",
       "rather than a 2D ``np.matrix``. Similarly, while masked elements of masked\n",
       "arrays are ignored, the output will be a scalar or ``np.ndarray`` rather than a\n",
       "masked array with ``mask=False``.\n",
       "\n",
       "References\n",
       "----------\n",
       ".. [1] https://en.wikipedia.org/wiki/T-test#Independent_two-sample_t-test\n",
       "\n",
       ".. [2] https://en.wikipedia.org/wiki/Welch%27s_t-test\n",
       "\n",
       ".. [3] B. Efron and T. Hastie. Computer Age Statistical Inference. (2016).\n",
       "\n",
       ".. [4] Yuen, Karen K. \"The Two-Sample Trimmed t for Unequal Population\n",
       "       Variances.\" Biometrika, vol. 61, no. 1, 1974, pp. 165-170. JSTOR,\n",
       "       www.jstor.org/stable/2334299. Accessed 30 Mar. 2021.\n",
       "\n",
       ".. [5] Yuen, Karen K., and W. J. Dixon. \"The Approximate Behaviour and\n",
       "       Performance of the Two-Sample Trimmed t.\" Biometrika, vol. 60,\n",
       "       no. 2, 1973, pp. 369-374. JSTOR, www.jstor.org/stable/2334550.\n",
       "       Accessed 30 Mar. 2021.\n",
       "\n",
       "Examples\n",
       "--------\n",
       ">>> import numpy as np\n",
       ">>> from scipy import stats\n",
       ">>> rng = np.random.default_rng()\n",
       "\n",
       "Test with sample with identical means:\n",
       "\n",
       ">>> rvs1 = stats.norm.rvs(loc=5, scale=10, size=500, random_state=rng)\n",
       ">>> rvs2 = stats.norm.rvs(loc=5, scale=10, size=500, random_state=rng)\n",
       ">>> stats.ttest_ind(rvs1, rvs2)\n",
       "Ttest_indResult(statistic=-0.4390847099199348, pvalue=0.6606952038870015)\n",
       ">>> stats.ttest_ind(rvs1, rvs2, equal_var=False)\n",
       "Ttest_indResult(statistic=-0.4390847099199348, pvalue=0.6606952553131064)\n",
       "\n",
       "`ttest_ind` underestimates p for unequal variances:\n",
       "\n",
       ">>> rvs3 = stats.norm.rvs(loc=5, scale=20, size=500, random_state=rng)\n",
       ">>> stats.ttest_ind(rvs1, rvs3)\n",
       "Ttest_indResult(statistic=-1.6370984482905417, pvalue=0.1019251574705033)\n",
       ">>> stats.ttest_ind(rvs1, rvs3, equal_var=False)\n",
       "Ttest_indResult(statistic=-1.637098448290542, pvalue=0.10202110497954867)\n",
       "\n",
       "When ``n1 != n2``, the equal variance t-statistic is no longer equal to the\n",
       "unequal variance t-statistic:\n",
       "\n",
       ">>> rvs4 = stats.norm.rvs(loc=5, scale=20, size=100, random_state=rng)\n",
       ">>> stats.ttest_ind(rvs1, rvs4)\n",
       "Ttest_indResult(statistic=-1.9481646859513422, pvalue=0.05186270935842703)\n",
       ">>> stats.ttest_ind(rvs1, rvs4, equal_var=False)\n",
       "Ttest_indResult(statistic=-1.3146566100751664, pvalue=0.1913495266513811)\n",
       "\n",
       "T-test with different means, variance, and n:\n",
       "\n",
       ">>> rvs5 = stats.norm.rvs(loc=8, scale=20, size=100, random_state=rng)\n",
       ">>> stats.ttest_ind(rvs1, rvs5)\n",
       "Ttest_indResult(statistic=-2.8415950600298774, pvalue=0.0046418707568707885)\n",
       ">>> stats.ttest_ind(rvs1, rvs5, equal_var=False)\n",
       "Ttest_indResult(statistic=-1.8686598649188084, pvalue=0.06434714193919686)\n",
       "\n",
       "When performing a permutation test, more permutations typically yields\n",
       "more accurate results. Use a ``np.random.Generator`` to ensure\n",
       "reproducibility:\n",
       "\n",
       ">>> stats.ttest_ind(rvs1, rvs5, permutations=10000,\n",
       "...                 random_state=rng)\n",
       "Ttest_indResult(statistic=-2.8415950600298774, pvalue=0.0052994700529947)\n",
       "\n",
       "Take these two samples, one of which has an extreme tail.\n",
       "\n",
       ">>> a = (56, 128.6, 12, 123.8, 64.34, 78, 763.3)\n",
       ">>> b = (1.1, 2.9, 4.2)\n",
       "\n",
       "Use the `trim` keyword to perform a trimmed (Yuen) t-test. For example,\n",
       "using 20% trimming, ``trim=.2``, the test will reduce the impact of one\n",
       "(``np.floor(trim*len(a))``) element from each tail of sample `a`. It will\n",
       "have no effect on sample `b` because ``np.floor(trim*len(b))`` is 0.\n",
       "\n",
       ">>> stats.ttest_ind(a, b, trim=.2)\n",
       "Ttest_indResult(statistic=3.4463884028073513,\n",
       "                pvalue=0.01369338726499547)\n",
       "\u001b[1;31mFile:\u001b[0m      c:\\users\\cecilianatalie.strom\\bin\\conda\\lib\\site-packages\\scipy\\stats\\_stats_py.py\n",
       "\u001b[1;31mType:\u001b[0m      function"
      ]
     },
     "metadata": {},
     "output_type": "display_data"
    }
   ],
   "source": [
    "?stats.ttest_ind"
   ]
  },
  {
   "cell_type": "markdown",
   "id": "0d456c0b-fbda-46f9-bdf9-93a66b0ed698",
   "metadata": {
    "jp-MarkdownHeadingCollapsed": true,
    "tags": []
   },
   "source": [
    "# US CONS List #"
   ]
  },
  {
   "cell_type": "code",
   "execution_count": null,
   "id": "456c622c-e3df-42cf-8ff2-c203a467c76b",
   "metadata": {},
   "outputs": [],
   "source": [
    "data = cons.copy()\n",
    "#get column names\n",
    "print(data.columns)\n",
    "print(data.describe())\n",
    "print(data.schema.unique())\n",
    "print(data.month.unique())\n",
    "print(data.month.nunique())\n",
    "\n",
    "print(data.date_stamp.unique())\n",
    "print(data.date_stamp.nunique())\n",
    "# receive information on missing values/ null values\n",
    "is_null = data.isnull().sum()\n",
    "print(is_null)"
   ]
  },
  {
   "cell_type": "code",
   "execution_count": null,
   "id": "617c789a-bd7e-4efa-ad1d-8431ec1692b3",
   "metadata": {
    "tags": []
   },
   "outputs": [],
   "source": [
    "#get the listings per month\n",
    "listings_us_cons = sns.lineplot(data=cons,x='month_id',y='new_listing_count')\n",
    "listings_us_cons"
   ]
  },
  {
   "cell_type": "markdown",
   "id": "af75d767-f876-4427-a3f6-d7d3c54dbd70",
   "metadata": {},
   "source": [
    "**BIS denied Persons lists**"
   ]
  },
  {
   "cell_type": "code",
   "execution_count": null,
   "id": "fa98628f-b053-4335-99a2-5b246ad0085c",
   "metadata": {},
   "outputs": [],
   "source": [
    "data = bis.copy()\n",
    "#get column names\n",
    "print(data.columns)\n",
    "print(data.describe())\n",
    "print(data.schema.unique())\n",
    "print(data.month.unique())\n",
    "print(data.month.nunique())\n",
    "\n",
    "print(data.date_stamp.unique())\n",
    "print(data.date_stamp.nunique())\n",
    "# receive information on missing values/ null values\n",
    "is_null = data.isnull().sum()\n",
    "print(is_null)"
   ]
  },
  {
   "cell_type": "code",
   "execution_count": null,
   "id": "42286e25-0c73-4efe-8ee8-1cfcf2104869",
   "metadata": {
    "tags": []
   },
   "outputs": [],
   "source": [
    "#get the listings per month\n",
    "bis = bis.groupby(['month','listing_count']).sum().reset_index()\n",
    "listings_us_bis = sns.lineplot(data=bis,x='month',y='new_listing_count')\n",
    "listings_us_bis"
   ]
  },
  {
   "cell_type": "code",
   "execution_count": null,
   "id": "e24290e3-6087-4278-ae3a-1b00f18b0eaa",
   "metadata": {
    "tags": []
   },
   "outputs": [],
   "source": [
    "# filter for russia"
   ]
  },
  {
   "cell_type": "code",
   "execution_count": null,
   "id": "dc1e8e74-dc4e-40a6-a080-e8f232f670da",
   "metadata": {
    "tags": []
   },
   "outputs": [],
   "source": [
    "us.iso.unique()"
   ]
  },
  {
   "cell_type": "code",
   "execution_count": null,
   "id": "32ef728d-254e-4d73-8bfd-74b38e0d7082",
   "metadata": {
    "tags": []
   },
   "outputs": [],
   "source": [
    "df_russia = us[us['iso']=='RUS']\n",
    "df_russia"
   ]
  },
  {
   "cell_type": "code",
   "execution_count": null,
   "id": "bffbe17e-6874-4f12-961f-c4f022436c58",
   "metadata": {},
   "outputs": [],
   "source": []
  }
 ],
 "metadata": {
  "kernelspec": {
   "display_name": "Python 3 (ipykernel)",
   "language": "python",
   "name": "python3"
  },
  "language_info": {
   "codemirror_mode": {
    "name": "ipython",
    "version": 3
   },
   "file_extension": ".py",
   "mimetype": "text/x-python",
   "name": "python",
   "nbconvert_exporter": "python",
   "pygments_lexer": "ipython3",
   "version": "3.11.5"
  }
 },
 "nbformat": 4,
 "nbformat_minor": 5
}
