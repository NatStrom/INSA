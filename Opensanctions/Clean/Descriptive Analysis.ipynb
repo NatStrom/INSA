{
 "cells": [
  {
   "cell_type": "code",
   "execution_count": null,
   "id": "99b6fe2d-849b-46a1-9094-88b5b71e5798",
   "metadata": {},
   "outputs": [],
   "source": [
    "#load all the relevant packages\n",
    "import pandas as pd\n",
    "import numpy as np\n",
    "import os\n",
    "import seaborn as sns\n",
    "import matplotlib as mlt"
   ]
  },
  {
   "cell_type": "code",
   "execution_count": null,
   "id": "8b1c26af-3b6c-41fe-a8e8-89d4898cd355",
   "metadata": {},
   "outputs": [],
   "source": [
    "us = pd.read_csv('Clean/us_ofac_sdn.csv',low_memory=False)\n",
    "eu = pd.read_csv('Clean/eu_fsf.csv',low_memory=False)\n",
    "sanctions_map = pd.read_csv('Clean/eu_sanctions_map.csv',low_memory=False)\n",
    "bis = pd.read_csv('Clean/us_bis_denied.csv',low_memory=False)\n",
    "cons = pd.read_csv('Clean/ofac_cons.csv',low_memory=False)"
   ]
  },
  {
   "cell_type": "code",
   "execution_count": null,
   "id": "823423be-af2d-4dda-b451-5f12aec4a099",
   "metadata": {},
   "outputs": [],
   "source": [
    "data = us.copy()\n",
    "#get column names\n",
    "print(data.columns)\n",
    "print(data.describe())\n",
    "print(data.schema.unique())\n",
    "print(data.month.unique())\n",
    "print(data.month.nunique())\n",
    "\n",
    "print(data.date_stamp.unique())\n",
    "print(data.date_stamp.nunique())\n",
    "# receive information on missing values/ null values\n",
    "is_null = data.isnull().sum()\n",
    "print(is_null)"
   ]
  },
  {
   "cell_type": "code",
   "execution_count": null,
   "id": "84e8d446-490e-4c14-8fe1-7b5017f80fb9",
   "metadata": {},
   "outputs": [],
   "source": [
    "#get the listings per month\n",
    "listings_us = sns.lineplot(data=data,x='month',y='listing_count')\n",
    "listings_us"
   ]
  },
  {
   "cell_type": "code",
   "execution_count": null,
   "id": "32ef728d-254e-4d73-8bfd-74b38e0d7082",
   "metadata": {},
   "outputs": [],
   "source": [
    "df_russia = data(data['country'] == 'RUS')"
   ]
  }
 ],
 "metadata": {
  "kernelspec": {
   "display_name": "Python 3 (ipykernel)",
   "language": "python",
   "name": "python3"
  },
  "language_info": {
   "codemirror_mode": {
    "name": "ipython",
    "version": 3
   },
   "file_extension": ".py",
   "mimetype": "text/x-python",
   "name": "python",
   "nbconvert_exporter": "python",
   "pygments_lexer": "ipython3",
   "version": "3.11.5"
  }
 },
 "nbformat": 4,
 "nbformat_minor": 5
}
