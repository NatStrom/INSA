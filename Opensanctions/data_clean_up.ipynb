{
 "cells": [
  {
   "cell_type": "markdown",
   "id": "8bb662ab-81de-4e06-bafa-1094ea57b757",
   "metadata": {},
   "source": [
    "**clean up of the individual and the combined files**"
   ]
  },
  {
   "cell_type": "code",
   "execution_count": null,
   "id": "4c0af79b-077e-4d06-aca6-ef2023075aeb",
   "metadata": {},
   "outputs": [],
   "source": [
    "#load all the relevant packages\n",
    "import pandas as pd\n",
    "import numpy as np\n",
    "import os\n",
    "import pycountry\n",
    "import re\n",
    "import datetime\n",
    "import seaborn as sns\n",
    "import matplotlib as mlt"
   ]
  },
  {
   "cell_type": "markdown",
   "id": "661ca5f9-9fa6-41a0-97b7-33ab4d16730f",
   "metadata": {},
   "source": [
    "# load the dataframe"
   ]
  },
  {
   "cell_type": "code",
   "execution_count": null,
   "id": "ea468ae8-8c3b-425d-815e-6112a1b5fe69",
   "metadata": {},
   "outputs": [],
   "source": [
    "df = pd.read_csv('df.csv',low_memory=False)\n",
    "df"
   ]
  },
  {
   "cell_type": "markdown",
   "id": "dcf41dfd-14d3-402f-8853-c0fa7593d337",
   "metadata": {},
   "source": [
    "# clean up country and iso columns"
   ]
  },
  {
   "cell_type": "code",
   "execution_count": null,
   "id": "2df7e0df-f52f-44c7-a1f9-4966f8672656",
   "metadata": {},
   "outputs": [],
   "source": [
    "#split the different country values\n",
    "dta_clean = df.'countries.str.split\n",
    "df[[\"City\", \"State\"]] = df.Location.str.split(\";\", expand=True)"
   ]
  },
  {
   "cell_type": "code",
   "execution_count": null,
   "id": "0ea23444-873c-4f95-8e1c-598789150e21",
   "metadata": {},
   "outputs": [],
   "source": [
    "#create the country names from iso2 codes\n",
    "#load a list that can be compared"
   ]
  },
  {
   "cell_type": "code",
   "execution_count": null,
   "id": "334c2d78-c9c7-47bb-871e-d61e9175697a",
   "metadata": {},
   "outputs": [],
   "source": [
    "#create iso 3 codes from country names\n",
    "def findCountryAlpha3 (country_name):\n",
    "    \"\"\"Producing current iso alpha 3 codes from standardized country names\"\"\"\n",
    "    try:\n",
    "        return pycountry.countries.get(name=country_name).alpha_3\n",
    "    except:\n",
    "        return ('')\n",
    "\n",
    "##create iso codes\n",
    "dta_clean['iso'] = dta_clean.apply(lambda row: findCountryAlpha3(row.country), axis=1)\n",
    "\n",
    "##check the uniqueness and coverage of the iso codes\n",
    "inspect = dta_clean[dta_clean['iso'].isna()]\n",
    "print(inspect['iso'].unique())\n",
    "\n",
    "list_iso = list(dta_clean.iso)\n",
    "list_iso = list( dict.fromkeys(list_iso) )\n",
    "display(list_iso)\n",
    "display(inspect)\n",
    "#inspect the iso codes and ensure their correctness\n",
    "iso = dta_clean[dta_clean['iso'] == '']\n",
    "display(iso)"
   ]
  },
  {
   "cell_type": "code",
   "execution_count": null,
   "id": "ae00ae1e-0e70-4806-854c-d08bc34bc90b",
   "metadata": {},
   "outputs": [],
   "source": [
    "#check for completeness"
   ]
  },
  {
   "cell_type": "markdown",
   "id": "3abf2645-e7a0-46ae-ad4b-54e28fb3fc67",
   "metadata": {},
   "source": [
    "# clean up the sanctions column"
   ]
  },
  {
   "cell_type": "code",
   "execution_count": null,
   "id": "837b4e48-ae4c-40fe-8b44-26efb9cb6162",
   "metadata": {},
   "outputs": [],
   "source": []
  },
  {
   "cell_type": "markdown",
   "id": "45411f21-7e42-4893-8c88-152dc305525d",
   "metadata": {},
   "source": [
    "# create year and month ids"
   ]
  },
  {
   "cell_type": "code",
   "execution_count": null,
   "id": "86ca07b1-7a34-4848-9186-de798ad1c023",
   "metadata": {},
   "outputs": [],
   "source": []
  },
  {
   "cell_type": "markdown",
   "id": "310d7edd-ab91-4f9a-a9e2-870d8a9506eb",
   "metadata": {},
   "source": [
    "# get descriptive statistics of the dataframe"
   ]
  },
  {
   "cell_type": "code",
   "execution_count": null,
   "id": "fbc0f099-6925-4756-92f7-d2cccfb43b3c",
   "metadata": {},
   "outputs": [],
   "source": [
    "# frequency\n",
    "#individual values etc"
   ]
  },
  {
   "cell_type": "markdown",
   "id": "6a8172af-c818-471e-945b-fd418192d75d",
   "metadata": {},
   "source": [
    "# filter for russia"
   ]
  },
  {
   "cell_type": "code",
   "execution_count": null,
   "id": "172c3fd2-cb6a-4ba1-bdbe-0cb6736ca5fa",
   "metadata": {},
   "outputs": [],
   "source": [
    "df_russia = dta_clean(dta_clean['country'] == 'RUS')"
   ]
  }
 ],
 "metadata": {
  "kernelspec": {
   "display_name": "Python 3 (ipykernel)",
   "language": "python",
   "name": "python3"
  },
  "language_info": {
   "codemirror_mode": {
    "name": "ipython",
    "version": 3
   },
   "file_extension": ".py",
   "mimetype": "text/x-python",
   "name": "python",
   "nbconvert_exporter": "python",
   "pygments_lexer": "ipython3",
   "version": "3.11.5"
  }
 },
 "nbformat": 4,
 "nbformat_minor": 5
}
