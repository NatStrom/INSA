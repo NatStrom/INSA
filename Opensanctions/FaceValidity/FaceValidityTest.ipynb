{
 "cells": [
  {
   "cell_type": "markdown",
   "id": "dcadaffe-d6df-453a-b1b6-169b3d3a988a",
   "metadata": {},
   "source": [
    "# Face Validity Test Opensanctions Data\n",
    "\n",
    "1. load the data\n",
    "2. create a dictionary of the names and listing dates and import the opensanctions dataframe\n",
    "3. filter for designations related to ukraine and repeat the process\n",
    "4. match the two dictionaries and print differences"
   ]
  },
  {
   "cell_type": "code",
   "execution_count": 1,
   "id": "09b82bfc-d6fb-42b4-8f4b-877afc2db654",
   "metadata": {
    "tags": []
   },
   "outputs": [
    {
     "name": "stdout",
     "output_type": "stream",
     "text": [
      "C:\\Users\\cecilianatalie.strom\\GitHub\\INSA\\Opensanctions\\FaceValidity\n"
     ]
    }
   ],
   "source": [
    "import pandas as pd\n",
    "import os\n",
    "print(os.getcwd())"
   ]
  },
  {
   "cell_type": "code",
   "execution_count": 2,
   "id": "b13597d7-90e3-45c1-9556-6addf28d4d1d",
   "metadata": {
    "tags": []
   },
   "outputs": [],
   "source": [
    "data = pd.read_csv('Decision_act.csv')"
   ]
  },
  {
   "cell_type": "code",
   "execution_count": 3,
   "id": "c643cdcd-cb12-4e5f-a388-5712c66acaf4",
   "metadata": {
    "tags": []
   },
   "outputs": [
    {
     "data": {
      "text/html": [
       "<div>\n",
       "<style scoped>\n",
       "    .dataframe tbody tr th:only-of-type {\n",
       "        vertical-align: middle;\n",
       "    }\n",
       "\n",
       "    .dataframe tbody tr th {\n",
       "        vertical-align: top;\n",
       "    }\n",
       "\n",
       "    .dataframe thead th {\n",
       "        text-align: right;\n",
       "    }\n",
       "</style>\n",
       "<table border=\"1\" class=\"dataframe\">\n",
       "  <thead>\n",
       "    <tr style=\"text-align: right;\">\n",
       "      <th></th>\n",
       "      <th>Unnamed: 0</th>\n",
       "      <th>Name</th>\n",
       "      <th>Listing Number</th>\n",
       "      <th>Date of Listing</th>\n",
       "    </tr>\n",
       "  </thead>\n",
       "  <tbody>\n",
       "    <tr>\n",
       "      <th>0</th>\n",
       "      <td>1</td>\n",
       "      <td>Sardana Vladimirovna AVKSENTYEVA, née GOGOLEVA</td>\n",
       "      <td>‘572.</td>\n",
       "      <td>25.2.2022</td>\n",
       "    </tr>\n",
       "    <tr>\n",
       "      <th>1</th>\n",
       "      <td>2</td>\n",
       "      <td>Olga Nikolayevna ALIMOVA</td>\n",
       "      <td>573.</td>\n",
       "      <td>25.2.2022</td>\n",
       "    </tr>\n",
       "    <tr>\n",
       "      <th>2</th>\n",
       "      <td>3</td>\n",
       "      <td>Georgy Konstantinovich ARAPOV</td>\n",
       "      <td>574.</td>\n",
       "      <td>25.2.2022</td>\n",
       "    </tr>\n",
       "    <tr>\n",
       "      <th>3</th>\n",
       "      <td>4</td>\n",
       "      <td>Otari Yonovich ARSHBA</td>\n",
       "      <td>575.</td>\n",
       "      <td>25.2.2022</td>\n",
       "    </tr>\n",
       "    <tr>\n",
       "      <th>4</th>\n",
       "      <td>5</td>\n",
       "      <td>Alexander Mikhailovich BABAKOV</td>\n",
       "      <td>576.</td>\n",
       "      <td>25.2.2022</td>\n",
       "    </tr>\n",
       "    <tr>\n",
       "      <th>...</th>\n",
       "      <td>...</td>\n",
       "      <td>...</td>\n",
       "      <td>...</td>\n",
       "      <td>...</td>\n",
       "    </tr>\n",
       "    <tr>\n",
       "      <th>94</th>\n",
       "      <td>95</td>\n",
       "      <td>Igor Viktorovich DEMIDENKO</td>\n",
       "      <td>666.</td>\n",
       "      <td>25.2.2022</td>\n",
       "    </tr>\n",
       "    <tr>\n",
       "      <th>95</th>\n",
       "      <td>96</td>\n",
       "      <td>Yuri Vitoldovich SHULEYKO</td>\n",
       "      <td>667.</td>\n",
       "      <td>25.2.2022</td>\n",
       "    </tr>\n",
       "    <tr>\n",
       "      <th>96</th>\n",
       "      <td>97</td>\n",
       "      <td>Ivan Ivanovich KRUPKO</td>\n",
       "      <td>668.</td>\n",
       "      <td>25.2.2022</td>\n",
       "    </tr>\n",
       "    <tr>\n",
       "      <th>97</th>\n",
       "      <td>98</td>\n",
       "      <td>Vladimir Vladimirovich PUTIN*</td>\n",
       "      <td>669.</td>\n",
       "      <td>25.2.2022</td>\n",
       "    </tr>\n",
       "    <tr>\n",
       "      <th>98</th>\n",
       "      <td>99</td>\n",
       "      <td>Sergey Viktorovich LAVROV*</td>\n",
       "      <td>670.</td>\n",
       "      <td>25.2.2022’</td>\n",
       "    </tr>\n",
       "  </tbody>\n",
       "</table>\n",
       "<p>99 rows × 4 columns</p>\n",
       "</div>"
      ],
      "text/plain": [
       "    Unnamed: 0                                            Name Listing Number  \\\n",
       "0            1  Sardana Vladimirovna AVKSENTYEVA, née GOGOLEVA          ‘572.   \n",
       "1            2                        Olga Nikolayevna ALIMOVA           573.   \n",
       "2            3                   Georgy Konstantinovich ARAPOV           574.   \n",
       "3            4                           Otari Yonovich ARSHBA           575.   \n",
       "4            5                  Alexander Mikhailovich BABAKOV           576.   \n",
       "..         ...                                             ...            ...   \n",
       "94          95                      Igor Viktorovich DEMIDENKO           666.   \n",
       "95          96                       Yuri Vitoldovich SHULEYKO           667.   \n",
       "96          97                           Ivan Ivanovich KRUPKO           668.   \n",
       "97          98                   Vladimir Vladimirovich PUTIN*           669.   \n",
       "98          99                      Sergey Viktorovich LAVROV*           670.   \n",
       "\n",
       "   Date of Listing  \n",
       "0        25.2.2022  \n",
       "1        25.2.2022  \n",
       "2        25.2.2022  \n",
       "3        25.2.2022  \n",
       "4        25.2.2022  \n",
       "..             ...  \n",
       "94       25.2.2022  \n",
       "95       25.2.2022  \n",
       "96       25.2.2022  \n",
       "97       25.2.2022  \n",
       "98      25.2.2022’  \n",
       "\n",
       "[99 rows x 4 columns]"
      ]
     },
     "execution_count": 3,
     "metadata": {},
     "output_type": "execute_result"
    }
   ],
   "source": [
    "data"
   ]
  },
  {
   "cell_type": "code",
   "execution_count": 4,
   "id": "1689a6cb-902b-461f-8966-a41b17d4f031",
   "metadata": {
    "tags": []
   },
   "outputs": [
    {
     "data": {
      "text/plain": [
       "Unnamed: 0          int64\n",
       "Name               object\n",
       "Listing Number     object\n",
       "Date of Listing    object\n",
       "dtype: object"
      ]
     },
     "execution_count": 4,
     "metadata": {},
     "output_type": "execute_result"
    }
   ],
   "source": [
    "data.dtypes"
   ]
  },
  {
   "cell_type": "code",
   "execution_count": 5,
   "id": "4e8210f0-dcdb-4269-a4f8-0482e326600d",
   "metadata": {
    "tags": []
   },
   "outputs": [
    {
     "name": "stdout",
     "output_type": "stream",
     "text": [
      "   Unnamed: 0                         id  schema                       name  \\\n",
      "0        8349  NK-DpZGQdUN8oa3KoxNpyykMc  Person  Sergej Jurjevitj KOZIAKOV   \n",
      "1        8352  NK-DpZGQdUN8oa3KoxNpyykMc  Person  Sergej Jurjevitj KOZIAKOV   \n",
      "2        8354  NK-DpZGQdUN8oa3KoxNpyykMc  Person  Sergej Jurjevitj KOZIAKOV   \n",
      "3        8356  NK-DpZGQdUN8oa3KoxNpyykMc  Person  Sergej Jurjevitj KOZIAKOV   \n",
      "4        8368  NK-DpZGQdUN8oa3KoxNpyykMc  Person  Sergej Jurjevitj KOZIAKOV   \n",
      "\n",
      "                                             aliases  \\\n",
      "0  Sergey Yurievich KOZYAKOV;Serhij Jurijovytj KO...   \n",
      "1  Sergey Yurievich KOZYAKOV;Serhij Jurijovytj KO...   \n",
      "2  Sergey Yurievich KOZYAKOV;Serhij Jurijovytj KO...   \n",
      "3  Sergey Yurievich KOZYAKOV;Serhij Jurijovytj KO...   \n",
      "4  Sergey Yurievich KOZYAKOV;Serhij Jurijovytj KO...   \n",
      "\n",
      "                   birth_date countries addresses identifiers  \\\n",
      "0  1982;1982-09-23;1982-09-29       NaN       NaN         NaN   \n",
      "1  1982;1982-09-23;1982-09-29       NaN       NaN         NaN   \n",
      "2  1982;1982-09-23;1982-09-29       NaN       NaN         NaN   \n",
      "3  1982;1982-09-23;1982-09-29       NaN       NaN         NaN   \n",
      "4  1982;1982-09-23;1982-09-29       NaN       NaN         NaN   \n",
      "\n",
      "                              sanctions  ... listing_date delisting_date  \\\n",
      "0  UKR - 2021/446 (OJ L87) - 2021-03-16  ...     20211004            NaN   \n",
      "1  UKR - 2021/446 (OJ L87) - 2021-03-16  ...     20211004            NaN   \n",
      "2  UKR - 2021/446 (OJ L87) - 2021-03-16  ...     20211004            NaN   \n",
      "3  UKR - 2021/446 (OJ L87) - 2021-03-16  ...     20211004            NaN   \n",
      "4  UKR - 2021/446 (OJ L87) - 2021-03-16  ...     20211004            NaN   \n",
      "\n",
      "     month  new_listing_count listing_count  iso  country_0 year_id  month_id  \\\n",
      "0  2021-10               1002          1002  MAC        NaN    2021         4   \n",
      "1  2021-10               1002          1002  ALA        NaN    2021         4   \n",
      "2  2021-10               1002          1002  SJM        NaN    2021         4   \n",
      "3  2021-10               1002          1002  NaN        NaN    2021         4   \n",
      "4  2021-10               1002          1002  HKG        NaN    2021         4   \n",
      "\n",
      "   listing_month  \n",
      "0            NaN  \n",
      "1            NaN  \n",
      "2            NaN  \n",
      "3            NaN  \n",
      "4            NaN  \n",
      "\n",
      "[5 rows x 25 columns]\n",
      "Unnamed: 0             int64\n",
      "id                    object\n",
      "schema                object\n",
      "name                  object\n",
      "aliases               object\n",
      "birth_date            object\n",
      "countries             object\n",
      "addresses             object\n",
      "identifiers           object\n",
      "sanctions             object\n",
      "phones                object\n",
      "emails                object\n",
      "dataset               object\n",
      "date_stamp             int64\n",
      "last_change           object\n",
      "listing_date           int64\n",
      "delisting_date       float64\n",
      "month                 object\n",
      "new_listing_count      int64\n",
      "listing_count          int64\n",
      "iso                   object\n",
      "country_0             object\n",
      "year_id                int64\n",
      "month_id               int64\n",
      "listing_month        float64\n",
      "dtype: object\n"
     ]
    }
   ],
   "source": [
    "#now get the list from the Opensanctions Data and match the two\n",
    "os.chdir('\\\\Users\\\\cecilianatalie.strom\\\\GitHub\\\\INSA\\\\Opensanctions\\\\Clean')\n",
    "data2= pd.read_csv(\"fsf_russ.csv\")\n",
    "print(data2.head(5))\n",
    "print(data2.dtypes)"
   ]
  },
  {
   "cell_type": "code",
   "execution_count": 6,
   "id": "1178b337-ece9-4c79-bb58-2c7a654a6a9e",
   "metadata": {
    "tags": []
   },
   "outputs": [
    {
     "data": {
      "text/plain": [
       "{'Aleksandr Alekseyevich POLYAKOV',\n",
       " 'Aleksandr Mikhaylovich STRELYUKHIN',\n",
       " 'Alexander Dmitriyevich ZHUKOV',\n",
       " 'Alexander Evseyevich KHINSHTEIN',\n",
       " 'Alexander Mikhailovich BABAKOV',\n",
       " 'Alexander Petrovich PETROV',\n",
       " 'Alexander Vyacheslavovich DYOMIN',\n",
       " 'Alexey Gennadyevich NECHAYEV',\n",
       " 'Alexey Nikolaevich TKACHEV',\n",
       " 'Alexey Vasilievich CHEPA',\n",
       " 'Alexey Vasilyevich GORDEYEV',\n",
       " 'Amir Makhsudovich HAMITOV',\n",
       " 'Andrei BURDYKO',\n",
       " 'Andrey Leonidovich KRASOV',\n",
       " 'Artem Alexandrovich KAVINOV',\n",
       " 'Artem Pavlovich METELEV',\n",
       " 'Artem Yuryevich KIRYANOV',\n",
       " 'Dmitry Anatolievich KHUBEZOV',\n",
       " 'Dmitry Anatolyevich MEDVEDEV',\n",
       " 'Dmitry Stanislavovich SKRIVANOV',\n",
       " 'Georgy Konstantinovich ARAPOV',\n",
       " 'Gleb Yakovlevich KHOR',\n",
       " 'Grigory Vladimirovich SHILKIN',\n",
       " 'Igor Olegovich SHCHYOGOLEV',\n",
       " 'Irina Anatolievna YAROVAYA',\n",
       " 'Ivan Alexandrovich SOLODOVNIKOV',\n",
       " 'Lev Igoryevich KOVPAK',\n",
       " 'Maxim Anatolyevich TOPILIN',\n",
       " 'Mikhail Nikolayevich BERULAVA',\n",
       " 'Mikhail Vladimirovich MISHUSTIN',\n",
       " 'Nikolay Vladimirovich NOVICHKOV',\n",
       " 'Oksana Genrikhovna DMITRIEVA',\n",
       " 'Oleg Anatolyevich MATVEYCHEV',\n",
       " 'Oleg Viktorovich MOROZOV',\n",
       " 'Oleg Yuryevich LEONOV',\n",
       " 'Otari Yonovich ARSHBA',\n",
       " 'Pavel Vladimirovich KRASHENINNIKOV',\n",
       " 'Rifat Gabdulkhakovich SHAYHUTDINOV',\n",
       " 'Rizvan Danilovich KURBANOV',\n",
       " 'Robert Ivanovich KOCHIEV',\n",
       " 'Roza Basirovna CHEMERIS',\n",
       " 'Sangadzhi Andreyevich TARBAEV',\n",
       " 'Sergei SIMONENKO',\n",
       " 'Sergey Alexandrovich PAHOMOV',\n",
       " 'Sholban Valeryevich KARA-OOL',\n",
       " 'Svetlana Viktorovna RAZVOROTNEVA',\n",
       " 'Vasily Ivanovich PISKAREV',\n",
       " 'Viktor Vitalyevich PINSKIY',\n",
       " 'Viktoria Viktorovna NIKOLAEVA',\n",
       " 'Vladimir Vladimirovich PLYAKIN',\n",
       " 'Vladislav Andreevich DAVANKOV',\n",
       " 'Yevgeny Sergeyevich MOSKVICHEV',\n",
       " 'Yuri Vitoldovich SHULEYKO',\n",
       " 'Yuriy Arkadevich STANKEVICH'}"
      ]
     },
     "execution_count": 6,
     "metadata": {},
     "output_type": "execute_result"
    }
   ],
   "source": [
    "list1 = data[\"Name\"]\n",
    "list2=data2[\"name\"]\n",
    "\n",
    "set(list1) & set(list2)\n",
    "set(list1).intersection(list2)\n"
   ]
  }
 ],
 "metadata": {
  "kernelspec": {
   "display_name": "Python 3 (ipykernel)",
   "language": "python",
   "name": "python3"
  },
  "language_info": {
   "codemirror_mode": {
    "name": "ipython",
    "version": 3
   },
   "file_extension": ".py",
   "mimetype": "text/x-python",
   "name": "python",
   "nbconvert_exporter": "python",
   "pygments_lexer": "ipython3",
   "version": "3.11.5"
  }
 },
 "nbformat": 4,
 "nbformat_minor": 5
}
