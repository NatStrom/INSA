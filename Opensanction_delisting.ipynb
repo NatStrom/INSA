{
 "cells": [
  {
   "cell_type": "markdown",
   "id": "090f9de0-43a5-41b1-8e82-ff4f4bb7de56",
   "metadata": {},
   "source": [
    "Open Sanctions Delisting match"
   ]
  },
  {
   "cell_type": "markdown",
   "id": "48a6f63c-96aa-43d1-838d-7b367d3e5b8e",
   "metadata": {},
   "source": [
    "i need to match the list objects to check for new listings and delistins"
   ]
  },
  {
   "cell_type": "code",
   "execution_count": null,
   "id": "0dd7adbd-a6af-4a21-9dc6-13b191f1be8f",
   "metadata": {},
   "outputs": [],
   "source": []
  }
 ],
 "metadata": {
  "kernelspec": {
   "display_name": "Python 3 (ipykernel)",
   "language": "python",
   "name": "python3"
  },
  "language_info": {
   "codemirror_mode": {
    "name": "ipython",
    "version": 3
   },
   "file_extension": ".py",
   "mimetype": "text/x-python",
   "name": "python",
   "nbconvert_exporter": "python",
   "pygments_lexer": "ipython3",
   "version": "3.11.5"
  }
 },
 "nbformat": 4,
 "nbformat_minor": 5
}
