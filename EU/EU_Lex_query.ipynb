{
 "cells": [
  {
   "cell_type": "markdown",
   "id": "7d952bc1-940d-4e59-bbd4-24d6870e829a",
   "metadata": {},
   "source": [
    "# EU LEX QUERY\n",
    "\n",
    "\n",
    "https://pypi.org/project/pyeurlex/\n",
    "\n",
    "\n",
    "https://github.com/seljaseppala/eu_corpus_compiler/tree/master"
   ]
  },
  {
   "cell_type": "code",
   "execution_count": null,
   "id": "e07635d8-21d5-4453-b978-4b569d9811a2",
   "metadata": {},
   "outputs": [],
   "source": [
    "#import txt file containing the keywords"
   ]
  },
  {
   "cell_type": "code",
   "execution_count": null,
   "id": "a0da2d26-fbeb-43e4-94e1-793254582b74",
   "metadata": {},
   "outputs": [],
   "source": [
    "#write search query"
   ]
  }
 ],
 "metadata": {
  "kernelspec": {
   "display_name": "Python 3 (ipykernel)",
   "language": "python",
   "name": "python3"
  },
  "language_info": {
   "codemirror_mode": {
    "name": "ipython",
    "version": 3
   },
   "file_extension": ".py",
   "mimetype": "text/x-python",
   "name": "python",
   "nbconvert_exporter": "python",
   "pygments_lexer": "ipython3",
   "version": "3.11.5"
  }
 },
 "nbformat": 4,
 "nbformat_minor": 5
}
