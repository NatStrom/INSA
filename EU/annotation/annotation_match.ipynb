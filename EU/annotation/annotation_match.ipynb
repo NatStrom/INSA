{
 "cells": [
  {
   "cell_type": "code",
   "execution_count": 1,
   "id": "453aaea9-a9cc-4139-83a0-3a8c56d4ef59",
   "metadata": {
    "tags": []
   },
   "outputs": [],
   "source": [
    "import pandas as pd\n",
    "import os\n",
    "import numpy as np"
   ]
  },
  {
   "cell_type": "code",
   "execution_count": 2,
   "id": "e9fac166-7fc0-4efc-b9f3-5884591f701d",
   "metadata": {
    "tags": []
   },
   "outputs": [
    {
     "name": "stdout",
     "output_type": "stream",
     "text": [
      "C:\\Users\\cecilianatalie.strom\\GitHub\\INSA\\EU\\annotation\n"
     ]
    }
   ],
   "source": [
    "print(os.getcwd())"
   ]
  },
  {
   "cell_type": "code",
   "execution_count": 4,
   "id": "93e82508-76b1-4978-86ea-cb39b4144a4b",
   "metadata": {
    "tags": []
   },
   "outputs": [
    {
     "name": "stdout",
     "output_type": "stream",
     "text": [
      "Content of annotation_christian1.txt has been appended to annotation_christian2.txt.\n"
     ]
    }
   ],
   "source": [
    "def append_files(file1, file2):\n",
    "    try:\n",
    "        # Open the first file in read mode\n",
    "        with open(file1, 'r') as f1:\n",
    "            content1 = f1.read()\n",
    "        \n",
    "        # Open the second file in append mode\n",
    "        with open(file2, 'a') as f2:\n",
    "            f2.write(content1)\n",
    "        \n",
    "        print(f\"Content of {file1} has been appended to {file2}.\")\n",
    "    \n",
    "    except Exception as e:\n",
    "        print(f\"An error occurred: {e}\")\n",
    "\n",
    "# Example usage:\n",
    "file1 = 'annotation_christian1.txt'\n",
    "file2 = 'annotation_christian2.txt'\n",
    "append_files(file1, file2)\n"
   ]
  },
  {
   "cell_type": "code",
   "execution_count": 18,
   "id": "73065650-5d91-4bb4-8b87-aa83ca567f55",
   "metadata": {
    "tags": []
   },
   "outputs": [
    {
     "name": "stdout",
     "output_type": "stream",
     "text": [
      "     Unnamed: 0                                          legal_doc  \\\n",
      "0           0.0  https://eur-lex.europa.eu/legal-content/EN/TXT...   \n",
      "1           1.0  https://eur-lex.europa.eu/legal-content/EN/TXT...   \n",
      "2           2.0  https://eur-lex.europa.eu/legal-content/EN/TXT...   \n",
      "3           3.0  https://eur-lex.europa.eu/legal-content/EN/TXT...   \n",
      "4           4.0  https://eur-lex.europa.eu/legal-content/EN/TXT...   \n",
      "..          ...                                                ...   \n",
      "698       295.0  https://eur-lex.europa.eu/legal-content/EN/TXT...   \n",
      "699       296.0  https://eur-lex.europa.eu/legal-content/EN/TXT...   \n",
      "700       297.0  https://eur-lex.europa.eu/legal-content/EN/TXT...   \n",
      "701       298.0  https://eur-lex.europa.eu/legal-content/EN/TXT...   \n",
      "702       299.0  https://eur-lex.europa.eu/legal-content/EN/TXT...   \n",
      "\n",
      "    relevance_dummy comments  \n",
      "0                 0      NaN  \n",
      "1                 1      NaN  \n",
      "2                 0      NaN  \n",
      "3                 0      NaN  \n",
      "4                 1      NaN  \n",
      "..              ...      ...  \n",
      "698               0      NaN  \n",
      "699               0      NaN  \n",
      "700               1      NaN  \n",
      "701               0      NaN  \n",
      "702               0      NaN  \n",
      "\n",
      "[703 rows x 4 columns]\n"
     ]
    }
   ],
   "source": [
    "data_ch = pd.read_csv('annotation_christian2.txt', sep=',')\n",
    "print(data_ch)\n",
    "data_na = pd.read_csv('annotation_natalie.csv', sep=';')\n",
    "#data_ni = \n",
    "#print(data_ni)"
   ]
  },
  {
   "cell_type": "code",
   "execution_count": 19,
   "id": "35a82634-42d0-4380-98e0-a472f4eb80b9",
   "metadata": {
    "tags": []
   },
   "outputs": [
    {
     "data": {
      "text/html": [
       "<div>\n",
       "<style scoped>\n",
       "    .dataframe tbody tr th:only-of-type {\n",
       "        vertical-align: middle;\n",
       "    }\n",
       "\n",
       "    .dataframe tbody tr th {\n",
       "        vertical-align: top;\n",
       "    }\n",
       "\n",
       "    .dataframe thead th {\n",
       "        text-align: right;\n",
       "    }\n",
       "</style>\n",
       "<table border=\"1\" class=\"dataframe\">\n",
       "  <thead>\n",
       "    <tr style=\"text-align: right;\">\n",
       "      <th></th>\n",
       "      <th>legal_doc</th>\n",
       "      <th>relevance</th>\n",
       "      <th>coments</th>\n",
       "      <th>Unnamed: 3</th>\n",
       "      <th>Unnamed: 4</th>\n",
       "    </tr>\n",
       "  </thead>\n",
       "  <tbody>\n",
       "    <tr>\n",
       "      <th>0</th>\n",
       "      <td>0</td>\n",
       "      <td>https://eur-lex.europa.eu/legal-content/EN/TXT...</td>\n",
       "      <td>0</td>\n",
       "      <td>notice</td>\n",
       "      <td>NaN</td>\n",
       "    </tr>\n",
       "    <tr>\n",
       "      <th>1</th>\n",
       "      <td>1</td>\n",
       "      <td>https://eur-lex.europa.eu/legal-content/EN/TXT...</td>\n",
       "      <td>1</td>\n",
       "      <td>regulation</td>\n",
       "      <td>NaN</td>\n",
       "    </tr>\n",
       "    <tr>\n",
       "      <th>2</th>\n",
       "      <td>2</td>\n",
       "      <td>https://eur-lex.europa.eu/legal-content/EN/TXT...</td>\n",
       "      <td>1</td>\n",
       "      <td>regulation</td>\n",
       "      <td>NaN</td>\n",
       "    </tr>\n",
       "    <tr>\n",
       "      <th>3</th>\n",
       "      <td>3</td>\n",
       "      <td>https://eur-lex.europa.eu/legal-content/EN/TXT...</td>\n",
       "      <td>1</td>\n",
       "      <td>delisting</td>\n",
       "      <td>NaN</td>\n",
       "    </tr>\n",
       "    <tr>\n",
       "      <th>4</th>\n",
       "      <td>4</td>\n",
       "      <td>https://eur-lex.europa.eu/legal-content/EN/TXT...</td>\n",
       "      <td>1</td>\n",
       "      <td>regulation</td>\n",
       "      <td>NaN</td>\n",
       "    </tr>\n",
       "    <tr>\n",
       "      <th>...</th>\n",
       "      <td>...</td>\n",
       "      <td>...</td>\n",
       "      <td>...</td>\n",
       "      <td>...</td>\n",
       "      <td>...</td>\n",
       "    </tr>\n",
       "    <tr>\n",
       "      <th>396</th>\n",
       "      <td>96</td>\n",
       "      <td>https://eur-lex.europa.eu/legal-content/EN/TXT...</td>\n",
       "      <td>0</td>\n",
       "      <td>NaN</td>\n",
       "      <td>NaN</td>\n",
       "    </tr>\n",
       "    <tr>\n",
       "      <th>397</th>\n",
       "      <td>97</td>\n",
       "      <td>https://eur-lex.europa.eu/legal-content/EN/TXT...</td>\n",
       "      <td>1</td>\n",
       "      <td>listing in annex</td>\n",
       "      <td>NaN</td>\n",
       "    </tr>\n",
       "    <tr>\n",
       "      <th>398</th>\n",
       "      <td>98</td>\n",
       "      <td>https://eur-lex.europa.eu/legal-content/EN/TXT...</td>\n",
       "      <td>0</td>\n",
       "      <td>NaN</td>\n",
       "      <td>NaN</td>\n",
       "    </tr>\n",
       "    <tr>\n",
       "      <th>399</th>\n",
       "      <td>99</td>\n",
       "      <td>https://eur-lex.europa.eu/legal-content/EN/TXT...</td>\n",
       "      <td>0</td>\n",
       "      <td>NaN</td>\n",
       "      <td>NaN</td>\n",
       "    </tr>\n",
       "    <tr>\n",
       "      <th>400</th>\n",
       "      <td>100</td>\n",
       "      <td>https://eur-lex.europa.eu/legal-content/EN/TXT...</td>\n",
       "      <td>0</td>\n",
       "      <td>notice</td>\n",
       "      <td>NaN</td>\n",
       "    </tr>\n",
       "  </tbody>\n",
       "</table>\n",
       "<p>401 rows × 5 columns</p>\n",
       "</div>"
      ],
      "text/plain": [
       "     legal_doc                                          relevance  coments  \\\n",
       "0            0  https://eur-lex.europa.eu/legal-content/EN/TXT...        0   \n",
       "1            1  https://eur-lex.europa.eu/legal-content/EN/TXT...        1   \n",
       "2            2  https://eur-lex.europa.eu/legal-content/EN/TXT...        1   \n",
       "3            3  https://eur-lex.europa.eu/legal-content/EN/TXT...        1   \n",
       "4            4  https://eur-lex.europa.eu/legal-content/EN/TXT...        1   \n",
       "..         ...                                                ...      ...   \n",
       "396         96  https://eur-lex.europa.eu/legal-content/EN/TXT...        0   \n",
       "397         97  https://eur-lex.europa.eu/legal-content/EN/TXT...        1   \n",
       "398         98  https://eur-lex.europa.eu/legal-content/EN/TXT...        0   \n",
       "399         99  https://eur-lex.europa.eu/legal-content/EN/TXT...        0   \n",
       "400        100  https://eur-lex.europa.eu/legal-content/EN/TXT...        0   \n",
       "\n",
       "           Unnamed: 3 Unnamed: 4  \n",
       "0              notice        NaN  \n",
       "1          regulation        NaN  \n",
       "2          regulation        NaN  \n",
       "3           delisting        NaN  \n",
       "4          regulation        NaN  \n",
       "..                ...        ...  \n",
       "396               NaN        NaN  \n",
       "397  listing in annex        NaN  \n",
       "398               NaN        NaN  \n",
       "399               NaN        NaN  \n",
       "400            notice        NaN  \n",
       "\n",
       "[401 rows x 5 columns]"
      ]
     },
     "execution_count": 19,
     "metadata": {},
     "output_type": "execute_result"
    }
   ],
   "source": [
    "data_na"
   ]
  },
  {
   "cell_type": "code",
   "execution_count": null,
   "id": "ae05546a-55e5-4c9e-b89d-2242e4a12c4b",
   "metadata": {},
   "outputs": [],
   "source": []
  },
  {
   "cell_type": "code",
   "execution_count": null,
   "id": "3a6338a1-1e5d-4176-a1c1-b46c1ed4d484",
   "metadata": {},
   "outputs": [],
   "source": [
    "#rename columns\n",
    "data_ch = data_ch.rename(columns={'relevance_dummy':'score_chri','comments':'comm_chri'}).drop('Unnamed: 0')\n",
    "data_na = data_na.rename(columns={'legal_doc':'id','relevance':'legal_doc','coments':'score_nat','Unnamed 3':'comm_nat'}).drop('id','Unnamed: 4')\n",
    "data_ni = data_ni.rename(columns={'relevance_dummy':'score_nic','comments':'comm_nic'}).drop()"
   ]
  },
  {
   "cell_type": "code",
   "execution_count": null,
   "id": "e90d8e26-a816-4695-b38c-2d3875f4bdd9",
   "metadata": {},
   "outputs": [],
   "source": [
    "#merge\n",
    "sample_annot = pd.merge(data_ch, data_na,data_ni, "
   ]
  },
  {
   "cell_type": "code",
   "execution_count": null,
   "id": "4464cda1-3155-4894-9162-ce3a4f2eb76f",
   "metadata": {},
   "outputs": [],
   "source": [
    "#compare and flag differences\n",
    "flagged = \n",
    "for line in sample_annot:\n",
    "    if sample_annot['score_chris'] + sample_annot['score_nat'] + sample_annot['score_nic'] =! 3 \n",
    "    or sample_annot['score_chris'] + sample_annot['score_nat']+sample_annot['score_nic'] =! 0:\n",
    "        print(line)\n",
    "    flagged.append(line)"
   ]
  },
  {
   "cell_type": "code",
   "execution_count": null,
   "id": "0924c9df-d6e9-411d-8eb6-9957c91a39bc",
   "metadata": {
    "tags": []
   },
   "outputs": [],
   "source": [
    "#export"
   ]
  }
 ],
 "metadata": {
  "kernelspec": {
   "display_name": "Python 3 (ipykernel)",
   "language": "python",
   "name": "python3"
  },
  "language_info": {
   "codemirror_mode": {
    "name": "ipython",
    "version": 3
   },
   "file_extension": ".py",
   "mimetype": "text/x-python",
   "name": "python",
   "nbconvert_exporter": "python",
   "pygments_lexer": "ipython3",
   "version": "3.11.5"
  }
 },
 "nbformat": 4,
 "nbformat_minor": 5
}
