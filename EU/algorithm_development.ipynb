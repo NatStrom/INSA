{
 "cells": [
  {
   "cell_type": "code",
   "execution_count": null,
   "id": "973888b6",
   "metadata": {},
   "outputs": [],
   "source": [
    "import pandas\n",
    "import os\n",
    "import requests"
   ]
  },
  {
   "cell_type": "code",
   "execution_count": null,
   "id": "8d342b85",
   "metadata": {},
   "outputs": [],
   "source": [
    "#load all the websites and the annotated file"
   ]
  },
  {
   "cell_type": "code",
   "execution_count": null,
   "id": "8cca591a",
   "metadata": {},
   "outputs": [],
   "source": [
    "#train on the annotated file"
   ]
  }
 ],
 "metadata": {
  "kernelspec": {
   "display_name": "Python 3 (ipykernel)",
   "language": "python",
   "name": "python3"
  },
  "language_info": {
   "codemirror_mode": {
    "name": "ipython",
    "version": 3
   },
   "file_extension": ".py",
   "mimetype": "text/x-python",
   "name": "python",
   "nbconvert_exporter": "python",
   "pygments_lexer": "ipython3",
   "version": "3.11.7"
  }
 },
 "nbformat": 4,
 "nbformat_minor": 5
}
