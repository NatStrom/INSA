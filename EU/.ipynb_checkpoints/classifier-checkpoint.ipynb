{
 "cells": [
  {
   "cell_type": "code",
   "execution_count": 10,
   "id": "f2c9a06a-4333-49ff-8c9d-81a5a024126b",
   "metadata": {
    "tags": []
   },
   "outputs": [],
   "source": [
    "#! pip install keras-nlp\n",
    "#! pip install tensorflow\n",
    "#! pip install keras\n",
    "import keras_nlp\n",
    "import keras\n",
    "import tensorflow as tf\n",
    "import pickle\n",
    "import os"
   ]
  },
  {
   "cell_type": "code",
   "execution_count": 6,
   "id": "2868e0e5-5943-4389-8c9e-6d40bdbc57e7",
   "metadata": {
    "tags": []
   },
   "outputs": [
    {
     "name": "stdout",
     "output_type": "stream",
     "text": [
      "C:\\Users\\cecilianatalie.strom\n"
     ]
    }
   ],
   "source": [
    "print(os.getcwd())"
   ]
  },
  {
   "cell_type": "code",
   "execution_count": null,
   "id": "fa5b2dd6-32f0-4fbf-ab05-d526dc173063",
   "metadata": {},
   "outputs": [],
   "source": [
    "# os.'C:\\Users\\cecilianatalie.strom\\OneDrive - GIGA\\Desktop\\INSA_Desktop'"
   ]
  },
  {
   "cell_type": "code",
   "execution_count": 11,
   "id": "e7c4f138-c53d-4296-8c7d-56c4b22cf1d8",
   "metadata": {
    "tags": []
   },
   "outputs": [],
   "source": [
    "# Umgebungsvariable, keras nutzt tf\n",
    "os.environ[\"KERAS_BACKEND\"] = \"tensorflow\"\n",
    "\n",
    "keras.utils.set_random_seed(42)"
   ]
  },
  {
   "cell_type": "code",
   "execution_count": 18,
   "id": "d5566b0f-177d-415e-bfed-e7ee876da135",
   "metadata": {
    "tags": []
   },
   "outputs": [
    {
     "data": {
      "text/plain": [
       "['.ipynb_checkpoints',\n",
       " 'document_1.txt',\n",
       " 'document_10.txt',\n",
       " 'document_2.html',\n",
       " 'document_3.html',\n",
       " 'document_4.html',\n",
       " 'document_5.html',\n",
       " 'document_6.html',\n",
       " 'document_7.html',\n",
       " 'document_8.html',\n",
       " 'document_9.html']"
      ]
     },
     "execution_count": 18,
     "metadata": {},
     "output_type": "execute_result"
    }
   ],
   "source": [
    "os.listdir(\"C:/Users/cecilianatalie.strom/OneDrive - GIGA/Desktop/INSA_Desktop/EU_lex/nlp_test\")"
   ]
  },
  {
   "cell_type": "code",
   "execution_count": 19,
   "id": "885cb0ee-1d60-42df-9575-7bfc37596163",
   "metadata": {
    "tags": []
   },
   "outputs": [
    {
     "name": "stdout",
     "output_type": "stream",
     "text": [
      "Found 0 files belonging to 0 classes.\n"
     ]
    },
    {
     "ename": "ValueError",
     "evalue": "No text files found in directory C:/Users/cecilianatalie.strom/OneDrive - GIGA/Desktop/INSA_Desktop/EU_lex/nlp_test. Allowed format: .txt",
     "output_type": "error",
     "traceback": [
      "\u001b[1;31m---------------------------------------------------------------------------\u001b[0m",
      "\u001b[1;31mValueError\u001b[0m                                Traceback (most recent call last)",
      "Cell \u001b[1;32mIn[19], line 3\u001b[0m\n\u001b[0;32m      1\u001b[0m \u001b[38;5;66;03m# create our dataset\u001b[39;00m\n\u001b[1;32m----> 3\u001b[0m INSA_ds \u001b[38;5;241m=\u001b[39m keras\u001b[38;5;241m.\u001b[39mutils\u001b[38;5;241m.\u001b[39mtext_dataset_from_directory(\n\u001b[0;32m      4\u001b[0m     \u001b[38;5;124m\"\u001b[39m\u001b[38;5;124mC:/Users/cecilianatalie.strom/OneDrive - GIGA/Desktop/INSA_Desktop/EU_lex/nlp_test\u001b[39m\u001b[38;5;124m\"\u001b[39m,\n\u001b[0;32m      5\u001b[0m     batch_size\u001b[38;5;241m=\u001b[39m\u001b[38;5;241m4\u001b[39m,\n\u001b[0;32m      6\u001b[0m     seed\u001b[38;5;241m=\u001b[39m\u001b[38;5;241m42\u001b[39m,\n\u001b[0;32m      7\u001b[0m )\n",
      "File \u001b[1;32m~\\bin\\conda\\Lib\\site-packages\\keras\\src\\utils\\text_dataset_utils.py:226\u001b[0m, in \u001b[0;36mtext_dataset_from_directory\u001b[1;34m(directory, labels, label_mode, class_names, batch_size, max_length, shuffle, seed, validation_split, subset, follow_links, verbose)\u001b[0m\n\u001b[0;32m    222\u001b[0m file_paths, labels \u001b[38;5;241m=\u001b[39m dataset_utils\u001b[38;5;241m.\u001b[39mget_training_or_validation_split(\n\u001b[0;32m    223\u001b[0m     file_paths, labels, validation_split, subset\n\u001b[0;32m    224\u001b[0m )\n\u001b[0;32m    225\u001b[0m \u001b[38;5;28;01mif\u001b[39;00m \u001b[38;5;129;01mnot\u001b[39;00m file_paths:\n\u001b[1;32m--> 226\u001b[0m     \u001b[38;5;28;01mraise\u001b[39;00m \u001b[38;5;167;01mValueError\u001b[39;00m(\n\u001b[0;32m    227\u001b[0m         \u001b[38;5;124mf\u001b[39m\u001b[38;5;124m\"\u001b[39m\u001b[38;5;124mNo text files found in directory \u001b[39m\u001b[38;5;132;01m{\u001b[39;00mdirectory\u001b[38;5;132;01m}\u001b[39;00m\u001b[38;5;124m. \u001b[39m\u001b[38;5;124m\"\u001b[39m\n\u001b[0;32m    228\u001b[0m         \u001b[38;5;124m\"\u001b[39m\u001b[38;5;124mAllowed format: .txt\u001b[39m\u001b[38;5;124m\"\u001b[39m\n\u001b[0;32m    229\u001b[0m     )\n\u001b[0;32m    230\u001b[0m dataset \u001b[38;5;241m=\u001b[39m paths_and_labels_to_dataset(\n\u001b[0;32m    231\u001b[0m     file_paths\u001b[38;5;241m=\u001b[39mfile_paths,\n\u001b[0;32m    232\u001b[0m     labels\u001b[38;5;241m=\u001b[39mlabels,\n\u001b[1;32m   (...)\u001b[0m\n\u001b[0;32m    238\u001b[0m     seed\u001b[38;5;241m=\u001b[39mseed,\n\u001b[0;32m    239\u001b[0m )\n\u001b[0;32m    240\u001b[0m \u001b[38;5;28;01mif\u001b[39;00m batch_size \u001b[38;5;129;01mis\u001b[39;00m \u001b[38;5;129;01mnot\u001b[39;00m \u001b[38;5;28;01mNone\u001b[39;00m:\n",
      "\u001b[1;31mValueError\u001b[0m: No text files found in directory C:/Users/cecilianatalie.strom/OneDrive - GIGA/Desktop/INSA_Desktop/EU_lex/nlp_test. Allowed format: .txt"
     ]
    }
   ],
   "source": [
    "# create our dataset\n",
    "\n",
    "INSA_ds = keras.utils.text_dataset_from_directory(\n",
    "    \"C:/Users/cecilianatalie.strom/OneDrive - GIGA/Desktop/INSA_Desktop/EU_lex/nlp_test\",\n",
    "    batch_size=4,\n",
    "    seed=42,\n",
    ")"
   ]
  },
  {
   "cell_type": "code",
   "execution_count": null,
   "id": "3a6d356c-5ebe-459e-97db-6186393053ee",
   "metadata": {},
   "outputs": [],
   "source": []
  }
 ],
 "metadata": {
  "kernelspec": {
   "display_name": "Python 3 (ipykernel)",
   "language": "python",
   "name": "python3"
  },
  "language_info": {
   "codemirror_mode": {
    "name": "ipython",
    "version": 3
   },
   "file_extension": ".py",
   "mimetype": "text/x-python",
   "name": "python",
   "nbconvert_exporter": "python",
   "pygments_lexer": "ipython3",
   "version": "3.11.5"
  }
 },
 "nbformat": 4,
 "nbformat_minor": 5
}
