{
 "cells": [
  {
   "cell_type": "code",
   "execution_count": null,
   "id": "d24b6ddf-2cb4-4485-aeaa-6d28afca200a",
   "metadata": {},
   "outputs": [],
   "source": [
    "#test pattern for annex in table format"
   ]
  },
  {
   "cell_type": "code",
   "execution_count": 3,
   "id": "59ce9c0f-6909-496b-af25-56ceb833f03e",
   "metadata": {
    "tags": []
   },
   "outputs": [
    {
     "name": "stdout",
     "output_type": "stream",
     "text": [
      "Empty DataFrame\n",
      "Columns: []\n",
      "Index: []\n"
     ]
    }
   ],
   "source": [
    "import os\n",
    "import re\n",
    "import pandas as pd\n",
    "\n",
    "# Function to read HTML content from a file\n",
    "def read_html_file(file_path):\n",
    "    with open(file_path, 'r', encoding='utf-8') as file:\n",
    "        return file.read()\n",
    "\n",
    "# Define regex patterns\n",
    "patterns = {\n",
    "    \"celex_number\": r'<p class=\"reference\">(.*?)<\\/p>',\n",
    "    \"legal_doc\": r'class=\"title-doc-first\" id=\"id-[^\"]+\">([^<]+)<',\n",
    "    \"date\": r'<p class=\"title-doc-first\" id=\"id-[^\"]+\">of (\\d{1,2} \\w+ \\d{4})<\\/p>',\n",
    "    \"name\": r'class=\"tbl-norm\">([^<]+)<\\/p>\\n<p class=\"tbl-norm\">([^<]+)<\\/p>\\n<p class=\"tbl-norm\">([^<]+)<\\/p>',\n",
    "    \"dob\": r'DOB: (\\d{1,2}\\.\\d{1,2}\\.\\d{4})',\n",
    "    \"pob\": r'POB: ([^<]+)<\\/p>',\n",
    "    \"gender\": r'Gender: ([^<]+)<\\/p>',\n",
    "    \"address\": r'address: >Address: ([^<]+)<\\/p>',\n",
    "    \"phone_number\": r'Phone number:\\s*<p class=\"tbl-norm\">([^<]+)<\\/p>',\n",
    "    \"email\": r'mail: >Email: ([^<]+)<\\/p>',\n",
    "    \"website\": r'Website: ([^<]+)<\\/p>',\n",
    "    \"entities\": r'<p class=\"tbl-norm\">([^<]+)<\\/p>\\n<p class=\"tbl-norm\">\\(([^<]+)\\)<\\/p>',\n",
    "    \"reasons\": r'<td valign=\"top\"  >\\n<p class=\"tbl-norm\">([^<]+)<\\/p>'\n",
    "}\n",
    "\n",
    "# Extend regex for entity type\n",
    "entity_type_patterns = {\n",
    "    \"person\": r'<p class=\"title-gr-seq-level-2\"[^>]*>\\s*<span class=\"boldface\">Persons<\\/span>\\s*<\\/p>',\n",
    "    \"entity\": r'<p class=\"title-gr-seq-level-2\"[^>]*>\\s*<span class=\"italics\">Entities<\\/span>\\s*<\\/p>'\n",
    "}\n",
    "\n",
    "# Function to process a single HTML content\n",
    "def process_html_content(html_content):\n",
    "    # Split HTML content into sections for persons and entities\n",
    "    sections = {}\n",
    "    for entity_type, pattern in entity_type_patterns.items():\n",
    "        sections[entity_type] = re.split(pattern, html_content)\n",
    "\n",
    "    # Extract information for persons and entities separately\n",
    "    data = []\n",
    "\n",
    "    for entity_type, content in sections.items():\n",
    "        for html in content[1:]:  # Skip the first split as it contains unwanted text\n",
    "            entry = {\"entity_type\": entity_type}\n",
    "            for key, pattern in patterns.items():\n",
    "                match = re.search(pattern, html)\n",
    "                entry[key] = match.group(1) if match else \"N/A\"\n",
    "            data.append(entry)\n",
    "\n",
    "    return data\n",
    "\n",
    "# Folder containing HTML files\n",
    "folder_path = r'C:\\\\Users\\\\cecilianatalie.strom\\\\GIGA\\\\INSA Project - Dokumente\\\\Data\\\\Korpus\\\\relevant\\\\'\n",
    "\n",
    "# List to hold all extracted data\n",
    "all_data = []\n",
    "\n",
    "# Loop over each file in the folder\n",
    "for filename in os.listdir(folder_path):\n",
    "    if filename.endswith('.html'):\n",
    "        file_path = os.path.join(folder_path, filename)\n",
    "        html_content = read_html_file(file_path)\n",
    "        data = process_html_content(html_content)\n",
    "        all_data.extend(data)\n",
    "\n",
    "# Convert to DataFrame\n",
    "df = pd.DataFrame(all_data)\n",
    "\n",
    "# Display the DataFrame\n",
    "print(df)\n"
   ]
  },
  {
   "cell_type": "code",
   "execution_count": null,
   "id": "ea4ceacb-bbb3-4356-bcb8-1531aa7c2f67",
   "metadata": {},
   "outputs": [],
   "source": []
  }
 ],
 "metadata": {
  "kernelspec": {
   "display_name": "Python 3 (ipykernel)",
   "language": "python",
   "name": "python3"
  },
  "language_info": {
   "codemirror_mode": {
    "name": "ipython",
    "version": 3
   },
   "file_extension": ".py",
   "mimetype": "text/x-python",
   "name": "python",
   "nbconvert_exporter": "python",
   "pygments_lexer": "ipython3",
   "version": "3.11.5"
  }
 },
 "nbformat": 4,
 "nbformat_minor": 5
}
