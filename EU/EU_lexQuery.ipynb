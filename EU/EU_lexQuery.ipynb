{
 "cells": [
  {
   "cell_type": "markdown",
   "id": "b3d3de2b-fe9f-427e-a602-3eb45d147854",
   "metadata": {},
   "source": [
    "# EU Data compiler"
   ]
  },
  {
   "cell_type": "code",
   "execution_count": null,
   "id": "ecd0a2b0-52af-4ee6-a49e-18fe8488c5d6",
   "metadata": {},
   "outputs": [],
   "source": [
    "keywords = [\"Sanction*\", \"international sanction*\", \"economic sanction*\", \"economic coercion\", \"United Nations sanction*\", \"export control*\",\n",
    "            \"export restriction*\", \"aid withdrawal\", \"aid AND suspension OR cut OR ban OR freeze OR resumption\", \"individual sanction\",\"targeted sanction*\", \"restrictive measure*\", \n",
    "            \"listing*\", \"Magnitsky sanction*\",\"travel ban\", \"visa ban\", \"travel restriction*\", \"asset freez*\", \"freezing of bank account*\", \"prohibition of doing business\", \n",
    "            \"restriction of diplomatic contact*\";\"human rights violation*\", \"repression\", \"atrocity\", \"instigation of violence\", \"violence\", \"murder\", \"killing*\", \"torture\", \n",
    "            \"manipulation of elections\", \"electoral fraud\", \"democracy support\", \"nuclear proliferation\", \"military aggression\", \"war\", \"armed conflict\", \"territorial integrity\", \"cyber-attack\",\n",
    "            \"nuclear OR chemical OR biological AND weapon\", \"weapons of mass destruction\", \"proliferation of arms\", \"disarmament\", \"terrorist* OR terrorist group OR terrorism\", \"drug trafficking\", \n",
    "            \"corruption\", \"human trafficking\", \"sanctions busting\", \"violation of sanction*\"] \n",
    "\n",
    "\n",
    "EUVOC_keywords=[DC_coded == '5788','c_1c478aa5','6288','3870','c_cd74cde9','5124','2219','123','5341', '5688','3483','3219','3454','99','6375','2500','250025']\n"
   ]
  },
  {
   "cell_type": "markdown",
   "id": "94727d99-0037-4502-bcaf-45fd294938e9",
   "metadata": {},
   "source": [
    "**Option 1 Python EU lex project (https://pypi.org/project/eurlex/)**"
   ]
  },
  {
   "cell_type": "code",
   "execution_count": 11,
   "id": "91793ac7-621c-46e6-8f2a-38e6bd6eb7bb",
   "metadata": {
    "collapsed": true,
    "jupyter": {
     "outputs_hidden": true
    },
    "tags": []
   },
   "outputs": [
    {
     "name": "stdout",
     "output_type": "stream",
     "text": [
      "Collecting git+https://github.com/step21/eurlex.git\n",
      "  Cloning https://github.com/step21/eurlex.git to c:\\users\\cecilianatalie.strom\\appdata\\local\\temp\\pip-req-build-ontrzlud\n",
      "  Resolved https://github.com/step21/eurlex.git to commit 9d7c5a9e9669b24a422ed742a021db5ba6963aac\n",
      "  Installing build dependencies: started\n",
      "  Installing build dependencies: finished with status 'done'\n",
      "  Getting requirements to build wheel: started\n",
      "  Getting requirements to build wheel: finished with status 'done'\n",
      "  Preparing metadata (pyproject.toml): started\n",
      "  Preparing metadata (pyproject.toml): finished with status 'done'\n",
      "Requirement already satisfied: beautifulsoup4<5.0.0,>=4.11.1 in c:\\users\\cecilianatalie.strom\\bin\\conda\\lib\\site-packages (from pyeurlex==0.2.9) (4.12.2)\n",
      "Collecting fire<0.5.0,>=0.4.0 (from pyeurlex==0.2.9)\n",
      "  Using cached fire-0.4.0-py2.py3-none-any.whl\n",
      "Collecting halo<0.0.32,>=0.0.31 (from pyeurlex==0.2.9)\n",
      "  Using cached halo-0.0.31-py3-none-any.whl\n",
      "Requirement already satisfied: lxml<5.0.0,>=4.9.1 in c:\\users\\cecilianatalie.strom\\bin\\conda\\lib\\site-packages (from pyeurlex==0.2.9) (4.9.3)\n",
      "Requirement already satisfied: pandas<2.0.0,>=1.3.0 in c:\\users\\cecilianatalie.strom\\bin\\conda\\lib\\site-packages (from pyeurlex==0.2.9) (1.5.3)\n",
      "Collecting pdfminer.six<20220525,>=20220524 (from pyeurlex==0.2.9)\n",
      "  Obtaining dependency information for pdfminer.six<20220525,>=20220524 from https://files.pythonhosted.org/packages/92/1c/f0e976509c8d453cb0f1b360619bbc2b588ef733c32780c9e0221918b7fa/pdfminer.six-20220524-py3-none-any.whl.metadata\n",
      "  Using cached pdfminer.six-20220524-py3-none-any.whl.metadata (3.7 kB)\n",
      "Requirement already satisfied: requests<3.0.0,>=2.28.1 in c:\\users\\cecilianatalie.strom\\bin\\conda\\lib\\site-packages (from pyeurlex==0.2.9) (2.31.0)\n",
      "Collecting scriv[toml]<0.17.0,>=0.16.0 (from pyeurlex==0.2.9)\n",
      "  Obtaining dependency information for scriv[toml]<0.17.0,>=0.16.0 from https://files.pythonhosted.org/packages/08/65/5745640d847dae22d0ac900fc51241102bf01d74ceff8c5a5345f12aabdf/scriv-0.16.0-py2.py3-none-any.whl.metadata\n",
      "  Using cached scriv-0.16.0-py2.py3-none-any.whl.metadata (13 kB)\n",
      "Collecting sparql-dataframe<0.5,>=0.4 (from pyeurlex==0.2.9)\n",
      "  Obtaining dependency information for sparql-dataframe<0.5,>=0.4 from https://files.pythonhosted.org/packages/a1/07/ffcd009474710188237527ca21c487b23d8e59e996833fcdae72c8ba3f55/sparql_dataframe-0.4-py3-none-any.whl.metadata\n",
      "  Using cached sparql_dataframe-0.4-py3-none-any.whl.metadata (1.8 kB)\n",
      "Requirement already satisfied: soupsieve>1.2 in c:\\users\\cecilianatalie.strom\\bin\\conda\\lib\\site-packages (from beautifulsoup4<5.0.0,>=4.11.1->pyeurlex==0.2.9) (2.4)\n",
      "Requirement already satisfied: six in c:\\users\\cecilianatalie.strom\\bin\\conda\\lib\\site-packages (from fire<0.5.0,>=0.4.0->pyeurlex==0.2.9) (1.16.0)\n",
      "Requirement already satisfied: termcolor in c:\\users\\cecilianatalie.strom\\bin\\conda\\lib\\site-packages (from fire<0.5.0,>=0.4.0->pyeurlex==0.2.9) (2.4.0)\n",
      "Requirement already satisfied: log-symbols>=0.0.14 in c:\\users\\cecilianatalie.strom\\bin\\conda\\lib\\site-packages (from halo<0.0.32,>=0.0.31->pyeurlex==0.2.9) (0.0.14)\n",
      "Requirement already satisfied: spinners>=0.0.24 in c:\\users\\cecilianatalie.strom\\bin\\conda\\lib\\site-packages (from halo<0.0.32,>=0.0.31->pyeurlex==0.2.9) (0.0.24)\n",
      "Requirement already satisfied: colorama>=0.3.9 in c:\\users\\cecilianatalie.strom\\bin\\conda\\lib\\site-packages (from halo<0.0.32,>=0.0.31->pyeurlex==0.2.9) (0.4.6)\n",
      "Requirement already satisfied: python-dateutil>=2.8.1 in c:\\users\\cecilianatalie.strom\\bin\\conda\\lib\\site-packages (from pandas<2.0.0,>=1.3.0->pyeurlex==0.2.9) (2.8.2)\n",
      "Requirement already satisfied: pytz>=2020.1 in c:\\users\\cecilianatalie.strom\\bin\\conda\\lib\\site-packages (from pandas<2.0.0,>=1.3.0->pyeurlex==0.2.9) (2023.3.post1)\n",
      "Requirement already satisfied: numpy>=1.21.0 in c:\\users\\cecilianatalie.strom\\bin\\conda\\lib\\site-packages (from pandas<2.0.0,>=1.3.0->pyeurlex==0.2.9) (1.24.3)\n",
      "Requirement already satisfied: charset-normalizer>=2.0.0 in c:\\users\\cecilianatalie.strom\\bin\\conda\\lib\\site-packages (from pdfminer.six<20220525,>=20220524->pyeurlex==0.2.9) (2.0.4)\n",
      "Requirement already satisfied: cryptography>=36.0.0 in c:\\users\\cecilianatalie.strom\\bin\\conda\\lib\\site-packages (from pdfminer.six<20220525,>=20220524->pyeurlex==0.2.9) (41.0.3)\n",
      "Requirement already satisfied: idna<4,>=2.5 in c:\\users\\cecilianatalie.strom\\bin\\conda\\lib\\site-packages (from requests<3.0.0,>=2.28.1->pyeurlex==0.2.9) (3.4)\n",
      "Requirement already satisfied: urllib3<3,>=1.21.1 in c:\\users\\cecilianatalie.strom\\bin\\conda\\lib\\site-packages (from requests<3.0.0,>=2.28.1->pyeurlex==0.2.9) (1.26.16)\n",
      "Requirement already satisfied: certifi>=2017.4.17 in c:\\users\\cecilianatalie.strom\\bin\\conda\\lib\\site-packages (from requests<3.0.0,>=2.28.1->pyeurlex==0.2.9) (2023.7.22)\n",
      "Requirement already satisfied: attrs in c:\\users\\cecilianatalie.strom\\bin\\conda\\lib\\site-packages (from scriv[toml]<0.17.0,>=0.16.0->pyeurlex==0.2.9) (22.1.0)\n",
      "Requirement already satisfied: click in c:\\users\\cecilianatalie.strom\\bin\\conda\\lib\\site-packages (from scriv[toml]<0.17.0,>=0.16.0->pyeurlex==0.2.9) (8.0.4)\n",
      "Collecting click-log (from scriv[toml]<0.17.0,>=0.16.0->pyeurlex==0.2.9)\n",
      "  Obtaining dependency information for click-log from https://files.pythonhosted.org/packages/ae/5a/4f025bc751087833686892e17e7564828e409c43b632878afeae554870cd/click_log-0.4.0-py2.py3-none-any.whl.metadata\n",
      "  Using cached click_log-0.4.0-py2.py3-none-any.whl.metadata (1.2 kB)\n",
      "Requirement already satisfied: jinja2 in c:\\users\\cecilianatalie.strom\\bin\\conda\\lib\\site-packages (from scriv[toml]<0.17.0,>=0.16.0->pyeurlex==0.2.9) (3.1.2)\n",
      "Requirement already satisfied: tomli in c:\\users\\cecilianatalie.strom\\bin\\conda\\lib\\site-packages (from scriv[toml]<0.17.0,>=0.16.0->pyeurlex==0.2.9) (2.0.1)\n",
      "Collecting SPARQLWrapper>=1.8.1 (from sparql-dataframe<0.5,>=0.4->pyeurlex==0.2.9)\n",
      "  Obtaining dependency information for SPARQLWrapper>=1.8.1 from https://files.pythonhosted.org/packages/31/89/176e3db96e31e795d7dfd91dd67749d3d1f0316bb30c6931a6140e1a0477/SPARQLWrapper-2.0.0-py3-none-any.whl.metadata\n",
      "  Using cached SPARQLWrapper-2.0.0-py3-none-any.whl.metadata (2.0 kB)\n",
      "Requirement already satisfied: cffi>=1.12 in c:\\users\\cecilianatalie.strom\\bin\\conda\\lib\\site-packages (from cryptography>=36.0.0->pdfminer.six<20220525,>=20220524->pyeurlex==0.2.9) (1.15.1)\n",
      "Requirement already satisfied: rdflib>=6.1.1 in c:\\users\\cecilianatalie.strom\\bin\\conda\\lib\\site-packages (from SPARQLWrapper>=1.8.1->sparql-dataframe<0.5,>=0.4->pyeurlex==0.2.9) (7.0.0)\n",
      "Requirement already satisfied: MarkupSafe>=2.0 in c:\\users\\cecilianatalie.strom\\bin\\conda\\lib\\site-packages (from jinja2->scriv[toml]<0.17.0,>=0.16.0->pyeurlex==0.2.9) (2.1.1)\n",
      "Requirement already satisfied: pycparser in c:\\users\\cecilianatalie.strom\\bin\\conda\\lib\\site-packages (from cffi>=1.12->cryptography>=36.0.0->pdfminer.six<20220525,>=20220524->pyeurlex==0.2.9) (2.21)\n",
      "Requirement already satisfied: isodate<0.7.0,>=0.6.0 in c:\\users\\cecilianatalie.strom\\bin\\conda\\lib\\site-packages (from rdflib>=6.1.1->SPARQLWrapper>=1.8.1->sparql-dataframe<0.5,>=0.4->pyeurlex==0.2.9) (0.6.1)\n",
      "Requirement already satisfied: pyparsing<4,>=2.1.0 in c:\\users\\cecilianatalie.strom\\bin\\conda\\lib\\site-packages (from rdflib>=6.1.1->SPARQLWrapper>=1.8.1->sparql-dataframe<0.5,>=0.4->pyeurlex==0.2.9) (3.0.9)\n",
      "Using cached pdfminer.six-20220524-py3-none-any.whl (5.6 MB)\n",
      "Using cached sparql_dataframe-0.4-py3-none-any.whl (3.5 kB)\n",
      "Using cached SPARQLWrapper-2.0.0-py3-none-any.whl (28 kB)\n",
      "Using cached click_log-0.4.0-py2.py3-none-any.whl (4.3 kB)\n",
      "Using cached scriv-0.16.0-py2.py3-none-any.whl (28 kB)\n",
      "Building wheels for collected packages: pyeurlex\n",
      "  Building wheel for pyeurlex (pyproject.toml): started\n",
      "  Building wheel for pyeurlex (pyproject.toml): finished with status 'done'\n",
      "  Created wheel for pyeurlex: filename=pyeurlex-0.2.9-py3-none-any.whl size=25290 sha256=f3be5e266bc2b4bb3eabd247d09e57eac8575f56371c2139c178363efe804c99\n",
      "  Stored in directory: C:\\Users\\cecilianatalie.strom\\AppData\\Local\\Temp\\pip-ephem-wheel-cache-249875gu\\wheels\\97\\f8\\a9\\01702be040668049414bbac27df7fe5a402913fd71501eb5aa\n",
      "Successfully built pyeurlex\n",
      "Installing collected packages: fire, halo, click-log, SPARQLWrapper, scriv, pdfminer.six, sparql-dataframe, pyeurlex\n",
      "Successfully installed SPARQLWrapper-2.0.0 click-log-0.4.0 fire-0.4.0 halo-0.0.31 pdfminer.six-20220524 pyeurlex-0.2.9 scriv-0.16.0 sparql-dataframe-0.4\n"
     ]
    },
    {
     "name": "stderr",
     "output_type": "stream",
     "text": [
      "  Running command git clone --filter=blob:none --quiet https://github.com/step21/eurlex.git 'C:\\Users\\cecilianatalie.strom\\AppData\\Local\\Temp\\pip-req-build-ontrzlud'\n"
     ]
    }
   ],
   "source": [
    "#not availabale via conda or conda forge, also no aadmin right for pip\n",
    "#! conda install -c conda-forge eurlex\n",
    "#! conda install -c conda-forge pyeurlex\n",
    "\n",
    "#load packages from github directly\n",
    "! pip install git+https://github.com/step21/eurlex.git\n"
   ]
  },
  {
   "cell_type": "markdown",
   "id": "1250fa3f-9c1c-4466-8871-091aba33f351",
   "metadata": {},
   "source": [
    "*in the next step, take the keyword list and search for each keyword in the EU Lex database, extracct the CELEX numbers of each document for ech search as zipped csv file and compile a list of unique CELEX numbers*"
   ]
  },
  {
   "cell_type": "code",
   "execution_count": 4,
   "id": "e1d3ac5d-046e-4ada-a78f-094550dad8e3",
   "metadata": {
    "tags": []
   },
   "outputs": [],
   "source": [
    "# Define the list of keywords\n",
    "keywords = [\n",
    "    \"Sanction*\", \"international sanction*\", \"economic sanction*\", \"economic coercion\", \"United Nations sanction*\",\n",
    "    \"export control*\", \"export restriction*\", \"aid withdrawal\",\n",
    "    \"aid AND suspension OR cut OR ban OR freeze OR resumption\", \"individual sanction\", \"targeted sanction*\",\n",
    "    \"restrictive measure*\", \"listing*\", \"Magnitsky sanction*\", \"travel ban\", \"visa ban\", \"travel restriction*\",\n",
    "    \"asset freez*\", \"freezing of bank account*\", \"prohibition of doing business\", \"restriction of diplomatic contact*\",\n",
    "    \"human rights violation*\", \"repression\", \"atrocity\", \"instigation of violence\", \"violence\", \"murder\", \"killing*\",\n",
    "    \"torture\", \"manipulation of elections\", \"electoral fraud\", \"democracy support\", \"nuclear proliferation\",\n",
    "    \"military aggression\", \"war\", \"armed conflict\", \"territorial integrity\", \"cyber-attack\",\n",
    "    \"nuclear OR chemical OR biological AND weapon\", \"weapons of mass destruction\", \"proliferation of arms\",\n",
    "    \"disarmament\", \"terrorist* OR terrorist group OR terrorism\", \"drug trafficking\", \"corruption\", \"human trafficking\",\n",
    "    \"sanctions busting\", \"violation of sanction*\"\n",
    "]\n"
   ]
  },
  {
   "cell_type": "code",
   "execution_count": 5,
   "id": "9fed9314-65be-43bd-a021-0e328bf5a2fc",
   "metadata": {
    "tags": []
   },
   "outputs": [],
   "source": [
    "from SPARQLWrapper import SPARQLWrapper, JSON\n",
    "\n",
    "\n",
    "# Define the SPARQL endpoint\n",
    "sparql_endpoint = \"http://publications.europa.eu/webapi/rdf/sparql\"\n",
    "\n",
    "# Initialize the SPARQL wrapper\n",
    "sparql = SPARQLWrapper(sparql_endpoint)\n"
   ]
  },
  {
   "cell_type": "code",
   "execution_count": 26,
   "id": "49a31ee0-6e0c-49bd-87a3-afc91018bd18",
   "metadata": {
    "tags": []
   },
   "outputs": [
    {
     "ename": "SyntaxError",
     "evalue": "invalid syntax (3005008529.py, line 2)",
     "output_type": "error",
     "traceback": [
      "\u001b[1;36m  Cell \u001b[1;32mIn[26], line 2\u001b[1;36m\u001b[0m\n\u001b[1;33m    sparql_query= PREFIX eurlex: <http://publications.europa.eu/ontology/euvoc#>\u001b[0m\n\u001b[1;37m                         ^\u001b[0m\n\u001b[1;31mSyntaxError\u001b[0m\u001b[1;31m:\u001b[0m invalid syntax\n"
     ]
    }
   ],
   "source": [
    "# Define the SPARQL query template\n",
    "sparql_query= PREFIX eurlex: <http://publications.europa.eu/ontology/euvoc#>\n",
    "SELECT ?document ?celexNumber\n",
    "WHERE {\n",
    "  ?document eurlex:hasCelexNumber ?celexNumber .\n",
    "  ?document eurlex:title ?title .\n",
    "  FILTER regex(?title, \"sanction\", \"i\") || regex(?title, \"war\", \"i\")\n",
    "}\n"
   ]
  },
  {
   "cell_type": "code",
   "execution_count": 25,
   "id": "6e895520-57e7-4394-b96c-117a3514c6f2",
   "metadata": {
    "tags": []
   },
   "outputs": [
    {
     "data": {
      "text/plain": [
       "[]"
      ]
     },
     "execution_count": 25,
     "metadata": {},
     "output_type": "execute_result"
    }
   ],
   "source": [
    "results[\"results\"][\"bindings\"]"
   ]
  },
  {
   "cell_type": "code",
   "execution_count": 24,
   "id": "d1f1593e-bff2-4d28-9424-31e0990d3b81",
   "metadata": {
    "tags": []
   },
   "outputs": [
    {
     "name": "stdout",
     "output_type": "stream",
     "text": [
      "\n",
      "    PREFIX eurlex: <http://publications.europa.eu/ontology/euvoc#>\n",
      "    SELECT DISTINCT ?celexNumber\n",
      "    WHERE {\n",
      "        ?document eurlex:hasCelexNumber ?celexNumber .\n",
      "        ?document eurlex:title ?title .\n",
      "        FILTER regex(?title, \"sanction\", \"i\")\n",
      "    }\n",
      "\n",
      "{'head': {'link': [], 'vars': ['celexNumber']}, 'results': {'distinct': False, 'ordered': True, 'bindings': []}}\n"
     ]
    },
    {
     "ename": "TypeError",
     "evalue": "string indices must be integers, not 'str'",
     "output_type": "error",
     "traceback": [
      "\u001b[1;31m---------------------------------------------------------------------------\u001b[0m",
      "\u001b[1;31mTypeError\u001b[0m                                 Traceback (most recent call last)",
      "Cell \u001b[1;32mIn[24], line 11\u001b[0m\n\u001b[0;32m      8\u001b[0m \u001b[38;5;66;03m#celex_id = results[\"celexNumber\"][\"value\"]\u001b[39;00m\n\u001b[0;32m      9\u001b[0m \u001b[38;5;66;03m#print(celex_id)\u001b[39;00m\n\u001b[0;32m     10\u001b[0m \u001b[38;5;28;01mfor\u001b[39;00m result \u001b[38;5;129;01min\u001b[39;00m results[\u001b[38;5;124m\"\u001b[39m\u001b[38;5;124mhead\u001b[39m\u001b[38;5;124m\"\u001b[39m][\u001b[38;5;124m\"\u001b[39m\u001b[38;5;124mvars\u001b[39m\u001b[38;5;124m\"\u001b[39m]:\n\u001b[1;32m---> 11\u001b[0m         celex_id \u001b[38;5;241m=\u001b[39m result[\u001b[38;5;124m\"\u001b[39m\u001b[38;5;124mcelexNumber\u001b[39m\u001b[38;5;124m\"\u001b[39m][\u001b[38;5;124m\"\u001b[39m\u001b[38;5;124mvalue\u001b[39m\u001b[38;5;124m\"\u001b[39m]\n\u001b[0;32m     12\u001b[0m         celex_ids\u001b[38;5;241m.\u001b[39mappend(celex_id)\n\u001b[0;32m     13\u001b[0m celex_id\n",
      "\u001b[1;31mTypeError\u001b[0m: string indices must be integers, not 'str'"
     ]
    }
   ],
   "source": [
    "celex_ids = []\n",
    "sparql_query = sparql_query_template.format('sanction')\n",
    "print(sparql_query)\n",
    "sparql.setQuery(sparql_query)\n",
    "sparql.setReturnFormat(JSON)\n",
    "results = sparql.query().convert()\n",
    "print(results)\n",
    "#celex_id = results[\"celexNumber\"][\"value\"]\n",
    "#print(celex_id)\n",
    "for result in results[\"head\"][\"vars\"]:\n",
    "        celex_id = result[\"celexNumber\"][\"value\"]\n",
    "        celex_ids.append(celex_id)\n",
    "celex_id"
   ]
  },
  {
   "cell_type": "code",
   "execution_count": null,
   "id": "de2aefa9-bf2a-43ff-bcf1-d44654a85685",
   "metadata": {},
   "outputs": [],
   "source": []
  },
  {
   "cell_type": "code",
   "execution_count": 7,
   "id": "1f84697c-5a99-4d24-bff4-a4384bbe9257",
   "metadata": {
    "tags": []
   },
   "outputs": [],
   "source": [
    "# Execute the queries for each keyword\n",
    "celex_ids = []\n",
    "for keyword in keywords:\n",
    "    sparql_query = sparql_query_template.format(keyword)\n",
    "    sparql.setQuery(sparql_query)\n",
    "    sparql.setReturnFormat(JSON)\n",
    "    results = sparql.query().convert()\n",
    "    for result in results[\"results\"][\"bindings\"]:\n",
    "        celex_id = results[\"celexNumber\"][\"value\"]\n",
    "        celex_ids.append(celex_id)"
   ]
  },
  {
   "cell_type": "code",
   "execution_count": 9,
   "id": "f2f87bfa-92f2-4993-985e-0fe3cfadb80c",
   "metadata": {
    "tags": []
   },
   "outputs": [
    {
     "data": {
      "text/plain": [
       "[]"
      ]
     },
     "execution_count": 9,
     "metadata": {},
     "output_type": "execute_result"
    }
   ],
   "source": [
    "celex_ids"
   ]
  },
  {
   "cell_type": "code",
   "execution_count": null,
   "id": "4585846e-5a7b-45dc-a49c-b8682c907e40",
   "metadata": {},
   "outputs": [],
   "source": [
    "# Deduplicate CELEX IDs\n",
    "celex_ids = list(set(celex_ids))\n",
    "\n",
    "# Print the CELEX IDs\n",
    "print(\"CELEX IDs:\")\n",
    "for celex_id in celex_ids:\n",
    "    print(celex_id)\n"
   ]
  },
  {
   "cell_type": "code",
   "execution_count": null,
   "id": "a0d05ad9-fd80-4810-9997-e88257924f58",
   "metadata": {},
   "outputs": [],
   "source": [
    "#take the CELEX IDs queried through the keyword searches and download all documents\n",
    "import eurlex\n",
    "from eurlex import get_html_by_celex_id, parse_html\n",
    "\n",
    "# Retrieve and parse the document with CELEX ID \"32019R0947\" into a Pandas DataFrame\n",
    "celex_id = data[\"CELEX_id\"].unique()\n",
    "\n",
    "for i in celex_id:\n",
    "    html = get_html_by_celex_id(celex_id)\n",
    "    df = parse_html(html)\n",
    "    corpus.append(df)"
   ]
  },
  {
   "cell_type": "code",
   "execution_count": 12,
   "id": "9e7a9417-b754-469a-814f-00aa6053ec7d",
   "metadata": {
    "collapsed": true,
    "jupyter": {
     "outputs_hidden": true
    },
    "tags": []
   },
   "outputs": [
    {
     "ename": "ImportError",
     "evalue": "cannot import name 'get_html_by_celex_id' from 'eurlex' (C:\\Users\\cecilianatalie.strom\\bin\\conda\\Lib\\site-packages\\eurlex\\__init__.py)",
     "output_type": "error",
     "traceback": [
      "\u001b[1;31m---------------------------------------------------------------------------\u001b[0m",
      "\u001b[1;31mImportError\u001b[0m                               Traceback (most recent call last)",
      "Cell \u001b[1;32mIn[12], line 3\u001b[0m\n\u001b[0;32m      1\u001b[0m \u001b[38;5;66;03m#take the CELEX IDs queried through the keyword searches and download all documents\u001b[39;00m\n\u001b[0;32m      2\u001b[0m \u001b[38;5;28;01mimport\u001b[39;00m \u001b[38;5;21;01meurlex\u001b[39;00m\n\u001b[1;32m----> 3\u001b[0m \u001b[38;5;28;01mfrom\u001b[39;00m \u001b[38;5;21;01meurlex\u001b[39;00m \u001b[38;5;28;01mimport\u001b[39;00m get_html_by_celex_id, parse_html\n\u001b[0;32m      5\u001b[0m \u001b[38;5;66;03m# Retrieve and parse the document with CELEX ID \"32019R0947\" into a Pandas DataFrame\u001b[39;00m\n\u001b[0;32m      6\u001b[0m celex_id \u001b[38;5;241m=\u001b[39m \u001b[38;5;124m\"\u001b[39m\u001b[38;5;124m32019R0947\u001b[39m\u001b[38;5;124m\"\u001b[39m\n",
      "\u001b[1;31mImportError\u001b[0m: cannot import name 'get_html_by_celex_id' from 'eurlex' (C:\\Users\\cecilianatalie.strom\\bin\\conda\\Lib\\site-packages\\eurlex\\__init__.py)"
     ]
    }
   ],
   "source": [
    "# Get the first line of Article 1\n",
    "df_article_1 = df[df.article == \"1\"]\n",
    "df_article_1_line_1 = df_article_1.iloc[0]\n",
    "\n",
    "# Display the subtitle of Article 1\n",
    "print(df_article_1_line_1.article_subtitle)\n",
    "\n",
    "\n",
    "# Display the corresponding text\n",
    "print(df_article_1_line_1.text)"
   ]
  },
  {
   "cell_type": "markdown",
   "id": "325751a9-39ce-4483-beb3-4bd042b2e8e4",
   "metadata": {
    "tags": []
   },
   "source": [
    "**Option 2 Python EU lex SPARQL query (https://pypi.org/project/pyeurlex/)**"
   ]
  },
  {
   "cell_type": "code",
   "execution_count": 13,
   "id": "3d4eb366-fd77-4d11-8507-452f7a753fe6",
   "metadata": {
    "collapsed": true,
    "jupyter": {
     "outputs_hidden": true
    },
    "tags": []
   },
   "outputs": [
    {
     "ename": "ImportError",
     "evalue": "cannot import name 'Eurlex' from 'eurlex' (C:\\Users\\cecilianatalie.strom\\bin\\conda\\Lib\\site-packages\\eurlex\\__init__.py)",
     "output_type": "error",
     "traceback": [
      "\u001b[1;31m---------------------------------------------------------------------------\u001b[0m",
      "\u001b[1;31mImportError\u001b[0m                               Traceback (most recent call last)",
      "Cell \u001b[1;32mIn[13], line 1\u001b[0m\n\u001b[1;32m----> 1\u001b[0m \u001b[38;5;28;01mfrom\u001b[39;00m \u001b[38;5;21;01meurlex\u001b[39;00m \u001b[38;5;28;01mimport\u001b[39;00m Eurlex\n\u001b[0;32m      2\u001b[0m eur \u001b[38;5;241m=\u001b[39m Eurlex()\n",
      "\u001b[1;31mImportError\u001b[0m: cannot import name 'Eurlex' from 'eurlex' (C:\\Users\\cecilianatalie.strom\\bin\\conda\\Lib\\site-packages\\eurlex\\__init__.py)"
     ]
    }
   ],
   "source": [
    "from eurlex import Eurlex\n",
    "eur = Eurlex()"
   ]
  },
  {
   "cell_type": "code",
   "execution_count": null,
   "id": "96e3198e-ab17-43f6-bfa3-53a28d3680a7",
   "metadata": {},
   "outputs": [],
   "source": [
    "#create a query based on the advanced expert search SPARQL query format of the eulex website\n",
    "q = eur.make_query(resource_type = \"caselaw\", order = True, limit = 10)\n",
    "print(q)"
   ]
  },
  {
   "cell_type": "code",
   "execution_count": null,
   "id": "1e5a55b6-84e9-48a0-9630-19a9422e2336",
   "metadata": {},
   "outputs": [],
   "source": [
    "d = eur.query_eurlex(q)  # where q is a query generated in a previous step or a string defined by you\n",
    "print(d)"
   ]
  },
  {
   "cell_type": "code",
   "execution_count": null,
   "id": "65b90570-827c-434c-9223-9504a15e805d",
   "metadata": {},
   "outputs": [],
   "source": [
    "PREFIX eurlex: <http://publications.europa.eu/ontology/euvoc#>\n",
    "\n",
    "SELECT ?document ?celexNumber\n",
    "WHERE {\n",
    "  ?document eurlex:hasCelexNumber ?celexNumber .\n",
    "  ?document eurlex:title ?title .\n",
    "  FILTER regex(?title, \"sanction\", \"i\") || regex(?title, \"war\", \"i\")\n",
    "}\n"
   ]
  },
  {
   "cell_type": "markdown",
   "id": "34f710af-03c7-4b0e-b11f-72a0e1ea6154",
   "metadata": {},
   "source": [
    "*This will return a pandas data frame of the results. Its columns depend on the the fields that you included. \n",
    "Once you pick a single url or identifier from the df, you can download a notice or data based on that indentifier. To download the notices as xml, use download_xml() as below.*\n",
    "\n",
    "\n",
    "*This step will need to be done in a loop to access and download all the files*"
   ]
  },
  {
   "cell_type": "code",
   "execution_count": null,
   "id": "6ae4f347-a0b8-45e8-8f87-f842e9d8d3b6",
   "metadata": {},
   "outputs": [],
   "source": [
    "x = eur.download_xml(\"32014R0001\", notice=\"tree\") # without the file parameter to specify the filename, the celex number will be used.\n",
    "print(x)\n",
    "\n",
    "#get thedata\n",
    "d = eur.get_data(\"http://publications.europa.eu/resource/celex/32016R0679\", type=\"text\")\n",
    "print(d)"
   ]
  },
  {
   "cell_type": "markdown",
   "id": "fda2bc6b-bc9a-4464-bcfa-37aa8fdc7852",
   "metadata": {},
   "source": [
    "**Option3: SPARQL query via EU Lex Expert Search**"
   ]
  },
  {
   "cell_type": "code",
   "execution_count": null,
   "id": "9002e97c-ab8b-43f1-9e6d-b6ca7230f270",
   "metadata": {},
   "outputs": [],
   "source": []
  },
  {
   "cell_type": "markdown",
   "id": "d398cf5f-f17f-425d-900c-66140afa9603",
   "metadata": {},
   "source": [
    "**Option 4: LEGALBERT**"
   ]
  },
  {
   "cell_type": "code",
   "execution_count": null,
   "id": "cd543d2f-e56e-48f6-952a-b336f2e5661f",
   "metadata": {},
   "outputs": [],
   "source": []
  }
 ],
 "metadata": {
  "kernelspec": {
   "display_name": "Python 3 (ipykernel)",
   "language": "python",
   "name": "python3"
  },
  "language_info": {
   "codemirror_mode": {
    "name": "ipython",
    "version": 3
   },
   "file_extension": ".py",
   "mimetype": "text/x-python",
   "name": "python",
   "nbconvert_exporter": "python",
   "pygments_lexer": "ipython3",
   "version": "3.11.5"
  }
 },
 "nbformat": 4,
 "nbformat_minor": 5
}
