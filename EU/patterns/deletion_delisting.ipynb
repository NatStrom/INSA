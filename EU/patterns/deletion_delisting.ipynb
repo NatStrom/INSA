{
 "cells": [
  {
   "cell_type": "markdown",
   "id": "e8e152f9-f224-4362-9a44-b2f2a044cf60",
   "metadata": {},
   "source": [
    "# Deletion and Delisting of enbntries"
   ]
  },
  {
   "cell_type": "code",
   "execution_count": null,
   "id": "6a1e75fe-d4cd-4079-8a9a-b97cd1c67877",
   "metadata": {},
   "outputs": [],
   "source": [
    "url1 = https://eur-lex.europa.eu/legal-content/EN/TXT/HTML/?uri=CELEX:32024D1019"
   ]
  }
 ],
 "metadata": {
  "kernelspec": {
   "display_name": "Python 3 (ipykernel)",
   "language": "python",
   "name": "python3"
  },
  "language_info": {
   "codemirror_mode": {
    "name": "ipython",
    "version": 3
   },
   "file_extension": ".py",
   "mimetype": "text/x-python",
   "name": "python",
   "nbconvert_exporter": "python",
   "pygments_lexer": "ipython3",
   "version": "3.11.5"
  }
 },
 "nbformat": 4,
 "nbformat_minor": 5
}
