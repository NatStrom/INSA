{
 "cells": [
  {
   "cell_type": "markdown",
   "id": "4137036f-78ae-4200-af64-da00533d0b8b",
   "metadata": {},
   "source": [
    "# Notice of listing for individual"
   ]
  },
  {
   "cell_type": "code",
   "execution_count": 1,
   "id": "1980bbff-d2de-4dec-8ba2-d544f1406d4a",
   "metadata": {},
   "outputs": [],
   "source": [
    "#load all neccessary packages\n",
    "import pandas\n",
    "import os\n",
    "import requests\n",
    "import re\n",
    "from bs4 import BeautifulSoup\n",
    "url = 'https://eur-lex.europa.eu/legal-content/EN/TXT/HTML/?uri=CELEX:52021XG0416(01)'"
   ]
  },
  {
   "cell_type": "code",
   "execution_count": 2,
   "id": "b13757fd-279e-4b04-8987-57dd4e0b18fe",
   "metadata": {
    "tags": []
   },
   "outputs": [
    {
     "name": "stdout",
     "output_type": "stream",
     "text": [
      "200\n"
     ]
    },
    {
     "data": {
      "text/plain": [
       "'<?xml version=\"1.0\" encoding=\"UTF-8\"?>\\r\\n<!DOCTYPE html PUBLIC \"-//W3C//DTD XHTML//EN\" \"xhtml-strict.dtd\">\\r\\n<html xmlns=\"http://www.w3.org/1999/xhtml\">\\r\\n<!-- CONVEX # converter_version:9.6.0 # generated_on:20210419-1314 -->\\r\\n<head><meta name=\"format-detection\" content=\"telephone=no\"/>\\n   <meta http-equiv=\"content-type\" content=\"text/html; charset=utf-8\"/>\\n   <script type=\"text/javascript\" src=\"/eurlex-frontoffice/ruxitagentjs_ICANVfgqrux_10289240325103055.js\" data-dtconfig=\"app=47d4c64c3b67ec69|agentId=488382bc0eab365f|featureHash=ICANVfgqrux|rdnt=1|uxrgce=1|bp=3|cuc=m097nmfl|mel=100000|mb=null|dpvc=1|iub=null|ssv=4|lastModification=1723544750675|tp=500,50,0|agentUri=/eurlex-frontoffice/ruxitagentjs_ICANVfgqrux_10289240325103055.js|reportUrl=/eurlex-frontoffice/rb_39a3e95b-5423-482c-879b-99ef235dffeb|rid=RID_1073293929|rpid=1484014387|domain=europa.eu\"></script><link type=\"text/css\" rel=\"stylesheet\" href=\"./../../../../css/oj/oj-convex.css\"/>\\n   <title>C_2021133EN.01000301.xml</title>\\n<link rel=\"canonical\" href=\"https://eur-lex.europa.eu/legal-content/EN/TXT/HTML/?uri=CELEX%3A52021XG0416%2801%29\"/>\\n</head>\\n<body>\\n   <table width=\"100%\" border=\"0\" cellspacing=\"0\" cellpadding=\"0\">\\n      <col width=\"10%\"/>\\n      <col width=\"10%\"/>\\n      <col width=\"60%\"/>\\n      <col width=\"20%\"/>\\n      <tbody>\\n         <tr>\\n            <td>\\n               <p class=\"oj-hd-date\">16.4.2021\\xa0\\xa0\\xa0</p>\\n            </td>\\n            <td>\\n               <p class=\"oj-hd-lg\">EN</p>\\n            </td>\\n            <td>\\n               <p class=\"oj-hd-ti\">Official Journal of the European Union</p>\\n            </td>\\n            <td>\\n               <p class=\"oj-hd-oj\">C 133/3</p>\\n            </td>\\n         </tr>\\n      </tbody>\\n   </table>\\n   <hr class=\"oj-separator\"/>\\n   <div>\\n      <p class=\"oj-doc-ti\" id=\"d1e35-3-1\">Notice for the attention of the person subject to restrictive measures provided for in Council Decision (CFSP) 2016/1693, as amended by Council Decision (CFSP) 2021/613, and Council Regulation (EU) 2016/1686, as implemented by Council Implementing Regulation (EU) 2021/612 imposing additional restrictive measures directed against ISIL (Da’esh) and Al-Qaeda and natural and legal persons, entities or bodies associated with them</p>\\n      <p class=\"oj-no-doc-c\">(2021/C 133/03)</p>\\n      <p class=\"oj-normal\">The following information is brought to the attention of Mr Mesut SEKERCI, the person listed in the Annex to Council Decision (CFSP) 2016/1693\\xa0<a id=\"ntc1-C_2021133EN.01000301-E0001\" href=\"#ntr1-C_2021133EN.01000301-E0001\">(<span class=\"oj-super oj-note-tag\">1</span>)</a>, as amended by Council Decision (CFSP) 2021/613\\xa0<a id=\"ntc2-C_2021133EN.01000301-E0002\" href=\"#ntr2-C_2021133EN.01000301-E0002\">(<span class=\"oj-super oj-note-tag\">2</span>)</a>, and in Annex I to Council Regulation (EU) 2016/1686\\xa0<a id=\"ntc3-C_2021133EN.01000301-E0003\" href=\"#ntr3-C_2021133EN.01000301-E0003\">(<span class=\"oj-super oj-note-tag\">3</span>)</a>, as implemented by Council Implementing Regulation (EU) 2021/612\\xa0<a id=\"ntc4-C_2021133EN.01000301-E0004\" href=\"#ntr4-C_2021133EN.01000301-E0004\">(<span class=\"oj-super oj-note-tag\">4</span>)</a> imposing additional restrictive measures directed against ISIL (Da’esh) and Al-Qaeda and natural and legal persons, entities or bodies associated with them.</p>\\n      <p class=\"oj-normal\">The Council of the European Union has decided that the person who appears in the abovementioned Annexes should be included on the list of persons, groups, undertakings and entities subject to restrictive measures provided for in Decision (CFSP) 2016/1693 and in Regulation (EU) 2016/1686.</p>\\n      <p class=\"oj-normal\">The attention of the person concerned is drawn to the possibility of making an application to the competent authorities of the relevant Member State(s) as listed in Annex II to Regulation (EU) 2016/1686 in order to obtain an authorisation to use frozen funds for essential needs or specific payments in accordance with Article\\xa05 of that Regulation.</p>\\n      <p class=\"oj-normal\">The person concerned may submit a request to obtain the Council’s statement of reasons for including him on the abovementioned list. Any such request should be sent to the following address:</p>\\n      <table border=\"0\" width=\"100%\" cellspacing=\"0\" cellpadding=\"0\">\\n         <col width=\"100%\"/>\\n         <tbody>\\n            <tr>\\n               <td>\\n                  <p class=\"oj-addr\">Council of the European Union</p>\\n               </td>\\n            </tr>\\n            <tr>\\n               <td>\\n                  <p class=\"oj-addr\">General Secretariat</p>\\n               </td>\\n            </tr>\\n            <tr>\\n               <td>\\n                  <p class=\"oj-addr\">RELEX.1.C</p>\\n               </td>\\n            </tr>\\n            <tr>\\n               <td>\\n                  <p class=\"oj-addr\">Rue de la Loi/Wetstraat 175</p>\\n               </td>\\n            </tr>\\n            <tr>\\n               <td>\\n                  <p class=\"oj-addr\">1048 Bruxelles/Brussel</p>\\n               </td>\\n            </tr>\\n            <tr>\\n               <td>\\n                  <p class=\"oj-addr\">BELGIQUE/BELGIË</p>\\n               </td>\\n            </tr>\\n         </tbody>\\n      </table>\\n      <p class=\"oj-normal\">Email: sanctions@consilium.europa.eu</p>\\n      <p class=\"oj-normal\">The person concerned may at any time submit a request to the Council, together with any supporting documentation, that the decision to include him on the list should be reconsidered, to the address provided above. In this regard, the attention of the person concerned is drawn to the regular review by the Council of the list according to Article\\xa06(2) of Decision (CFSP) 2016/1693 and Article\\xa04(4) of Regulation (EU) 2016/1686. In order for requests to be considered at the next review, they should be submitted by 15\\xa0July 2021.</p>\\n      <p class=\"oj-normal\">The attention of the person concerned is also drawn to the possibility of challenging the Council’s decision before the General Court of the European Union, in accordance with the conditions laid down in Article\\xa0275, second paragraph, and Article\\xa0263, fourth and sixth paragraphs, of the Treaty on the Functioning of the European Union.</p>\\n      <hr class=\"oj-note\"/>\\n      <p class=\"oj-note\">\\n         <a id=\"ntr1-C_2021133EN.01000301-E0001\" href=\"#ntc1-C_2021133EN.01000301-E0001\">(<span class=\"oj-super\">1</span>)</a>\\xa0\\xa0<a href=\"./../../../../legal-content/EN/AUTO/?uri=OJ:L:2016:255:TOC\">OJ L 255, 21.9.2016, p. 25</a>.</p>\\n      <p class=\"oj-note\">\\n         <a id=\"ntr2-C_2021133EN.01000301-E0002\" href=\"#ntc2-C_2021133EN.01000301-E0002\">(<span class=\"oj-super\">2</span>)</a>\\xa0\\xa0<a href=\"./../../../../legal-content/EN/AUTO/?uri=OJ:L:2021:129I:TOC\">OJ L 129 I, 15.4.2021, p. 4</a>.</p>\\n      <p class=\"oj-note\">\\n         <a id=\"ntr3-C_2021133EN.01000301-E0003\" href=\"#ntc3-C_2021133EN.01000301-E0003\">(<span class=\"oj-super\">3</span>)</a>\\xa0\\xa0<a href=\"./../../../../legal-content/EN/AUTO/?uri=OJ:L:2016:255:TOC\">OJ L 255, 21.9.2016, p. 1</a>.</p>\\n      <p class=\"oj-note\">\\n         <a id=\"ntr4-C_2021133EN.01000301-E0004\" href=\"#ntc4-C_2021133EN.01000301-E0004\">(<span class=\"oj-super\">4</span>)</a>\\xa0\\xa0<a href=\"./../../../../legal-content/EN/AUTO/?uri=OJ:L:2021:129I:TOC\">OJ L 129 I, 15.4.2021, p. 1</a>.</p>\\n   </div>\\n   <hr class=\"oj-doc-end\"/>\\n</body>\\r\\n</html>\\r\\n'"
      ]
     },
     "execution_count": 2,
     "metadata": {},
     "output_type": "execute_result"
    }
   ],
   "source": [
    "response = requests.get(url)\n",
    "print(response.status_code)\n",
    "data = response.text\n",
    "data"
   ]
  },
  {
   "cell_type": "code",
   "execution_count": 4,
   "id": "7b778884-a753-4440-9a1c-b079eb5eacff",
   "metadata": {
    "tags": []
   },
   "outputs": [
    {
     "data": {
      "text/plain": [
       "<?xml version=\"1.0\" encoding=\"UTF-8\"?>\n",
       "<!DOCTYPE html PUBLIC \"-//W3C//DTD XHTML//EN\" \"xhtml-strict.dtd\">\n",
       "\n",
       "<html xmlns=\"http://www.w3.org/1999/xhtml\">\n",
       "<!-- CONVEX # converter_version:9.6.0 # generated_on:20210419-1314 -->\n",
       "<head><meta content=\"telephone=no\" name=\"format-detection\"/>\n",
       "<meta content=\"text/html; charset=utf-8\" http-equiv=\"content-type\"/>\n",
       "<script data-dtconfig=\"app=47d4c64c3b67ec69|agentId=488382bc0eab365f|featureHash=ICANVfgqrux|rdnt=1|uxrgce=1|bp=3|cuc=m097nmfl|mel=100000|mb=null|dpvc=1|iub=null|ssv=4|lastModification=1723544750675|tp=500,50,0|agentUri=/eurlex-frontoffice/ruxitagentjs_ICANVfgqrux_10289240325103055.js|reportUrl=/eurlex-frontoffice/rb_39a3e95b-5423-482c-879b-99ef235dffeb|rid=RID_1073293929|rpid=1484014387|domain=europa.eu\" src=\"/eurlex-frontoffice/ruxitagentjs_ICANVfgqrux_10289240325103055.js\" type=\"text/javascript\"></script><link href=\"./../../../../css/oj/oj-convex.css\" rel=\"stylesheet\" type=\"text/css\"/>\n",
       "<title>C_2021133EN.01000301.xml</title>\n",
       "<link href=\"https://eur-lex.europa.eu/legal-content/EN/TXT/HTML/?uri=CELEX%3A52021XG0416%2801%29\" rel=\"canonical\"/>\n",
       "</head>\n",
       "<body>\n",
       "<table border=\"0\" cellpadding=\"0\" cellspacing=\"0\" width=\"100%\">\n",
       "<col width=\"10%\"/>\n",
       "<col width=\"10%\"/>\n",
       "<col width=\"60%\"/>\n",
       "<col width=\"20%\"/>\n",
       "<tbody>\n",
       "<tr>\n",
       "<td>\n",
       "<p class=\"oj-hd-date\">16.4.2021   </p>\n",
       "</td>\n",
       "<td>\n",
       "<p class=\"oj-hd-lg\">EN</p>\n",
       "</td>\n",
       "<td>\n",
       "<p class=\"oj-hd-ti\">Official Journal of the European Union</p>\n",
       "</td>\n",
       "<td>\n",
       "<p class=\"oj-hd-oj\">C 133/3</p>\n",
       "</td>\n",
       "</tr>\n",
       "</tbody>\n",
       "</table>\n",
       "<hr class=\"oj-separator\"/>\n",
       "<div>\n",
       "<p class=\"oj-doc-ti\" id=\"d1e35-3-1\">Notice for the attention of the person subject to restrictive measures provided for in Council Decision (CFSP) 2016/1693, as amended by Council Decision (CFSP) 2021/613, and Council Regulation (EU) 2016/1686, as implemented by Council Implementing Regulation (EU) 2021/612 imposing additional restrictive measures directed against ISIL (Da’esh) and Al-Qaeda and natural and legal persons, entities or bodies associated with them</p>\n",
       "<p class=\"oj-no-doc-c\">(2021/C 133/03)</p>\n",
       "<p class=\"oj-normal\">The following information is brought to the attention of Mr Mesut SEKERCI, the person listed in the Annex to Council Decision (CFSP) 2016/1693 <a href=\"#ntr1-C_2021133EN.01000301-E0001\" id=\"ntc1-C_2021133EN.01000301-E0001\">(<span class=\"oj-super oj-note-tag\">1</span>)</a>, as amended by Council Decision (CFSP) 2021/613 <a href=\"#ntr2-C_2021133EN.01000301-E0002\" id=\"ntc2-C_2021133EN.01000301-E0002\">(<span class=\"oj-super oj-note-tag\">2</span>)</a>, and in Annex I to Council Regulation (EU) 2016/1686 <a href=\"#ntr3-C_2021133EN.01000301-E0003\" id=\"ntc3-C_2021133EN.01000301-E0003\">(<span class=\"oj-super oj-note-tag\">3</span>)</a>, as implemented by Council Implementing Regulation (EU) 2021/612 <a href=\"#ntr4-C_2021133EN.01000301-E0004\" id=\"ntc4-C_2021133EN.01000301-E0004\">(<span class=\"oj-super oj-note-tag\">4</span>)</a> imposing additional restrictive measures directed against ISIL (Da’esh) and Al-Qaeda and natural and legal persons, entities or bodies associated with them.</p>\n",
       "<p class=\"oj-normal\">The Council of the European Union has decided that the person who appears in the abovementioned Annexes should be included on the list of persons, groups, undertakings and entities subject to restrictive measures provided for in Decision (CFSP) 2016/1693 and in Regulation (EU) 2016/1686.</p>\n",
       "<p class=\"oj-normal\">The attention of the person concerned is drawn to the possibility of making an application to the competent authorities of the relevant Member State(s) as listed in Annex II to Regulation (EU) 2016/1686 in order to obtain an authorisation to use frozen funds for essential needs or specific payments in accordance with Article 5 of that Regulation.</p>\n",
       "<p class=\"oj-normal\">The person concerned may submit a request to obtain the Council’s statement of reasons for including him on the abovementioned list. Any such request should be sent to the following address:</p>\n",
       "<table border=\"0\" cellpadding=\"0\" cellspacing=\"0\" width=\"100%\">\n",
       "<col width=\"100%\"/>\n",
       "<tbody>\n",
       "<tr>\n",
       "<td>\n",
       "<p class=\"oj-addr\">Council of the European Union</p>\n",
       "</td>\n",
       "</tr>\n",
       "<tr>\n",
       "<td>\n",
       "<p class=\"oj-addr\">General Secretariat</p>\n",
       "</td>\n",
       "</tr>\n",
       "<tr>\n",
       "<td>\n",
       "<p class=\"oj-addr\">RELEX.1.C</p>\n",
       "</td>\n",
       "</tr>\n",
       "<tr>\n",
       "<td>\n",
       "<p class=\"oj-addr\">Rue de la Loi/Wetstraat 175</p>\n",
       "</td>\n",
       "</tr>\n",
       "<tr>\n",
       "<td>\n",
       "<p class=\"oj-addr\">1048 Bruxelles/Brussel</p>\n",
       "</td>\n",
       "</tr>\n",
       "<tr>\n",
       "<td>\n",
       "<p class=\"oj-addr\">BELGIQUE/BELGIË</p>\n",
       "</td>\n",
       "</tr>\n",
       "</tbody>\n",
       "</table>\n",
       "<p class=\"oj-normal\">Email: sanctions@consilium.europa.eu</p>\n",
       "<p class=\"oj-normal\">The person concerned may at any time submit a request to the Council, together with any supporting documentation, that the decision to include him on the list should be reconsidered, to the address provided above. In this regard, the attention of the person concerned is drawn to the regular review by the Council of the list according to Article 6(2) of Decision (CFSP) 2016/1693 and Article 4(4) of Regulation (EU) 2016/1686. In order for requests to be considered at the next review, they should be submitted by 15 July 2021.</p>\n",
       "<p class=\"oj-normal\">The attention of the person concerned is also drawn to the possibility of challenging the Council’s decision before the General Court of the European Union, in accordance with the conditions laid down in Article 275, second paragraph, and Article 263, fourth and sixth paragraphs, of the Treaty on the Functioning of the European Union.</p>\n",
       "<hr class=\"oj-note\"/>\n",
       "<p class=\"oj-note\">\n",
       "<a href=\"#ntc1-C_2021133EN.01000301-E0001\" id=\"ntr1-C_2021133EN.01000301-E0001\">(<span class=\"oj-super\">1</span>)</a>  <a href=\"./../../../../legal-content/EN/AUTO/?uri=OJ:L:2016:255:TOC\">OJ L 255, 21.9.2016, p. 25</a>.</p>\n",
       "<p class=\"oj-note\">\n",
       "<a href=\"#ntc2-C_2021133EN.01000301-E0002\" id=\"ntr2-C_2021133EN.01000301-E0002\">(<span class=\"oj-super\">2</span>)</a>  <a href=\"./../../../../legal-content/EN/AUTO/?uri=OJ:L:2021:129I:TOC\">OJ L 129 I, 15.4.2021, p. 4</a>.</p>\n",
       "<p class=\"oj-note\">\n",
       "<a href=\"#ntc3-C_2021133EN.01000301-E0003\" id=\"ntr3-C_2021133EN.01000301-E0003\">(<span class=\"oj-super\">3</span>)</a>  <a href=\"./../../../../legal-content/EN/AUTO/?uri=OJ:L:2016:255:TOC\">OJ L 255, 21.9.2016, p. 1</a>.</p>\n",
       "<p class=\"oj-note\">\n",
       "<a href=\"#ntc4-C_2021133EN.01000301-E0004\" id=\"ntr4-C_2021133EN.01000301-E0004\">(<span class=\"oj-super\">4</span>)</a>  <a href=\"./../../../../legal-content/EN/AUTO/?uri=OJ:L:2021:129I:TOC\">OJ L 129 I, 15.4.2021, p. 1</a>.</p>\n",
       "</div>\n",
       "<hr class=\"oj-doc-end\"/>\n",
       "</body>\n",
       "</html>"
      ]
     },
     "execution_count": 4,
     "metadata": {},
     "output_type": "execute_result"
    }
   ],
   "source": [
    "soup = BeautifulSoup(data, 'html.parser')\n",
    "soup"
   ]
  },
  {
   "cell_type": "code",
   "execution_count": 9,
   "id": "c795d563-d731-49b1-af64-974aa83861ba",
   "metadata": {
    "tags": []
   },
   "outputs": [
    {
     "name": "stdout",
     "output_type": "stream",
     "text": [
      "{'url': ['https://eur-lex.europa.eu/legal-content/EN/TXT/HTML/?uri=CELEX%3A52021XG0416%2801%29'], 'celex': ['3A52021XG0416%2801%29'], 'title': 'Notice for the attention of the person subject to restrictive measures provided for in Council Decision (CFSP) 2016/1693, as amended by Council Decision (CFSP) 2021/613, and Council Regulation (EU) 2016/1686, as implemented by Council Implementing Regulation (EU) 2021/612 imposing additional restrictive measures directed against ISIL (Da’esh) and Al-Qaeda and natural and legal persons, entities or bodies associated with them', 'notice_date': '16.4.2021', 'case_number': [], 'law_number': ['133/3'], 'legal_base': ['Decision (CFSP) 2016/1693', 'Decision (CFSP) 2021/613', 'Regulation (EU) 2016/1686', 'Regulation (EU) 2021/612 imposing additional restrictive measures directed against ISIL (Da’esh) and Al-Qaeda and natural and legal persons', 'Annex to Council Decision (CFSP) 2016/1693(1)', 'Decision (CFSP) 2021/613(2)', 'Annex I to Council Regulation (EU) 2016/1686(3)', 'Regulation (EU) 2021/612(4)imposing additional restrictive measures directed against ISIL (Da’esh) and Al-Qaeda and natural and legal persons', 'Annexes should be included on the list of persons', 'Decision (CFSP) 2016/1693 and in Regulation (EU) 2016/1686.', 'Annex II to Regulation (EU) 2016/1686 in order to obtain an authorisation to use frozen funds for essential needs or specific payments in accordance with Article\\xa05 of that Regulation.', 'decision to include him on the list should be reconsidered', 'Decision (CFSP) 2016/1693 and Article\\xa04(4) of Regulation (EU) 2016/1686. In order for requests to be considered at the next review', 'decision before the General Court of the European Union'], 'action_intended': 'amended', 'notice_target': ['Mr Mesut SEKERCI']}\n"
     ]
    }
   ],
   "source": [
    "#patterns for notices\n",
    "#get the document base Information       \n",
    "url= re.findall(r'href=\"(.*?\\.eu/legal-content/EN/TXT/HTML/.*?)\"',data) #finds the url through the href tag\n",
    "celex= re.findall(r'uri=CELEX%([^\"]+)',data) # get the celex id\n",
    "case_number = re.findall(r'Case\\sT-\\d+/\\d+', data)\n",
    "law_number = re.findall(r'<p class=\"oj-hd-oj\">C (\\d+/\\d+)</p>',data)\n",
    "action = re.findall(r'<p class=\"(oj-normal|oj-bold|normal)\">\\s*.*?\\b(removed|updated|deleted|replaced|amended)\\b.*?\\s*</p>', data)\n",
    "action_intended= action[0]\n",
    "#notice pattern\n",
    "notice_target = re.findall(r'The following information is brought to the attention of\\s*(.*?),', data)\n",
    "\n",
    "def extract_publication_details(soup):\n",
    "    publication_date = soup.find('p', class_='oj-hd-date').get_text(strip=True)\n",
    "    title = soup.find('p', class_='oj-doc-ti').get_text(strip=True)\n",
    "    return publication_date, title\n",
    "\n",
    "def extract_legal_base(soup):\n",
    "    # Extract \"Decision\", \"Regulation\", or \"Annex\" related information\n",
    "    legal_base = []\n",
    "    paragraphs = soup.find_all('p')\n",
    "    for p in paragraphs:\n",
    "        text = p.get_text(strip=True)\n",
    "        matches = re.findall(r'(Decision[^,]*|Regulation[^,]*|Annex[^,]*)', text, re.IGNORECASE)\n",
    "        if matches:\n",
    "            legal_base.extend(matches)\n",
    "    return legal_base\n",
    "\n",
    "legal_base = extract_legal_base(soup)\n",
    "publication_details = extract_publication_details(soup)\n",
    "notice_list = []\n",
    "notice_list = {'url': url,\n",
    "               'celex' : celex,\n",
    "               'title' : publication_details[1],\n",
    "               'notice_date' : publication_details[0],\n",
    "               'case_number' : case_number,\n",
    "               'law_number' : law_number,\n",
    "               'legal_base' : extract_legal_base(soup),\n",
    "               'action_intended' : action_intended[1],\n",
    "               'notice_target' : notice_target}\n",
    "\n",
    "print(notice_list)\n",
    "\n",
    "#print(url,celex,case_number,law_number,action_intended,notice_target)"
   ]
  },
  {
   "cell_type": "code",
   "execution_count": null,
   "id": "925549d2-b448-45b1-b90e-e6a83116ae90",
   "metadata": {},
   "outputs": [],
   "source": []
  }
 ],
 "metadata": {
  "kernelspec": {
   "display_name": "Python 3 (ipykernel)",
   "language": "python",
   "name": "python3"
  },
  "language_info": {
   "codemirror_mode": {
    "name": "ipython",
    "version": 3
   },
   "file_extension": ".py",
   "mimetype": "text/x-python",
   "name": "python",
   "nbconvert_exporter": "python",
   "pygments_lexer": "ipython3",
   "version": "3.11.7"
  }
 },
 "nbformat": 4,
 "nbformat_minor": 5
}
