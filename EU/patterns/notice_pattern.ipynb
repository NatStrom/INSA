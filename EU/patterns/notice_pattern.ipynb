{
 "cells": [
  {
   "cell_type": "markdown",
   "id": "4137036f-78ae-4200-af64-da00533d0b8b",
   "metadata": {},
   "source": [
    "# Notice of listing for individual"
   ]
  },
  {
   "cell_type": "code",
   "execution_count": null,
   "id": "1980bbff-d2de-4dec-8ba2-d544f1406d4a",
   "metadata": {},
   "outputs": [],
   "source": [
    "url = https://eur-lex.europa.eu/legal-content/EN/TXT/HTML/?uri=CELEX:52021XG0416(01)"
   ]
  }
 ],
 "metadata": {
  "kernelspec": {
   "display_name": "Python 3 (ipykernel)",
   "language": "python",
   "name": "python3"
  },
  "language_info": {
   "codemirror_mode": {
    "name": "ipython",
    "version": 3
   },
   "file_extension": ".py",
   "mimetype": "text/x-python",
   "name": "python",
   "nbconvert_exporter": "python",
   "pygments_lexer": "ipython3",
   "version": "3.11.7"
  }
 },
 "nbformat": 4,
 "nbformat_minor": 5
}
