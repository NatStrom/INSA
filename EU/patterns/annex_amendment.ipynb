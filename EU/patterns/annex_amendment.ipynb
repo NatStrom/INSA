{
 "cells": [
  {
   "cell_type": "markdown",
   "id": "ca1b3dc0-58e1-49e7-a566-d86f72b80a43",
   "metadata": {},
   "source": [
    "# pattern for simple amendments to annex"
   ]
  },
  {
   "cell_type": "code",
   "execution_count": 1,
   "id": "9cd4708f-3c60-4c44-af7c-3b575899740a",
   "metadata": {
    "tags": []
   },
   "outputs": [
    {
     "name": "stdout",
     "output_type": "stream",
     "text": [
      "200\n"
     ]
    },
    {
     "data": {
      "text/plain": [
       "'<?xml version=\"1.0\" encoding=\"UTF-8\"?>\\r\\n<!DOCTYPE html PUBLIC \"-//W3C//DTD XHTML//EN\" \"xhtml-strict.dtd\">\\r\\n<html xmlns=\"http://www.w3.org/1999/xhtml\">\\r\\n<!-- CONVEX # converter_version:9.15.0 # generated_on:20240314-0520 # ELI version:0.10 -->\\r\\n<head><meta name=\"format-detection\" content=\"telephone=no\"/><meta http-equiv=\\'X-UA-Compatible\\' content=\\'IE=edge\\'/><meta name=\\'viewport\\' content=\\'width=device-width, initial-scale=1\\'><meta name=\\'WT.z_usr_lan\\' content=\\'EN\\'>\\n   <meta http-equiv=\"content-type\" content=\"text/html; charset=utf-8\"/>\\n   <script type=\"text/javascript\" src=\"/ruxitagentjs_ICANVfgqrux_10289240325103055.js\" data-dtconfig=\"app=47d4c64c3b67ec69|agentId=2801507a3763167f|featureHash=ICANVfgqrux|rdnt=1|uxrgce=1|bp=3|cuc=m097nmfl|mel=100000|mb=null|dpvc=1|iub=null|ssv=4|lastModification=1720772123244|tp=500,50,0|agentUri=/ruxitagentjs_ICANVfgqrux_10289240325103055.js|reportUrl=/rb_39a3e95b-5423-482c-879b-99ef235dffeb|rid=RID_2079675099|rpid=1903599457|domain=europa.eu\"></script><link type=\"text/css\" rel=\"stylesheet\" href=\"./../../../../css/oj/oj-convex.css\"/>\\n   <title>L_2022056EN.01000101.xml</title>\\n<link rel=\"canonical\" href=\"https://eur-lex.europa.eu/legal-content/EN/TXT/HTML/?uri=CELEX%3A32022R0340\"/>\\n<link rel=\\'stylesheet\\' media=\\'all\\' href=\\'./../../../../revamp/components/vendor/bootstrap/dist/css/bootstrap.css\\'><link rel=\\'stylesheet\\' media=\\'all\\' href=\\'./../../../../revamp/components/vendor/font-awesome/css/font-awesome.min.css\\'><link rel=\\'stylesheet\\' media=\\'all\\' href=\\'./../../../../revamp/css/eurlex.css\\'><link rel=\\'stylesheet\\' media=\\'all\\' href=\\'./../../../../revamp/css/eurlex-dev.css\\'><link rel=\\'stylesheet\\' media=\\'all\\' href=\\'./../../../../css/oj/oj.css\\'></head>\\n<body>\\n   <table width=\"100%\" border=\"0\" cellspacing=\"0\" cellpadding=\"0\">\\n      <col width=\"10%\"/>\\n      <col width=\"10%\"/>\\n      <col width=\"60%\"/>\\n      <col width=\"20%\"/>\\n      <tbody>\\n         <tr>\\n            <td>\\n               <p class=\"oj-hd-date\">28.2.2022\\xa0\\xa0\\xa0</p>\\n            </td>\\n            <td>\\n               <p class=\"oj-hd-lg\">EN</p>\\n            </td>\\n            <td>\\n               <p class=\"oj-hd-ti\">Official Journal of the European Union</p>\\n            </td>\\n            <td>\\n               <p class=\"oj-hd-oj\">L 56/1</p>\\n            </td>\\n         </tr>\\n      </tbody>\\n   </table>\\n   <hr class=\"oj-separator\"/>\\n   <div class=\"eli-container\">\\n      <div class=\"eli-main-title\" id=\"tit_1\">\\n         <p class=\"oj-doc-ti\" id=\"d1e39-1-1\">\\n            COUNCIL IMPLEMENTING REGULATION (EU)\\xa02022/340</p>\\n         <p class=\"oj-doc-ti\">of 28\\xa0February 2022\\n         </p>\\n         <p class=\"oj-doc-ti\">implementing Article\\xa012 of Regulation (EU) No\\xa0356/2010 imposing certain specific restrictive measures directed against certain natural or legal persons, entities or bodies, in view of the situation in Somalia</p>\\n      </div>\\n      <div class=\"eli-subdivision\" id=\"pbl_1\">\\n         <p class=\"oj-normal\">THE COUNCIL OF THE EUROPEAN UNION,</p>\\n         <div class=\"eli-subdivision\" id=\"cit_1\">\\n            <p class=\"oj-normal\">Having regard to the Treaty on the Functioning of the European\\xa0Union,</p>\\n         </div>\\n         <div class=\"eli-subdivision\" id=\"cit_2\">\\n            <p class=\"oj-normal\">Having regard to Council Regulation (EU) No\\xa0356/2010 of\\xa026\\xa0April\\xa02010 imposing certain specific restrictive measures directed against certain natural or legal persons, entities or bodies, in view of the situation in Somalia\\xa0<a id=\"ntc1-L_2022056EN.01000101-E0001\" href=\"#ntr1-L_2022056EN.01000101-E0001\">(<span class=\"oj-super oj-note-tag\">1</span>)</a>, and in particular Article\\xa012 thereof,</p>\\n         </div>\\n         <div class=\"eli-subdivision\" id=\"cit_3\">\\n            <p class=\"oj-normal\">Having regard to the proposal from the High Representative of the Union for Foreign Affairs and Security Policy,</p>\\n         </div>\\n         <p class=\"oj-normal\">Whereas:</p>\\n         <div class=\"eli-subdivision\" id=\"rct_1\">\\n            <table width=\"100%\" border=\"0\" cellspacing=\"0\" cellpadding=\"0\">\\n               <col width=\"4%\"/>\\n               <col width=\"96%\"/>\\n               <tbody>\\n                  <tr>\\n                     <td valign=\"top\">\\n                        <p class=\"oj-normal\">(1)</p>\\n                     </td>\\n                     <td valign=\"top\">\\n                        <p class=\"oj-normal\">On\\xa026\\xa0April\\xa02010 the Council adopted Regulation (EU) No\\xa0356/2010.</p>\\n                     </td>\\n                  </tr>\\n               </tbody>\\n            </table>\\n         </div>\\n         <div class=\"eli-subdivision\" id=\"rct_2\">\\n            <table width=\"100%\" border=\"0\" cellspacing=\"0\" cellpadding=\"0\">\\n               <col width=\"4%\"/>\\n               <col width=\"96%\"/>\\n               <tbody>\\n                  <tr>\\n                     <td valign=\"top\">\\n                        <p class=\"oj-normal\">(2)</p>\\n                     </td>\\n                     <td valign=\"top\">\\n                        <p class=\"oj-normal\">On\\xa018\\xa0February 2022 the United Nations Security Council (UNSC) Committee established pursuant to UNSC Resolution\\xa0751 (1992) approved the addition of one person to the list of persons and entities subject to restrictive measures.</p>\\n                     </td>\\n                  </tr>\\n               </tbody>\\n            </table>\\n         </div>\\n         <div class=\"eli-subdivision\" id=\"rct_3\">\\n            <table width=\"100%\" border=\"0\" cellspacing=\"0\" cellpadding=\"0\">\\n               <col width=\"4%\"/>\\n               <col width=\"96%\"/>\\n               <tbody>\\n                  <tr>\\n                     <td valign=\"top\">\\n                        <p class=\"oj-normal\">(3)</p>\\n                     </td>\\n                     <td valign=\"top\">\\n                        <p class=\"oj-normal\">Annex I to Regulation (EU)\\xa0No\\xa0356/2010 should therefore be amended accordingly,</p>\\n                     </td>\\n                  </tr>\\n               </tbody>\\n            </table>\\n         </div>\\n         <p class=\"oj-normal\">HAS ADOPTED THIS REGULATION:</p>\\n      </div>\\n      <div class=\"eli-subdivision\" id=\"enc_1\">\\n         <div class=\"eli-subdivision\" id=\"art_1\">\\n            <p id=\"d1e100-1-1\" class=\"oj-ti-art\">Article\\xa01</p>\\n            <p class=\"oj-normal\">Annex I to Regulation (EU) No\\xa0356/2010 is amended as set out in the Annex to this\\xa0Regulation.</p>\\n         </div>\\n         <div class=\"eli-subdivision\" id=\"art_2\">\\n            <p id=\"d1e105-1-1\" class=\"oj-ti-art\">Article\\xa02</p>\\n            <p class=\"oj-normal\">This Regulation shall enter into force on the date of its publication in the <span class=\"oj-italic\">Official Journal of the European\\xa0Union</span>.</p>\\n         </div>\\n      </div>\\n      <div class=\"eli-subdivision\" id=\"fnp_1\">\\n         <div class=\"oj-final\">\\n            <p class=\"oj-normal\">This Regulation shall be binding in its entirety and directly applicable in all Member\\xa0States.</p>\\n            <p class=\"oj-normal\">Done at Brussels, 28\\xa0February 2022.</p>\\n            <div class=\"oj-signatory\">\\n               <p class=\"oj-signatory\">\\n                  <span class=\"oj-italic\">For the Council</span>\\n               </p>\\n               <p class=\"oj-signatory\">\\n                  <span class=\"oj-italic\">The President</span>\\n               </p>\\n               <p class=\"oj-signatory\">J.-Y. LE DRIAN\\n            </p>\\n            </div>\\n         </div>\\n      </div>\\n      <hr class=\"oj-note\"/>\\n      <p class=\"oj-note\">\\n         <a id=\"ntr1-L_2022056EN.01000101-E0001\" href=\"#ntc1-L_2022056EN.01000101-E0001\">(<span class=\"oj-super\">1</span>)</a>\\xa0\\xa0\\n            <a href=\"./../../../../legal-content/EN/AUTO/?uri=OJ:L:2010:105:TOC\">OJ L 105, 27.4.2010, p. 1</a>.</p>\\n   </div>\\n   <hr class=\"oj-doc-sep\"/>\\n   <div id=\"L_2022056EN.01000201\">\\n      <div class=\"eli-container\" id=\"anx_1\">\\n         <p class=\"oj-doc-ti\" id=\"d1e32-2-1\">ANNEX</p>\\n         <p class=\"oj-normal\">The persons listed below shall be added to the list set out in Annex I to Regulation (EU) No\\xa0356/2010:</p>\\n         <table width=\"100%\" border=\"0\" cellspacing=\"0\" cellpadding=\"0\">\\n            <col width=\"4%\"/>\\n            <col width=\"96%\"/>\\n            <tbody>\\n               <tr>\\n                  <td valign=\"top\">\\n                     <p class=\"oj-normal\">I.</p>\\n                  </td>\\n                  <td valign=\"top\">\\n                     <p class=\"oj-normal\">\\n                        <span class=\"oj-bold\">Persons</span>\\n                     </p>\\n                     <p class=\"oj-normal\">\\n                        ‘\\n                        <span class=\"oj-bold\">21. Ali Mohamed RAGE (alias: a) Ali Mohammed Rage b) Ali Dheere c) Ali Dhere d) Ali Mohamed Rage Cali Dheer e) Ali Mohamud Rage).</span>\\n                     </p>\\n                     <p class=\"oj-normal\">\\n                        <span class=\"oj-bold\">Designation</span>: Spokesperson of Al-Shabaab</p>\\n                     <p class=\"oj-normal\">\\n                        <span class=\"oj-bold\">Date of Birth</span>: 1966</p>\\n                     <p class=\"oj-normal\">\\n                        <span class=\"oj-bold\">Place of Birth</span>: Somalia</p>\\n                     <p class=\"oj-normal\">\\n                        <span class=\"oj-bold\">Nationality:</span> Somalia</p>\\n                     <p class=\"oj-normal\">\\n                        <span class=\"oj-bold\">Address:</span> Somalia</p>\\n                     <p class=\"oj-normal\">\\n                        <span class=\"oj-bold\">Date of UN designation</span>: 18\\xa0February 2022\\n                     </p>\\n                     <p class=\"oj-normal\">\\n                        <span class=\"oj-bold\">Other information</span>:</p>\\n                     <p class=\"oj-normal\">Listed pursuant to paragraph 43(a) of resolution 2093 (2013) as ‘Engaging in or providing support for acts that threaten the peace, security or stability of Somalia, including acts that threaten the peace and reconciliation process in Somalia, or threaten the Federal Government of Somalia or AMISOM by force.’ As a spokesperson for Al-Shabaab, Rage is involved in promulgating and supporting the group’s terrorist activities.’\\n                     </p>\\n                  </td>\\n               </tr>\\n            </tbody>\\n         </table>\\n      </div>\\n   </div>\\n   <hr class=\"oj-doc-end\"/>\\n<script src=\\'./../../../../js/jquery.js\\'>//</script><script src=\\'./../../../../dynamic-js/eli_subdivisions_en.js\\'>//</script><script src=\\'./../../../../dynamic-js/config.js\\'>//</script><script src=\\'./../../../../dynamic-js/const.js\\'>//</script><script src=\\'./../../../../js/TOC_ELI_SUBDIVISIONS.js\\'>//</script><script src=\\'./../../../../revamp/components/vendor/bootstrap/dist/js/bootstrap.min.js\\'>//</script><script src=\\'./../../../../revamp/js/metisMenu.min.js\\'>//</script><script src=\\'./../../../../revamp/js/eurlex.js\\'>//</script><script src=\\'./../../../../js/eur-lex-sanitizer.js\\'>//</script><script src=\\'./../../../../js/eur-lex.js\\'>//</script><script src=\\'./../../../../js/cookieConsentKitUtils.js?v=2.14.0\\'>//</script><script src=\\'./../../../../js/TOC.js\\'>//</script><script type=\\'text/javascript\\'>$(document).ready(function(){generateTOC(true,\\'\\', \\'Top\\',\\'false\\');scrollToCurrentUrlAnchor();});</script></body>\\r\\n</html>\\r\\n'"
      ]
     },
     "execution_count": 1,
     "metadata": {},
     "output_type": "execute_result"
    }
   ],
   "source": [
    "#table annex with numbers\n",
    "import pandas\n",
    "import os\n",
    "import requests\n",
    "import re\n",
    "from bs4 import BeautifulSoup\n",
    "\n",
    "url = 'https://eur-lex.europa.eu/legal-content/EN/TXT/HTML/?uri=CELEX:32022R0340'\n",
    "response = requests.get(url)\n",
    "print(response.status_code)\n",
    "data = response.text\n",
    "data"
   ]
  },
  {
   "cell_type": "code",
   "execution_count": 49,
   "id": "b139d31f-1fc2-4a22-be18-5555a136fc62",
   "metadata": {
    "tags": []
   },
   "outputs": [
    {
     "name": "stdout",
     "output_type": "stream",
     "text": [
      "['https://eur-lex.europa.eu/legal-content/EN/TXT/HTML/?uri=CELEX%3A32022R0340']\n",
      "['28.2.2022']\n",
      "['\\n            COUNCIL IMPLEMENTING REGULATION (EU)\\xa02022/340', 'of 28\\xa0February 2022\\n         ', 'implementing Article\\xa012 of Regulation (EU) No\\xa0356/2010 imposing certain specific restrictive measures directed against certain natural or legal persons, entities or bodies, in view of the situation in Somalia', 'ANNEX']\n",
      "['3A32022R0340']\n"
     ]
    },
    {
     "data": {
      "text/plain": [
       "(None, None, None, None)"
      ]
     },
     "execution_count": 49,
     "metadata": {},
     "output_type": "execute_result"
    }
   ],
   "source": [
    "#get the document information\n",
    "\n",
    "url= re.findall(r'href=\"(.*?\\.eu/legal-content/EN/TXT/HTML/.*?)\"', data)\n",
    "publication_date = re.findall(r'<p class=\"oj-hd-date\">(\\d{1,2}\\.\\d{1,2}\\.\\d{4})', data)\n",
    "title = re.findall(r'class=\"oj-doc-ti\"[^>]*>([\\s\\S]*?)<\\/p>', data)\n",
    "celex= re.findall(r'uri=CELEX%([^\"]+)', data)\n",
    "print(url),print(publication_date),print(title),print(celex)\n"
   ]
  },
  {
   "cell_type": "code",
   "execution_count": 33,
   "id": "87aaa5d7-3503-4cb9-840c-5266f4ec0083",
   "metadata": {
    "tags": []
   },
   "outputs": [
    {
     "data": {
      "text/plain": [
       "[('EU', '2022/340')]"
      ]
     },
     "execution_count": 33,
     "metadata": {},
     "output_type": "execute_result"
    }
   ],
   "source": [
    "legal_base = re.findall(r'\\((CFSP|EU)\\)\\s*(\\d+/\\d+)', data)\n",
    "legal_base"
   ]
  },
  {
   "cell_type": "code",
   "execution_count": 31,
   "id": "afe8fbd6-0dfc-4b6d-87b2-315bd80f0c00",
   "metadata": {
    "tags": []
   },
   "outputs": [],
   "source": [
    "#search for UN to add the UN dummy indicator\n",
    "UN_pattern = re.search(r'UN',data)\n",
    "\n",
    "UN = None\n",
    "for i in data:\n",
    "    if UN_pattern == None:\n",
    "        UN = 0\n",
    "    else:\n",
    "        UN = 1"
   ]
  },
  {
   "cell_type": "code",
   "execution_count": 76,
   "id": "2b982012-af8c-4fb7-bf4b-719334240351",
   "metadata": {
    "tags": []
   },
   "outputs": [
    {
     "name": "stdout",
     "output_type": "stream",
     "text": [
      "None\n"
     ]
    }
   ],
   "source": [
    "name = re.search(r'class=\"oj-bold\">\\d+\\.\\s*(.*?)\\s*\\(alias:\\s*(.*?)\\)</span>', data)\n",
    "print(name)\n",
    "#alias = "
   ]
  },
  {
   "cell_type": "code",
   "execution_count": 66,
   "id": "36d09f5b-e7d7-4190-a7b1-28d56ad57243",
   "metadata": {
    "tags": []
   },
   "outputs": [
    {
     "name": "stdout",
     "output_type": "stream",
     "text": [
      "{'URL': ['https://eur-lex.europa.eu/legal-content/EN/TXT/HTML/?uri=CELEX%3A32022R0340'], 'CELEX': ['3A32022R0340'], 'law_number': '\\n            COUNCIL IMPLEMENTING REGULATION (EU)\\xa02022/340', 'Publication Date': ['28.2.2022'], 'legal_base': 'implementing Article\\xa012 of Regulation (EU) No\\xa0356/2010 imposing certain specific restrictive measures directed against certain natural or legal persons, entities or bodies, in view of the situation in Somalia', 'Name': [], 'DOB': [': 1966'], 'POB': [], 'adress': [], 'nationality': [], 'Identifying Information': [], 'Reason': [], 'UN_sanction_date': [], 'Date of Listing': ['28.2.2022'], 'UN_sanctions_dummy': 1}\n"
     ]
    }
   ],
   "source": [
    "# Parse the HTML content\n",
    "soup = BeautifulSoup(data, 'html.parser')\n",
    "\n",
    "# List to store the parsed data\n",
    "sanction_list = []\n",
    "name = re.findall(r'class=\"oj-bold\">\\d+\\.(.*?)</p>',data)\n",
    "    #identifying_info = cells[2].get_text(strip=True)  # Extracting the identifying information\n",
    "    #reasons = ' '.join(p.get_text(strip=True) for p in cells[3].find_all('p'))\n",
    "    #date_of_listing = cells[4].get_text(strip=True)\n",
    "    \n",
    "sanction_list.append({\n",
    "        'URL': url,\n",
    "        'CELEX':celex,\n",
    "        'law_number' :title[0],\n",
    "        'Publication Date': publication_date,\n",
    "        'legal_base' : title[2],\n",
    "        'Name': name,\n",
    "        'DOB': re.findall(r'>Date of Birth</span>(.*?)</p>',data),\n",
    "        'POB': re.findall(r'Place of Birth</span>:(.*?)</p>',person_info),\n",
    "        'adress':  re.findall(r'Adress:</span>(.*?)</p>',person_info),\n",
    "        'nationality':  re.findall(r'Nationality:</span>(.*?)</p>',person_info),\n",
    "        'Identifying Information':  re.findall(r'Other Information:</span>(.*?)</p>',person_info),\n",
    "        'Reason':  re.findall(r'Designation:</span>(.*?)</p>',person_info),\n",
    "        'UN_sanction_date' :  re.findall(r'Date of UN designation:</span>(.*?)</p>',person_info),\n",
    "        'Date of Listing': publication_date,\n",
    "        'UN_sanctions_dummy' : UN\n",
    "    })\n",
    "\n",
    "# Display the results\n",
    "for person in sanction_list:\n",
    "    print(person)\n"
   ]
  },
  {
   "cell_type": "code",
   "execution_count": 59,
   "id": "d02b5993-3f60-4a30-85d7-07b8ea773e0b",
   "metadata": {
    "tags": []
   },
   "outputs": [
    {
     "data": {
      "text/plain": [
       "<tbody>\n",
       "<tr>\n",
       "<td>\n",
       "<p class=\"oj-hd-date\">28.2.2022   </p>\n",
       "</td>\n",
       "<td>\n",
       "<p class=\"oj-hd-lg\">EN</p>\n",
       "</td>\n",
       "<td>\n",
       "<p class=\"oj-hd-ti\">Official Journal of the European Union</p>\n",
       "</td>\n",
       "<td>\n",
       "<p class=\"oj-hd-oj\">L 56/1</p>\n",
       "</td>\n",
       "</tr>\n",
       "</tbody>"
      ]
     },
     "execution_count": 59,
     "metadata": {},
     "output_type": "execute_result"
    }
   ],
   "source": [
    "tbody"
   ]
  },
  {
   "cell_type": "code",
   "execution_count": null,
   "id": "f81c2576-6ebc-469b-8c35-c031996e662e",
   "metadata": {},
   "outputs": [],
   "source": []
  },
  {
   "cell_type": "code",
   "execution_count": null,
   "id": "ed380616-e70b-45ff-8cbb-4982812072a0",
   "metadata": {},
   "outputs": [
    {
     "name": "stdout",
     "output_type": "stream",
     "text": [
      "{'URL': 'https://eur-lex.europa.eu/legal-content/EN/TXT/HTML/?uri=CELEX%3A32022R0340', 'CELEX': ['3A32022R0340'], 'law_number': 'A', 'Publication Date': '28.2.2022', 'legal_base': 'N', 'Name': '', 'DOB': '', 'POB': '', 'address': '', 'nationality': '', 'Identifying Information': '', 'Reason': '', 'UN_sanction_date': '', 'Date of Listing': '28.2.2022', 'UN_sanctions_dummy': 1}\n",
      "{'URL': 'https://eur-lex.europa.eu/legal-content/EN/TXT/HTML/?uri=CELEX%3A32022R0340', 'CELEX': ['3A32022R0340'], 'law_number': 'A', 'Publication Date': '28.2.2022', 'legal_base': 'N', 'Name': '', 'DOB': '', 'POB': '', 'address': '', 'nationality': '', 'Identifying Information': '', 'Reason': '', 'UN_sanction_date': '', 'Date of Listing': '28.2.2022', 'UN_sanctions_dummy': 1}\n",
      "{'URL': 'https://eur-lex.europa.eu/legal-content/EN/TXT/HTML/?uri=CELEX%3A32022R0340', 'CELEX': ['3A32022R0340'], 'law_number': 'A', 'Publication Date': '28.2.2022', 'legal_base': 'N', 'Name': '', 'DOB': '', 'POB': '', 'address': '', 'nationality': '', 'Identifying Information': '', 'Reason': '', 'UN_sanction_date': '', 'Date of Listing': '28.2.2022', 'UN_sanctions_dummy': 1}\n",
      "{'URL': 'https://eur-lex.europa.eu/legal-content/EN/TXT/HTML/?uri=CELEX%3A32022R0340', 'CELEX': ['3A32022R0340'], 'law_number': 'A', 'Publication Date': '28.2.2022', 'legal_base': 'N', 'Name': '', 'DOB': '', 'POB': '', 'address': '', 'nationality': '', 'Identifying Information': '', 'Reason': '', 'UN_sanction_date': '', 'Date of Listing': '28.2.2022', 'UN_sanctions_dummy': 1}\n",
      "{'URL': 'https://eur-lex.europa.eu/legal-content/EN/TXT/HTML/?uri=CELEX%3A32022R0340', 'CELEX': ['3A32022R0340'], 'law_number': 'A', 'Publication Date': '28.2.2022', 'legal_base': 'N', 'Name': 'Ali Mohamed RAGE ', 'DOB': '', 'POB': '', 'address': 'Somalia', 'nationality': 'Somalia', 'Identifying Information': '', 'Reason': '', 'UN_sanction_date': '', 'Date of Listing': '28.2.2022', 'UN_sanctions_dummy': 1}\n"
     ]
    }
   ],
   "source": [
    "# Parse the HTML content\n",
    "soup = BeautifulSoup(data, 'html.parser')\n",
    "\n",
    "# List to store the parsed data\n",
    "sanction_list = []\n",
    "\n",
    "# Find all rows in the table\n",
    "rows = soup.find_all('tr')\n",
    "\n",
    "# Iterate through the rows and extract the necessary information\n",
    "for row in rows:\n",
    "    cells = row.find_all('td')\n",
    "    if len(cells) < 2:\n",
    "        continue\n",
    "\n",
    "    # Extract information using regex\n",
    "    person_info = cells[1].get_text(separator=' ', strip=True)\n",
    "    \n",
    "    name = re.findall(r'[\\d]+\\.\\s+(.*?)(?:\\(|$)', person_info)\n",
    "    aliases = re.findall(r'alias:\\s+(.*?)\\)', person_info)\n",
    "    designation = re.findall(r'Designation:\\s+(.*?)\\s', person_info)\n",
    "    dob = re.findall(r'Date of Birth:\\s+(.*?)\\s', person_info)\n",
    "    pob = re.findall(r'Place of Birth:\\s+(.*?)\\s', person_info)\n",
    "    address = re.findall(r'Address:\\s+(.*?)\\s', person_info)\n",
    "    nationality = re.findall(r'Nationality:\\s+(.*?)\\s', person_info)\n",
    "    un_designation_date = re.findall(r'Date of UN designation:\\s+(.*?)\\s', person_info)\n",
    "    reason = re.findall(r'Other information:\\s+(.*)', person_info)\n",
    "\n",
    "    sanction_list.append({\n",
    "        'URL': url,\n",
    "        'CELEX': celex,\n",
    "        'law_number': title[0],\n",
    "        'Publication Date': publication_date,\n",
    "        'legal_base': title[2],\n",
    "        'Name': name[0] if name else '',\n",
    "        'DOB': dob[0] if dob else '',\n",
    "        'POB': pob[0] if pob else '',\n",
    "        'address': address[0] if address else '',\n",
    "        'nationality': nationality[0] if nationality else '',\n",
    "        'Identifying Information': '',\n",
    "        'Reason': reason[0].strip() if reason else '',\n",
    "        'UN_sanction_date': un_designation_date[0] if un_designation_date else '',\n",
    "        'Date of Listing': publication_date,\n",
    "        'UN_sanctions_dummy': UN\n",
    "    })\n",
    "\n",
    "# Display the results\n",
    "for person in sanction_list:\n",
    "    print(person)"
   ]
  },
  {
   "cell_type": "code",
   "execution_count": 41,
   "id": "7c3ebcff-8f68-4433-8fb4-3ee34df8bb5c",
   "metadata": {
    "tags": []
   },
   "outputs": [
    {
     "data": {
      "text/plain": [
       "[]"
      ]
     },
     "execution_count": 41,
     "metadata": {},
     "output_type": "execute_result"
    }
   ],
   "source": [
    "sanction_list"
   ]
  },
  {
   "cell_type": "code",
   "execution_count": 55,
   "id": "f2fc502f-3dce-4356-8bbf-67b221440a39",
   "metadata": {
    "tags": []
   },
   "outputs": [
    {
     "name": "stdout",
     "output_type": "stream",
     "text": [
      "{'URL': ['https://eur-lex.europa.eu/legal-content/EN/TXT/HTML/?uri=CELEX%3A32022R0340'], 'CELEX': ['3A32022R0340'], 'law_number': '\\n            COUNCIL IMPLEMENTING REGULATION (EU)\\xa02022/340', 'Publication Date': ['28.2.2022'], 'legal_base': 'implementing Article\\xa012 of Regulation (EU) No\\xa0356/2010 imposing certain specific restrictive measures directed against certain natural or legal persons, entities or bodies, in view of the situation in Somalia', 'Name': '', 'DOB': '', 'POB': '', 'address': '', 'nationality': '', 'Identifying Information': '', 'Reason': '', 'UN_sanction_date': '', 'Date of Listing': ['28.2.2022'], 'UN_sanctions_dummy': 1}\n"
     ]
    }
   ],
   "source": [
    "from bs4 import BeautifulSoup\n",
    "import re\n",
    "\n",
    "soup = BeautifulSoup(data, 'html.parser')\n",
    "\n",
    "# List to store the parsed data\n",
    "sanction_list = []\n",
    "\n",
    "# Find the tbody containing the relevant person entries\n",
    "tbody = soup.find('tbody')\n",
    "\n",
    "# Iterate through the rows within the tbody and extract the necessary information\n",
    "for row in tbody.find_all('tr'):\n",
    "    cells = row.find_all('td')\n",
    "    if len(cells) < 2:\n",
    "        continue\n",
    "\n",
    "    # Extract information using regex\n",
    "    person_info = cells[1].get_text(separator=' ', strip=True)\n",
    "    \n",
    "    name = re.findall(r'[\\d]+\\.\\s+(.*?)(?:\\(|$)', person_info)\n",
    "    aliases = re.findall(r'alias:\\s+(.*?)\\)', person_info)\n",
    "    designation = re.findall(r'Designation:\\s+(.*?)\\s', person_info)\n",
    "    dob = re.findall(r'Date of Birth:\\s+(.*?)\\s', person_info)\n",
    "    pob = re.findall(r'Place of Birth:\\s+(.*?)\\s', person_info)\n",
    "    address = re.findall(r'Address:\\s+(.*?)\\s', person_info)\n",
    "    nationality = re.findall(r'Nationality:\\s+(.*?)\\s', person_info)\n",
    "    un_designation_date = re.findall(r'Date of UN designation:\\s+(.*?)\\s', person_info)\n",
    "    reason = re.findall(r'Other information:\\s+(.*)', person_info)\n",
    "\n",
    "    sanction_list.append({\n",
    "        'URL': url,\n",
    "        'CELEX': celex,\n",
    "        'law_number': title[0],\n",
    "        'Publication Date': publication_date,\n",
    "        'legal_base': title[2],\n",
    "        'Name': name[0] if name else '',\n",
    "        'DOB': dob[0] if dob else '',\n",
    "        'POB': pob[0] if pob else '',\n",
    "        'address': address[0] if address else '',\n",
    "        'nationality': nationality[0] if nationality else '',\n",
    "        'Identifying Information': '',\n",
    "        'Reason': reason[0].strip() if reason else '',\n",
    "        'UN_sanction_date': un_designation_date[0] if un_designation_date else '',\n",
    "        'Date of Listing': publication_date,\n",
    "        'UN_sanctions_dummy': UN\n",
    "    })\n",
    "\n",
    "# Display the results\n",
    "for person in sanction_list:\n",
    "    print(person)\n",
    "\n"
   ]
  },
  {
   "cell_type": "code",
   "execution_count": null,
   "id": "70ba0cee-71c5-4834-a3cd-b57b0962ded7",
   "metadata": {},
   "outputs": [],
   "source": []
  }
 ],
 "metadata": {
  "kernelspec": {
   "display_name": "Python 3 (ipykernel)",
   "language": "python",
   "name": "python3"
  },
  "language_info": {
   "codemirror_mode": {
    "name": "ipython",
    "version": 3
   },
   "file_extension": ".py",
   "mimetype": "text/x-python",
   "name": "python",
   "nbconvert_exporter": "python",
   "pygments_lexer": "ipython3",
   "version": "3.11.5"
  }
 },
 "nbformat": 4,
 "nbformat_minor": 5
}
