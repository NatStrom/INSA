{
 "cells": [
  {
   "cell_type": "markdown",
   "id": "6376fa78-2396-45f9-927e-ac9e601f8891",
   "metadata": {},
   "source": [
    "# pattern court decisions"
   ]
  },
  {
   "cell_type": "code",
   "execution_count": 1,
   "id": "be4444d6-e6ef-44eb-a63f-c98debf327fc",
   "metadata": {},
   "outputs": [],
   "source": [
    "#"
   ]
  },
  {
   "cell_type": "code",
   "execution_count": 10,
   "id": "2efb064e-6abb-4ee9-80f3-9a27dacedec2",
   "metadata": {
    "tags": []
   },
   "outputs": [],
   "source": [
    "import pandas\n",
    "import os\n",
    "import requests\n",
    "import re"
   ]
  },
  {
   "cell_type": "code",
   "execution_count": 12,
   "id": "bb28bf8b-6ed4-4df2-9cee-cd07579754e5",
   "metadata": {
    "tags": []
   },
   "outputs": [
    {
     "name": "stdout",
     "output_type": "stream",
     "text": [
      "200\n",
      "200\n"
     ]
    }
   ],
   "source": [
    "#define the website string\n",
    "websites = ['https://eur-lex.europa.eu/legal-content/EN/TXT/HTML/?uri=CELEX:62021TA0582','https://eur-lex.europa.eu/legal-content/EN/TXT/HTML/?uri=CELEX:62021TA0426']\n",
    "content = []\n",
    "for site in websites:\n",
    "    response = requests.get(site)\n",
    "    print(response.status_code)\n",
    "    data = response.text\n",
    "    content.append(data)\n",
    "    \n",
    "    "
   ]
  },
  {
   "cell_type": "code",
   "execution_count": 13,
   "id": "2423e12d-99f8-4356-8e87-2d3a17be17d6",
   "metadata": {
    "collapsed": true,
    "jupyter": {
     "outputs_hidden": true
    },
    "tags": []
   },
   "outputs": [
    {
     "data": {
      "text/plain": [
       "['<?xml version=\"1.0\" encoding=\"UTF-8\"?>\\r\\n<!DOCTYPE html PUBLIC \"-//W3C//DTD XHTML//EN\" \"xhtml-strict.dtd\">\\r\\n<html xmlns=\"http://www.w3.org/1999/xhtml\">\\r\\n<!-- CONVEX # converter_version:9.8.0 # generated_on:20230721-0911 -->\\r\\n<head><meta name=\"format-detection\" content=\"telephone=no\"/>\\n   <meta http-equiv=\"content-type\" content=\"text/html; charset=utf-8\"/>\\n   <script type=\"text/javascript\" src=\"/eurlex-frontoffice/ruxitagentjs_ICANVfgqrux_10289240325103055.js\" data-dtconfig=\"app=47d4c64c3b67ec69|agentId=1e2d85f6ff8ee95d|featureHash=ICANVfgqrux|rdnt=1|uxrgce=1|bp=3|cuc=m097nmfl|mel=100000|mb=null|dpvc=1|iub=null|ssv=4|lastModification=1720184838465|tp=500,50,0|agentUri=/eurlex-frontoffice/ruxitagentjs_ICANVfgqrux_10289240325103055.js|reportUrl=/eurlex-frontoffice/rb_39a3e95b-5423-482c-879b-99ef235dffeb|rid=RID_-1570085090|rpid=1149823617|domain=europa.eu\"></script><link type=\"text/css\" rel=\"stylesheet\" href=\"./../../../../css/oj/oj-convex.css\"/>\\n   <title>C_2023252EN.01004201.xml</title>\\n<link rel=\"canonical\" href=\"https://eur-lex.europa.eu/legal-content/EN/TXT/HTML/?uri=CELEX%3A62021TA0582\"/>\\n</head>\\n<body>\\n   <table width=\"100%\" border=\"0\" cellspacing=\"0\" cellpadding=\"0\">\\n      <col width=\"10%\"/>\\n      <col width=\"10%\"/>\\n      <col width=\"60%\"/>\\n      <col width=\"20%\"/>\\n      <tbody>\\n         <tr>\\n            <td>\\n               <p class=\"oj-hd-date\">17.7.2023\\xa0\\xa0\\xa0</p>\\n            </td>\\n            <td>\\n               <p class=\"oj-hd-lg\">EN</p>\\n            </td>\\n            <td>\\n               <p class=\"oj-hd-ti\">Official Journal of the European Union</p>\\n            </td>\\n            <td>\\n               <p class=\"oj-hd-oj\">C 252/42</p>\\n            </td>\\n         </tr>\\n      </tbody>\\n   </table>\\n   <hr class=\"oj-separator\"/>\\n   <div>\\n      <p class=\"oj-doc-ti\" id=\"d1e33-42-1\">Judgment of the General Court of 7\\xa0June 2023\\xa0— Rubnikovich v Council</p>\\n      <p class=\"oj-doc-ti\">(Case T-582/21)\\xa0<a id=\"ntc1-C_2023252EN.01004201-E0001\" href=\"#ntr1-C_2023252EN.01004201-E0001\">(<span class=\"oj-super oj-note-tag\">1</span>)</a>\\n      </p>\\n      <p class=\"oj-doc-ti\">(Common foreign and security policy - Restrictive measures taken in view of the situation in Belarus - Freezing of funds - Lists of persons, entities and bodies subject to the freezing of funds and economic resources to which the freezing of funds and economic resources and the ban on entry into or transit through European Union territory applies - Inclusion of the applicant’s name on the lists - Collective nature of a sanction - Obligation to state reasons - Error of assessment - Proportionality)</p>\\n      <p class=\"oj-no-doc-c\">(2023/C 252/47)</p>\\n      <p class=\"oj-normal\">Language of the case: French</p>\\n      <p id=\"d1e74-42-1\" class=\"oj-ti-grseq-1\">\\n         <span class=\"oj-bold\">Parties</span>\\n      </p>\\n      <p class=\"oj-normal\">\\n         <span class=\"oj-italic\">Applicant:</span> Siarhei Rubnikovich (Tarasovo, Belarus) (represented by: D.\\xa0Litvinski, lawyer)</p>\\n      <p class=\"oj-normal\">\\n         <span class=\"oj-italic\">Defendant:</span> Council of the European Union (represented by: A.\\xa0Limonet and V.\\xa0Piessevaux, acting as Agents)</p>\\n      <p id=\"d1e88-42-1\" class=\"oj-ti-grseq-1\">\\n         <span class=\"oj-bold\">Re:</span>\\n      </p>\\n      <p class=\"oj-normal\">Action based on Article\\xa0263 TFEU seeking the annulment of Council Implementing Decision (CFSP) 2021/1002 of 21\\xa0June 2021 implementing Decision 2012/642/CFSP concerning restrictive measures in view of the situation in Belarus (<a href=\"./../../../../legal-content/EN/AUTO/?uri=OJ:L:2021:219I:TOC\">OJ 2021 L\\xa0219 I, p.\\xa070</a>), and of Council Implementing Regulation (EU) 221/997 of 21\\xa0June 2021 implementing Article\\xa08a(1) of Regulation (EC) No\\xa0765/2006 concerning restrictive measures in respect of Belarus (<a href=\"./../../../../legal-content/EN/AUTO/?uri=OJ:L:2021:219I:TOC\">OJ 2021 L\\xa0219 I, p.\\xa03</a>), to the extent that those two acts concern the applicant.</p>\\n      <p id=\"d1e109-42-1\" class=\"oj-ti-grseq-1\">\\n         <span class=\"oj-bold\">Operative part of the judgment</span>\\n      </p>\\n      <p class=\"oj-normal\">The Court:</p>\\n      <table width=\"100%\" border=\"0\" cellspacing=\"0\" cellpadding=\"0\">\\n         <col width=\"4%\"/>\\n         <col width=\"96%\"/>\\n         <tbody>\\n            <tr>\\n               <td valign=\"top\">\\n                  <p class=\"oj-normal\">1.</p>\\n               </td>\\n               <td valign=\"top\">\\n                  <p class=\"oj-normal\">Dismisses the action;</p>\\n               </td>\\n            </tr>\\n         </tbody>\\n      </table>\\n      <table width=\"100%\" border=\"0\" cellspacing=\"0\" cellpadding=\"0\">\\n         <col width=\"4%\"/>\\n         <col width=\"96%\"/>\\n         <tbody>\\n            <tr>\\n               <td valign=\"top\">\\n                  <p class=\"oj-normal\">2.</p>\\n               </td>\\n               <td valign=\"top\">\\n                  <p class=\"oj-normal\">Orders Mr\\xa0Siarhei Rubnikovich to pay the costs.</p>\\n               </td>\\n            </tr>\\n         </tbody>\\n      </table>\\n      <hr class=\"oj-note\"/>\\n      <p class=\"oj-note\">\\n         <a id=\"ntr1-C_2023252EN.01004201-E0001\" href=\"#ntc1-C_2023252EN.01004201-E0001\">(<span class=\"oj-super\">1</span>)</a>\\xa0\\xa0<a href=\"./../../../../legal-content/EN/AUTO/?uri=OJ:C:2022:011:TOC\">OJ C\\xa011, 10.1.2022</a>.</p>\\n   </div>\\n   <hr class=\"oj-doc-end\"/>\\n</body>\\r\\n</html>\\r\\n',\n",
       " '<?xml version=\"1.0\" encoding=\"UTF-8\"?>\\r\\n<!DOCTYPE html PUBLIC \"-//W3C//DTD XHTML//EN\" \"xhtml-strict.dtd\">\\r\\n<html xmlns=\"http://www.w3.org/1999/xhtml\">\\r\\n<!-- CONVEX # converter_version:9.8.0 # generated_on:20230504-1001 -->\\r\\n<head><meta name=\"format-detection\" content=\"telephone=no\"/>\\n   <meta http-equiv=\"content-type\" content=\"text/html; charset=utf-8\"/>\\n   <script type=\"text/javascript\" src=\"/ruxitagentjs_ICANVfgqrux_10289240325103055.js\" data-dtconfig=\"app=47d4c64c3b67ec69|agentId=f7f501f82c7f7310|featureHash=ICANVfgqrux|rdnt=1|uxrgce=1|bp=3|cuc=m097nmfl|mel=100000|mb=null|dpvc=1|iub=null|ssv=4|lastModification=1720184838465|tp=500,50,0|agentUri=/ruxitagentjs_ICANVfgqrux_10289240325103055.js|reportUrl=/rb_39a3e95b-5423-482c-879b-99ef235dffeb|rid=RID_-1570086233|rpid=54074924|domain=europa.eu\"></script><link type=\"text/css\" rel=\"stylesheet\" href=\"./../../../../css/oj/oj-convex.css\"/>\\n   <title>C_2023155EN.01005001.xml</title>\\n<link rel=\"canonical\" href=\"https://eur-lex.europa.eu/legal-content/EN/TXT/HTML/?uri=CELEX%3A62021TA0426\"/>\\n</head>\\n<body>\\n   <table width=\"100%\" border=\"0\" cellspacing=\"0\" cellpadding=\"0\">\\n      <col width=\"10%\"/>\\n      <col width=\"10%\"/>\\n      <col width=\"60%\"/>\\n      <col width=\"20%\"/>\\n      <tbody>\\n         <tr>\\n            <td>\\n               <p class=\"oj-hd-date\">2.5.2023\\xa0\\xa0\\xa0</p>\\n            </td>\\n            <td>\\n               <p class=\"oj-hd-lg\">EN</p>\\n            </td>\\n            <td>\\n               <p class=\"oj-hd-ti\">Official Journal of the European Union</p>\\n            </td>\\n            <td>\\n               <p class=\"oj-hd-oj\">C 155/50</p>\\n            </td>\\n         </tr>\\n      </tbody>\\n   </table>\\n   <hr class=\"oj-separator\"/>\\n   <div>\\n      <p class=\"oj-doc-ti\" id=\"d1e33-50-1\">Judgment of the General Court of 8\\xa0March 2023\\xa0— Assaad v Council</p>\\n      <p class=\"oj-doc-ti\">(Case T-426/21)\\xa0<a id=\"ntc1-C_2023155EN.01005001-E0001\" href=\"#ntr1-C_2023155EN.01005001-E0001\">(<span class=\"oj-super oj-note-tag\">1</span>)</a>\\n      </p>\\n      <p class=\"oj-doc-ti\">(Common foreign and security policy - Restrictive measures adopted against Syria - Freezing of funds - Errors of assessment - Retroactivity - Legitimate expectations - Legal certainty - Force of res judicata)</p>\\n      <p class=\"oj-no-doc-c\">(2023/C 155/63)</p>\\n      <p class=\"oj-normal\">Language of the case: English</p>\\n      <p id=\"d1e72-50-1\" class=\"oj-ti-grseq-1\">\\n         <span class=\"oj-bold\">Parties</span>\\n      </p>\\n      <p class=\"oj-normal\">\\n         <span class=\"oj-italic\">Applicant:</span> Nizar Assaad (Beirut, Lebanon) (represented by: M.\\xa0Lester KC, G.\\xa0Martin and C.\\xa0Enderby Smith, Solicitors)</p>\\n      <p class=\"oj-normal\">\\n         <span class=\"oj-italic\">Defendant:</span> Council of the European Union (represented by: T.\\xa0Haas and M.\\xa0Bishop, acting as Agents)</p>\\n      <p id=\"d1e86-50-1\" class=\"oj-ti-grseq-1\">\\n         <span class=\"oj-bold\">Re:</span>\\n      </p>\\n      <p class=\"oj-normal\">By his action under Article\\xa0263 TFEU, the applicant seeks annulment of Council Implementing Decision (CFSP) 2021/751 of 6\\xa0May 2021 implementing Decision 2013/255/CFSP concerning restrictive measures against Syria (<a href=\"./../../../../legal-content/EN/AUTO/?uri=OJ:L:2021:160:TOC\">OJ 2021 L\\xa0160, p.\\xa0115</a>), Council Implementing Regulation (EU) 2021/743 of 6\\xa0May 2021 implementing Regulation (EU) No\\xa036/2012 concerning restrictive measures in view of the situation in Syria (<a href=\"./../../../../legal-content/EN/AUTO/?uri=OJ:L:2021:160:TOC\">OJ 2021 L\\xa0160, p.\\xa01</a>), Council Decision (CFSP) 2022/849 of 30\\xa0May 2022 amending Decision 2013/255/CFSP concerning restrictive measures against Syria (<a href=\"./../../../../legal-content/EN/AUTO/?uri=OJ:L:2022:148:TOC\">OJ 2022 L\\xa0148, p.\\xa052</a>), and Council Implementing Regulation (EU) 2022/840 of 30\\xa0May 2022 implementing Regulation (EU) No\\xa036/2012 concerning restrictive measures in view of the situation in Syria (<a href=\"./../../../../legal-content/EN/AUTO/?uri=OJ:L:2022:148:TOC\">OJ 2022 L\\xa0148, p.\\xa08</a>), in so far as those measures concern the applicant.</p>\\n      <p id=\"d1e120-50-1\" class=\"oj-ti-grseq-1\">\\n         <span class=\"oj-bold\">Operative part of the judgment</span>\\n      </p>\\n      <p class=\"oj-normal\">The Court:</p>\\n      <table width=\"100%\" border=\"0\" cellspacing=\"0\" cellpadding=\"0\">\\n         <col width=\"4%\"/>\\n         <col width=\"96%\"/>\\n         <tbody>\\n            <tr>\\n               <td valign=\"top\">\\n                  <p class=\"oj-normal\">1.</p>\\n               </td>\\n               <td valign=\"top\">\\n                  <p class=\"oj-normal\">Annuls Council Implementing Decision (CFSP) 2021/751 of 6\\xa0May 2021 implementing Decision 2013/255/CFSP concerning the restrictive measures against Syria, Council Implementing Regulation (EU) 2021/743 of 6\\xa0May 2021 implementing Regulation (EU) No\\xa036/2012 concerning restrictive measures in view of the situation in Syria, Council Decision (CFSP) 2022/849 of 30\\xa0May 2022 amending Decision 2013/255/CFSP concerning restrictive measures against Syria, and Council Implementing Regulation (EU) 2022/840 of 30\\xa0May 2022 implementing Regulation (EU) No\\xa036/2012 concerning restrictive measures in view of the situation in Syria, in so far as they concern Mr\\xa0Nizar Assaad;</p>\\n               </td>\\n            </tr>\\n         </tbody>\\n      </table>\\n      <table width=\"100%\" border=\"0\" cellspacing=\"0\" cellpadding=\"0\">\\n         <col width=\"4%\"/>\\n         <col width=\"96%\"/>\\n         <tbody>\\n            <tr>\\n               <td valign=\"top\">\\n                  <p class=\"oj-normal\">2.</p>\\n               </td>\\n               <td valign=\"top\">\\n                  <p class=\"oj-normal\">Orders that the effects of Decision 2022/849 be maintained with regard to Mr\\xa0Assaad until the date of expiry of the period for bringing an appeal or, if an appeal is brought within that period, until any dismissal of the appeal;</p>\\n               </td>\\n            </tr>\\n         </tbody>\\n      </table>\\n      <table width=\"100%\" border=\"0\" cellspacing=\"0\" cellpadding=\"0\">\\n         <col width=\"4%\"/>\\n         <col width=\"96%\"/>\\n         <tbody>\\n            <tr>\\n               <td valign=\"top\">\\n                  <p class=\"oj-normal\">3.</p>\\n               </td>\\n               <td valign=\"top\">\\n                  <p class=\"oj-normal\">Orders the Council of the European Union to pay the costs.</p>\\n               </td>\\n            </tr>\\n         </tbody>\\n      </table>\\n      <hr class=\"oj-note\"/>\\n      <p class=\"oj-note\">\\n         <a id=\"ntr1-C_2023155EN.01005001-E0001\" href=\"#ntc1-C_2023155EN.01005001-E0001\">(<span class=\"oj-super\">1</span>)</a>\\xa0\\xa0<a href=\"./../../../../legal-content/EN/AUTO/?uri=OJ:C:2021:338:TOC\">OJ C\\xa0338, 23.8.2021</a>.</p>\\n   </div>\\n   <hr class=\"oj-doc-end\"/>\\n</body>\\r\\n</html>\\r\\n']"
      ]
     },
     "execution_count": 13,
     "metadata": {},
     "output_type": "execute_result"
    }
   ],
   "source": [
    "content"
   ]
  },
  {
   "cell_type": "code",
   "execution_count": 14,
   "id": "30743b54-5da0-422c-8fcd-702ab8b210d8",
   "metadata": {
    "tags": []
   },
   "outputs": [],
   "source": [
    "name_pattern = r'Orders (.+?) to pay'\n",
    "#for dismissal entity name"
   ]
  },
  {
   "cell_type": "code",
   "execution_count": 15,
   "id": "cf47ffde-0bd1-48bd-b782-3afc4fc85a2e",
   "metadata": {
    "tags": []
   },
   "outputs": [
    {
     "name": "stdout",
     "output_type": "stream",
     "text": [
      "[{'entity_name': 'Mr\\xa0Siarhei Rubnikovich', 'Delisting': 0, 'Delisting_case': None, 'url': ['https://eur-lex.europa.eu/legal-content/EN/TXT/HTML/?uri=CELEX%3A62021TA0426'], 'celex': ['3A62021TA0426'], 'publication_date': ['2.5.2023'], 'date': [], 'title': ['Judgment of the General Court of 8\\xa0March 2023\\xa0— Assaad v Council'], 'law_number': ['155/50'], 'case_number': ['Case T-426/21'], 'legal_base': [('CFSP', '2021/751'), ('EU', '2021/743'), ('CFSP', '2022/849'), ('EU', '2022/840'), ('CFSP', '2021/751'), ('EU', '2021/743'), ('CFSP', '2022/849'), ('EU', '2022/840')]}, {'entity_name': 'Mr\\xa0Nizar Assaad', 'Delisting': 1, 'Delisting_case': 'Council Implementing Decision (CFSP) 2021/751 of 6\\xa0May 2021 implementing Decision 2013/255/CFSP concerning the restrictive measures against Syria, Council Implementing Regulation (EU) 2021/743 of 6\\xa0May 2021 implementing Regulation (EU) No\\xa036/2012 concerning restrictive measures in view of the situation in Syria, Council Decision (CFSP) 2022/849 of 30\\xa0May 2022 amending Decision 2013/255/CFSP concerning restrictive measures against Syria, and Council Implementing Regulation (EU) 2022/840 of 30\\xa0May 2022 implementing Regulation (EU) No\\xa036/2012 concerning restrictive measures in view of the situation in Syria, in so far as they concern Mr\\xa0Nizar Assaad', 'url': ['https://eur-lex.europa.eu/legal-content/EN/TXT/HTML/?uri=CELEX%3A62021TA0426'], 'celex': ['3A62021TA0426'], 'publication_date': ['2.5.2023'], 'date': [], 'title': ['Judgment of the General Court of 8\\xa0March 2023\\xa0— Assaad v Council'], 'law_number': ['155/50'], 'case_number': ['Case T-426/21'], 'legal_base': [('CFSP', '2021/751'), ('EU', '2021/743'), ('CFSP', '2022/849'), ('EU', '2022/840'), ('CFSP', '2021/751'), ('EU', '2021/743'), ('CFSP', '2022/849'), ('EU', '2022/840')]}]\n"
     ]
    }
   ],
   "source": [
    "# Create patterns\n",
    "delist_pattern = r'Annuls'\n",
    "delisting_case_pattern = r'Annuls (.+?);2.Orders'\n",
    "name_pattern2 = r'in so far as they concern (.+?);2.Orders'\n",
    "name_pattern1 = r'Orders (.+?) to pay'\n",
    "\n",
    "# Create a list to store all court decisions\n",
    "court_decisions = []\n",
    "\n",
    "# Iterate over the content\n",
    "for i in content:\n",
    "    # Get the content of the court case\n",
    "    name = re.findall(r'<p class=\"oj-normal\">(.*?)</p>', i)\n",
    "    text = ''.join(name)\n",
    "    \n",
    "    # Initialize variables\n",
    "    Delisting = None\n",
    "    delisting_case = None\n",
    "    entity_name = None\n",
    "    \n",
    "    # Check for delisting\n",
    "    if re.search(delist_pattern, text):\n",
    "        Delisting = 1\n",
    "    else:\n",
    "        Delisting = 0\n",
    "    if Delisting == 1:\n",
    "        match = re.search(name_pattern2, text)\n",
    "        if match:\n",
    "            entity_name = match.group(1)\n",
    "    if Delisting == 0:\n",
    "        match = re.search(name_pattern1, text)\n",
    "        if match:\n",
    "            entity_name = match.group(1)\n",
    "    \n",
    "    # Extract delisting case\n",
    "    match = re.search(delisting_case_pattern, text)\n",
    "    if match:\n",
    "        delisting_case = match.group(1)\n",
    "\n",
    "    # Create dictionary for current court decision\n",
    "    court_decision = {\n",
    "        'entity_name': entity_name,\n",
    "        'Delisting': Delisting,\n",
    "        'Delisting_case': delisting_case,\n",
    "        'url': re.findall(r'href=\"(.*?\\.eu/legal-content/EN/TXT/HTML/.*?)\"', data),\n",
    "        'celex' : re.findall(r'uri=CELEX%([^\"]+)', data),\n",
    "        'publication_date': re.findall(r'<p class=\"oj-hd-date\">(\\d{1,2}\\.\\d{1,2}\\.\\d{4})', data),\n",
    "        'date': re.findall(r'<p class=\"oj-doc-ti\">of (\\d+ \\w+ \\d+)</p>', data),\n",
    "        'title': re.findall(r'<p class=\"oj-doc-ti\" id=\"[^\"]*\">(.*?)</p>', data),\n",
    "        'law_number': re.findall(r'<p class=\"oj-hd-oj\">C (\\d+/\\d+)</p>', data),\n",
    "        'case_number': re.findall(r'Case\\sT-\\d+/\\d+', data),\n",
    "        'legal_base': re.findall(r'\\((CFSP|EU)\\)\\s*(\\d+/\\d+)', data)\n",
    "    }\n",
    "    \n",
    "    # Append the current decision dictionary to the list\n",
    "    court_decisions.append(court_decision)\n",
    "\n",
    "# Print the list of dictionaries\n",
    "print(court_decisions, encoding = 'UTF-8') #encoding ändern oder string subsitute (string punkt replace xa0 mit .)"
   ]
  },
  {
   "cell_type": "code",
   "execution_count": 9,
   "id": "f14b8b29-b40f-4c3e-aba3-fa09f5152896",
   "metadata": {
    "tags": []
   },
   "outputs": [
    {
     "data": {
      "text/plain": [
       "[{'entity_name': 'Mr\\xa0Siarhei Rubnikovich',\n",
       "  'Delisting': 0,\n",
       "  'Delisting_case': None,\n",
       "  'url': ['https://eur-lex.europa.eu/legal-content/EN/TXT/HTML/?uri=CELEX%3A62021TA0426'],\n",
       "  'publication_date': ['2.5.2023'],\n",
       "  'date': [],\n",
       "  'title': ['Judgment of the General Court of 8\\xa0March 2023\\xa0— Assaad v Council'],\n",
       "  'law_number': ['155/50'],\n",
       "  'case_number': ['Case T-426/21'],\n",
       "  'legal_base': [('CFSP', '2021/751'),\n",
       "   ('EU', '2021/743'),\n",
       "   ('CFSP', '2022/849'),\n",
       "   ('EU', '2022/840'),\n",
       "   ('CFSP', '2021/751'),\n",
       "   ('EU', '2021/743'),\n",
       "   ('CFSP', '2022/849'),\n",
       "   ('EU', '2022/840')]},\n",
       " {'entity_name': 'Mr\\xa0Nizar Assaad',\n",
       "  'Delisting': 1,\n",
       "  'Delisting_case': 'Council Implementing Decision (CFSP) 2021/751 of 6\\xa0May 2021 implementing Decision 2013/255/CFSP concerning the restrictive measures against Syria, Council Implementing Regulation (EU) 2021/743 of 6\\xa0May 2021 implementing Regulation (EU) No\\xa036/2012 concerning restrictive measures in view of the situation in Syria, Council Decision (CFSP) 2022/849 of 30\\xa0May 2022 amending Decision 2013/255/CFSP concerning restrictive measures against Syria, and Council Implementing Regulation (EU) 2022/840 of 30\\xa0May 2022 implementing Regulation (EU) No\\xa036/2012 concerning restrictive measures in view of the situation in Syria, in so far as they concern Mr\\xa0Nizar Assaad',\n",
       "  'url': ['https://eur-lex.europa.eu/legal-content/EN/TXT/HTML/?uri=CELEX%3A62021TA0426'],\n",
       "  'publication_date': ['2.5.2023'],\n",
       "  'date': [],\n",
       "  'title': ['Judgment of the General Court of 8\\xa0March 2023\\xa0— Assaad v Council'],\n",
       "  'law_number': ['155/50'],\n",
       "  'case_number': ['Case T-426/21'],\n",
       "  'legal_base': [('CFSP', '2021/751'),\n",
       "   ('EU', '2021/743'),\n",
       "   ('CFSP', '2022/849'),\n",
       "   ('EU', '2022/840'),\n",
       "   ('CFSP', '2021/751'),\n",
       "   ('EU', '2021/743'),\n",
       "   ('CFSP', '2022/849'),\n",
       "   ('EU', '2022/840')]}]"
      ]
     },
     "execution_count": 9,
     "metadata": {},
     "output_type": "execute_result"
    }
   ],
   "source": [
    "court_decisions"
   ]
  },
  {
   "cell_type": "code",
   "execution_count": 8,
   "id": "a29eb8e3-4dc9-47ce-986a-84aa1be4bd93",
   "metadata": {},
   "outputs": [
    {
     "ename": "NameError",
     "evalue": "name 'stop' is not defined",
     "output_type": "error",
     "traceback": [
      "\u001b[1;31m---------------------------------------------------------------------------\u001b[0m",
      "\u001b[1;31mNameError\u001b[0m                                 Traceback (most recent call last)",
      "Cell \u001b[1;32mIn[8], line 1\u001b[0m\n\u001b[1;32m----> 1\u001b[0m stop\n",
      "\u001b[1;31mNameError\u001b[0m: name 'stop' is not defined"
     ]
    }
   ],
   "source": [
    "stop"
   ]
  },
  {
   "cell_type": "code",
   "execution_count": null,
   "id": "ea463db7-09b8-4aa0-8456-09df47b25deb",
   "metadata": {},
   "outputs": [],
   "source": [
    "#now extract th information\n",
    "# Initialize variables\n",
    "Delisting = None\n",
    "delisting_case = None\n",
    "entity_name = None\n",
    "#create patterns\n",
    "delist_pattern = r'The Court: 1. Annuls'\n",
    "delisting_case_pattern = r'Annuls (.+?);2.Orders'\n",
    "name_pattern = r'in so far as they concern (.+?);2.Orders'\n",
    "#create empty dic\n",
    "results = {}\n",
    "\n",
    "for i in content:\n",
    "    #get the content of the court case\n",
    "    name = re.findall(r'<p class=\"oj-normal\">(.*?)</p>', i)\n",
    "    text = ''.join(name)\n",
    "    if re.search(delist_pattern, text):\n",
    "        Delisting = 0\n",
    "        print('Dismissal')\n",
    "    else:\n",
    "        Delisting = 1  # Assuming 1 for non-dismissal cases\n",
    "    match = re.search(delisting_case_pattern, text)\n",
    "    if match:\n",
    "        delisting_case = match.group(1)\n",
    "    # Extract entity name\n",
    "    match = re.search(name_pattern, text)\n",
    "    if match:\n",
    "        entity_name = match.group(1)\n",
    "    "
   ]
  },
  {
   "cell_type": "code",
   "execution_count": null,
   "id": "28e3c32b-0484-4189-a414-c08b9794a8d8",
   "metadata": {
    "tags": []
   },
   "outputs": [],
   "source": [
    "#now get it into a dictionary format\n",
    "court_decision = {}\n",
    "court_decision['entity_name'] = entity_name\n",
    "court_decision['Delisting'] = Delisting\n",
    "court_decision['Delisting_case']= delisting_case\n",
    "court_decision['url'] = re.findall(r'href=\"(.*?\\.eu/legal-content/EN/TXT/HTML/.*?)\"', data)\n",
    "court_decision['publication_date'] =re.findall(r'<p class=\"oj-hd-date\">(\\d{1,2}\\.\\d{1,2}\\.\\d{4})', data)\n",
    "court_decision['date'] =  re.findall(r'<p class=\"oj-doc-ti\">of (\\d+ \\w+ \\d+)</p>', data)\n",
    "court_decision['title']= re.findall(r'<p class=\"oj-doc-ti\" id=\"[^\"]*\">(.*?)</p>', data)\n",
    "court_decision['law_number'] = re.findall(r'<p class=\"oj-hd-oj\">C (\\d+/\\d+)',data)\n",
    "court_decision['case_number'] = re.findall(r'Case\\sT-\\d+/\\d+', data)\n",
    "court_decision['legal_base'] = re.findall(r'\\((CFSP|EU)\\)\\s*(\\d+/\\d+)', data)\n"
   ]
  }
 ],
 "metadata": {
  "kernelspec": {
   "display_name": "Python 3 (ipykernel)",
   "language": "python",
   "name": "python3"
  },
  "language_info": {
   "codemirror_mode": {
    "name": "ipython",
    "version": 3
   },
   "file_extension": ".py",
   "mimetype": "text/x-python",
   "name": "python",
   "nbconvert_exporter": "python",
   "pygments_lexer": "ipython3",
   "version": "3.11.7"
  }
 },
 "nbformat": 4,
 "nbformat_minor": 5
}
