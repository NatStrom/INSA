{
 "cells": [
  {
   "cell_type": "markdown",
   "id": "dadd3b4c-9f9b-4edb-a82d-e5befe3a893d",
   "metadata": {},
   "source": [
    "# Information extraction using an LLM"
   ]
  },
  {
   "cell_type": "markdown",
   "id": "9539e04b-1469-4ae3-b52a-81484ffb1e17",
   "metadata": {},
   "source": [
    "## Table of Contents"
   ]
  },
  {
   "cell_type": "code",
   "execution_count": null,
   "id": "b0189024-edf1-4201-b6c6-17175aee00fa",
   "metadata": {},
   "outputs": [],
   "source": [
    "# todo"
   ]
  },
  {
   "cell_type": "markdown",
   "id": "a3247d17-44a4-4934-aa10-bb7977ff79a5",
   "metadata": {},
   "source": [
    "## Imports"
   ]
  },
  {
   "cell_type": "code",
   "execution_count": 5,
   "id": "6dd9e2ab-d94d-4715-bc09-a90f6100ba36",
   "metadata": {},
   "outputs": [],
   "source": [
    "import json\n",
    "import os\n",
    "import re\n",
    "\n",
    "from bs4 import BeautifulSoup"
   ]
  },
  {
   "cell_type": "code",
   "execution_count": 20,
   "id": "fdba97b2-f89c-4e2f-aa1f-1abd797718ec",
   "metadata": {},
   "outputs": [],
   "source": [
    "import openai\n",
    "from progressbar import progressbar"
   ]
  },
  {
   "cell_type": "code",
   "execution_count": 6,
   "id": "9437480c-5c83-476b-8734-31ec42753f5b",
   "metadata": {},
   "outputs": [],
   "source": [
    "from openai import OpenAI\n",
    "from pydantic import BaseModel"
   ]
  },
  {
   "cell_type": "code",
   "execution_count": 7,
   "id": "a3a2f553-a3ae-4941-8240-73e4bf02c635",
   "metadata": {},
   "outputs": [],
   "source": [
    "from typing import List"
   ]
  },
  {
   "cell_type": "code",
   "execution_count": 8,
   "id": "95555c47-569a-4c26-ba29-52ee97669b31",
   "metadata": {},
   "outputs": [],
   "source": [
    "client = OpenAI(api_key=\"\")"
   ]
  },
  {
   "cell_type": "markdown",
   "id": "b407ba68-5253-4559-955f-08675d579e4e",
   "metadata": {},
   "source": [
    "## JSON schemata & prompts\n",
    "\n",
    "The schema dictates the output shape. If this is supplied during the API call, we do not need to specify the output through prompting."
   ]
  },
  {
   "cell_type": "code",
   "execution_count": 9,
   "id": "98e81e0a-b993-45f7-9c6c-37ae911d9fed",
   "metadata": {},
   "outputs": [],
   "source": [
    "class SanctionDetails(BaseModel):\n",
    "    celex: str\n",
    "    law_number: str\n",
    "    publication_date: str\n",
    "    legal_base: str\n",
    "    decision: str"
   ]
  },
  {
   "cell_type": "code",
   "execution_count": 10,
   "id": "ded13297-8a71-48ff-a108-d96539d4f96a",
   "metadata": {},
   "outputs": [],
   "source": [
    "class SanctionTarget(SanctionDetails):\n",
    "    name: str\n",
    "    alias: list[str]\n",
    "    position: list[str]\n",
    "    dob: str\n",
    "    pob: str\n",
    "    address: str\n",
    "    nationality: str\n",
    "    identifying_information: list[str]\n",
    "    reason: str\n",
    "    un_sanction_date: str\n",
    "    date_of_listing: str\n",
    "    is_un: bool\n",
    "    entity_type: str"
   ]
  },
  {
   "cell_type": "code",
   "execution_count": 11,
   "id": "605000de-2991-4c30-93ae-e4e9fc9f4866",
   "metadata": {},
   "outputs": [],
   "source": [
    "class SanctionDoc(BaseModel):\n",
    "    sanctions: List[SanctionTarget]"
   ]
  },
  {
   "cell_type": "code",
   "execution_count": 12,
   "id": "dd661222-03e7-4c19-b7d3-d2ea448dc2ec",
   "metadata": {},
   "outputs": [],
   "source": [
    "system_message_sanctions = \"You are a diligent research assistant. \\\n",
    "Your purpose is to support researchers with extracting \\\n",
    "information about individual sanctions from unstructured text as well as from \\\n",
    "tables. The required data is to be structured as JSON for the output; the JSON \\\n",
    "keys are explained below. \\\n",
    "The are multiple sanction targets in each document, and you must give the details on every target. \\\n",
    "If the information is not available, return either an empty string \\\n",
    "(if the variable is of the type str), or an empty list of strings, if that \\\n",
    "was requested; in case of a boolean, return null. If you are not sure if \\\n",
    "you extracted the correct information, prefix it with: unsure: \\\n",
    "\\\n",
    "Here is the description for the JSON keys: \\\n",
    "celex: the CELEX number; \\\n",
    "law_number: an alphanumerical identifier for a referenced law (can be referenced inside the HTML block of '<p class='oj-hd-oj'>'); \\\n",
    "publication_date: date of publication of a given document; \\\n",
    "legal_base: legal justification or decision basis (mentioned as 'regard* to/amending'); \\\n",
    "decision: the text referencing the decision or regulation or annex that is implemented or amended; \\\n",
    "name: name of the person or entity; \\\n",
    "alias: a list of alias names, if applicable; \\\n",
    "position: if it is about a person, these are the positions held; \\\n",
    "dob: date of birth; \\\n",
    "pob: place of birth; \\\n",
    "address: the address; \\\n",
    "nationality: nationality; \\\n",
    "identifying_information: a list of further identifying information; \\\n",
    "reason: reason for the listing; \\\n",
    "un_sanction_date: date of sanctioning through the UN, if applicable; \\\n",
    "date_of_listing: date of listing; \\\n",
    "is_un: bolean to indicate if it is an UN sanction or not; \\\n",
    "entity_type: type of entity (person, organisation).\" "
   ]
  },
  {
   "cell_type": "code",
   "execution_count": 13,
   "id": "baff62f3-fe6c-4b37-a6e1-9db84f5c57f6",
   "metadata": {},
   "outputs": [],
   "source": [
    "class CourtDecision(BaseModel):\n",
    "    entity_name: str\n",
    "    delisting: bool\n",
    "    delisting_case: bool\n",
    "    url: str\n",
    "    celex: str\n",
    "    publication_date: str\n",
    "    date: str\n",
    "    title: str\n",
    "    law: str\n",
    "    case: str\n",
    "    legal_base: str"
   ]
  },
  {
   "cell_type": "code",
   "execution_count": 14,
   "id": "a895ce40-e7bb-496b-b1d7-b3400e9c36df",
   "metadata": {},
   "outputs": [],
   "source": [
    "system_message_decisions = \"You are a diligent research assistant. \\\n",
    "Your purpose is to support researchers with extracting \\\n",
    "information about court decisions regarding sanctions from unstructured text as well as from \\\n",
    "tables. The required data is to be structured as JSON for the output; the JSON \\\n",
    "keys are explained below. \\\n",
    "There may be multiple decisions per document, and you must extract them all. \\\n",
    "If the information is not available, return either an empty string \\\n",
    "(if the variable is of the type str), or an empty list of strings, if that \\\n",
    "was requested; in case of a boolean, return null. If you are not sure if \\\n",
    "you extracted the correct information, prefix it with: unsure: \\\n",
    "\\\n",
    "Here is the description for the JSON keys: \\\n",
    "entity_name: name of the entity in question; \\\n",
    "delisting: boolean indicating if it is a delisting or not; \\\n",
    "delisting_case: boolean indicating if the case is about a delisting; \\\n",
    "url: the url; \\\n",
    "celex: the CELEX number; \\\n",
    "publication_date: date of publication; \\\n",
    "date: date of decision; \\\n",
    "title: title of the decision; \\\n",
    "law: name of the law applied; \\\n",
    "case: name of the court case; \\\n",
    "legal_base: the legal base.\""
   ]
  },
  {
   "cell_type": "markdown",
   "id": "15e29e3f-69e5-4dff-8d26-a4ed348a227b",
   "metadata": {},
   "source": [
    "## Data"
   ]
  },
  {
   "cell_type": "code",
   "execution_count": 40,
   "id": "c969d2fa-400f-4d85-b8c5-dafbbb66babd",
   "metadata": {},
   "outputs": [
    {
     "data": {
      "text/plain": [
       "33"
      ]
     },
     "execution_count": 40,
     "metadata": {},
     "output_type": "execute_result"
    }
   ],
   "source": [
    "# how many files in total?\n",
    "\n",
    "len(os.listdir(\"relevant_subset/relevant\"))"
   ]
  },
  {
   "cell_type": "markdown",
   "id": "0c2f1203-bad5-4102-aa5e-af3258cd5150",
   "metadata": {},
   "source": [
    "### Sorting by document type"
   ]
  },
  {
   "cell_type": "code",
   "execution_count": 18,
   "id": "770292fb-1133-4de1-a95b-2b85238dc4ac",
   "metadata": {},
   "outputs": [],
   "source": [
    "# these are the regex to identify document types\n",
    "\n",
    "court_decision_pattern = r'<p class=\"oj-doc-ti\".*?>Judgment of the \\w*? Court.*?</p>'\n",
    "\n",
    "notice_pattern = r'<p class=\"oj-doc-ti\".*?\">Notice.*?</p>'"
   ]
  },
  {
   "cell_type": "code",
   "execution_count": 25,
   "id": "f2f37b14-f85e-4bc0-ab59-dcb93b038ce1",
   "metadata": {},
   "outputs": [
    {
     "name": "stderr",
     "output_type": "stream",
     "text": [
      "\u001b[38;2;0;255;0m100%\u001b[39m \u001b[38;2;0;255;0m(1786 of 1786)\u001b[39m |####################| Elapsed Time: 0:00:01 Time:  0:00:010000\n"
     ]
    }
   ],
   "source": [
    "# move identified files to different folders\n",
    "# this makes it easier to group API calls with the same system message\n",
    "# it saves tokens, and tokens = money\n",
    "\n",
    "import shutil\n",
    "\n",
    "for file in progressbar(os.listdir(\"relevant_subset/relevant\")):\n",
    "    if file.endswith(\".txt\"):\n",
    "        with open(os.path.join(\"relevant_subset/relevant/\", file), \"r\", encoding=\"utf-8\") as infile:\n",
    "            try:\n",
    "                insa_doc = infile.read()\n",
    "            except UnicodeDecodeError:\n",
    "                # this catches all files that are actually PDFs, they remain in the\n",
    "                # original folder\n",
    "                continue\n",
    "                \n",
    "        if re.search(court_decision_pattern, str(insa_doc)) is not None:\n",
    "            shutil.move(os.path.join(\"relevant_subset/relevant/\", file), os.path.join(\"relevant_subset/relevant_sorted/decisions/\", file))\n",
    "        elif re.search(notice_pattern, str(insa_doc)) is not None:\n",
    "            shutil.move(os.path.join(\"relevant_subset/relevant/\", file), os.path.join(\"relevant_subset/relevant_sorted/notices/\", file))\n",
    "        else:\n",
    "            shutil.move(os.path.join(\"relevant_subset/relevant/\", file), os.path.join(\"relevant_subset/relevant_sorted/sanctions/\", file))\n",
    "        "
   ]
  },
  {
   "cell_type": "markdown",
   "id": "879be6a7-a7c7-4d5d-b21b-9292eac83967",
   "metadata": {},
   "source": [
    "## API calls"
   ]
  },
  {
   "cell_type": "markdown",
   "id": "b168c8c3-66db-4407-980b-9bdb98b4faec",
   "metadata": {},
   "source": [
    "### Court decisions\n",
    "\n",
    "Files that matched the court decision pattern."
   ]
  },
  {
   "cell_type": "code",
   "execution_count": 18,
   "id": "3a496d36-2417-431a-a029-730fb72a9ad7",
   "metadata": {},
   "outputs": [
    {
     "name": "stderr",
     "output_type": "stream",
     "text": [
      "\u001b[38;2;0;255;0m100%\u001b[39m \u001b[38;2;0;255;0m(81 of 81)\u001b[39m |########################| Elapsed Time: 0:04:13 Time:  0:04:130322\n"
     ]
    }
   ],
   "source": [
    "for file in progressbar(os.listdir(\"relevant_subset/relevant_sorted/decisions\")):\n",
    "    if file.endswith(\".txt\") and not os.path.isfile(os.path.join(\"json_results/\", file.replace(\".txt\", \".json\"))):\n",
    "        # print(file)\n",
    "        with open(os.path.join(\"relevant_subset/relevant_sorted/decisions\", file), \"r\", encoding=\"utf-8\") as infile:\n",
    "            try:\n",
    "                insa_doc = infile.read()\n",
    "            except UnicodeDecodeError:\n",
    "                continue\n",
    "        \n",
    "        system_message = system_message_decisions\n",
    "        response_format = CourtDecision\n",
    "\n",
    "        try:\n",
    "            completion = client.beta.chat.completions.parse(\n",
    "                model=\"gpt-4o\",\n",
    "                messages=[\n",
    "                    {\"role\": \"system\", \"content\": system_message},\n",
    "                    {\"role\": \"user\", \"content\": insa_doc},\n",
    "                ],\n",
    "                response_format=response_format,\n",
    "            )    \n",
    "            sanctions = completion.choices[0].message.parsed\n",
    "        except openai.BadRequestError as e:\n",
    "            continue\n",
    "        except openai.LengthFinishReasonError as e:\n",
    "            continue\n",
    "\n",
    "        json_file_name = file.replace(\".txt\", \".json\")\n",
    "\n",
    "        # todo fix json output (currently string)\n",
    "        with open(os.path.join(\"json_results/\", json_file_name), \"w\", encoding=\"utf-8\") as f:\n",
    "            json.dump(sanctions.json(ensure_ascii=False), f, ensure_ascii=False, indent=4, sort_keys=True)"
   ]
  },
  {
   "cell_type": "markdown",
   "id": "6ab3532a-195d-4973-8cb2-7e70bbedd2df",
   "metadata": {},
   "source": [
    "### General files\n",
    "\n",
    "Everything that did not match a regex pattern from above."
   ]
  },
  {
   "cell_type": "code",
   "execution_count": null,
   "id": "d20f2529-2461-461e-8601-4e3a0d8f2208",
   "metadata": {
    "scrolled": true
   },
   "outputs": [],
   "source": [
    "# general sanctions\n",
    "\n",
    "for file in progressbar(os.listdir(\"relevant_subset/relevant_sorted/sanctions\")):\n",
    "    if file.endswith(\".txt\") and not os.path.isfile(os.path.join(\"json_results/\", file.replace(\".txt\", \".json\"))):\n",
    "        # print(file)\n",
    "        with open(os.path.join(\"relevant_subset/relevant_sorted/sanctions\", file), \"r\", encoding=\"utf-8\") as infile:\n",
    "            try:\n",
    "                insa_doc = infile.read()\n",
    "            except UnicodeDecodeError:\n",
    "                continue\n",
    "        \n",
    "        system_message = system_message_sanctions\n",
    "        response_format = SanctionDoc\n",
    "\n",
    "        try:\n",
    "            completion = client.beta.chat.completions.parse(\n",
    "                model=\"gpt-4o\",\n",
    "                messages=[\n",
    "                    {\"role\": \"system\", \"content\": system_message},\n",
    "                    {\"role\": \"user\", \"content\": insa_doc},\n",
    "                ],\n",
    "                response_format=response_format,\n",
    "            )    \n",
    "            sanctions = completion.choices[0].message.parsed\n",
    "        except openai.BadRequestError as e:\n",
    "            continue\n",
    "        except openai.LengthFinishReasonError as e:\n",
    "            continue\n",
    "\n",
    "        json_file_name = file.replace(\".txt\", \".json\")\n",
    "\n",
    "        # todo fix json output (currently string)\n",
    "        with open(os.path.join(\"json_results/\", json_file_name), \"w\", encoding=\"utf-8\") as f:\n",
    "            json.dump(sanctions.json(ensure_ascii=False), f, ensure_ascii=False, indent=4, sort_keys=True)"
   ]
  },
  {
   "cell_type": "markdown",
   "id": "9a2f0c41-d57a-4e83-bea6-c7329b22cb39",
   "metadata": {},
   "source": [
    "### Notices\n",
    "\n",
    "Files that matched the notice pattern."
   ]
  },
  {
   "cell_type": "code",
   "execution_count": null,
   "id": "aa17e139-4f70-41e2-a2f0-3c9cd4906eb0",
   "metadata": {},
   "outputs": [],
   "source": [
    "for file in progressbar(os.listdir(\"relevant_subset/relevant_sorted/notices\")):\n",
    "    if file.endswith(\".txt\") and not os.path.isfile(os.path.join(\"json_results/\", file.replace(\".txt\", \".json\"))):\n",
    "        # print(file)\n",
    "        with open(os.path.join(\"relevant_subset/relevant_sorted/notices\", file), \"r\", encoding=\"utf-8\") as infile:\n",
    "            try:\n",
    "                insa_doc = infile.read()\n",
    "            except UnicodeDecodeError:\n",
    "                continue\n",
    "        \n",
    "        system_message = system_message_sanctions\n",
    "        response_format = SanctionDoc\n",
    "\n",
    "        try:\n",
    "            completion = client.beta.chat.completions.parse(\n",
    "                model=\"gpt-4o\",\n",
    "                messages=[\n",
    "                    {\"role\": \"system\", \"content\": system_message},\n",
    "                    {\"role\": \"user\", \"content\": insa_doc},\n",
    "                ],\n",
    "                response_format=response_format,\n",
    "            )    \n",
    "            sanctions = completion.choices[0].message.parsed\n",
    "        except openai.BadRequestError as e:\n",
    "            continue\n",
    "        except openai.LengthFinishReasonError as e:\n",
    "            continue\n",
    "\n",
    "        json_file_name = file.replace(\".txt\", \".json\")\n",
    "\n",
    "        # todo fix json output (currently string)\n",
    "        with open(os.path.join(\"json_results/\", json_file_name), \"w\", encoding=\"utf-8\") as f:\n",
    "            json.dump(sanctions.json(ensure_ascii=False), f, ensure_ascii=False, indent=4, sort_keys=True)"
   ]
  },
  {
   "cell_type": "markdown",
   "id": "3092b4b1-22ee-4443-b54a-8e1a6cc3c833",
   "metadata": {},
   "source": [
    "## Evaluation\n",
    "\n",
    "This creates excel files from json docs."
   ]
  },
  {
   "cell_type": "code",
   "execution_count": 28,
   "id": "f670622a-e4f8-435b-9bc7-ffab663c907c",
   "metadata": {},
   "outputs": [],
   "source": [
    "import openpyxl\n",
    "import pandas as pd\n",
    "import random"
   ]
  },
  {
   "cell_type": "code",
   "execution_count": 33,
   "id": "daf6ecee-5f28-48c7-b912-e03205f1b0c7",
   "metadata": {},
   "outputs": [],
   "source": [
    "json_files = os.listdir(\"json_results/\")\n",
    "\n",
    "for _ in range(100):\n",
    "    get_index = random.randrange(len(json_files))\n",
    "    json_file_name = json_files[get_index]\n",
    "\n",
    "    # Load JSON data\n",
    "    with open(os.path.join(\"json_results/\", json_file_name)) as file:\n",
    "        # needed because i stored it as str, not json...\n",
    "        data = json.loads(json.load(file))\n",
    "\n",
    "    # Convert json data to pandas dataframe\n",
    "    if \"sanctions\" in data:\n",
    "        df = pd.DataFrame(data[\"sanctions\"])\n",
    "    else:\n",
    "        df = pd.DataFrame([data])\n",
    "\n",
    "    excel_file_name = json_file_name.split(\".\")[0] + \".xlsx\"\n",
    "    df.to_excel(os.path.join(\"random_excel/\", excel_file_name), index=False)\n"
   ]
  },
  {
   "cell_type": "markdown",
   "id": "78b5b668-e2d1-41e1-af3e-7eecf99227de",
   "metadata": {},
   "source": [
    "## Data inspection\n",
    "\n",
    "If you want quickly inspect all result data, create the dataframes here."
   ]
  },
  {
   "cell_type": "code",
   "execution_count": 41,
   "id": "156bfc04-235e-4b74-889f-0183ed6fc352",
   "metadata": {},
   "outputs": [],
   "source": [
    "sanctions_df = pd.DataFrame()\n",
    "court_decisions_df = pd.DataFrame()"
   ]
  },
  {
   "cell_type": "code",
   "execution_count": 42,
   "id": "13d61310-fabc-434a-86cc-7ab4adacc936",
   "metadata": {},
   "outputs": [],
   "source": [
    "for json_file_name in os.listdir(\"json_results/\"):\n",
    "    # Load JSON data\n",
    "    if json_file_name.endswith(\".json\"):\n",
    "        with open(os.path.join(\"json_results/\", json_file_name)) as file:\n",
    "            # needed because i stored it as str, not json...\n",
    "            data = json.loads(json.load(file))\n",
    "\n",
    "    # Convert json data to pandas dataframe\n",
    "    if \"sanctions\" in data:\n",
    "        # df = pd.DataFrame(data[\"sanctions\"])\n",
    "        # sanctions_df = sanctions_df.concat(data[\"sanctions\"], ignore_index=True)\n",
    "        sanctions_df = pd.concat([sanctions_df, pd.DataFrame(data[\"sanctions\"])], ignore_index=True)\n",
    "        #print(\"added\")\n",
    "    else:\n",
    "        court_decisions_df = pd.concat([court_decisions_df, pd.DataFrame([data])], ignore_index=True)"
   ]
  },
  {
   "cell_type": "code",
   "execution_count": 43,
   "id": "9a93063f-5b58-462c-987f-0a49d1102d26",
   "metadata": {},
   "outputs": [
    {
     "data": {
      "text/html": [
       "<div>\n",
       "<style scoped>\n",
       "    .dataframe tbody tr th:only-of-type {\n",
       "        vertical-align: middle;\n",
       "    }\n",
       "\n",
       "    .dataframe tbody tr th {\n",
       "        vertical-align: top;\n",
       "    }\n",
       "\n",
       "    .dataframe thead th {\n",
       "        text-align: right;\n",
       "    }\n",
       "</style>\n",
       "<table border=\"1\" class=\"dataframe\">\n",
       "  <thead>\n",
       "    <tr style=\"text-align: right;\">\n",
       "      <th></th>\n",
       "      <th>celex</th>\n",
       "      <th>law_number</th>\n",
       "      <th>publication_date</th>\n",
       "      <th>legal_base</th>\n",
       "      <th>name</th>\n",
       "      <th>alias</th>\n",
       "      <th>position</th>\n",
       "      <th>dob</th>\n",
       "      <th>pob</th>\n",
       "      <th>address</th>\n",
       "      <th>nationality</th>\n",
       "      <th>identifying_information</th>\n",
       "      <th>reason</th>\n",
       "      <th>un_sanction_date</th>\n",
       "      <th>date_of_listing</th>\n",
       "      <th>is_un</th>\n",
       "      <th>entity_type</th>\n",
       "    </tr>\n",
       "  </thead>\n",
       "  <tbody>\n",
       "    <tr>\n",
       "      <th>0</th>\n",
       "      <td>52023XG0403(03)</td>\n",
       "      <td>2011/235/CFSP, 2023/727, 359/2011, 2023/721</td>\n",
       "      <td>2023-04-03</td>\n",
       "      <td>Council Decision 2011/235/CFSP, Council Decisi...</td>\n",
       "      <td></td>\n",
       "      <td>[]</td>\n",
       "      <td>[]</td>\n",
       "      <td></td>\n",
       "      <td></td>\n",
       "      <td></td>\n",
       "      <td></td>\n",
       "      <td>[]</td>\n",
       "      <td>Restrictive measures in view of the situation ...</td>\n",
       "      <td></td>\n",
       "      <td></td>\n",
       "      <td>False</td>\n",
       "      <td></td>\n",
       "    </tr>\n",
       "    <tr>\n",
       "      <th>1</th>\n",
       "      <td>62012TA0578</td>\n",
       "      <td>2012/635/CFSP</td>\n",
       "      <td>1.9.2014</td>\n",
       "      <td>Council Implementing Regulation (EU) No 945/20...</td>\n",
       "      <td>National Iranian Oil Company</td>\n",
       "      <td>[]</td>\n",
       "      <td>[]</td>\n",
       "      <td></td>\n",
       "      <td></td>\n",
       "      <td></td>\n",
       "      <td>Iranian</td>\n",
       "      <td>[]</td>\n",
       "      <td>Restrictive measures against Iran with the aim...</td>\n",
       "      <td></td>\n",
       "      <td>15 October 2012</td>\n",
       "      <td>False</td>\n",
       "      <td>organisation</td>\n",
       "    </tr>\n",
       "    <tr>\n",
       "      <th>2</th>\n",
       "      <td>52022XG1128(03)</td>\n",
       "      <td>2014/119/CFSP and 208/2014</td>\n",
       "      <td>28.11.2022</td>\n",
       "      <td>Council Decision 2014/119/CFSP and Council Reg...</td>\n",
       "      <td>Vitalii Yuriyovych Zakharchenko</td>\n",
       "      <td>[]</td>\n",
       "      <td>[]</td>\n",
       "      <td></td>\n",
       "      <td></td>\n",
       "      <td></td>\n",
       "      <td></td>\n",
       "      <td>[]</td>\n",
       "      <td>Restrictive measures directed against certain ...</td>\n",
       "      <td></td>\n",
       "      <td></td>\n",
       "      <td>False</td>\n",
       "      <td>person</td>\n",
       "    </tr>\n",
       "    <tr>\n",
       "      <th>3</th>\n",
       "      <td>62022TN0364</td>\n",
       "      <td>2022/582/CFSP</td>\n",
       "      <td>2022-08-08</td>\n",
       "      <td>Council Decision (CFSP) 2022/582 of 8 April 20...</td>\n",
       "      <td>Aleksandr Aleksandrovich Shulgin</td>\n",
       "      <td>[]</td>\n",
       "      <td>[]</td>\n",
       "      <td></td>\n",
       "      <td></td>\n",
       "      <td>Moscow, Russia</td>\n",
       "      <td></td>\n",
       "      <td>[]</td>\n",
       "      <td>Listed in the annex to the Council Decision 20...</td>\n",
       "      <td></td>\n",
       "      <td>2022-04-08</td>\n",
       "      <td>False</td>\n",
       "      <td>person</td>\n",
       "    </tr>\n",
       "    <tr>\n",
       "      <th>4</th>\n",
       "      <td>62022TN0364</td>\n",
       "      <td>2022/581</td>\n",
       "      <td>2022-08-08</td>\n",
       "      <td>Council Implementing Regulation (EU) 2022/581 ...</td>\n",
       "      <td>Aleksandr Aleksandrovich Shulgin</td>\n",
       "      <td>[]</td>\n",
       "      <td>[]</td>\n",
       "      <td></td>\n",
       "      <td></td>\n",
       "      <td>Moscow, Russia</td>\n",
       "      <td></td>\n",
       "      <td>[]</td>\n",
       "      <td>Listed in Annex I of the Implementing Regulati...</td>\n",
       "      <td></td>\n",
       "      <td>2022-04-08</td>\n",
       "      <td>False</td>\n",
       "      <td>person</td>\n",
       "    </tr>\n",
       "  </tbody>\n",
       "</table>\n",
       "</div>"
      ],
      "text/plain": [
       "             celex                                   law_number  \\\n",
       "0  52023XG0403(03)  2011/235/CFSP, 2023/727, 359/2011, 2023/721   \n",
       "1      62012TA0578                                2012/635/CFSP   \n",
       "2  52022XG1128(03)                   2014/119/CFSP and 208/2014   \n",
       "3      62022TN0364                                2022/582/CFSP   \n",
       "4      62022TN0364                                     2022/581   \n",
       "\n",
       "  publication_date                                         legal_base  \\\n",
       "0       2023-04-03  Council Decision 2011/235/CFSP, Council Decisi...   \n",
       "1         1.9.2014  Council Implementing Regulation (EU) No 945/20...   \n",
       "2       28.11.2022  Council Decision 2014/119/CFSP and Council Reg...   \n",
       "3       2022-08-08  Council Decision (CFSP) 2022/582 of 8 April 20...   \n",
       "4       2022-08-08  Council Implementing Regulation (EU) 2022/581 ...   \n",
       "\n",
       "                               name alias position dob pob         address  \\\n",
       "0                                      []       []                           \n",
       "1      National Iranian Oil Company    []       []                           \n",
       "2   Vitalii Yuriyovych Zakharchenko    []       []                           \n",
       "3  Aleksandr Aleksandrovich Shulgin    []       []          Moscow, Russia   \n",
       "4  Aleksandr Aleksandrovich Shulgin    []       []          Moscow, Russia   \n",
       "\n",
       "  nationality identifying_information  \\\n",
       "0                                  []   \n",
       "1     Iranian                      []   \n",
       "2                                  []   \n",
       "3                                  []   \n",
       "4                                  []   \n",
       "\n",
       "                                              reason un_sanction_date  \\\n",
       "0  Restrictive measures in view of the situation ...                    \n",
       "1  Restrictive measures against Iran with the aim...                    \n",
       "2  Restrictive measures directed against certain ...                    \n",
       "3  Listed in the annex to the Council Decision 20...                    \n",
       "4  Listed in Annex I of the Implementing Regulati...                    \n",
       "\n",
       "   date_of_listing  is_un   entity_type  \n",
       "0                   False                \n",
       "1  15 October 2012  False  organisation  \n",
       "2                   False        person  \n",
       "3       2022-04-08  False        person  \n",
       "4       2022-04-08  False        person  "
      ]
     },
     "execution_count": 43,
     "metadata": {},
     "output_type": "execute_result"
    }
   ],
   "source": [
    "sanctions_df.head()"
   ]
  },
  {
   "cell_type": "code",
   "execution_count": 44,
   "id": "a7a10687-d663-4d3a-9ef2-06ef7cfbc254",
   "metadata": {},
   "outputs": [
    {
     "data": {
      "text/html": [
       "<div>\n",
       "<style scoped>\n",
       "    .dataframe tbody tr th:only-of-type {\n",
       "        vertical-align: middle;\n",
       "    }\n",
       "\n",
       "    .dataframe tbody tr th {\n",
       "        vertical-align: top;\n",
       "    }\n",
       "\n",
       "    .dataframe thead th {\n",
       "        text-align: right;\n",
       "    }\n",
       "</style>\n",
       "<table border=\"1\" class=\"dataframe\">\n",
       "  <thead>\n",
       "    <tr style=\"text-align: right;\">\n",
       "      <th></th>\n",
       "      <th>entity_name</th>\n",
       "      <th>delisting</th>\n",
       "      <th>delisting_case</th>\n",
       "      <th>url</th>\n",
       "      <th>celex</th>\n",
       "      <th>publication_date</th>\n",
       "      <th>date</th>\n",
       "      <th>title</th>\n",
       "      <th>law</th>\n",
       "      <th>case</th>\n",
       "      <th>legal_base</th>\n",
       "    </tr>\n",
       "  </thead>\n",
       "  <tbody>\n",
       "    <tr>\n",
       "      <th>0</th>\n",
       "      <td>Sharif University of Technology</td>\n",
       "      <td>False</td>\n",
       "      <td>False</td>\n",
       "      <td>https://eur-lex.europa.eu/legal-content/EN/TXT...</td>\n",
       "      <td>62015TA0052</td>\n",
       "      <td>13.6.2016</td>\n",
       "      <td>28.4.2016</td>\n",
       "      <td>Judgment of the General Court of 28 April 2016...</td>\n",
       "      <td></td>\n",
       "      <td>T-52/15</td>\n",
       "      <td>Council Decision 2010/413/CFSP</td>\n",
       "    </tr>\n",
       "    <tr>\n",
       "      <th>1</th>\n",
       "      <td>Tibisay Lucena Ramírez</td>\n",
       "      <td>False</td>\n",
       "      <td>False</td>\n",
       "      <td>https://eur-lex.europa.eu/legal-content/EN/TXT...</td>\n",
       "      <td>62018TA0247</td>\n",
       "      <td>30.8.2021</td>\n",
       "      <td>14 July 2021</td>\n",
       "      <td>Judgment of the General Court of 14 July 2021 ...</td>\n",
       "      <td></td>\n",
       "      <td>T-247/18</td>\n",
       "      <td>Article 263 TFEU</td>\n",
       "    </tr>\n",
       "    <tr>\n",
       "      <th>2</th>\n",
       "      <td>Alexander Dmitrievich Pumpyanskiy</td>\n",
       "      <td>True</td>\n",
       "      <td>False</td>\n",
       "      <td>https://eur-lex.europa.eu/legal-content/EN/TXT...</td>\n",
       "      <td>62022TA0734</td>\n",
       "      <td>29.1.2024</td>\n",
       "      <td>29 November 2023</td>\n",
       "      <td>Judgment of the General Court of 29 November 2...</td>\n",
       "      <td>Council Decision (CFSP) 2022/1530, Council Imp...</td>\n",
       "      <td>Case T-734/22</td>\n",
       "      <td>Article 263 TFEU, Article 268 TFEU</td>\n",
       "    </tr>\n",
       "    <tr>\n",
       "      <th>3</th>\n",
       "      <td>Samer Foz</td>\n",
       "      <td>False</td>\n",
       "      <td>False</td>\n",
       "      <td>https://eur-lex.europa.eu/legal-content/EN/TXT...</td>\n",
       "      <td>62019TA0258</td>\n",
       "      <td>2022-01-24</td>\n",
       "      <td>2021-11-24</td>\n",
       "      <td>Judgment of the General Court of 24 November 2...</td>\n",
       "      <td>Council Implementing Decision (CFSP) 2019/87 o...</td>\n",
       "      <td>T-258/19</td>\n",
       "      <td>Article 263 TFEU</td>\n",
       "    </tr>\n",
       "    <tr>\n",
       "      <th>4</th>\n",
       "      <td>Évariste Boshab</td>\n",
       "      <td>False</td>\n",
       "      <td>False</td>\n",
       "      <td>https://eur-lex.europa.eu/legal-content/EN/TXT...</td>\n",
       "      <td>62022TA0098</td>\n",
       "      <td>2023-05-02</td>\n",
       "      <td>2023-03-08</td>\n",
       "      <td>Judgment of the General Court of 8 March 2023 ...</td>\n",
       "      <td>Council Decision (CFSP) 2021/2181 and Council ...</td>\n",
       "      <td>T-98/22</td>\n",
       "      <td>Article 263 TFEU</td>\n",
       "    </tr>\n",
       "  </tbody>\n",
       "</table>\n",
       "</div>"
      ],
      "text/plain": [
       "                         entity_name  delisting  delisting_case  \\\n",
       "0    Sharif University of Technology      False           False   \n",
       "1             Tibisay Lucena Ramírez      False           False   \n",
       "2  Alexander Dmitrievich Pumpyanskiy       True           False   \n",
       "3                          Samer Foz      False           False   \n",
       "4                    Évariste Boshab      False           False   \n",
       "\n",
       "                                                 url        celex  \\\n",
       "0  https://eur-lex.europa.eu/legal-content/EN/TXT...  62015TA0052   \n",
       "1  https://eur-lex.europa.eu/legal-content/EN/TXT...  62018TA0247   \n",
       "2  https://eur-lex.europa.eu/legal-content/EN/TXT...  62022TA0734   \n",
       "3  https://eur-lex.europa.eu/legal-content/EN/TXT...  62019TA0258   \n",
       "4  https://eur-lex.europa.eu/legal-content/EN/TXT...  62022TA0098   \n",
       "\n",
       "  publication_date              date  \\\n",
       "0        13.6.2016         28.4.2016   \n",
       "1        30.8.2021      14 July 2021   \n",
       "2        29.1.2024  29 November 2023   \n",
       "3       2022-01-24        2021-11-24   \n",
       "4       2023-05-02        2023-03-08   \n",
       "\n",
       "                                               title  \\\n",
       "0  Judgment of the General Court of 28 April 2016...   \n",
       "1  Judgment of the General Court of 14 July 2021 ...   \n",
       "2  Judgment of the General Court of 29 November 2...   \n",
       "3  Judgment of the General Court of 24 November 2...   \n",
       "4  Judgment of the General Court of 8 March 2023 ...   \n",
       "\n",
       "                                                 law           case  \\\n",
       "0                                                           T-52/15   \n",
       "1                                                          T-247/18   \n",
       "2  Council Decision (CFSP) 2022/1530, Council Imp...  Case T-734/22   \n",
       "3  Council Implementing Decision (CFSP) 2019/87 o...       T-258/19   \n",
       "4  Council Decision (CFSP) 2021/2181 and Council ...        T-98/22   \n",
       "\n",
       "                           legal_base  \n",
       "0      Council Decision 2010/413/CFSP  \n",
       "1                    Article 263 TFEU  \n",
       "2  Article 263 TFEU, Article 268 TFEU  \n",
       "3                    Article 263 TFEU  \n",
       "4                    Article 263 TFEU  "
      ]
     },
     "execution_count": 44,
     "metadata": {},
     "output_type": "execute_result"
    }
   ],
   "source": [
    "court_decisions_df.head()"
   ]
  },
  {
   "cell_type": "code",
   "execution_count": null,
   "id": "d3c0c176-2737-41a0-8db9-99f5f9b7e7af",
   "metadata": {},
   "outputs": [],
   "source": []
  }
 ],
 "metadata": {
  "kernelspec": {
   "display_name": "Python 3 (ipykernel)",
   "language": "python",
   "name": "python3"
  },
  "language_info": {
   "codemirror_mode": {
    "name": "ipython",
    "version": 3
   },
   "file_extension": ".py",
   "mimetype": "text/x-python",
   "name": "python",
   "nbconvert_exporter": "python",
   "pygments_lexer": "ipython3",
   "version": "3.11.7"
  }
 },
 "nbformat": 4,
 "nbformat_minor": 5
}
