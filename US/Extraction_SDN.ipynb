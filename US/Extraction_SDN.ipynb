{
 "cells": [
  {
   "cell_type": "code",
   "execution_count": 1,
   "id": "8c69ad6c-90c0-4873-abb8-c7ccd3d14ccb",
   "metadata": {},
   "outputs": [],
   "source": [
    "#loading of the packages\n",
    "import pandas as pd\n",
    "import os\n",
    "import requests\n",
    "import datetime\n",
    "import re\n",
    "import seaborn as sns\n",
    "\n",
    "import nltk\n",
    "from nltk.tokenize import sent_tokenize\n",
    "#nltk.download('punkt')"
   ]
  },
  {
   "cell_type": "markdown",
   "id": "3c54685f-1c47-45f4-9e70-fc01488576c0",
   "metadata": {},
   "source": [
    "# EXAMPLE"
   ]
  },
  {
   "cell_type": "code",
   "execution_count": null,
   "id": "9f4de911-02d3-4771-9003-4925fc2dc80a",
   "metadata": {},
   "outputs": [],
   "source": [
    "#get the file contents from the OFAC website\n",
    "url = 'https://www.treasury.gov/ofac/downloads/sdnnew21.txt'\n",
    "response = requests.get(url)\n",
    "print(response.status_code)\n",
    "data = response.text\n",
    "data"
   ]
  },
  {
   "cell_type": "code",
   "execution_count": null,
   "id": "558571f2-6de9-424d-8ae7-6ad629585540",
   "metadata": {},
   "outputs": [],
   "source": [
    "#scrap the information at the beginning and split the text into lines\n",
    "start_index = data.find(\"01/05/21:\")\n",
    "text = data[start_index:]\n",
    "\n",
    "#get rid of all the \\n\n",
    "#use replace function for all alt. and a\n",
    "#text = text.replace(\"a.k.a.\", \"aka\")\n",
    "#text = text.replace(\"alt.\", \"alternative\")\n",
    "#text = text.replace(\"f.k.a.\",\"fka\")\n",
    "#text = text.replace(\"P.O.\",\"PO\")\n",
    "#text = text.replace(\"No.\",\"Number\")\n",
    "\n",
    "print(text)\n",
    "#,('\\n', ''),('\\r', '')"
   ]
  },
  {
   "cell_type": "code",
   "execution_count": null,
   "id": "8dbab6b3-da9c-4395-a43c-b85f096d8d79",
   "metadata": {},
   "outputs": [],
   "source": [
    "test = text.split('.\\r\\n')\n",
    "test"
   ]
  },
  {
   "cell_type": "code",
   "execution_count": null,
   "id": "bbb19528-8ad7-487a-975f-2501d94287b1",
   "metadata": {},
   "outputs": [],
   "source": [
    "#get all listing dates\n",
    "date = re.findall(r'(\\d/\\d+/\\d+):',text)\n",
    "date"
   ]
  },
  {
   "cell_type": "code",
   "execution_count": null,
   "id": "43459d4d-bc1c-458e-abf7-12b01fbaf130",
   "metadata": {},
   "outputs": [],
   "source": [
    "#tokenize the sentences with the listing date attached\n",
    "\n",
    "#need to access an online corpus so i can use it to tokenize\n",
    "import requests\n",
    "from tokenizers import SentencePieceBPETokenizer\n",
    "\n",
    "def load_text_from_url(url):\n",
    "    try:\n",
    "        response = requests.get(url)\n",
    "        # Check if request was successful\n",
    "        response.raise_for_status()\n",
    "        # Decode the content assuming it's UTF-8\n",
    "        text = response.text\n",
    "        return text\n",
    "    except requests.exceptions.RequestException as e:\n",
    "        print(\"Error loading text from URL:\", e)\n",
    "        return None\n",
    "\n",
    "def tokenize_into_batches(text):\n",
    "    tokenizer = SentencePieceBPETokenizer()\n",
    "\n",
    "    # Load pre-trained tokenizer\n",
    "    tokenizer.train([text])\n",
    "\n",
    "    # Tokenize text into batches\n",
    "    batches = []\n",
    "    current_batch = []\n",
    "    for sentence in tokenizer.encode(text).tokens:\n",
    "        sentence = sentence.replace('▁', ' ').strip()  # Remove special tokens\n",
    "        # Check if the sentence ends with a period\n",
    "        if sentence.endswith('.\\r\\n'):\n",
    "            # Append the sentence to the current batch\n",
    "            current_batch.append(sentence)\n",
    "            # If the current batch is not empty, add it to batches\n",
    "            if current_batch:\n",
    "                batches.append(current_batch)\n",
    "            # Start a new batch\n",
    "            current_batch = []\n",
    "        else:\n",
    "            # Append the sentence to the current batch\n",
    "            current_batch.append(sentence)\n",
    "\n",
    "    return batches\n",
    "\n",
    "# Example usage:\n",
    "url = \"https://www.treasury.gov/ofac/downloads/sdnnew23.txt\"\n",
    "text = load_text_from_url(url)\n",
    "if text:\n",
    "    batches = tokenize_into_batches(text)\n",
    "    for i, batch in enumerate(batches):\n",
    "        print(f\"Batch {i+1}:\")\n",
    "        for sentence in batch:\n",
    "            print(sentence)\n",
    "        print()\n",
    "else:\n",
    "    print(\"Failed to load text from the URL.\")"
   ]
  },
  {
   "cell_type": "markdown",
   "id": "ff2cb05d-b4ba-4a74-8c38-7903589cc98b",
   "metadata": {},
   "source": [
    "# ALL FILES"
   ]
  },
  {
   "cell_type": "code",
   "execution_count": 9,
   "id": "f9b8f709-8e2d-4d54-9791-2e49e9069fed",
   "metadata": {
    "tags": []
   },
   "outputs": [
    {
     "name": "stdout",
     "output_type": "stream",
     "text": [
      "['https://www.treasury.gov/ofac/downloads/sdnnew16.txt', 'https://www.treasury.gov/ofac/downloads/sdnnew17.txt', 'https://www.treasury.gov/ofac/downloads/sdnnew18.txt', 'https://www.treasury.gov/ofac/downloads/sdnnew19.txt', 'https://www.treasury.gov/ofac/downloads/sdnnew20.txt', 'https://www.treasury.gov/ofac/downloads/sdnnew21.txt', 'https://www.treasury.gov/ofac/downloads/sdnnew22.txt', 'https://www.treasury.gov/ofac/downloads/sdnnew23.txt']\n"
     ]
    }
   ],
   "source": [
    "#load it for all years and dump the file\n",
    "#create urls for all relevant dates\n",
    "date_list = pd.date_range(start='20160101',end='20231231',freq='Y').strftime('%y')\n",
    "\n",
    "#get all the urls for all the dates we need the data for\n",
    "#make each day an individual list so we can compare and match them\n",
    "websites = []\n",
    "\n",
    "for i in date_list:\n",
    "    test = 'https://www.treasury.gov/ofac/downloads/sdnnew' +(i)+'.txt'\n",
    "    websites.append(test)\n",
    "print(websites)"
   ]
  },
  {
   "cell_type": "code",
   "execution_count": 11,
   "id": "91b82a40-c595-40bb-8caa-886e23dfdc97",
   "metadata": {
    "tags": []
   },
   "outputs": [
    {
     "name": "stdout",
     "output_type": "stream",
     "text": [
      "['https://www.treasury.gov/ofac/downloads/sdnew94.txt', 'https://www.treasury.gov/ofac/downloads/sdnew95.txt', 'https://www.treasury.gov/ofac/downloads/sdnew96.txt', 'https://www.treasury.gov/ofac/downloads/sdnew97.txt', 'https://www.treasury.gov/ofac/downloads/sdnew98.txt', 'https://www.treasury.gov/ofac/downloads/sdnew99.txt', 'https://www.treasury.gov/ofac/downloads/sdnew00.txt', 'https://www.treasury.gov/ofac/downloads/sdnew01.txt', 'https://www.treasury.gov/ofac/downloads/sdnew02.txt', 'https://www.treasury.gov/ofac/downloads/sdnew03.txt', 'https://www.treasury.gov/ofac/downloads/sdnew04.txt', 'https://www.treasury.gov/ofac/downloads/sdnew05.txt', 'https://www.treasury.gov/ofac/downloads/sdnew06.txt', 'https://www.treasury.gov/ofac/downloads/sdnew07.txt', 'https://www.treasury.gov/ofac/downloads/sdnew08.txt', 'https://www.treasury.gov/ofac/downloads/sdnew09.txt', 'https://www.treasury.gov/ofac/downloads/sdnew10.txt', 'https://www.treasury.gov/ofac/downloads/sdnew11.txt', 'https://www.treasury.gov/ofac/downloads/sdnew12.txt', 'https://www.treasury.gov/ofac/downloads/sdnew13.txt', 'https://www.treasury.gov/ofac/downloads/sdnew14.txt', 'https://www.treasury.gov/ofac/downloads/sdnew15.txt']\n"
     ]
    }
   ],
   "source": [
    "#load it for all years and dump the file\n",
    "#create urls for all relevant dates\n",
    "date_list = pd.date_range(start='19940101',end='20151231',freq='Y').strftime('%y')\n",
    "\n",
    "#get all the urls for all the dates we need the data for\n",
    "#make each day an individual list so we can compare and match them\n",
    "websites2 = []\n",
    "\n",
    "for i in date_list:\n",
    "    test2 = 'https://www.treasury.gov/ofac/downloads/sdnew' +(i)+'.txt'\n",
    "    websites2.append(test2)\n",
    "print(websites2)\n",
    "websites = websites + websites2"
   ]
  },
  {
   "cell_type": "code",
   "execution_count": 12,
   "id": "2cc86741-b7ac-4495-b721-a0ca7bad215c",
   "metadata": {
    "tags": []
   },
   "outputs": [
    {
     "name": "stdout",
     "output_type": "stream",
     "text": [
      "200\n",
      "200\n",
      "200\n",
      "200\n",
      "200\n",
      "200\n",
      "200\n",
      "200\n",
      "200\n",
      "200\n",
      "200\n",
      "200\n",
      "200\n",
      "200\n",
      "200\n",
      "200\n",
      "200\n",
      "200\n",
      "200\n",
      "200\n",
      "200\n",
      "200\n",
      "200\n",
      "200\n",
      "200\n",
      "200\n",
      "200\n",
      "200\n",
      "200\n",
      "200\n",
      "200\n",
      "200\n",
      "200\n",
      "200\n",
      "200\n",
      "200\n",
      "200\n",
      "200\n",
      "200\n",
      "200\n",
      "200\n",
      "200\n",
      "200\n",
      "200\n"
     ]
    }
   ],
   "source": [
    "#get the file contents from the OFAC website\n",
    "sdn_full_archive=[]\n",
    "for site in websites:\n",
    "    response = requests.get(site)\n",
    "    print(response.status_code)\n",
    "    if response.status_code != 200:\n",
    "        continue\n",
    "    data = response.text\n",
    "    sdn_full_archive.append(data)\n",
    "\n",
    "import pickle\n",
    "with open(\"sdn_full_list\",\"wb\") as fp:\n",
    "    pickle.dump(sdn_full_archive, fp)"
   ]
  },
  {
   "cell_type": "code",
   "execution_count": 13,
   "id": "af48296e-d63f-496a-a191-e6ada3f0628a",
   "metadata": {
    "tags": []
   },
   "outputs": [],
   "source": [
    "#open the list again\n",
    "with open(\"sdn_full_list\", \"rb\") as fp:\n",
    "    sdn_full= pickle.load(fp)"
   ]
  }
 ],
 "metadata": {
  "kernelspec": {
   "display_name": "Python 3 (ipykernel)",
   "language": "python",
   "name": "python3"
  },
  "language_info": {
   "codemirror_mode": {
    "name": "ipython",
    "version": 3
   },
   "file_extension": ".py",
   "mimetype": "text/x-python",
   "name": "python",
   "nbconvert_exporter": "python",
   "pygments_lexer": "ipython3",
   "version": "3.11.5"
  }
 },
 "nbformat": 4,
 "nbformat_minor": 5
}
