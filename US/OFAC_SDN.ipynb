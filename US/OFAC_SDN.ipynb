{
 "cells": [
  {
   "cell_type": "markdown",
   "id": "9e201487-12c6-4116-ae49-205b3689a5b4",
   "metadata": {},
   "source": [
    "OFAC SDN list - latest version (2023/12/11T15:52:00)\n",
    "\n",
    "source url: https://ofac.treasury.gov/specially-designated-nationals-list-data-formats-data-schemas\n",
    "\n",
    "Information on Data formats and definition of variables/ codebook: https://ofac.treasury.gov/media/29976/download?inline\n"
   ]
  },
  {
   "cell_type": "markdown",
   "id": "b3e60f13-4f53-4cae-91f7-7aee00bc59dd",
   "metadata": {},
   "source": [
    "*Data Cleaning Plan:*\n",
    "\n",
    "\n",
    "1. Load differetnt data files from url\n",
    "2. group and join (control)\n",
    "3. get overview of the entire file (column names, size of the df, frequencies, dtypes)\n",
    "-> prob pivot \"remark\" column or extract information somehow\n",
    "4. Transform Dtypes\n",
    "5. Filter dataframe for missing data/ relevant columns\n",
    "6. get descriptives & plot data\n",
    "\n",
    "*Further Steps*\n",
    "\n",
    "7. Renaming & Filtering\n",
    "8. Creation of new Variables\n",
    "9. Grouping\n"
   ]
  },
  {
   "cell_type": "code",
   "execution_count": 1,
   "id": "83cf6c6b-7313-4fe0-9e72-0029fa3c3c88",
   "metadata": {
    "tags": []
   },
   "outputs": [],
   "source": [
    "#import packages\n",
    "import pandas as pd\n",
    "import numpy as np\n",
    "import os"
   ]
  },
  {
   "cell_type": "code",
   "execution_count": 7,
   "id": "ce5cb1f7-051e-48b2-86d2-13a548a35306",
   "metadata": {
    "tags": []
   },
   "outputs": [
    {
     "name": "stdout",
     "output_type": "stream",
     "text": [
      "      ent_num                            SDN_Name    SDN_Type  Program Title  \\\n",
      "0          36              AEROCARIBBEAN AIRLINES        -0-      CUBA  -0-    \n",
      "1         173           ANGLO-CARIBBEAN CO., LTD.        -0-      CUBA  -0-    \n",
      "2         306              BANCO NACIONAL DE CUBA        -0-      CUBA  -0-    \n",
      "3         424                  BOUTIQUE LA MAISON        -0-      CUBA  -0-    \n",
      "4         475                        CASA DE CUBA        -0-      CUBA  -0-    \n",
      "...       ...                                 ...         ...      ...   ...   \n",
      "13575   46880             HODROJ EXCHANGE S.A.R.L        -0-      SDGT  -0-    \n",
      "13576   46884                          HU, Lianhe  individual   GLOMAG  -0-    \n",
      "13577   46888  ARDESTANI, Mohammad Mahdi Khanpour  individual  IRAN-HR  -0-    \n",
      "13578   46889            FARAHANI, Majid Dastjani  individual  IRAN-HR  -0-    \n",
      "13579       \u001a                                 NaN         NaN      NaN   NaN   \n",
      "\n",
      "      Call_Sign Vess_type Tonnage   GRT Vess_flag Vess_owner  \\\n",
      "0          -0-       -0-     -0-   -0-       -0-        -0-    \n",
      "1          -0-       -0-     -0-   -0-       -0-        -0-    \n",
      "2          -0-       -0-     -0-   -0-       -0-        -0-    \n",
      "3          -0-       -0-     -0-   -0-       -0-        -0-    \n",
      "4          -0-       -0-     -0-   -0-       -0-        -0-    \n",
      "...         ...       ...     ...   ...       ...        ...   \n",
      "13575      -0-       -0-     -0-   -0-       -0-        -0-    \n",
      "13576      -0-       -0-     -0-   -0-       -0-        -0-    \n",
      "13577      -0-       -0-     -0-   -0-       -0-        -0-    \n",
      "13578      -0-       -0-     -0-   -0-       -0-        -0-    \n",
      "13579       NaN       NaN     NaN   NaN       NaN        NaN   \n",
      "\n",
      "                                                 Remarks  \n",
      "0                                                   -0-   \n",
      "1                                                   -0-   \n",
      "2                                          a.k.a. 'BNC'.  \n",
      "3                                                   -0-   \n",
      "4                                                   -0-   \n",
      "...                                                  ...  \n",
      "13575  Secondary sanctions risk: section 1(b) of Exec...  \n",
      "13576  DOB 04 Oct 1967; POB Shaoyang, Hunan, China; n...  \n",
      "13577  DOB 21 Sep 1980; nationality Iran; Additional ...  \n",
      "13578  DOB 26 Jul 1982; alt. DOB 27 Jul 1982; nationa...  \n",
      "13579                                                NaN  \n",
      "\n",
      "[13580 rows x 12 columns]\n"
     ]
    }
   ],
   "source": [
    "#load the data\n",
    "#first define the columns I want the data assigned to\n",
    "columns = [\"ent_num\",\"SDN_Name\",\"SDN_Type\",\"Program\",\"Title\",\"Call_Sign\",\"Vess_type\",\"Tonnage\",\"GRT\",\"Vess_flag\",\"Vess_owner\",\"Remarks\"]\n",
    "df=pd.read_csv(\"https://www.treasury.gov/ofac/downloads/sdn.csv\",names=columns,header=None)\n",
    "print(df)"
   ]
  },
  {
   "cell_type": "code",
   "execution_count": 10,
   "id": "7291c662-c74b-481a-8a8f-2a823accc3f9",
   "metadata": {
    "tags": []
   },
   "outputs": [
    {
     "name": "stdout",
     "output_type": "stream",
     "text": [
      "      ent_num  add_num                                            address  \\\n",
      "0          36     25.0                                               -0-    \n",
      "1         173    129.0                           Ibex House, The Minories   \n",
      "2         306    199.0                                   Zweierstrasse 35   \n",
      "3         306    200.0                         Avenida de Concha Espina 8   \n",
      "4         306    201.0  Dai-Ichi Bldg. 6th Floor, 10-2 Nihombashi, 2-c...   \n",
      "...       ...      ...                                                ...   \n",
      "18741   46888  69930.0                                               -0-    \n",
      "18742   46888  69931.0                                               -0-    \n",
      "18743   46889  69911.0                                               -0-    \n",
      "18744   46889  69929.0                                               -0-    \n",
      "18745       \u001a      NaN                                                NaN   \n",
      "\n",
      "                  city  state_province postal_code  countryadd_remarks  \n",
      "0               Havana            Cuba        -0-                  NaN  \n",
      "1      London EC3N 1DY  United Kingdom        -0-                  NaN  \n",
      "2       Zurich CH-8022     Switzerland        -0-                  NaN  \n",
      "3       Madrid E-28036           Spain        -0-                  NaN  \n",
      "4            Tokyo 103           Japan        -0-                  NaN  \n",
      "...                ...             ...         ...                 ...  \n",
      "18741             -0-             Iran        -0-                  NaN  \n",
      "18742             -0-        Venezuela        -0-                  NaN  \n",
      "18743             -0-        Venezuela        -0-                  NaN  \n",
      "18744             -0-             Iran        -0-                  NaN  \n",
      "18745              NaN             NaN         NaN                 NaN  \n",
      "\n",
      "[18746 rows x 7 columns]\n",
      "      ent_num  alt_num alt_type                           alt_name alt_remarks\n",
      "0          36     12.0      aka                     AERO-CARIBBEAN        -0- \n",
      "1         173     57.0      aka                        AVIA IMPORT        -0- \n",
      "2         306    220.0      aka              NATIONAL BANK OF CUBA        -0- \n",
      "3         540    471.0      aka                              COIBA        -0- \n",
      "4         552    475.0      aka                             CRYMSA        -0- \n",
      "...       ...      ...      ...                                ...         ...\n",
      "16896   46888  72475.0      aka  KHANPUR, Mohammad Mehdi Ali Akbar        -0- \n",
      "16897   46888  72497.0      aka                 KHANPUR, Ali Akbar        -0- \n",
      "16898   46889  72477.0      aka                    FARAHANI, Majid        -0- \n",
      "16899   46889  72478.0      aka           FARAHANY, Majid Dastjany        -0- \n",
      "16900       \u001a      NaN      NaN                                NaN         NaN\n",
      "\n",
      "[16901 rows x 5 columns]\n"
     ]
    }
   ],
   "source": [
    "#now load the additional datasets, griup all of the by the ID and then join together\n",
    "columns_add=[\"ent_num\",\"add_num\",\"address\",\"city\",\"state_province\",\"postal_code\",\"country\"\"add_remarks\"]\n",
    "df_add = pd.read_csv(\"https://www.treasury.gov/ofac/downloads/add.csv\",names=columns_add,header=None)\n",
    "print(df_add)\n",
    "columns_alt =[\"ent_num\",\"alt_num\",\"alt_type\",\"alt_name\",\"alt_remarks\"]\n",
    "df_alt =pd.read_csv(\"https://www.treasury.gov/ofac/downloads/alt.csv\",names=columns_alt,header=None)\n",
    "print(df_alt)"
   ]
  },
  {
   "cell_type": "code",
   "execution_count": null,
   "id": "82a8e7e0-419f-4dcf-8218-6c488d062f36",
   "metadata": {},
   "outputs": [],
   "source": [
    "df_comments =pd.read_csv(\"https://www.treasury.gov/ofac/downloads/sdn_comments.csv\")"
   ]
  },
  {
   "cell_type": "code",
   "execution_count": null,
   "id": "343cabf2-bf93-47e7-ba47-8bc8357b401e",
   "metadata": {},
   "outputs": [],
   "source": [
    "#check if the joining was  successful -> sum up rows and do example query"
   ]
  },
  {
   "cell_type": "code",
   "execution_count": 12,
   "id": "8017f700-6647-4b3a-883e-aa8a14f2d30f",
   "metadata": {
    "tags": []
   },
   "outputs": [
    {
     "name": "stdout",
     "output_type": "stream",
     "text": [
      "Index(['ent_num', 'SDN_Name', 'SDN_Type', 'Program', 'Title', 'Call_Sign',\n",
      "       'Vess_type', 'Tonnage', 'GRT', 'Vess_flag', 'Vess_owner', 'Remarks'],\n",
      "      dtype='object')\n"
     ]
    }
   ],
   "source": [
    "print(df.columns.unique())"
   ]
  },
  {
   "cell_type": "code",
   "execution_count": 9,
   "id": "e2d0202e-1fd3-470b-a859-9b3c0fa58024",
   "metadata": {
    "tags": []
   },
   "outputs": [
    {
     "data": {
      "text/html": [
       "<div>\n",
       "<style scoped>\n",
       "    .dataframe tbody tr th:only-of-type {\n",
       "        vertical-align: middle;\n",
       "    }\n",
       "\n",
       "    .dataframe tbody tr th {\n",
       "        vertical-align: top;\n",
       "    }\n",
       "\n",
       "    .dataframe thead th {\n",
       "        text-align: right;\n",
       "    }\n",
       "</style>\n",
       "<table border=\"1\" class=\"dataframe\">\n",
       "  <thead>\n",
       "    <tr style=\"text-align: right;\">\n",
       "      <th></th>\n",
       "      <th>col</th>\n",
       "      <th>pct_missing</th>\n",
       "    </tr>\n",
       "  </thead>\n",
       "  <tbody>\n",
       "    <tr>\n",
       "      <th>0</th>\n",
       "      <td>Publish_Date</td>\n",
       "      <td>99.992611</td>\n",
       "    </tr>\n",
       "    <tr>\n",
       "      <th>1</th>\n",
       "      <td>Record_Count</td>\n",
       "      <td>99.992611</td>\n",
       "    </tr>\n",
       "    <tr>\n",
       "      <th>2</th>\n",
       "      <td>uid</td>\n",
       "      <td>0.007389</td>\n",
       "    </tr>\n",
       "    <tr>\n",
       "      <th>3</th>\n",
       "      <td>lastName</td>\n",
       "      <td>0.007389</td>\n",
       "    </tr>\n",
       "    <tr>\n",
       "      <th>4</th>\n",
       "      <td>sdnType</td>\n",
       "      <td>0.007389</td>\n",
       "    </tr>\n",
       "    <tr>\n",
       "      <th>5</th>\n",
       "      <td>programList</td>\n",
       "      <td>100.000000</td>\n",
       "    </tr>\n",
       "    <tr>\n",
       "      <th>6</th>\n",
       "      <td>akaList</td>\n",
       "      <td>100.000000</td>\n",
       "    </tr>\n",
       "    <tr>\n",
       "      <th>7</th>\n",
       "      <td>addressList</td>\n",
       "      <td>100.000000</td>\n",
       "    </tr>\n",
       "    <tr>\n",
       "      <th>8</th>\n",
       "      <td>idList</td>\n",
       "      <td>100.000000</td>\n",
       "    </tr>\n",
       "    <tr>\n",
       "      <th>9</th>\n",
       "      <td>firstName</td>\n",
       "      <td>50.938377</td>\n",
       "    </tr>\n",
       "    <tr>\n",
       "      <th>10</th>\n",
       "      <td>title</td>\n",
       "      <td>87.911926</td>\n",
       "    </tr>\n",
       "    <tr>\n",
       "      <th>11</th>\n",
       "      <td>dateOfBirthList</td>\n",
       "      <td>100.000000</td>\n",
       "    </tr>\n",
       "    <tr>\n",
       "      <th>12</th>\n",
       "      <td>placeOfBirthList</td>\n",
       "      <td>100.000000</td>\n",
       "    </tr>\n",
       "    <tr>\n",
       "      <th>13</th>\n",
       "      <td>nationalityList</td>\n",
       "      <td>100.000000</td>\n",
       "    </tr>\n",
       "    <tr>\n",
       "      <th>14</th>\n",
       "      <td>remarks</td>\n",
       "      <td>57.913403</td>\n",
       "    </tr>\n",
       "    <tr>\n",
       "      <th>15</th>\n",
       "      <td>vesselInfo</td>\n",
       "      <td>100.000000</td>\n",
       "    </tr>\n",
       "    <tr>\n",
       "      <th>16</th>\n",
       "      <td>citizenshipList</td>\n",
       "      <td>100.000000</td>\n",
       "    </tr>\n",
       "  </tbody>\n",
       "</table>\n",
       "</div>"
      ],
      "text/plain": [
       "                 col  pct_missing\n",
       "0       Publish_Date    99.992611\n",
       "1       Record_Count    99.992611\n",
       "2                uid     0.007389\n",
       "3           lastName     0.007389\n",
       "4            sdnType     0.007389\n",
       "5        programList   100.000000\n",
       "6            akaList   100.000000\n",
       "7        addressList   100.000000\n",
       "8             idList   100.000000\n",
       "9          firstName    50.938377\n",
       "10             title    87.911926\n",
       "11   dateOfBirthList   100.000000\n",
       "12  placeOfBirthList   100.000000\n",
       "13   nationalityList   100.000000\n",
       "14           remarks    57.913403\n",
       "15        vesselInfo   100.000000\n",
       "16   citizenshipList   100.000000"
      ]
     },
     "execution_count": 9,
     "metadata": {},
     "output_type": "execute_result"
    }
   ],
   "source": [
    "#get the percentages of missingsness\n",
    "values_list = list()\n",
    "cols_list = list() #creating empty lists\n",
    "\n",
    "for col in df.columns:\n",
    "    pct_missing= np.mean(df[col].isnull())*100\n",
    "    cols_list.append(col)\n",
    "    values_list.append(pct_missing)\n",
    "\n",
    "pct_missing_df =pd.DataFrame()\n",
    "pct_missing_df[\"col\"] = cols_list\n",
    "pct_missing_df[\"pct_missing\"] = values_list\n",
    "pct_missing_df\n",
    "#shows a lot of missingness, prob need to use the advanced files or the additional files? \n",
    "#Or not use the compressed zip file?"
   ]
  }
 ],
 "metadata": {
  "kernelspec": {
   "display_name": "Python 3 (ipykernel)",
   "language": "python",
   "name": "python3"
  },
  "language_info": {
   "codemirror_mode": {
    "name": "ipython",
    "version": 3
   },
   "file_extension": ".py",
   "mimetype": "text/x-python",
   "name": "python",
   "nbconvert_exporter": "python",
   "pygments_lexer": "ipython3",
   "version": "3.11.5"
  }
 },
 "nbformat": 4,
 "nbformat_minor": 5
}
