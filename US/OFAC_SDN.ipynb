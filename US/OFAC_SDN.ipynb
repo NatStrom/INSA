{
 "cells": [
  {
   "cell_type": "markdown",
   "id": "16ede499-874f-495b-989a-ca1ccc50ddc2",
   "metadata": {},
   "source": [
    "Clean up historic US OFAC list, available as txt files from 1995 to 2020"
   ]
  },
  {
   "cell_type": "code",
   "execution_count": null,
   "id": "00b6ebf4-8536-433a-ac12-e5ea1185e256",
   "metadata": {},
   "outputs": [],
   "source": []
  }
 ],
 "metadata": {
  "kernelspec": {
   "display_name": "Python 3 (ipykernel)",
   "language": "python",
   "name": "python3"
  },
  "language_info": {
   "codemirror_mode": {
    "name": "ipython",
    "version": 3
   },
   "file_extension": ".py",
   "mimetype": "text/x-python",
   "name": "python",
   "nbconvert_exporter": "python",
   "pygments_lexer": "ipython3",
   "version": "3.11.5"
  }
 },
 "nbformat": 4,
 "nbformat_minor": 5
}
