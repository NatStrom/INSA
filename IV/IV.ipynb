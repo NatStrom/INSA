{
 "cells": [
  {
   "cell_type": "markdown",
   "id": "2449356c-97d5-4d78-b99c-cdf31c74541e",
   "metadata": {},
   "source": [
    "**Clean-Up of the trigger event variables**"
   ]
  },
  {
   "cell_type": "code",
   "execution_count": null,
   "id": "b7fc70d8-fbf7-4552-84f5-2499a6292d93",
   "metadata": {},
   "outputs": [],
   "source": [
    "import pandas as pd\n",
    "import numpy as np\n",
    "import os"
   ]
  },
  {
   "cell_type": "markdown",
   "id": "271c66e9-9f38-477a-ad4e-e8cf66ea9654",
   "metadata": {},
   "source": [
    "start with the UCDP data\n",
    "\n",
    "**1. UCDP**"
   ]
  },
  {
   "cell_type": "markdown",
   "id": "51aed663-2c19-454c-acc4-bf2ee78df97d",
   "metadata": {},
   "source": [
    "get the data from the api"
   ]
  }
 ],
 "metadata": {
  "kernelspec": {
   "display_name": "Python 3 (ipykernel)",
   "language": "python",
   "name": "python3"
  },
  "language_info": {
   "codemirror_mode": {
    "name": "ipython",
    "version": 3
   },
   "file_extension": ".py",
   "mimetype": "text/x-python",
   "name": "python",
   "nbconvert_exporter": "python",
   "pygments_lexer": "ipython3",
   "version": "3.11.5"
  }
 },
 "nbformat": 4,
 "nbformat_minor": 5
}
