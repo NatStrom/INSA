{
 "cells": [
  {
   "cell_type": "markdown",
   "id": "1c3c66e7-be05-4e0b-a93a-ce511c5e03c0",
   "metadata": {},
   "source": [
    "PEP data from opensanctions"
   ]
  },
  {
   "cell_type": "markdown",
   "id": "7aca6bef-d414-4c3f-a1e6-7f449e4d9221",
   "metadata": {},
   "source": [
    "url example: https://data.opensanctions.org/datasets/20230101/pep/entities.ftm.json"
   ]
  },
  {
   "cell_type": "code",
   "execution_count": null,
   "id": "8af78982-0857-4fec-a16c-8688107b7d94",
   "metadata": {},
   "outputs": [],
   "source": []
  }
 ],
 "metadata": {
  "kernelspec": {
   "display_name": "Python 3 (ipykernel)",
   "language": "python",
   "name": "python3"
  },
  "language_info": {
   "codemirror_mode": {
    "name": "ipython",
    "version": 3
   },
   "file_extension": ".py",
   "mimetype": "text/x-python",
   "name": "python",
   "nbconvert_exporter": "python",
   "pygments_lexer": "ipython3",
   "version": "3.11.5"
  }
 },
 "nbformat": 4,
 "nbformat_minor": 5
}
