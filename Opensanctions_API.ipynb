{
 "cells": [
  {
   "cell_type": "markdown",
   "id": "abccd369-e6de-4c61-b7b7-e0d47066d2a0",
   "metadata": {},
   "source": [
    "**this is an example notebook for querying from the Opensantions API**"
   ]
  },
  {
   "cell_type": "markdown",
   "id": "c039b46e-a09a-43de-acab-696731da7308",
   "metadata": {},
   "source": [
    "datasets of interest:\n",
    "\n",
    "us_ofac_sdn\n",
    "\n",
    "us_ofac_cons\n",
    "\n",
    "us_bis_denied\n",
    "\n",
    "\n",
    "eu_fsf\n",
    "\n",
    "eu_sanctions_map\n",
    "\n",
    "\n",
    "gb_hwt_sanctions"
   ]
  },
  {
   "cell_type": "code",
   "execution_count": 1,
   "id": "fbc34aa6-9752-4974-aec6-6651f8d83396",
   "metadata": {},
   "outputs": [],
   "source": [
    "#import packages\n",
    "import requests\n",
    "import json\n",
    "import pandas as pd\n",
    "import numpy as np\n",
    "import os"
   ]
  },
  {
   "cell_type": "code",
   "execution_count": null,
   "id": "d18408e9-d38a-485c-a0bc-ea61417828fd",
   "metadata": {},
   "outputs": [],
   "source": [
    "url = \"https://api.opensanctions.org/match/us_ofac_sdn?api_key=e7efa0f0189f850f7c949d2858b12296\""
   ]
  },
  {
   "cell_type": "code",
   "execution_count": null,
   "id": "9af30a42-39d9-4010-abe1-3e45465dc04c",
   "metadata": {},
   "outputs": [],
   "source": [
    "#AlTERNATIVELY. specify retrieval date in URL\n",
    "\n",
    "https://data.opensanctions.org/datasets/20231211/us_ofac_sdn/targets.nested.json\n",
    "#careful, there are some dates that do not exist -> raise exception in loop to skip them?\n",
    "#only seems to start mid-August 2021"
   ]
  },
  {
   "cell_type": "code",
   "execution_count": 5,
   "id": "cd9e0d19-8954-4783-8afa-85e8072b99b2",
   "metadata": {
    "tags": []
   },
   "outputs": [
    {
     "ename": "HTTPError",
     "evalue": "422 Client Error: Unprocessable Entity for url: https://api.opensanctions.org/match/sanctions?algorithm=best",
     "output_type": "error",
     "traceback": [
      "\u001b[1;31m---------------------------------------------------------------------------\u001b[0m",
      "\u001b[1;31mHTTPError\u001b[0m                                 Traceback (most recent call last)",
      "Cell \u001b[1;32mIn[5], line 29\u001b[0m\n\u001b[0;32m     27\u001b[0m \u001b[38;5;66;03m# Send the batch off to the API and raise an exception for a non-OK response code.\u001b[39;00m\n\u001b[0;32m     28\u001b[0m response \u001b[38;5;241m=\u001b[39m session\u001b[38;5;241m.\u001b[39mpost(URL)\n\u001b[1;32m---> 29\u001b[0m response\u001b[38;5;241m.\u001b[39mraise_for_status()\n\u001b[0;32m     31\u001b[0m responses \u001b[38;5;241m=\u001b[39m response\u001b[38;5;241m.\u001b[39mjson()\u001b[38;5;241m.\u001b[39mget(\u001b[38;5;124m\"\u001b[39m\u001b[38;5;124mresponses\u001b[39m\u001b[38;5;124m\"\u001b[39m)\n\u001b[0;32m     33\u001b[0m \u001b[38;5;66;03m# The responses will include a set of results for each entity, and a parsed version of\u001b[39;00m\n\u001b[0;32m     34\u001b[0m \u001b[38;5;66;03m# the original query:\u001b[39;00m\n",
      "File \u001b[1;32m~\\bin\\conda\\Lib\\site-packages\\requests\\models.py:1021\u001b[0m, in \u001b[0;36mResponse.raise_for_status\u001b[1;34m(self)\u001b[0m\n\u001b[0;32m   1016\u001b[0m     http_error_msg \u001b[38;5;241m=\u001b[39m (\n\u001b[0;32m   1017\u001b[0m         \u001b[38;5;124mf\u001b[39m\u001b[38;5;124m\"\u001b[39m\u001b[38;5;132;01m{\u001b[39;00m\u001b[38;5;28mself\u001b[39m\u001b[38;5;241m.\u001b[39mstatus_code\u001b[38;5;132;01m}\u001b[39;00m\u001b[38;5;124m Server Error: \u001b[39m\u001b[38;5;132;01m{\u001b[39;00mreason\u001b[38;5;132;01m}\u001b[39;00m\u001b[38;5;124m for url: \u001b[39m\u001b[38;5;132;01m{\u001b[39;00m\u001b[38;5;28mself\u001b[39m\u001b[38;5;241m.\u001b[39murl\u001b[38;5;132;01m}\u001b[39;00m\u001b[38;5;124m\"\u001b[39m\n\u001b[0;32m   1018\u001b[0m     )\n\u001b[0;32m   1020\u001b[0m \u001b[38;5;28;01mif\u001b[39;00m http_error_msg:\n\u001b[1;32m-> 1021\u001b[0m     \u001b[38;5;28;01mraise\u001b[39;00m HTTPError(http_error_msg, response\u001b[38;5;241m=\u001b[39m\u001b[38;5;28mself\u001b[39m)\n",
      "\u001b[1;31mHTTPError\u001b[0m: 422 Client Error: Unprocessable Entity for url: https://api.opensanctions.org/match/sanctions?algorithm=best"
     ]
    }
   ],
   "source": [
    "#set API path & key\n",
    "#\"https://api.opensanctions.org/us_ofac_sdn\"\n",
    "URL = \"https://api.opensanctions.org/match/sanctions?algorithm=best\"\n",
    "# Create and read an environment variable to get the API key:\n",
    "API_KEY = \"e7efa0f0189f850f7c949d2858b12296\"\n",
    "# Create an HTTP session which manages connections and defines shared header configuration:\n",
    "session = requests.Session()\n",
    "session.headers['Authorization'] = API_KEY\n",
    "\n",
    "#how to specify the date?page? --> sech for property\n",
    "EXAMPLE_1 = {\n",
    "    #\"schema\": \"person\",\n",
    "    \"properties\": {\n",
    "       # \"publisher\": [\"us_ofac\"],\n",
    "        \"retrievedAt\": [\"2021-07-21\"],\n",
    "    },\n",
    "}\n",
    "\n",
    "# We put both of these queries into a matching batch, giving each of them an\n",
    "# ID that we can recognize it by later:\n",
    "BATCH = {\"queries\": {\"q1\": EXAMPLE_1}}\n",
    "\n",
    "# This configures the scoring system. \"fuzzy\" is related only to the pre-retrieval\n",
    "# of entities and can be turned off for a performance boost.\n",
    "PARAMS = {\"algorithm\": \"best\", \"fuzzy\": \"false\"}\n",
    "\n",
    "# Send the batch off to the API and raise an exception for a non-OK response code.\n",
    "response = session.post(URL)\n",
    "response.raise_for_status()\n",
    "\n",
    "responses = response.json().get(\"responses\")\n",
    "\n",
    "# The responses will include a set of results for each entity, and a parsed version of\n",
    "# the original query:\n",
    "example_1_response = responses.get(\"q1\")\n",
    "example_1_response"
   ]
  },
  {
   "cell_type": "code",
   "execution_count": 10,
   "id": "d685c2e2-3ce0-4a48-9e2a-23b4c4b7b643",
   "metadata": {},
   "outputs": [
    {
     "ename": "HTTPError",
     "evalue": "422 Client Error: Unprocessable Entity for url: https://api.opensanctions.org/match/sanctions?dataset=us_ofc_sdn&algorithm=best&fuzzy=false",
     "output_type": "error",
     "traceback": [
      "\u001b[1;31m---------------------------------------------------------------------------\u001b[0m",
      "\u001b[1;31mHTTPError\u001b[0m                                 Traceback (most recent call last)",
      "Cell \u001b[1;32mIn[10], line 9\u001b[0m\n\u001b[0;32m      7\u001b[0m session\u001b[38;5;241m.\u001b[39mheaders[\u001b[38;5;124m'\u001b[39m\u001b[38;5;124mAuthorization\u001b[39m\u001b[38;5;124m'\u001b[39m] \u001b[38;5;241m=\u001b[39m key\n\u001b[0;32m      8\u001b[0m response \u001b[38;5;241m=\u001b[39m session\u001b[38;5;241m.\u001b[39mpost(url)\n\u001b[1;32m----> 9\u001b[0m response\u001b[38;5;241m.\u001b[39mraise_for_status()\n\u001b[0;32m     10\u001b[0m response \u001b[38;5;241m=\u001b[39m requests\u001b[38;5;241m.\u001b[39mget(url)\n\u001b[0;32m     13\u001b[0m \u001b[38;5;66;03m# ususally you want the response from the API to be json, since this is the easiest to process/parse \u001b[39;00m\n",
      "File \u001b[1;32m~\\bin\\conda\\Lib\\site-packages\\requests\\models.py:1021\u001b[0m, in \u001b[0;36mResponse.raise_for_status\u001b[1;34m(self)\u001b[0m\n\u001b[0;32m   1016\u001b[0m     http_error_msg \u001b[38;5;241m=\u001b[39m (\n\u001b[0;32m   1017\u001b[0m         \u001b[38;5;124mf\u001b[39m\u001b[38;5;124m\"\u001b[39m\u001b[38;5;132;01m{\u001b[39;00m\u001b[38;5;28mself\u001b[39m\u001b[38;5;241m.\u001b[39mstatus_code\u001b[38;5;132;01m}\u001b[39;00m\u001b[38;5;124m Server Error: \u001b[39m\u001b[38;5;132;01m{\u001b[39;00mreason\u001b[38;5;132;01m}\u001b[39;00m\u001b[38;5;124m for url: \u001b[39m\u001b[38;5;132;01m{\u001b[39;00m\u001b[38;5;28mself\u001b[39m\u001b[38;5;241m.\u001b[39murl\u001b[38;5;132;01m}\u001b[39;00m\u001b[38;5;124m\"\u001b[39m\n\u001b[0;32m   1018\u001b[0m     )\n\u001b[0;32m   1020\u001b[0m \u001b[38;5;28;01mif\u001b[39;00m http_error_msg:\n\u001b[1;32m-> 1021\u001b[0m     \u001b[38;5;28;01mraise\u001b[39;00m HTTPError(http_error_msg, response\u001b[38;5;241m=\u001b[39m\u001b[38;5;28mself\u001b[39m)\n",
      "\u001b[1;31mHTTPError\u001b[0m: 422 Client Error: Unprocessable Entity for url: https://api.opensanctions.org/match/sanctions?dataset=us_ofc_sdn&algorithm=best&fuzzy=false"
     ]
    }
   ],
   "source": [
    "# basic API query\n",
    "\n",
    "url = \"https://api.opensanctions.org/match/sanctions?dataset=us_ofc_sdn&algorithm=best&fuzzy=false\"\n",
    "key =  \"e7efa0f0189f850f7c949d2858b12296\"\n",
    "\n",
    "session = requests.Session()\n",
    "session.headers['Authorization'] = key\n",
    "response = session.post(url)\n",
    "response.raise_for_status()\n",
    "response = requests.get(url)\n",
    "\n",
    "\n",
    "# ususally you want the response from the API to be json, since this is the easiest to process/parse \n",
    "data = response.json().get(\"responses\")"
   ]
  },
  {
   "cell_type": "code",
   "execution_count": 9,
   "id": "ca40342d-de47-4d0d-b21f-afbf539d1401",
   "metadata": {
    "tags": []
   },
   "outputs": [
    {
     "data": {
      "text/plain": [
       "{'detail': 'No API key provided.'}"
      ]
     },
     "execution_count": 9,
     "metadata": {},
     "output_type": "execute_result"
    }
   ],
   "source": [
    "data"
   ]
  },
  {
   "cell_type": "code",
   "execution_count": null,
   "id": "f946d15b-0ebd-44af-96d2-8c891012c163",
   "metadata": {},
   "outputs": [],
   "source": [
    "#parse into df\n",
    "df = pd.DataFrame(data)"
   ]
  },
  {
   "cell_type": "code",
   "execution_count": null,
   "id": "f79559b4-bb5e-4fbf-b797-f1f0bc09207c",
   "metadata": {},
   "outputs": [],
   "source": [
    "#clean up the df"
   ]
  },
  {
   "cell_type": "code",
   "execution_count": null,
   "id": "974391c7-d368-4b9a-a32a-2d95e1805104",
   "metadata": {},
   "outputs": [],
   "source": [
    "#loop over API to create access to all dates since 2021/07/21"
   ]
  },
  {
   "cell_type": "code",
   "execution_count": 35,
   "id": "e3d51dc6-6abe-4607-bd7e-53817a69e69d",
   "metadata": {},
   "outputs": [
    {
     "ename": "HTTPError",
     "evalue": "422 Client Error: Unprocessable Entity for url: https://api.opensanctions.org/match/default",
     "output_type": "error",
     "traceback": [
      "\u001b[1;31m---------------------------------------------------------------------------\u001b[0m",
      "\u001b[1;31mHTTPError\u001b[0m                                 Traceback (most recent call last)",
      "Cell \u001b[1;32mIn[35], line 20\u001b[0m\n\u001b[0;32m     18\u001b[0m request \u001b[38;5;241m=\u001b[39m {\u001b[38;5;124m\"\u001b[39m\u001b[38;5;124mqueries\u001b[39m\u001b[38;5;124m\"\u001b[39m: {\u001b[38;5;124m\"\u001b[39m\u001b[38;5;124mquery\u001b[39m\u001b[38;5;124m\"\u001b[39m: query}}\n\u001b[0;32m     19\u001b[0m response \u001b[38;5;241m=\u001b[39m session\u001b[38;5;241m.\u001b[39mpost(\u001b[38;5;124mf\u001b[39m\u001b[38;5;124m\"\u001b[39m\u001b[38;5;132;01m{\u001b[39;00mAPI_URL\u001b[38;5;132;01m}\u001b[39;00m\u001b[38;5;124m/match/default\u001b[39m\u001b[38;5;124m\"\u001b[39m, json\u001b[38;5;241m=\u001b[39mrequest)\n\u001b[1;32m---> 20\u001b[0m response\u001b[38;5;241m.\u001b[39mraise_for_status()\n\u001b[0;32m     21\u001b[0m results \u001b[38;5;241m=\u001b[39m response\u001b[38;5;241m.\u001b[39mjson()\u001b[38;5;241m.\u001b[39mget(\u001b[38;5;124m\"\u001b[39m\u001b[38;5;124mresponses\u001b[39m\u001b[38;5;124m\"\u001b[39m)\u001b[38;5;241m.\u001b[39mget(\u001b[38;5;124m\"\u001b[39m\u001b[38;5;124mquery\u001b[39m\u001b[38;5;124m\"\u001b[39m)\u001b[38;5;241m.\u001b[39mget(\u001b[38;5;124m\"\u001b[39m\u001b[38;5;124mresults\u001b[39m\u001b[38;5;124m\"\u001b[39m)\n",
      "File \u001b[1;32m~\\bin\\conda\\Lib\\site-packages\\requests\\models.py:1021\u001b[0m, in \u001b[0;36mResponse.raise_for_status\u001b[1;34m(self)\u001b[0m\n\u001b[0;32m   1016\u001b[0m     http_error_msg \u001b[38;5;241m=\u001b[39m (\n\u001b[0;32m   1017\u001b[0m         \u001b[38;5;124mf\u001b[39m\u001b[38;5;124m\"\u001b[39m\u001b[38;5;132;01m{\u001b[39;00m\u001b[38;5;28mself\u001b[39m\u001b[38;5;241m.\u001b[39mstatus_code\u001b[38;5;132;01m}\u001b[39;00m\u001b[38;5;124m Server Error: \u001b[39m\u001b[38;5;132;01m{\u001b[39;00mreason\u001b[38;5;132;01m}\u001b[39;00m\u001b[38;5;124m for url: \u001b[39m\u001b[38;5;132;01m{\u001b[39;00m\u001b[38;5;28mself\u001b[39m\u001b[38;5;241m.\u001b[39murl\u001b[38;5;132;01m}\u001b[39;00m\u001b[38;5;124m\"\u001b[39m\n\u001b[0;32m   1018\u001b[0m     )\n\u001b[0;32m   1020\u001b[0m \u001b[38;5;28;01mif\u001b[39;00m http_error_msg:\n\u001b[1;32m-> 1021\u001b[0m     \u001b[38;5;28;01mraise\u001b[39;00m HTTPError(http_error_msg, response\u001b[38;5;241m=\u001b[39m\u001b[38;5;28mself\u001b[39m)\n",
      "\u001b[1;31mHTTPError\u001b[0m: 422 Client Error: Unprocessable Entity for url: https://api.opensanctions.org/match/default"
     ]
    }
   ],
   "source": [
    "import os\n",
    "import requests\n",
    "\n",
    "API_URL = \"https://api.opensanctions.org\"\n",
    "# Read an environment variable to get the API key:\n",
    "#API_KEY = os.environ.get(\"OPENSANCTIONS_API_KEY\")\n",
    "key = \"e7efa0f0189f850f7c949d2858b12296\"\n",
    "session = requests.Session()\n",
    "session.headers['Authorization'] = f\"ApiKey {key}\"\n",
    "\n",
    "# Fetch an entity:\n",
    "#response = session.get(f\"{API_URL}/entities/Q7747\")\n",
    "#response.raise_for_status()\n",
    "#entity_data = response.json()\n",
    "\n",
    "# Run a match query:\n",
    "query = {\"shema\":\"Person\",\"properties\":{'modifiedAt': ['2023-02-07']},\"datasets\":\"us_ofac_sdn\"}\n",
    "request = {\"queries\": {\"query\": query}}\n",
    "response = session.post(f\"{API_URL}/match/default\", json=request)\n",
    "response.raise_for_status()\n",
    "results = response.json().get(\"responses\").get(\"query\").get(\"results\")\n",
    "#maybe my call is too big?"
   ]
  },
  {
   "cell_type": "code",
   "execution_count": 33,
   "id": "0413b5f7-bbc0-4bf5-8dad-fe2ffd450e2b",
   "metadata": {
    "tags": []
   },
   "outputs": [
    {
     "data": {
      "text/plain": [
       "[]"
      ]
     },
     "execution_count": 33,
     "metadata": {},
     "output_type": "execute_result"
    }
   ],
   "source": [
    "results"
   ]
  }
 ],
 "metadata": {
  "kernelspec": {
   "display_name": "Python 3 (ipykernel)",
   "language": "python",
   "name": "python3"
  },
  "language_info": {
   "codemirror_mode": {
    "name": "ipython",
    "version": 3
   },
   "file_extension": ".py",
   "mimetype": "text/x-python",
   "name": "python",
   "nbconvert_exporter": "python",
   "pygments_lexer": "ipython3",
   "version": "3.11.5"
  }
 },
 "nbformat": 4,
 "nbformat_minor": 5
}
