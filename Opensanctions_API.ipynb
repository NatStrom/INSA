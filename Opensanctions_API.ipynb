{
 "cells": [
  {
   "cell_type": "markdown",
   "id": "abccd369-e6de-4c61-b7b7-e0d47066d2a0",
   "metadata": {},
   "source": [
    "**this is an example notebook for querying from the Opensantions API**"
   ]
  },
  {
   "cell_type": "markdown",
   "id": "c039b46e-a09a-43de-acab-696731da7308",
   "metadata": {},
   "source": [
    "*Proceeding:* \n",
    "\n",
    "1. Query the individual sanctions lists from the website and write a loop to access all the days from July 2021 onward \n",
    "\n",
    "2. Parse into a dataframe, that is filtered and cleaned \n",
    "\n",
    "3. Write a function that matches a day with the previous day and flags the new additions or deletions. Parse those as a new column indicating removal or addition date.  \n",
    "\n",
    "4. Merge all dataframes for all lists (UK, EU and US) together and aggregate onto a monthly level \n",
    "\n",
    "5. Create a separate dataframe for all designations concerning Russian entities \n",
    "\n",
    " \n",
    "datasets of interest:\n",
    "\n",
    "us_ofac_sdn\n",
    "\n",
    "us_ofac_cons\n",
    "\n",
    "us_bis_denied\n",
    "\n",
    "\n",
    "eu_fsf\n",
    "\n",
    "eu_sanctions_map\n"
   ]
  },
  {
   "cell_type": "markdown",
   "id": "22272a5d-8fb9-4fba-b44b-7ac64cd9c7c6",
   "metadata": {},
   "source": [
    "loop though versions of the json not the API\n",
    "ok - I just confirmed, the API doesn't have historical data - but all the historical data is available online still. You would have to request the file you want to check for each date, download the file, and then read through it and filter for what you're looking for\n",
    "14:38 Uhr\n",
    "e.g. the latest OFAC file is https://data.opensanctions.org/datasets/20240115/us_ofac_cons/entities.ftm.json\n",
    "14:39 Uhr\n",
    "you can then loop back on the date in the URL - the date is in the format YYYYMMDD\n",
    "14:39 Uhr\n",
    "e.g.  https://data.opensanctions.org/datasets/20240114/us_ofac_cons/entities.ftm.json and so on"
   ]
  },
  {
   "cell_type": "code",
   "execution_count": 1,
   "id": "fbc34aa6-9752-4974-aec6-6651f8d83396",
   "metadata": {
    "tags": []
   },
   "outputs": [],
   "source": [
    "#import packages\n",
    "import requests\n",
    "import json\n",
    "import pandas as pd\n",
    "import numpy as np\n",
    "import os"
   ]
  },
  {
   "cell_type": "markdown",
   "id": "32850b4c-54e5-4aab-b368-11d506fd5e03",
   "metadata": {},
   "source": [
    "**start with the SDN list**"
   ]
  },
  {
   "cell_type": "code",
   "execution_count": 11,
   "id": "68481010-723f-4aae-a378-95febd09e82e",
   "metadata": {
    "tags": []
   },
   "outputs": [
    {
     "data": {
      "text/plain": [
       "Index(['20210801', '20210802', '20210803', '20210804', '20210805', '20210806',\n",
       "       '20210807', '20210808', '20210809', '20210810',\n",
       "       ...\n",
       "       '20211223', '20211224', '20211225', '20211226', '20211227', '20211228',\n",
       "       '20211229', '20211230', '20211231', '20220101'],\n",
       "      dtype='object', length=154)"
      ]
     },
     "execution_count": 11,
     "metadata": {},
     "output_type": "execute_result"
    }
   ],
   "source": [
    "#most up to date datafile in json:\n",
    "#https://data.opensanctions.org/datasets/20240114/us_ofac_cons/entities.ftm.json \n",
    "#now I need to create a loop to access the datafiles from Jul 2021 to Dec 2023\n",
    "#first create a list of datetimes to use in the for loop\n",
    "date_list = pd.date_range(start='20210801',end='20220101',freq='D').strftime('%Y%m%d')\n",
    "date_list"
   ]
  },
  {
   "cell_type": "code",
   "execution_count": 12,
   "id": "910d889d-7f1c-452b-9f94-43b15353239d",
   "metadata": {
    "collapsed": true,
    "jupyter": {
     "outputs_hidden": true
    },
    "tags": []
   },
   "outputs": [
    {
     "name": "stdout",
     "output_type": "stream",
     "text": [
      "['https://data.opensanctions.org/datasets/20210801/us_ofac_sdn/entities.ftm.json', 'https://data.opensanctions.org/datasets/20210802/us_ofac_sdn/entities.ftm.json', 'https://data.opensanctions.org/datasets/20210803/us_ofac_sdn/entities.ftm.json', 'https://data.opensanctions.org/datasets/20210804/us_ofac_sdn/entities.ftm.json', 'https://data.opensanctions.org/datasets/20210805/us_ofac_sdn/entities.ftm.json', 'https://data.opensanctions.org/datasets/20210806/us_ofac_sdn/entities.ftm.json', 'https://data.opensanctions.org/datasets/20210807/us_ofac_sdn/entities.ftm.json', 'https://data.opensanctions.org/datasets/20210808/us_ofac_sdn/entities.ftm.json', 'https://data.opensanctions.org/datasets/20210809/us_ofac_sdn/entities.ftm.json', 'https://data.opensanctions.org/datasets/20210810/us_ofac_sdn/entities.ftm.json', 'https://data.opensanctions.org/datasets/20210811/us_ofac_sdn/entities.ftm.json', 'https://data.opensanctions.org/datasets/20210812/us_ofac_sdn/entities.ftm.json', 'https://data.opensanctions.org/datasets/20210813/us_ofac_sdn/entities.ftm.json', 'https://data.opensanctions.org/datasets/20210814/us_ofac_sdn/entities.ftm.json', 'https://data.opensanctions.org/datasets/20210815/us_ofac_sdn/entities.ftm.json', 'https://data.opensanctions.org/datasets/20210816/us_ofac_sdn/entities.ftm.json', 'https://data.opensanctions.org/datasets/20210817/us_ofac_sdn/entities.ftm.json', 'https://data.opensanctions.org/datasets/20210818/us_ofac_sdn/entities.ftm.json', 'https://data.opensanctions.org/datasets/20210819/us_ofac_sdn/entities.ftm.json', 'https://data.opensanctions.org/datasets/20210820/us_ofac_sdn/entities.ftm.json', 'https://data.opensanctions.org/datasets/20210821/us_ofac_sdn/entities.ftm.json', 'https://data.opensanctions.org/datasets/20210822/us_ofac_sdn/entities.ftm.json', 'https://data.opensanctions.org/datasets/20210823/us_ofac_sdn/entities.ftm.json', 'https://data.opensanctions.org/datasets/20210824/us_ofac_sdn/entities.ftm.json', 'https://data.opensanctions.org/datasets/20210825/us_ofac_sdn/entities.ftm.json', 'https://data.opensanctions.org/datasets/20210826/us_ofac_sdn/entities.ftm.json', 'https://data.opensanctions.org/datasets/20210827/us_ofac_sdn/entities.ftm.json', 'https://data.opensanctions.org/datasets/20210828/us_ofac_sdn/entities.ftm.json', 'https://data.opensanctions.org/datasets/20210829/us_ofac_sdn/entities.ftm.json', 'https://data.opensanctions.org/datasets/20210830/us_ofac_sdn/entities.ftm.json', 'https://data.opensanctions.org/datasets/20210831/us_ofac_sdn/entities.ftm.json', 'https://data.opensanctions.org/datasets/20210901/us_ofac_sdn/entities.ftm.json', 'https://data.opensanctions.org/datasets/20210902/us_ofac_sdn/entities.ftm.json', 'https://data.opensanctions.org/datasets/20210903/us_ofac_sdn/entities.ftm.json', 'https://data.opensanctions.org/datasets/20210904/us_ofac_sdn/entities.ftm.json', 'https://data.opensanctions.org/datasets/20210905/us_ofac_sdn/entities.ftm.json', 'https://data.opensanctions.org/datasets/20210906/us_ofac_sdn/entities.ftm.json', 'https://data.opensanctions.org/datasets/20210907/us_ofac_sdn/entities.ftm.json', 'https://data.opensanctions.org/datasets/20210908/us_ofac_sdn/entities.ftm.json', 'https://data.opensanctions.org/datasets/20210909/us_ofac_sdn/entities.ftm.json', 'https://data.opensanctions.org/datasets/20210910/us_ofac_sdn/entities.ftm.json', 'https://data.opensanctions.org/datasets/20210911/us_ofac_sdn/entities.ftm.json', 'https://data.opensanctions.org/datasets/20210912/us_ofac_sdn/entities.ftm.json', 'https://data.opensanctions.org/datasets/20210913/us_ofac_sdn/entities.ftm.json', 'https://data.opensanctions.org/datasets/20210914/us_ofac_sdn/entities.ftm.json', 'https://data.opensanctions.org/datasets/20210915/us_ofac_sdn/entities.ftm.json', 'https://data.opensanctions.org/datasets/20210916/us_ofac_sdn/entities.ftm.json', 'https://data.opensanctions.org/datasets/20210917/us_ofac_sdn/entities.ftm.json', 'https://data.opensanctions.org/datasets/20210918/us_ofac_sdn/entities.ftm.json', 'https://data.opensanctions.org/datasets/20210919/us_ofac_sdn/entities.ftm.json', 'https://data.opensanctions.org/datasets/20210920/us_ofac_sdn/entities.ftm.json', 'https://data.opensanctions.org/datasets/20210921/us_ofac_sdn/entities.ftm.json', 'https://data.opensanctions.org/datasets/20210922/us_ofac_sdn/entities.ftm.json', 'https://data.opensanctions.org/datasets/20210923/us_ofac_sdn/entities.ftm.json', 'https://data.opensanctions.org/datasets/20210924/us_ofac_sdn/entities.ftm.json', 'https://data.opensanctions.org/datasets/20210925/us_ofac_sdn/entities.ftm.json', 'https://data.opensanctions.org/datasets/20210926/us_ofac_sdn/entities.ftm.json', 'https://data.opensanctions.org/datasets/20210927/us_ofac_sdn/entities.ftm.json', 'https://data.opensanctions.org/datasets/20210928/us_ofac_sdn/entities.ftm.json', 'https://data.opensanctions.org/datasets/20210929/us_ofac_sdn/entities.ftm.json', 'https://data.opensanctions.org/datasets/20210930/us_ofac_sdn/entities.ftm.json', 'https://data.opensanctions.org/datasets/20211001/us_ofac_sdn/entities.ftm.json', 'https://data.opensanctions.org/datasets/20211002/us_ofac_sdn/entities.ftm.json', 'https://data.opensanctions.org/datasets/20211003/us_ofac_sdn/entities.ftm.json', 'https://data.opensanctions.org/datasets/20211004/us_ofac_sdn/entities.ftm.json', 'https://data.opensanctions.org/datasets/20211005/us_ofac_sdn/entities.ftm.json', 'https://data.opensanctions.org/datasets/20211006/us_ofac_sdn/entities.ftm.json', 'https://data.opensanctions.org/datasets/20211007/us_ofac_sdn/entities.ftm.json', 'https://data.opensanctions.org/datasets/20211008/us_ofac_sdn/entities.ftm.json', 'https://data.opensanctions.org/datasets/20211009/us_ofac_sdn/entities.ftm.json', 'https://data.opensanctions.org/datasets/20211010/us_ofac_sdn/entities.ftm.json', 'https://data.opensanctions.org/datasets/20211011/us_ofac_sdn/entities.ftm.json', 'https://data.opensanctions.org/datasets/20211012/us_ofac_sdn/entities.ftm.json', 'https://data.opensanctions.org/datasets/20211013/us_ofac_sdn/entities.ftm.json', 'https://data.opensanctions.org/datasets/20211014/us_ofac_sdn/entities.ftm.json', 'https://data.opensanctions.org/datasets/20211015/us_ofac_sdn/entities.ftm.json', 'https://data.opensanctions.org/datasets/20211016/us_ofac_sdn/entities.ftm.json', 'https://data.opensanctions.org/datasets/20211017/us_ofac_sdn/entities.ftm.json', 'https://data.opensanctions.org/datasets/20211018/us_ofac_sdn/entities.ftm.json', 'https://data.opensanctions.org/datasets/20211019/us_ofac_sdn/entities.ftm.json', 'https://data.opensanctions.org/datasets/20211020/us_ofac_sdn/entities.ftm.json', 'https://data.opensanctions.org/datasets/20211021/us_ofac_sdn/entities.ftm.json', 'https://data.opensanctions.org/datasets/20211022/us_ofac_sdn/entities.ftm.json', 'https://data.opensanctions.org/datasets/20211023/us_ofac_sdn/entities.ftm.json', 'https://data.opensanctions.org/datasets/20211024/us_ofac_sdn/entities.ftm.json', 'https://data.opensanctions.org/datasets/20211025/us_ofac_sdn/entities.ftm.json', 'https://data.opensanctions.org/datasets/20211026/us_ofac_sdn/entities.ftm.json', 'https://data.opensanctions.org/datasets/20211027/us_ofac_sdn/entities.ftm.json', 'https://data.opensanctions.org/datasets/20211028/us_ofac_sdn/entities.ftm.json', 'https://data.opensanctions.org/datasets/20211029/us_ofac_sdn/entities.ftm.json', 'https://data.opensanctions.org/datasets/20211030/us_ofac_sdn/entities.ftm.json', 'https://data.opensanctions.org/datasets/20211031/us_ofac_sdn/entities.ftm.json', 'https://data.opensanctions.org/datasets/20211101/us_ofac_sdn/entities.ftm.json', 'https://data.opensanctions.org/datasets/20211102/us_ofac_sdn/entities.ftm.json', 'https://data.opensanctions.org/datasets/20211103/us_ofac_sdn/entities.ftm.json', 'https://data.opensanctions.org/datasets/20211104/us_ofac_sdn/entities.ftm.json', 'https://data.opensanctions.org/datasets/20211105/us_ofac_sdn/entities.ftm.json', 'https://data.opensanctions.org/datasets/20211106/us_ofac_sdn/entities.ftm.json', 'https://data.opensanctions.org/datasets/20211107/us_ofac_sdn/entities.ftm.json', 'https://data.opensanctions.org/datasets/20211108/us_ofac_sdn/entities.ftm.json', 'https://data.opensanctions.org/datasets/20211109/us_ofac_sdn/entities.ftm.json', 'https://data.opensanctions.org/datasets/20211110/us_ofac_sdn/entities.ftm.json', 'https://data.opensanctions.org/datasets/20211111/us_ofac_sdn/entities.ftm.json', 'https://data.opensanctions.org/datasets/20211112/us_ofac_sdn/entities.ftm.json', 'https://data.opensanctions.org/datasets/20211113/us_ofac_sdn/entities.ftm.json', 'https://data.opensanctions.org/datasets/20211114/us_ofac_sdn/entities.ftm.json', 'https://data.opensanctions.org/datasets/20211115/us_ofac_sdn/entities.ftm.json', 'https://data.opensanctions.org/datasets/20211116/us_ofac_sdn/entities.ftm.json', 'https://data.opensanctions.org/datasets/20211117/us_ofac_sdn/entities.ftm.json', 'https://data.opensanctions.org/datasets/20211118/us_ofac_sdn/entities.ftm.json', 'https://data.opensanctions.org/datasets/20211119/us_ofac_sdn/entities.ftm.json', 'https://data.opensanctions.org/datasets/20211120/us_ofac_sdn/entities.ftm.json', 'https://data.opensanctions.org/datasets/20211121/us_ofac_sdn/entities.ftm.json', 'https://data.opensanctions.org/datasets/20211122/us_ofac_sdn/entities.ftm.json', 'https://data.opensanctions.org/datasets/20211123/us_ofac_sdn/entities.ftm.json', 'https://data.opensanctions.org/datasets/20211124/us_ofac_sdn/entities.ftm.json', 'https://data.opensanctions.org/datasets/20211125/us_ofac_sdn/entities.ftm.json', 'https://data.opensanctions.org/datasets/20211126/us_ofac_sdn/entities.ftm.json', 'https://data.opensanctions.org/datasets/20211127/us_ofac_sdn/entities.ftm.json', 'https://data.opensanctions.org/datasets/20211128/us_ofac_sdn/entities.ftm.json', 'https://data.opensanctions.org/datasets/20211129/us_ofac_sdn/entities.ftm.json', 'https://data.opensanctions.org/datasets/20211130/us_ofac_sdn/entities.ftm.json', 'https://data.opensanctions.org/datasets/20211201/us_ofac_sdn/entities.ftm.json', 'https://data.opensanctions.org/datasets/20211202/us_ofac_sdn/entities.ftm.json', 'https://data.opensanctions.org/datasets/20211203/us_ofac_sdn/entities.ftm.json', 'https://data.opensanctions.org/datasets/20211204/us_ofac_sdn/entities.ftm.json', 'https://data.opensanctions.org/datasets/20211205/us_ofac_sdn/entities.ftm.json', 'https://data.opensanctions.org/datasets/20211206/us_ofac_sdn/entities.ftm.json', 'https://data.opensanctions.org/datasets/20211207/us_ofac_sdn/entities.ftm.json', 'https://data.opensanctions.org/datasets/20211208/us_ofac_sdn/entities.ftm.json', 'https://data.opensanctions.org/datasets/20211209/us_ofac_sdn/entities.ftm.json', 'https://data.opensanctions.org/datasets/20211210/us_ofac_sdn/entities.ftm.json', 'https://data.opensanctions.org/datasets/20211211/us_ofac_sdn/entities.ftm.json', 'https://data.opensanctions.org/datasets/20211212/us_ofac_sdn/entities.ftm.json', 'https://data.opensanctions.org/datasets/20211213/us_ofac_sdn/entities.ftm.json', 'https://data.opensanctions.org/datasets/20211214/us_ofac_sdn/entities.ftm.json', 'https://data.opensanctions.org/datasets/20211215/us_ofac_sdn/entities.ftm.json', 'https://data.opensanctions.org/datasets/20211216/us_ofac_sdn/entities.ftm.json', 'https://data.opensanctions.org/datasets/20211217/us_ofac_sdn/entities.ftm.json', 'https://data.opensanctions.org/datasets/20211218/us_ofac_sdn/entities.ftm.json', 'https://data.opensanctions.org/datasets/20211219/us_ofac_sdn/entities.ftm.json', 'https://data.opensanctions.org/datasets/20211220/us_ofac_sdn/entities.ftm.json', 'https://data.opensanctions.org/datasets/20211221/us_ofac_sdn/entities.ftm.json', 'https://data.opensanctions.org/datasets/20211222/us_ofac_sdn/entities.ftm.json', 'https://data.opensanctions.org/datasets/20211223/us_ofac_sdn/entities.ftm.json', 'https://data.opensanctions.org/datasets/20211224/us_ofac_sdn/entities.ftm.json', 'https://data.opensanctions.org/datasets/20211225/us_ofac_sdn/entities.ftm.json', 'https://data.opensanctions.org/datasets/20211226/us_ofac_sdn/entities.ftm.json', 'https://data.opensanctions.org/datasets/20211227/us_ofac_sdn/entities.ftm.json', 'https://data.opensanctions.org/datasets/20211228/us_ofac_sdn/entities.ftm.json', 'https://data.opensanctions.org/datasets/20211229/us_ofac_sdn/entities.ftm.json', 'https://data.opensanctions.org/datasets/20211230/us_ofac_sdn/entities.ftm.json', 'https://data.opensanctions.org/datasets/20211231/us_ofac_sdn/entities.ftm.json', 'https://data.opensanctions.org/datasets/20220101/us_ofac_sdn/entities.ftm.json']\n"
     ]
    }
   ],
   "source": [
    "import requests, json\n",
    "websites = []\n",
    "\n",
    "for i in date_list:\n",
    "    test = 'https://data.opensanctions.org/datasets/'+(i)+'/us_ofac_sdn/entities.ftm.json'\n",
    "    websites.append(test)\n",
    "print(websites)"
   ]
  },
  {
   "cell_type": "code",
   "execution_count": null,
   "id": "782311ab-65c9-4b04-a4ef-07481b86dee6",
   "metadata": {
    "tags": []
   },
   "outputs": [],
   "source": [
    "from urllib.request import urlopen\n",
    "contents_list=[]\n",
    "json_data=[]\n",
    "for site in websites:\n",
    "    websites = site\n",
    "    r = urlopen(websites)\n",
    "    json_data = r.read().decode('utf-8', 'replace')\n",
    "    contents_list.append(json_data)\n",
    "\n",
    "display(contents_list)"
   ]
  },
  {
   "cell_type": "markdown",
   "id": "2f44febe-1aa2-4f7c-a2fc-e88777145927",
   "metadata": {
    "tags": []
   },
   "source": [
    "#merge and parse into one df\n",
    "#from json import json_normalize\n",
    "#df = pd.json_normalize(contents_list)\n",
    "#df\n",
    "data_ofac = pd.DataFrame.from_dict(contents_list,orient='columns')\n",
    "data_ofac"
   ]
  },
  {
   "cell_type": "code",
   "execution_count": null,
   "id": "f31bc1a6-bfc9-48c6-80c7-034e44edb232",
   "metadata": {},
   "outputs": [],
   "source": [
    "#filter and clean up"
   ]
  },
  {
   "cell_type": "code",
   "execution_count": null,
   "id": "396577f7-f138-424b-844c-ba1a92a25f83",
   "metadata": {},
   "outputs": [],
   "source": []
  },
  {
   "cell_type": "markdown",
   "id": "e294d1d7-dc2a-492c-b150-1d08298a9f79",
   "metadata": {},
   "source": [
    "repeat with EU and other lists"
   ]
  },
  {
   "cell_type": "markdown",
   "id": "00ca7274-a3dc-4c33-a877-b6d4cb6283db",
   "metadata": {},
   "source": [
    "**OFAC Consolidated list**"
   ]
  },
  {
   "cell_type": "code",
   "execution_count": null,
   "id": "824ca644-c8cb-4ca9-8d30-fca3985c73bf",
   "metadata": {
    "tags": []
   },
   "outputs": [],
   "source": [
    "websites = []\n",
    "\n",
    "for i in date_list:\n",
    "    test = 'https://data.opensanctions.org/datasets/'+(i)+'/us_ofac_cons/entities.ftm.json'\n",
    "    websites.append(test)\n",
    "print(websites)"
   ]
  },
  {
   "cell_type": "code",
   "execution_count": null,
   "id": "8629734f-18ee-4a0e-9dbb-8ccd7ab35039",
   "metadata": {
    "tags": []
   },
   "outputs": [],
   "source": [
    "from urllib.request import urlopen\n",
    "contents_list=[]\n",
    "json_data=[]\n",
    "for site in websites:\n",
    "    websites = site\n",
    "    r = urlopen(websites)\n",
    "    json_data = r.read().decode('utf-8', 'replace')\n",
    "    contents_list.append(json_data)\n",
    "\n",
    "display(contents_list)"
   ]
  },
  {
   "cell_type": "markdown",
   "id": "89918ac5-d041-48f0-8083-0f1dc2228d38",
   "metadata": {},
   "source": [
    "**US BIS List**"
   ]
  },
  {
   "cell_type": "code",
   "execution_count": null,
   "id": "56510b9a-1872-4200-a461-da2323111113",
   "metadata": {
    "tags": []
   },
   "outputs": [],
   "source": [
    "websites = []\n",
    "\n",
    "for i in date_list:\n",
    "    test = 'https://data.opensanctions.org/datasets/'+(i)+'/us_bis_denied/entities.ftm.json'\n",
    "    websites.append(test)\n",
    "print(websites)"
   ]
  },
  {
   "cell_type": "code",
   "execution_count": null,
   "id": "9cbbf8d0-273d-4e76-9434-66917f973ef7",
   "metadata": {
    "tags": []
   },
   "outputs": [],
   "source": [
    "from urllib.request import urlopen\n",
    "contents_list=[]\n",
    "json_data=[]\n",
    "for site in websites:\n",
    "    websites = site\n",
    "    r = urlopen(websites)\n",
    "    json_data = r.read().decode('utf-8', 'replace')\n",
    "    contents_list.append(json_data)\n",
    "\n",
    "display(contents_list)"
   ]
  },
  {
   "cell_type": "markdown",
   "id": "ae57bf2d-5342-4a4a-b781-1eb8aa38b2dc",
   "metadata": {},
   "source": [
    "**EU FSF**"
   ]
  },
  {
   "cell_type": "code",
   "execution_count": null,
   "id": "bf0d8eef-d220-4b1e-9bb7-e5b509449e06",
   "metadata": {
    "tags": []
   },
   "outputs": [],
   "source": [
    "websites = []\n",
    "\n",
    "for i in date_list:\n",
    "    test = 'https://data.opensanctions.org/datasets/'+(i)+'/eu_fsf/entities.ftm.json'\n",
    "    websites.append(test)\n",
    "print(websites)"
   ]
  },
  {
   "cell_type": "code",
   "execution_count": null,
   "id": "35c4f9d8-0b60-4597-a602-0ba4d149b79e",
   "metadata": {
    "tags": []
   },
   "outputs": [],
   "source": [
    "from urllib.request import urlopen\n",
    "contents_list=[]\n",
    "json_data=[]\n",
    "for site in websites:\n",
    "    websites = site\n",
    "    r = urlopen(websites)\n",
    "    json_data = r.read().decode('utf-8', 'replace')\n",
    "    contents_list.append(json_data)\n",
    "\n",
    "display(contents_list)"
   ]
  },
  {
   "cell_type": "markdown",
   "id": "910e8c9d-95dd-4064-96aa-388d1fdc33c0",
   "metadata": {
    "tags": []
   },
   "source": [
    "**EU Sanctions Map**"
   ]
  },
  {
   "cell_type": "code",
   "execution_count": null,
   "id": "80fc00ce-dfb4-4422-a4d7-a5e5bc76bc41",
   "metadata": {
    "tags": []
   },
   "outputs": [],
   "source": [
    "websites = []\n",
    "\n",
    "for i in date_list:\n",
    "    test = 'https://data.opensanctions.org/datasets/'+(i)+'/eu_sanctions_map/entities.ftm.json'\n",
    "    websites.append(test)\n",
    "print(websites)"
   ]
  },
  {
   "cell_type": "code",
   "execution_count": null,
   "id": "327ba35b-4f4b-4626-97d9-9a7fa4a293e8",
   "metadata": {
    "tags": []
   },
   "outputs": [],
   "source": [
    "from urllib.request import urlopen\n",
    "contents_list=[]\n",
    "json_data=[]\n",
    "for site in websites:\n",
    "    websites = site\n",
    "    r = urlopen(websites)\n",
    "    json_data = r.read().decode('utf-8', 'replace')\n",
    "    contents_list.append(json_data)\n",
    "\n",
    "display(contents_list)"
   ]
  },
  {
   "cell_type": "code",
   "execution_count": null,
   "id": "b8c12ccf-8791-498b-a4ca-3f6ac9421210",
   "metadata": {},
   "outputs": [],
   "source": [
    "eu_travel_bans"
   ]
  }
 ],
 "metadata": {
  "kernelspec": {
   "display_name": "Python 3 (ipykernel)",
   "language": "python",
   "name": "python3"
  },
  "language_info": {
   "codemirror_mode": {
    "name": "ipython",
    "version": 3
   },
   "file_extension": ".py",
   "mimetype": "text/x-python",
   "name": "python",
   "nbconvert_exporter": "python",
   "pygments_lexer": "ipython3",
   "version": "3.11.5"
  }
 },
 "nbformat": 4,
 "nbformat_minor": 5
}
