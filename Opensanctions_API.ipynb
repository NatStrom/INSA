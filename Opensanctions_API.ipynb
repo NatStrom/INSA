{
 "cells": [
  {
   "cell_type": "markdown",
   "id": "abccd369-e6de-4c61-b7b7-e0d47066d2a0",
   "metadata": {},
   "source": [
    "**this is an example notebook for querying from the Opensantions API**"
   ]
  },
  {
   "cell_type": "markdown",
   "id": "c039b46e-a09a-43de-acab-696731da7308",
   "metadata": {},
   "source": [
    "*Proceeding:* \n",
    "\n",
    "1. Query the individual sanctions lists from the website and write a loop to access all the days from July 2021 onward \n",
    "\n",
    "2. Parse into a dataframe, that is filtered and cleaned \n",
    "\n",
    "3. Write a function that matches a day with the previous day and flags the new additions or deletions. Parse those as a new column indicating removal or addition date.  \n",
    "\n",
    "4. Merge all dataframes for all lists (UK, EU and US) together and aggregate onto a monthly level \n",
    "\n",
    "5. Create a separate dataframe for all designations concerning Russian entities \n",
    "\n",
    " \n",
    "datasets of interest:\n",
    "\n",
    "us_ofac_sdn\n",
    "\n",
    "us_ofac_cons\n",
    "\n",
    "us_bis_denied\n",
    "\n",
    "\n",
    "eu_fsf\n",
    "\n",
    "eu_sanctions_map\n"
   ]
  },
  {
   "cell_type": "markdown",
   "id": "22272a5d-8fb9-4fba-b44b-7ac64cd9c7c6",
   "metadata": {},
   "source": [
    "loop though versions of the json not the API\n",
    "ok - I just confirmed, the API doesn't have historical data - but all the historical data is available online still. You would have to request the file you want to check for each date, download the file, and then read through it and filter for what you're looking for\n",
    "14:38 Uhr\n",
    "e.g. the latest OFAC file is https://data.opensanctions.org/datasets/20240115/us_ofac_cons/entities.ftm.json\n",
    "14:39 Uhr\n",
    "you can then loop back on the date in the URL - the date is in the format YYYYMMDD\n",
    "14:39 Uhr\n",
    "e.g.  https://data.opensanctions.org/datasets/20240114/us_ofac_cons/entities.ftm.json and so on"
   ]
  },
  {
   "cell_type": "code",
   "execution_count": 1,
   "id": "fbc34aa6-9752-4974-aec6-6651f8d83396",
   "metadata": {
    "tags": []
   },
   "outputs": [],
   "source": [
    "#import packages\n",
    "import requests\n",
    "import json\n",
    "import pandas as pd\n",
    "import numpy as np\n",
    "import os\n",
    "from urllib.request import urlopen"
   ]
  },
  {
   "cell_type": "markdown",
   "id": "32850b4c-54e5-4aab-b368-11d506fd5e03",
   "metadata": {},
   "source": [
    "**start with the SDN list**"
   ]
  },
  {
   "cell_type": "code",
   "execution_count": 2,
   "id": "1cfb9754-5c8f-4774-8ab3-b2c2dcab4b73",
   "metadata": {
    "tags": []
   },
   "outputs": [
    {
     "name": "stdout",
     "output_type": "stream",
     "text": [
      "<Response [200]>\n"
     ]
    }
   ],
   "source": [
    "#first check if the website is working\n",
    "url = \"https://data.opensanctions.org/datasets/20240115/us_ofac_cons/entities.ftm.json\"\n",
    "response = requests.get(url)\n",
    "print(response)\n",
    "#if we get a response code 200 its working"
   ]
  },
  {
   "cell_type": "code",
   "execution_count": 46,
   "id": "d901fcf9-f7a0-403a-beb5-f1dddf4b25c0",
   "metadata": {
    "tags": []
   },
   "outputs": [
    {
     "ename": "JSONDecodeError",
     "evalue": "Extra data: line 2 column 1 (char 1268)",
     "output_type": "error",
     "traceback": [
      "\u001b[1;31m---------------------------------------------------------------------------\u001b[0m",
      "\u001b[1;31mJSONDecodeError\u001b[0m                           Traceback (most recent call last)",
      "File \u001b[1;32mC:\\ProgramData\\anaconda3\\Lib\\site-packages\\requests\\models.py:971\u001b[0m, in \u001b[0;36mResponse.json\u001b[1;34m(self, **kwargs)\u001b[0m\n\u001b[0;32m    970\u001b[0m \u001b[38;5;28;01mtry\u001b[39;00m:\n\u001b[1;32m--> 971\u001b[0m     \u001b[38;5;28;01mreturn\u001b[39;00m complexjson\u001b[38;5;241m.\u001b[39mloads(\u001b[38;5;28mself\u001b[39m\u001b[38;5;241m.\u001b[39mtext, \u001b[38;5;241m*\u001b[39m\u001b[38;5;241m*\u001b[39mkwargs)\n\u001b[0;32m    972\u001b[0m \u001b[38;5;28;01mexcept\u001b[39;00m JSONDecodeError \u001b[38;5;28;01mas\u001b[39;00m e:\n\u001b[0;32m    973\u001b[0m     \u001b[38;5;66;03m# Catch JSON-related errors and raise as requests.JSONDecodeError\u001b[39;00m\n\u001b[0;32m    974\u001b[0m     \u001b[38;5;66;03m# This aliases json.JSONDecodeError and simplejson.JSONDecodeError\u001b[39;00m\n",
      "File \u001b[1;32mC:\\ProgramData\\anaconda3\\Lib\\json\\__init__.py:346\u001b[0m, in \u001b[0;36mloads\u001b[1;34m(s, cls, object_hook, parse_float, parse_int, parse_constant, object_pairs_hook, **kw)\u001b[0m\n\u001b[0;32m    343\u001b[0m \u001b[38;5;28;01mif\u001b[39;00m (\u001b[38;5;28mcls\u001b[39m \u001b[38;5;129;01mis\u001b[39;00m \u001b[38;5;28;01mNone\u001b[39;00m \u001b[38;5;129;01mand\u001b[39;00m object_hook \u001b[38;5;129;01mis\u001b[39;00m \u001b[38;5;28;01mNone\u001b[39;00m \u001b[38;5;129;01mand\u001b[39;00m\n\u001b[0;32m    344\u001b[0m         parse_int \u001b[38;5;129;01mis\u001b[39;00m \u001b[38;5;28;01mNone\u001b[39;00m \u001b[38;5;129;01mand\u001b[39;00m parse_float \u001b[38;5;129;01mis\u001b[39;00m \u001b[38;5;28;01mNone\u001b[39;00m \u001b[38;5;129;01mand\u001b[39;00m\n\u001b[0;32m    345\u001b[0m         parse_constant \u001b[38;5;129;01mis\u001b[39;00m \u001b[38;5;28;01mNone\u001b[39;00m \u001b[38;5;129;01mand\u001b[39;00m object_pairs_hook \u001b[38;5;129;01mis\u001b[39;00m \u001b[38;5;28;01mNone\u001b[39;00m \u001b[38;5;129;01mand\u001b[39;00m \u001b[38;5;129;01mnot\u001b[39;00m kw):\n\u001b[1;32m--> 346\u001b[0m     \u001b[38;5;28;01mreturn\u001b[39;00m _default_decoder\u001b[38;5;241m.\u001b[39mdecode(s)\n\u001b[0;32m    347\u001b[0m \u001b[38;5;28;01mif\u001b[39;00m \u001b[38;5;28mcls\u001b[39m \u001b[38;5;129;01mis\u001b[39;00m \u001b[38;5;28;01mNone\u001b[39;00m:\n",
      "File \u001b[1;32mC:\\ProgramData\\anaconda3\\Lib\\json\\decoder.py:340\u001b[0m, in \u001b[0;36mJSONDecoder.decode\u001b[1;34m(self, s, _w)\u001b[0m\n\u001b[0;32m    339\u001b[0m \u001b[38;5;28;01mif\u001b[39;00m end \u001b[38;5;241m!=\u001b[39m \u001b[38;5;28mlen\u001b[39m(s):\n\u001b[1;32m--> 340\u001b[0m     \u001b[38;5;28;01mraise\u001b[39;00m JSONDecodeError(\u001b[38;5;124m\"\u001b[39m\u001b[38;5;124mExtra data\u001b[39m\u001b[38;5;124m\"\u001b[39m, s, end)\n\u001b[0;32m    341\u001b[0m \u001b[38;5;28;01mreturn\u001b[39;00m obj\n",
      "\u001b[1;31mJSONDecodeError\u001b[0m: Extra data: line 2 column 1 (char 1268)",
      "\nDuring handling of the above exception, another exception occurred:\n",
      "\u001b[1;31mJSONDecodeError\u001b[0m                           Traceback (most recent call last)",
      "Cell \u001b[1;32mIn[46], line 1\u001b[0m\n\u001b[1;32m----> 1\u001b[0m jsonurl \u001b[38;5;241m=\u001b[39mrequests\u001b[38;5;241m.\u001b[39mget(\u001b[38;5;124m'\u001b[39m\u001b[38;5;124mhttps://data.opensanctions.org/datasets/20240115/us_ofac_cons/entities.ftm.json\u001b[39m\u001b[38;5;124m'\u001b[39m)\u001b[38;5;241m.\u001b[39mjson()\n\u001b[0;32m      2\u001b[0m \u001b[38;5;28mprint\u001b[39m(jsonurl)\n",
      "File \u001b[1;32mC:\\ProgramData\\anaconda3\\Lib\\site-packages\\requests\\models.py:975\u001b[0m, in \u001b[0;36mResponse.json\u001b[1;34m(self, **kwargs)\u001b[0m\n\u001b[0;32m    971\u001b[0m     \u001b[38;5;28;01mreturn\u001b[39;00m complexjson\u001b[38;5;241m.\u001b[39mloads(\u001b[38;5;28mself\u001b[39m\u001b[38;5;241m.\u001b[39mtext, \u001b[38;5;241m*\u001b[39m\u001b[38;5;241m*\u001b[39mkwargs)\n\u001b[0;32m    972\u001b[0m \u001b[38;5;28;01mexcept\u001b[39;00m JSONDecodeError \u001b[38;5;28;01mas\u001b[39;00m e:\n\u001b[0;32m    973\u001b[0m     \u001b[38;5;66;03m# Catch JSON-related errors and raise as requests.JSONDecodeError\u001b[39;00m\n\u001b[0;32m    974\u001b[0m     \u001b[38;5;66;03m# This aliases json.JSONDecodeError and simplejson.JSONDecodeError\u001b[39;00m\n\u001b[1;32m--> 975\u001b[0m     \u001b[38;5;28;01mraise\u001b[39;00m RequestsJSONDecodeError(e\u001b[38;5;241m.\u001b[39mmsg, e\u001b[38;5;241m.\u001b[39mdoc, e\u001b[38;5;241m.\u001b[39mpos)\n",
      "\u001b[1;31mJSONDecodeError\u001b[0m: Extra data: line 2 column 1 (char 1268)"
     ]
    }
   ],
   "source": [
    "jsonurl =requests.get('https://data.opensanctions.org/datasets/20240115/us_ofac_cons/entities.ftm.json').json()\n",
    "print(jsonurl)"
   ]
  },
  {
   "cell_type": "code",
   "execution_count": null,
   "id": "30550618-e1dd-42e8-8719-df660dd1b4dc",
   "metadata": {},
   "outputs": [],
   "source": [
    "#solution? \n",
    "import json\n",
    "\n",
    "with open(\"some_file.txt\", \"r\") as f:\n",
    "    content = f.read()\n",
    "parsed_values = []\n",
    "decoder = json.JSONDecoder()\n",
    "while content:\n",
    "    value, new_start = decoder.raw_decode(content)\n",
    "    content = content[new_start:].strip()\n",
    "    # You can handle the value directly in this loop:\n",
    "    print(\"Parsed:\", value)\n",
    "    # Or you can store it in a container and use it later:\n",
    "    parsed_values.append(value)\n",
    "    "
   ]
  },
  {
   "cell_type": "code",
   "execution_count": null,
   "id": "acd5602c-0fa8-4580-8950-e634bdcb882c",
   "metadata": {},
   "outputs": [],
   "source": [
    "You could first read the file into a string, then create a loop that applies raw_decode, and then either directly handle the parsed value or store it in a container and handle all of them later. Should I update my answer with an example? – \n",
    "pschill\n",
    " Feb 14, 2019 at 7:58\n",
    "That would be really helpful if you could update it for reading a file which has thousands of json objects (just like shown in my code above) which are NOT separated by comma . I'm very new to this parsing json format and I've spent much time on clicking every link on Google to find out how to do so. So your help would be greatly appreciated.Thanks in advance – \n",
    "Sohbet\n",
    " Feb 14, 2019 at 20:40\n",
    "This fails if content has leading whitespace, but a simple content.lstrip() prior to the main loop sets things aright. content[new_start:].strip() can also be lstrip() although it's not a big deal either way. – \n",
    "ggorlen\n",
    " Oct 30, 2022 at 23:34\n",
    "Also, content = f.read() slurps the whole file into memory, but a typical JSON stream is used because it may not fit into memory. – \n",
    "ggorlen\n",
    " Dec 6, 2023 at 5:56"
   ]
  },
  {
   "cell_type": "code",
   "execution_count": 19,
   "id": "68481010-723f-4aae-a378-95febd09e82e",
   "metadata": {
    "tags": []
   },
   "outputs": [
    {
     "data": {
      "text/plain": [
       "Index(['20210801', '20210802', '20210803', '20210804', '20210805', '20210806',\n",
       "       '20210807', '20210808', '20210809', '20210810',\n",
       "       ...\n",
       "       '20231222', '20231223', '20231224', '20231225', '20231226', '20231227',\n",
       "       '20231228', '20231229', '20231230', '20231231'],\n",
       "      dtype='object', length=883)"
      ]
     },
     "execution_count": 19,
     "metadata": {},
     "output_type": "execute_result"
    }
   ],
   "source": [
    "#now I need to create a loop to access the datafiles from Jul 2021 to Dec 2023\n",
    "#first create a list of datetimes to use in the for loop\n",
    "date_list = pd.date_range(start='20210801',end='20231231',freq='D').strftime('%Y%m%d')\n",
    "date_list"
   ]
  },
  {
   "cell_type": "code",
   "execution_count": 26,
   "id": "910d889d-7f1c-452b-9f94-43b15353239d",
   "metadata": {
    "collapsed": true,
    "jupyter": {
     "outputs_hidden": true
    },
    "tags": []
   },
   "outputs": [
    {
     "name": "stdout",
     "output_type": "stream",
     "text": [
      "['https://data.opensanctions.org/datasets/20210801/us_ofac_sdn/entities.ftm.json', 'https://data.opensanctions.org/datasets/20210802/us_ofac_sdn/entities.ftm.json', 'https://data.opensanctions.org/datasets/20210803/us_ofac_sdn/entities.ftm.json', 'https://data.opensanctions.org/datasets/20210804/us_ofac_sdn/entities.ftm.json', 'https://data.opensanctions.org/datasets/20210805/us_ofac_sdn/entities.ftm.json', 'https://data.opensanctions.org/datasets/20210806/us_ofac_sdn/entities.ftm.json', 'https://data.opensanctions.org/datasets/20210807/us_ofac_sdn/entities.ftm.json', 'https://data.opensanctions.org/datasets/20210808/us_ofac_sdn/entities.ftm.json', 'https://data.opensanctions.org/datasets/20210809/us_ofac_sdn/entities.ftm.json', 'https://data.opensanctions.org/datasets/20210810/us_ofac_sdn/entities.ftm.json', 'https://data.opensanctions.org/datasets/20210811/us_ofac_sdn/entities.ftm.json', 'https://data.opensanctions.org/datasets/20210812/us_ofac_sdn/entities.ftm.json', 'https://data.opensanctions.org/datasets/20210813/us_ofac_sdn/entities.ftm.json', 'https://data.opensanctions.org/datasets/20210814/us_ofac_sdn/entities.ftm.json', 'https://data.opensanctions.org/datasets/20210815/us_ofac_sdn/entities.ftm.json', 'https://data.opensanctions.org/datasets/20210816/us_ofac_sdn/entities.ftm.json', 'https://data.opensanctions.org/datasets/20210817/us_ofac_sdn/entities.ftm.json', 'https://data.opensanctions.org/datasets/20210818/us_ofac_sdn/entities.ftm.json', 'https://data.opensanctions.org/datasets/20210819/us_ofac_sdn/entities.ftm.json', 'https://data.opensanctions.org/datasets/20210820/us_ofac_sdn/entities.ftm.json', 'https://data.opensanctions.org/datasets/20210821/us_ofac_sdn/entities.ftm.json', 'https://data.opensanctions.org/datasets/20210822/us_ofac_sdn/entities.ftm.json', 'https://data.opensanctions.org/datasets/20210823/us_ofac_sdn/entities.ftm.json', 'https://data.opensanctions.org/datasets/20210824/us_ofac_sdn/entities.ftm.json', 'https://data.opensanctions.org/datasets/20210825/us_ofac_sdn/entities.ftm.json', 'https://data.opensanctions.org/datasets/20210826/us_ofac_sdn/entities.ftm.json', 'https://data.opensanctions.org/datasets/20210827/us_ofac_sdn/entities.ftm.json', 'https://data.opensanctions.org/datasets/20210828/us_ofac_sdn/entities.ftm.json', 'https://data.opensanctions.org/datasets/20210829/us_ofac_sdn/entities.ftm.json', 'https://data.opensanctions.org/datasets/20210830/us_ofac_sdn/entities.ftm.json', 'https://data.opensanctions.org/datasets/20210831/us_ofac_sdn/entities.ftm.json', 'https://data.opensanctions.org/datasets/20210901/us_ofac_sdn/entities.ftm.json', 'https://data.opensanctions.org/datasets/20210902/us_ofac_sdn/entities.ftm.json', 'https://data.opensanctions.org/datasets/20210903/us_ofac_sdn/entities.ftm.json', 'https://data.opensanctions.org/datasets/20210904/us_ofac_sdn/entities.ftm.json', 'https://data.opensanctions.org/datasets/20210905/us_ofac_sdn/entities.ftm.json', 'https://data.opensanctions.org/datasets/20210906/us_ofac_sdn/entities.ftm.json', 'https://data.opensanctions.org/datasets/20210907/us_ofac_sdn/entities.ftm.json', 'https://data.opensanctions.org/datasets/20210908/us_ofac_sdn/entities.ftm.json', 'https://data.opensanctions.org/datasets/20210909/us_ofac_sdn/entities.ftm.json', 'https://data.opensanctions.org/datasets/20210910/us_ofac_sdn/entities.ftm.json', 'https://data.opensanctions.org/datasets/20210911/us_ofac_sdn/entities.ftm.json', 'https://data.opensanctions.org/datasets/20210912/us_ofac_sdn/entities.ftm.json', 'https://data.opensanctions.org/datasets/20210913/us_ofac_sdn/entities.ftm.json', 'https://data.opensanctions.org/datasets/20210914/us_ofac_sdn/entities.ftm.json', 'https://data.opensanctions.org/datasets/20210915/us_ofac_sdn/entities.ftm.json', 'https://data.opensanctions.org/datasets/20210916/us_ofac_sdn/entities.ftm.json', 'https://data.opensanctions.org/datasets/20210917/us_ofac_sdn/entities.ftm.json', 'https://data.opensanctions.org/datasets/20210918/us_ofac_sdn/entities.ftm.json', 'https://data.opensanctions.org/datasets/20210919/us_ofac_sdn/entities.ftm.json', 'https://data.opensanctions.org/datasets/20210920/us_ofac_sdn/entities.ftm.json', 'https://data.opensanctions.org/datasets/20210921/us_ofac_sdn/entities.ftm.json', 'https://data.opensanctions.org/datasets/20210922/us_ofac_sdn/entities.ftm.json', 'https://data.opensanctions.org/datasets/20210923/us_ofac_sdn/entities.ftm.json', 'https://data.opensanctions.org/datasets/20210924/us_ofac_sdn/entities.ftm.json', 'https://data.opensanctions.org/datasets/20210925/us_ofac_sdn/entities.ftm.json', 'https://data.opensanctions.org/datasets/20210926/us_ofac_sdn/entities.ftm.json', 'https://data.opensanctions.org/datasets/20210927/us_ofac_sdn/entities.ftm.json', 'https://data.opensanctions.org/datasets/20210928/us_ofac_sdn/entities.ftm.json', 'https://data.opensanctions.org/datasets/20210929/us_ofac_sdn/entities.ftm.json', 'https://data.opensanctions.org/datasets/20210930/us_ofac_sdn/entities.ftm.json', 'https://data.opensanctions.org/datasets/20211001/us_ofac_sdn/entities.ftm.json', 'https://data.opensanctions.org/datasets/20211002/us_ofac_sdn/entities.ftm.json', 'https://data.opensanctions.org/datasets/20211003/us_ofac_sdn/entities.ftm.json', 'https://data.opensanctions.org/datasets/20211004/us_ofac_sdn/entities.ftm.json', 'https://data.opensanctions.org/datasets/20211005/us_ofac_sdn/entities.ftm.json', 'https://data.opensanctions.org/datasets/20211006/us_ofac_sdn/entities.ftm.json', 'https://data.opensanctions.org/datasets/20211007/us_ofac_sdn/entities.ftm.json', 'https://data.opensanctions.org/datasets/20211008/us_ofac_sdn/entities.ftm.json', 'https://data.opensanctions.org/datasets/20211009/us_ofac_sdn/entities.ftm.json', 'https://data.opensanctions.org/datasets/20211010/us_ofac_sdn/entities.ftm.json', 'https://data.opensanctions.org/datasets/20211011/us_ofac_sdn/entities.ftm.json', 'https://data.opensanctions.org/datasets/20211012/us_ofac_sdn/entities.ftm.json', 'https://data.opensanctions.org/datasets/20211013/us_ofac_sdn/entities.ftm.json', 'https://data.opensanctions.org/datasets/20211014/us_ofac_sdn/entities.ftm.json', 'https://data.opensanctions.org/datasets/20211015/us_ofac_sdn/entities.ftm.json', 'https://data.opensanctions.org/datasets/20211016/us_ofac_sdn/entities.ftm.json', 'https://data.opensanctions.org/datasets/20211017/us_ofac_sdn/entities.ftm.json', 'https://data.opensanctions.org/datasets/20211018/us_ofac_sdn/entities.ftm.json', 'https://data.opensanctions.org/datasets/20211019/us_ofac_sdn/entities.ftm.json', 'https://data.opensanctions.org/datasets/20211020/us_ofac_sdn/entities.ftm.json', 'https://data.opensanctions.org/datasets/20211021/us_ofac_sdn/entities.ftm.json', 'https://data.opensanctions.org/datasets/20211022/us_ofac_sdn/entities.ftm.json', 'https://data.opensanctions.org/datasets/20211023/us_ofac_sdn/entities.ftm.json', 'https://data.opensanctions.org/datasets/20211024/us_ofac_sdn/entities.ftm.json', 'https://data.opensanctions.org/datasets/20211025/us_ofac_sdn/entities.ftm.json', 'https://data.opensanctions.org/datasets/20211026/us_ofac_sdn/entities.ftm.json', 'https://data.opensanctions.org/datasets/20211027/us_ofac_sdn/entities.ftm.json', 'https://data.opensanctions.org/datasets/20211028/us_ofac_sdn/entities.ftm.json', 'https://data.opensanctions.org/datasets/20211029/us_ofac_sdn/entities.ftm.json', 'https://data.opensanctions.org/datasets/20211030/us_ofac_sdn/entities.ftm.json', 'https://data.opensanctions.org/datasets/20211031/us_ofac_sdn/entities.ftm.json', 'https://data.opensanctions.org/datasets/20211101/us_ofac_sdn/entities.ftm.json', 'https://data.opensanctions.org/datasets/20211102/us_ofac_sdn/entities.ftm.json', 'https://data.opensanctions.org/datasets/20211103/us_ofac_sdn/entities.ftm.json', 'https://data.opensanctions.org/datasets/20211104/us_ofac_sdn/entities.ftm.json', 'https://data.opensanctions.org/datasets/20211105/us_ofac_sdn/entities.ftm.json', 'https://data.opensanctions.org/datasets/20211106/us_ofac_sdn/entities.ftm.json', 'https://data.opensanctions.org/datasets/20211107/us_ofac_sdn/entities.ftm.json', 'https://data.opensanctions.org/datasets/20211108/us_ofac_sdn/entities.ftm.json', 'https://data.opensanctions.org/datasets/20211109/us_ofac_sdn/entities.ftm.json', 'https://data.opensanctions.org/datasets/20211110/us_ofac_sdn/entities.ftm.json', 'https://data.opensanctions.org/datasets/20211111/us_ofac_sdn/entities.ftm.json', 'https://data.opensanctions.org/datasets/20211112/us_ofac_sdn/entities.ftm.json', 'https://data.opensanctions.org/datasets/20211113/us_ofac_sdn/entities.ftm.json', 'https://data.opensanctions.org/datasets/20211114/us_ofac_sdn/entities.ftm.json', 'https://data.opensanctions.org/datasets/20211115/us_ofac_sdn/entities.ftm.json', 'https://data.opensanctions.org/datasets/20211116/us_ofac_sdn/entities.ftm.json', 'https://data.opensanctions.org/datasets/20211117/us_ofac_sdn/entities.ftm.json', 'https://data.opensanctions.org/datasets/20211118/us_ofac_sdn/entities.ftm.json', 'https://data.opensanctions.org/datasets/20211119/us_ofac_sdn/entities.ftm.json', 'https://data.opensanctions.org/datasets/20211120/us_ofac_sdn/entities.ftm.json', 'https://data.opensanctions.org/datasets/20211121/us_ofac_sdn/entities.ftm.json', 'https://data.opensanctions.org/datasets/20211122/us_ofac_sdn/entities.ftm.json', 'https://data.opensanctions.org/datasets/20211123/us_ofac_sdn/entities.ftm.json', 'https://data.opensanctions.org/datasets/20211124/us_ofac_sdn/entities.ftm.json', 'https://data.opensanctions.org/datasets/20211125/us_ofac_sdn/entities.ftm.json', 'https://data.opensanctions.org/datasets/20211126/us_ofac_sdn/entities.ftm.json', 'https://data.opensanctions.org/datasets/20211127/us_ofac_sdn/entities.ftm.json', 'https://data.opensanctions.org/datasets/20211128/us_ofac_sdn/entities.ftm.json', 'https://data.opensanctions.org/datasets/20211129/us_ofac_sdn/entities.ftm.json', 'https://data.opensanctions.org/datasets/20211130/us_ofac_sdn/entities.ftm.json', 'https://data.opensanctions.org/datasets/20211201/us_ofac_sdn/entities.ftm.json', 'https://data.opensanctions.org/datasets/20211202/us_ofac_sdn/entities.ftm.json', 'https://data.opensanctions.org/datasets/20211203/us_ofac_sdn/entities.ftm.json', 'https://data.opensanctions.org/datasets/20211204/us_ofac_sdn/entities.ftm.json', 'https://data.opensanctions.org/datasets/20211205/us_ofac_sdn/entities.ftm.json', 'https://data.opensanctions.org/datasets/20211206/us_ofac_sdn/entities.ftm.json', 'https://data.opensanctions.org/datasets/20211207/us_ofac_sdn/entities.ftm.json', 'https://data.opensanctions.org/datasets/20211208/us_ofac_sdn/entities.ftm.json', 'https://data.opensanctions.org/datasets/20211209/us_ofac_sdn/entities.ftm.json', 'https://data.opensanctions.org/datasets/20211210/us_ofac_sdn/entities.ftm.json', 'https://data.opensanctions.org/datasets/20211211/us_ofac_sdn/entities.ftm.json', 'https://data.opensanctions.org/datasets/20211212/us_ofac_sdn/entities.ftm.json', 'https://data.opensanctions.org/datasets/20211213/us_ofac_sdn/entities.ftm.json', 'https://data.opensanctions.org/datasets/20211214/us_ofac_sdn/entities.ftm.json', 'https://data.opensanctions.org/datasets/20211215/us_ofac_sdn/entities.ftm.json', 'https://data.opensanctions.org/datasets/20211216/us_ofac_sdn/entities.ftm.json', 'https://data.opensanctions.org/datasets/20211217/us_ofac_sdn/entities.ftm.json', 'https://data.opensanctions.org/datasets/20211218/us_ofac_sdn/entities.ftm.json', 'https://data.opensanctions.org/datasets/20211219/us_ofac_sdn/entities.ftm.json', 'https://data.opensanctions.org/datasets/20211220/us_ofac_sdn/entities.ftm.json', 'https://data.opensanctions.org/datasets/20211221/us_ofac_sdn/entities.ftm.json', 'https://data.opensanctions.org/datasets/20211222/us_ofac_sdn/entities.ftm.json', 'https://data.opensanctions.org/datasets/20211223/us_ofac_sdn/entities.ftm.json', 'https://data.opensanctions.org/datasets/20211224/us_ofac_sdn/entities.ftm.json', 'https://data.opensanctions.org/datasets/20211225/us_ofac_sdn/entities.ftm.json', 'https://data.opensanctions.org/datasets/20211226/us_ofac_sdn/entities.ftm.json', 'https://data.opensanctions.org/datasets/20211227/us_ofac_sdn/entities.ftm.json', 'https://data.opensanctions.org/datasets/20211228/us_ofac_sdn/entities.ftm.json', 'https://data.opensanctions.org/datasets/20211229/us_ofac_sdn/entities.ftm.json', 'https://data.opensanctions.org/datasets/20211230/us_ofac_sdn/entities.ftm.json', 'https://data.opensanctions.org/datasets/20211231/us_ofac_sdn/entities.ftm.json', 'https://data.opensanctions.org/datasets/20220101/us_ofac_sdn/entities.ftm.json', 'https://data.opensanctions.org/datasets/20220102/us_ofac_sdn/entities.ftm.json', 'https://data.opensanctions.org/datasets/20220103/us_ofac_sdn/entities.ftm.json', 'https://data.opensanctions.org/datasets/20220104/us_ofac_sdn/entities.ftm.json', 'https://data.opensanctions.org/datasets/20220105/us_ofac_sdn/entities.ftm.json', 'https://data.opensanctions.org/datasets/20220106/us_ofac_sdn/entities.ftm.json', 'https://data.opensanctions.org/datasets/20220107/us_ofac_sdn/entities.ftm.json', 'https://data.opensanctions.org/datasets/20220108/us_ofac_sdn/entities.ftm.json', 'https://data.opensanctions.org/datasets/20220109/us_ofac_sdn/entities.ftm.json', 'https://data.opensanctions.org/datasets/20220110/us_ofac_sdn/entities.ftm.json', 'https://data.opensanctions.org/datasets/20220111/us_ofac_sdn/entities.ftm.json', 'https://data.opensanctions.org/datasets/20220112/us_ofac_sdn/entities.ftm.json', 'https://data.opensanctions.org/datasets/20220113/us_ofac_sdn/entities.ftm.json', 'https://data.opensanctions.org/datasets/20220114/us_ofac_sdn/entities.ftm.json', 'https://data.opensanctions.org/datasets/20220115/us_ofac_sdn/entities.ftm.json', 'https://data.opensanctions.org/datasets/20220116/us_ofac_sdn/entities.ftm.json', 'https://data.opensanctions.org/datasets/20220117/us_ofac_sdn/entities.ftm.json', 'https://data.opensanctions.org/datasets/20220118/us_ofac_sdn/entities.ftm.json', 'https://data.opensanctions.org/datasets/20220119/us_ofac_sdn/entities.ftm.json', 'https://data.opensanctions.org/datasets/20220120/us_ofac_sdn/entities.ftm.json', 'https://data.opensanctions.org/datasets/20220121/us_ofac_sdn/entities.ftm.json', 'https://data.opensanctions.org/datasets/20220122/us_ofac_sdn/entities.ftm.json', 'https://data.opensanctions.org/datasets/20220123/us_ofac_sdn/entities.ftm.json', 'https://data.opensanctions.org/datasets/20220124/us_ofac_sdn/entities.ftm.json', 'https://data.opensanctions.org/datasets/20220125/us_ofac_sdn/entities.ftm.json', 'https://data.opensanctions.org/datasets/20220126/us_ofac_sdn/entities.ftm.json', 'https://data.opensanctions.org/datasets/20220127/us_ofac_sdn/entities.ftm.json', 'https://data.opensanctions.org/datasets/20220128/us_ofac_sdn/entities.ftm.json', 'https://data.opensanctions.org/datasets/20220129/us_ofac_sdn/entities.ftm.json', 'https://data.opensanctions.org/datasets/20220130/us_ofac_sdn/entities.ftm.json', 'https://data.opensanctions.org/datasets/20220131/us_ofac_sdn/entities.ftm.json', 'https://data.opensanctions.org/datasets/20220201/us_ofac_sdn/entities.ftm.json', 'https://data.opensanctions.org/datasets/20220202/us_ofac_sdn/entities.ftm.json', 'https://data.opensanctions.org/datasets/20220203/us_ofac_sdn/entities.ftm.json', 'https://data.opensanctions.org/datasets/20220204/us_ofac_sdn/entities.ftm.json', 'https://data.opensanctions.org/datasets/20220205/us_ofac_sdn/entities.ftm.json', 'https://data.opensanctions.org/datasets/20220206/us_ofac_sdn/entities.ftm.json', 'https://data.opensanctions.org/datasets/20220207/us_ofac_sdn/entities.ftm.json', 'https://data.opensanctions.org/datasets/20220208/us_ofac_sdn/entities.ftm.json', 'https://data.opensanctions.org/datasets/20220209/us_ofac_sdn/entities.ftm.json', 'https://data.opensanctions.org/datasets/20220210/us_ofac_sdn/entities.ftm.json', 'https://data.opensanctions.org/datasets/20220211/us_ofac_sdn/entities.ftm.json', 'https://data.opensanctions.org/datasets/20220212/us_ofac_sdn/entities.ftm.json', 'https://data.opensanctions.org/datasets/20220213/us_ofac_sdn/entities.ftm.json', 'https://data.opensanctions.org/datasets/20220214/us_ofac_sdn/entities.ftm.json', 'https://data.opensanctions.org/datasets/20220215/us_ofac_sdn/entities.ftm.json', 'https://data.opensanctions.org/datasets/20220216/us_ofac_sdn/entities.ftm.json', 'https://data.opensanctions.org/datasets/20220217/us_ofac_sdn/entities.ftm.json', 'https://data.opensanctions.org/datasets/20220218/us_ofac_sdn/entities.ftm.json', 'https://data.opensanctions.org/datasets/20220219/us_ofac_sdn/entities.ftm.json', 'https://data.opensanctions.org/datasets/20220220/us_ofac_sdn/entities.ftm.json', 'https://data.opensanctions.org/datasets/20220221/us_ofac_sdn/entities.ftm.json', 'https://data.opensanctions.org/datasets/20220222/us_ofac_sdn/entities.ftm.json', 'https://data.opensanctions.org/datasets/20220223/us_ofac_sdn/entities.ftm.json', 'https://data.opensanctions.org/datasets/20220224/us_ofac_sdn/entities.ftm.json', 'https://data.opensanctions.org/datasets/20220225/us_ofac_sdn/entities.ftm.json', 'https://data.opensanctions.org/datasets/20220226/us_ofac_sdn/entities.ftm.json', 'https://data.opensanctions.org/datasets/20220227/us_ofac_sdn/entities.ftm.json', 'https://data.opensanctions.org/datasets/20220228/us_ofac_sdn/entities.ftm.json', 'https://data.opensanctions.org/datasets/20220301/us_ofac_sdn/entities.ftm.json', 'https://data.opensanctions.org/datasets/20220302/us_ofac_sdn/entities.ftm.json', 'https://data.opensanctions.org/datasets/20220303/us_ofac_sdn/entities.ftm.json', 'https://data.opensanctions.org/datasets/20220304/us_ofac_sdn/entities.ftm.json', 'https://data.opensanctions.org/datasets/20220305/us_ofac_sdn/entities.ftm.json', 'https://data.opensanctions.org/datasets/20220306/us_ofac_sdn/entities.ftm.json', 'https://data.opensanctions.org/datasets/20220307/us_ofac_sdn/entities.ftm.json', 'https://data.opensanctions.org/datasets/20220308/us_ofac_sdn/entities.ftm.json', 'https://data.opensanctions.org/datasets/20220309/us_ofac_sdn/entities.ftm.json', 'https://data.opensanctions.org/datasets/20220310/us_ofac_sdn/entities.ftm.json', 'https://data.opensanctions.org/datasets/20220311/us_ofac_sdn/entities.ftm.json', 'https://data.opensanctions.org/datasets/20220312/us_ofac_sdn/entities.ftm.json', 'https://data.opensanctions.org/datasets/20220313/us_ofac_sdn/entities.ftm.json', 'https://data.opensanctions.org/datasets/20220314/us_ofac_sdn/entities.ftm.json', 'https://data.opensanctions.org/datasets/20220315/us_ofac_sdn/entities.ftm.json', 'https://data.opensanctions.org/datasets/20220316/us_ofac_sdn/entities.ftm.json', 'https://data.opensanctions.org/datasets/20220317/us_ofac_sdn/entities.ftm.json', 'https://data.opensanctions.org/datasets/20220318/us_ofac_sdn/entities.ftm.json', 'https://data.opensanctions.org/datasets/20220319/us_ofac_sdn/entities.ftm.json', 'https://data.opensanctions.org/datasets/20220320/us_ofac_sdn/entities.ftm.json', 'https://data.opensanctions.org/datasets/20220321/us_ofac_sdn/entities.ftm.json', 'https://data.opensanctions.org/datasets/20220322/us_ofac_sdn/entities.ftm.json', 'https://data.opensanctions.org/datasets/20220323/us_ofac_sdn/entities.ftm.json', 'https://data.opensanctions.org/datasets/20220324/us_ofac_sdn/entities.ftm.json', 'https://data.opensanctions.org/datasets/20220325/us_ofac_sdn/entities.ftm.json', 'https://data.opensanctions.org/datasets/20220326/us_ofac_sdn/entities.ftm.json', 'https://data.opensanctions.org/datasets/20220327/us_ofac_sdn/entities.ftm.json', 'https://data.opensanctions.org/datasets/20220328/us_ofac_sdn/entities.ftm.json', 'https://data.opensanctions.org/datasets/20220329/us_ofac_sdn/entities.ftm.json', 'https://data.opensanctions.org/datasets/20220330/us_ofac_sdn/entities.ftm.json', 'https://data.opensanctions.org/datasets/20220331/us_ofac_sdn/entities.ftm.json', 'https://data.opensanctions.org/datasets/20220401/us_ofac_sdn/entities.ftm.json', 'https://data.opensanctions.org/datasets/20220402/us_ofac_sdn/entities.ftm.json', 'https://data.opensanctions.org/datasets/20220403/us_ofac_sdn/entities.ftm.json', 'https://data.opensanctions.org/datasets/20220404/us_ofac_sdn/entities.ftm.json', 'https://data.opensanctions.org/datasets/20220405/us_ofac_sdn/entities.ftm.json', 'https://data.opensanctions.org/datasets/20220406/us_ofac_sdn/entities.ftm.json', 'https://data.opensanctions.org/datasets/20220407/us_ofac_sdn/entities.ftm.json', 'https://data.opensanctions.org/datasets/20220408/us_ofac_sdn/entities.ftm.json', 'https://data.opensanctions.org/datasets/20220409/us_ofac_sdn/entities.ftm.json', 'https://data.opensanctions.org/datasets/20220410/us_ofac_sdn/entities.ftm.json', 'https://data.opensanctions.org/datasets/20220411/us_ofac_sdn/entities.ftm.json', 'https://data.opensanctions.org/datasets/20220412/us_ofac_sdn/entities.ftm.json', 'https://data.opensanctions.org/datasets/20220413/us_ofac_sdn/entities.ftm.json', 'https://data.opensanctions.org/datasets/20220414/us_ofac_sdn/entities.ftm.json', 'https://data.opensanctions.org/datasets/20220415/us_ofac_sdn/entities.ftm.json', 'https://data.opensanctions.org/datasets/20220416/us_ofac_sdn/entities.ftm.json', 'https://data.opensanctions.org/datasets/20220417/us_ofac_sdn/entities.ftm.json', 'https://data.opensanctions.org/datasets/20220418/us_ofac_sdn/entities.ftm.json', 'https://data.opensanctions.org/datasets/20220419/us_ofac_sdn/entities.ftm.json', 'https://data.opensanctions.org/datasets/20220420/us_ofac_sdn/entities.ftm.json', 'https://data.opensanctions.org/datasets/20220421/us_ofac_sdn/entities.ftm.json', 'https://data.opensanctions.org/datasets/20220422/us_ofac_sdn/entities.ftm.json', 'https://data.opensanctions.org/datasets/20220423/us_ofac_sdn/entities.ftm.json', 'https://data.opensanctions.org/datasets/20220424/us_ofac_sdn/entities.ftm.json', 'https://data.opensanctions.org/datasets/20220425/us_ofac_sdn/entities.ftm.json', 'https://data.opensanctions.org/datasets/20220426/us_ofac_sdn/entities.ftm.json', 'https://data.opensanctions.org/datasets/20220427/us_ofac_sdn/entities.ftm.json', 'https://data.opensanctions.org/datasets/20220428/us_ofac_sdn/entities.ftm.json', 'https://data.opensanctions.org/datasets/20220429/us_ofac_sdn/entities.ftm.json', 'https://data.opensanctions.org/datasets/20220430/us_ofac_sdn/entities.ftm.json', 'https://data.opensanctions.org/datasets/20220501/us_ofac_sdn/entities.ftm.json', 'https://data.opensanctions.org/datasets/20220502/us_ofac_sdn/entities.ftm.json', 'https://data.opensanctions.org/datasets/20220503/us_ofac_sdn/entities.ftm.json', 'https://data.opensanctions.org/datasets/20220504/us_ofac_sdn/entities.ftm.json', 'https://data.opensanctions.org/datasets/20220505/us_ofac_sdn/entities.ftm.json', 'https://data.opensanctions.org/datasets/20220506/us_ofac_sdn/entities.ftm.json', 'https://data.opensanctions.org/datasets/20220507/us_ofac_sdn/entities.ftm.json', 'https://data.opensanctions.org/datasets/20220508/us_ofac_sdn/entities.ftm.json', 'https://data.opensanctions.org/datasets/20220509/us_ofac_sdn/entities.ftm.json', 'https://data.opensanctions.org/datasets/20220510/us_ofac_sdn/entities.ftm.json', 'https://data.opensanctions.org/datasets/20220511/us_ofac_sdn/entities.ftm.json', 'https://data.opensanctions.org/datasets/20220512/us_ofac_sdn/entities.ftm.json', 'https://data.opensanctions.org/datasets/20220513/us_ofac_sdn/entities.ftm.json', 'https://data.opensanctions.org/datasets/20220514/us_ofac_sdn/entities.ftm.json', 'https://data.opensanctions.org/datasets/20220515/us_ofac_sdn/entities.ftm.json', 'https://data.opensanctions.org/datasets/20220516/us_ofac_sdn/entities.ftm.json', 'https://data.opensanctions.org/datasets/20220517/us_ofac_sdn/entities.ftm.json', 'https://data.opensanctions.org/datasets/20220518/us_ofac_sdn/entities.ftm.json', 'https://data.opensanctions.org/datasets/20220519/us_ofac_sdn/entities.ftm.json', 'https://data.opensanctions.org/datasets/20220520/us_ofac_sdn/entities.ftm.json', 'https://data.opensanctions.org/datasets/20220521/us_ofac_sdn/entities.ftm.json', 'https://data.opensanctions.org/datasets/20220522/us_ofac_sdn/entities.ftm.json', 'https://data.opensanctions.org/datasets/20220523/us_ofac_sdn/entities.ftm.json', 'https://data.opensanctions.org/datasets/20220524/us_ofac_sdn/entities.ftm.json', 'https://data.opensanctions.org/datasets/20220525/us_ofac_sdn/entities.ftm.json', 'https://data.opensanctions.org/datasets/20220526/us_ofac_sdn/entities.ftm.json', 'https://data.opensanctions.org/datasets/20220527/us_ofac_sdn/entities.ftm.json', 'https://data.opensanctions.org/datasets/20220528/us_ofac_sdn/entities.ftm.json', 'https://data.opensanctions.org/datasets/20220529/us_ofac_sdn/entities.ftm.json', 'https://data.opensanctions.org/datasets/20220530/us_ofac_sdn/entities.ftm.json', 'https://data.opensanctions.org/datasets/20220531/us_ofac_sdn/entities.ftm.json', 'https://data.opensanctions.org/datasets/20220601/us_ofac_sdn/entities.ftm.json', 'https://data.opensanctions.org/datasets/20220602/us_ofac_sdn/entities.ftm.json', 'https://data.opensanctions.org/datasets/20220603/us_ofac_sdn/entities.ftm.json', 'https://data.opensanctions.org/datasets/20220604/us_ofac_sdn/entities.ftm.json', 'https://data.opensanctions.org/datasets/20220605/us_ofac_sdn/entities.ftm.json', 'https://data.opensanctions.org/datasets/20220606/us_ofac_sdn/entities.ftm.json', 'https://data.opensanctions.org/datasets/20220607/us_ofac_sdn/entities.ftm.json', 'https://data.opensanctions.org/datasets/20220608/us_ofac_sdn/entities.ftm.json', 'https://data.opensanctions.org/datasets/20220609/us_ofac_sdn/entities.ftm.json', 'https://data.opensanctions.org/datasets/20220610/us_ofac_sdn/entities.ftm.json', 'https://data.opensanctions.org/datasets/20220611/us_ofac_sdn/entities.ftm.json', 'https://data.opensanctions.org/datasets/20220612/us_ofac_sdn/entities.ftm.json', 'https://data.opensanctions.org/datasets/20220613/us_ofac_sdn/entities.ftm.json', 'https://data.opensanctions.org/datasets/20220614/us_ofac_sdn/entities.ftm.json', 'https://data.opensanctions.org/datasets/20220615/us_ofac_sdn/entities.ftm.json', 'https://data.opensanctions.org/datasets/20220616/us_ofac_sdn/entities.ftm.json', 'https://data.opensanctions.org/datasets/20220617/us_ofac_sdn/entities.ftm.json', 'https://data.opensanctions.org/datasets/20220618/us_ofac_sdn/entities.ftm.json', 'https://data.opensanctions.org/datasets/20220619/us_ofac_sdn/entities.ftm.json', 'https://data.opensanctions.org/datasets/20220620/us_ofac_sdn/entities.ftm.json', 'https://data.opensanctions.org/datasets/20220621/us_ofac_sdn/entities.ftm.json', 'https://data.opensanctions.org/datasets/20220622/us_ofac_sdn/entities.ftm.json', 'https://data.opensanctions.org/datasets/20220623/us_ofac_sdn/entities.ftm.json', 'https://data.opensanctions.org/datasets/20220624/us_ofac_sdn/entities.ftm.json', 'https://data.opensanctions.org/datasets/20220625/us_ofac_sdn/entities.ftm.json', 'https://data.opensanctions.org/datasets/20220626/us_ofac_sdn/entities.ftm.json', 'https://data.opensanctions.org/datasets/20220627/us_ofac_sdn/entities.ftm.json', 'https://data.opensanctions.org/datasets/20220628/us_ofac_sdn/entities.ftm.json', 'https://data.opensanctions.org/datasets/20220629/us_ofac_sdn/entities.ftm.json', 'https://data.opensanctions.org/datasets/20220630/us_ofac_sdn/entities.ftm.json', 'https://data.opensanctions.org/datasets/20220701/us_ofac_sdn/entities.ftm.json', 'https://data.opensanctions.org/datasets/20220702/us_ofac_sdn/entities.ftm.json', 'https://data.opensanctions.org/datasets/20220703/us_ofac_sdn/entities.ftm.json', 'https://data.opensanctions.org/datasets/20220704/us_ofac_sdn/entities.ftm.json', 'https://data.opensanctions.org/datasets/20220705/us_ofac_sdn/entities.ftm.json', 'https://data.opensanctions.org/datasets/20220706/us_ofac_sdn/entities.ftm.json', 'https://data.opensanctions.org/datasets/20220707/us_ofac_sdn/entities.ftm.json', 'https://data.opensanctions.org/datasets/20220708/us_ofac_sdn/entities.ftm.json', 'https://data.opensanctions.org/datasets/20220709/us_ofac_sdn/entities.ftm.json', 'https://data.opensanctions.org/datasets/20220710/us_ofac_sdn/entities.ftm.json', 'https://data.opensanctions.org/datasets/20220711/us_ofac_sdn/entities.ftm.json', 'https://data.opensanctions.org/datasets/20220712/us_ofac_sdn/entities.ftm.json', 'https://data.opensanctions.org/datasets/20220713/us_ofac_sdn/entities.ftm.json', 'https://data.opensanctions.org/datasets/20220714/us_ofac_sdn/entities.ftm.json', 'https://data.opensanctions.org/datasets/20220715/us_ofac_sdn/entities.ftm.json', 'https://data.opensanctions.org/datasets/20220716/us_ofac_sdn/entities.ftm.json', 'https://data.opensanctions.org/datasets/20220717/us_ofac_sdn/entities.ftm.json', 'https://data.opensanctions.org/datasets/20220718/us_ofac_sdn/entities.ftm.json', 'https://data.opensanctions.org/datasets/20220719/us_ofac_sdn/entities.ftm.json', 'https://data.opensanctions.org/datasets/20220720/us_ofac_sdn/entities.ftm.json', 'https://data.opensanctions.org/datasets/20220721/us_ofac_sdn/entities.ftm.json', 'https://data.opensanctions.org/datasets/20220722/us_ofac_sdn/entities.ftm.json', 'https://data.opensanctions.org/datasets/20220723/us_ofac_sdn/entities.ftm.json', 'https://data.opensanctions.org/datasets/20220724/us_ofac_sdn/entities.ftm.json', 'https://data.opensanctions.org/datasets/20220725/us_ofac_sdn/entities.ftm.json', 'https://data.opensanctions.org/datasets/20220726/us_ofac_sdn/entities.ftm.json', 'https://data.opensanctions.org/datasets/20220727/us_ofac_sdn/entities.ftm.json', 'https://data.opensanctions.org/datasets/20220728/us_ofac_sdn/entities.ftm.json', 'https://data.opensanctions.org/datasets/20220729/us_ofac_sdn/entities.ftm.json', 'https://data.opensanctions.org/datasets/20220730/us_ofac_sdn/entities.ftm.json', 'https://data.opensanctions.org/datasets/20220731/us_ofac_sdn/entities.ftm.json', 'https://data.opensanctions.org/datasets/20220801/us_ofac_sdn/entities.ftm.json', 'https://data.opensanctions.org/datasets/20220802/us_ofac_sdn/entities.ftm.json', 'https://data.opensanctions.org/datasets/20220803/us_ofac_sdn/entities.ftm.json', 'https://data.opensanctions.org/datasets/20220804/us_ofac_sdn/entities.ftm.json', 'https://data.opensanctions.org/datasets/20220805/us_ofac_sdn/entities.ftm.json', 'https://data.opensanctions.org/datasets/20220806/us_ofac_sdn/entities.ftm.json', 'https://data.opensanctions.org/datasets/20220807/us_ofac_sdn/entities.ftm.json', 'https://data.opensanctions.org/datasets/20220808/us_ofac_sdn/entities.ftm.json', 'https://data.opensanctions.org/datasets/20220809/us_ofac_sdn/entities.ftm.json', 'https://data.opensanctions.org/datasets/20220810/us_ofac_sdn/entities.ftm.json', 'https://data.opensanctions.org/datasets/20220811/us_ofac_sdn/entities.ftm.json', 'https://data.opensanctions.org/datasets/20220812/us_ofac_sdn/entities.ftm.json', 'https://data.opensanctions.org/datasets/20220813/us_ofac_sdn/entities.ftm.json', 'https://data.opensanctions.org/datasets/20220814/us_ofac_sdn/entities.ftm.json', 'https://data.opensanctions.org/datasets/20220815/us_ofac_sdn/entities.ftm.json', 'https://data.opensanctions.org/datasets/20220816/us_ofac_sdn/entities.ftm.json', 'https://data.opensanctions.org/datasets/20220817/us_ofac_sdn/entities.ftm.json', 'https://data.opensanctions.org/datasets/20220818/us_ofac_sdn/entities.ftm.json', 'https://data.opensanctions.org/datasets/20220819/us_ofac_sdn/entities.ftm.json', 'https://data.opensanctions.org/datasets/20220820/us_ofac_sdn/entities.ftm.json', 'https://data.opensanctions.org/datasets/20220821/us_ofac_sdn/entities.ftm.json', 'https://data.opensanctions.org/datasets/20220822/us_ofac_sdn/entities.ftm.json', 'https://data.opensanctions.org/datasets/20220823/us_ofac_sdn/entities.ftm.json', 'https://data.opensanctions.org/datasets/20220824/us_ofac_sdn/entities.ftm.json', 'https://data.opensanctions.org/datasets/20220825/us_ofac_sdn/entities.ftm.json', 'https://data.opensanctions.org/datasets/20220826/us_ofac_sdn/entities.ftm.json', 'https://data.opensanctions.org/datasets/20220827/us_ofac_sdn/entities.ftm.json', 'https://data.opensanctions.org/datasets/20220828/us_ofac_sdn/entities.ftm.json', 'https://data.opensanctions.org/datasets/20220829/us_ofac_sdn/entities.ftm.json', 'https://data.opensanctions.org/datasets/20220830/us_ofac_sdn/entities.ftm.json', 'https://data.opensanctions.org/datasets/20220831/us_ofac_sdn/entities.ftm.json', 'https://data.opensanctions.org/datasets/20220901/us_ofac_sdn/entities.ftm.json', 'https://data.opensanctions.org/datasets/20220902/us_ofac_sdn/entities.ftm.json', 'https://data.opensanctions.org/datasets/20220903/us_ofac_sdn/entities.ftm.json', 'https://data.opensanctions.org/datasets/20220904/us_ofac_sdn/entities.ftm.json', 'https://data.opensanctions.org/datasets/20220905/us_ofac_sdn/entities.ftm.json', 'https://data.opensanctions.org/datasets/20220906/us_ofac_sdn/entities.ftm.json', 'https://data.opensanctions.org/datasets/20220907/us_ofac_sdn/entities.ftm.json', 'https://data.opensanctions.org/datasets/20220908/us_ofac_sdn/entities.ftm.json', 'https://data.opensanctions.org/datasets/20220909/us_ofac_sdn/entities.ftm.json', 'https://data.opensanctions.org/datasets/20220910/us_ofac_sdn/entities.ftm.json', 'https://data.opensanctions.org/datasets/20220911/us_ofac_sdn/entities.ftm.json', 'https://data.opensanctions.org/datasets/20220912/us_ofac_sdn/entities.ftm.json', 'https://data.opensanctions.org/datasets/20220913/us_ofac_sdn/entities.ftm.json', 'https://data.opensanctions.org/datasets/20220914/us_ofac_sdn/entities.ftm.json', 'https://data.opensanctions.org/datasets/20220915/us_ofac_sdn/entities.ftm.json', 'https://data.opensanctions.org/datasets/20220916/us_ofac_sdn/entities.ftm.json', 'https://data.opensanctions.org/datasets/20220917/us_ofac_sdn/entities.ftm.json', 'https://data.opensanctions.org/datasets/20220918/us_ofac_sdn/entities.ftm.json', 'https://data.opensanctions.org/datasets/20220919/us_ofac_sdn/entities.ftm.json', 'https://data.opensanctions.org/datasets/20220920/us_ofac_sdn/entities.ftm.json', 'https://data.opensanctions.org/datasets/20220921/us_ofac_sdn/entities.ftm.json', 'https://data.opensanctions.org/datasets/20220922/us_ofac_sdn/entities.ftm.json', 'https://data.opensanctions.org/datasets/20220923/us_ofac_sdn/entities.ftm.json', 'https://data.opensanctions.org/datasets/20220924/us_ofac_sdn/entities.ftm.json', 'https://data.opensanctions.org/datasets/20220925/us_ofac_sdn/entities.ftm.json', 'https://data.opensanctions.org/datasets/20220926/us_ofac_sdn/entities.ftm.json', 'https://data.opensanctions.org/datasets/20220927/us_ofac_sdn/entities.ftm.json', 'https://data.opensanctions.org/datasets/20220928/us_ofac_sdn/entities.ftm.json', 'https://data.opensanctions.org/datasets/20220929/us_ofac_sdn/entities.ftm.json', 'https://data.opensanctions.org/datasets/20220930/us_ofac_sdn/entities.ftm.json', 'https://data.opensanctions.org/datasets/20221001/us_ofac_sdn/entities.ftm.json', 'https://data.opensanctions.org/datasets/20221002/us_ofac_sdn/entities.ftm.json', 'https://data.opensanctions.org/datasets/20221003/us_ofac_sdn/entities.ftm.json', 'https://data.opensanctions.org/datasets/20221004/us_ofac_sdn/entities.ftm.json', 'https://data.opensanctions.org/datasets/20221005/us_ofac_sdn/entities.ftm.json', 'https://data.opensanctions.org/datasets/20221006/us_ofac_sdn/entities.ftm.json', 'https://data.opensanctions.org/datasets/20221007/us_ofac_sdn/entities.ftm.json', 'https://data.opensanctions.org/datasets/20221008/us_ofac_sdn/entities.ftm.json', 'https://data.opensanctions.org/datasets/20221009/us_ofac_sdn/entities.ftm.json', 'https://data.opensanctions.org/datasets/20221010/us_ofac_sdn/entities.ftm.json', 'https://data.opensanctions.org/datasets/20221011/us_ofac_sdn/entities.ftm.json', 'https://data.opensanctions.org/datasets/20221012/us_ofac_sdn/entities.ftm.json', 'https://data.opensanctions.org/datasets/20221013/us_ofac_sdn/entities.ftm.json', 'https://data.opensanctions.org/datasets/20221014/us_ofac_sdn/entities.ftm.json', 'https://data.opensanctions.org/datasets/20221015/us_ofac_sdn/entities.ftm.json', 'https://data.opensanctions.org/datasets/20221016/us_ofac_sdn/entities.ftm.json', 'https://data.opensanctions.org/datasets/20221017/us_ofac_sdn/entities.ftm.json', 'https://data.opensanctions.org/datasets/20221018/us_ofac_sdn/entities.ftm.json', 'https://data.opensanctions.org/datasets/20221019/us_ofac_sdn/entities.ftm.json', 'https://data.opensanctions.org/datasets/20221020/us_ofac_sdn/entities.ftm.json', 'https://data.opensanctions.org/datasets/20221021/us_ofac_sdn/entities.ftm.json', 'https://data.opensanctions.org/datasets/20221022/us_ofac_sdn/entities.ftm.json', 'https://data.opensanctions.org/datasets/20221023/us_ofac_sdn/entities.ftm.json', 'https://data.opensanctions.org/datasets/20221024/us_ofac_sdn/entities.ftm.json', 'https://data.opensanctions.org/datasets/20221025/us_ofac_sdn/entities.ftm.json', 'https://data.opensanctions.org/datasets/20221026/us_ofac_sdn/entities.ftm.json', 'https://data.opensanctions.org/datasets/20221027/us_ofac_sdn/entities.ftm.json', 'https://data.opensanctions.org/datasets/20221028/us_ofac_sdn/entities.ftm.json', 'https://data.opensanctions.org/datasets/20221029/us_ofac_sdn/entities.ftm.json', 'https://data.opensanctions.org/datasets/20221030/us_ofac_sdn/entities.ftm.json', 'https://data.opensanctions.org/datasets/20221031/us_ofac_sdn/entities.ftm.json', 'https://data.opensanctions.org/datasets/20221101/us_ofac_sdn/entities.ftm.json', 'https://data.opensanctions.org/datasets/20221102/us_ofac_sdn/entities.ftm.json', 'https://data.opensanctions.org/datasets/20221103/us_ofac_sdn/entities.ftm.json', 'https://data.opensanctions.org/datasets/20221104/us_ofac_sdn/entities.ftm.json', 'https://data.opensanctions.org/datasets/20221105/us_ofac_sdn/entities.ftm.json', 'https://data.opensanctions.org/datasets/20221106/us_ofac_sdn/entities.ftm.json', 'https://data.opensanctions.org/datasets/20221107/us_ofac_sdn/entities.ftm.json', 'https://data.opensanctions.org/datasets/20221108/us_ofac_sdn/entities.ftm.json', 'https://data.opensanctions.org/datasets/20221109/us_ofac_sdn/entities.ftm.json', 'https://data.opensanctions.org/datasets/20221110/us_ofac_sdn/entities.ftm.json', 'https://data.opensanctions.org/datasets/20221111/us_ofac_sdn/entities.ftm.json', 'https://data.opensanctions.org/datasets/20221112/us_ofac_sdn/entities.ftm.json', 'https://data.opensanctions.org/datasets/20221113/us_ofac_sdn/entities.ftm.json', 'https://data.opensanctions.org/datasets/20221114/us_ofac_sdn/entities.ftm.json', 'https://data.opensanctions.org/datasets/20221115/us_ofac_sdn/entities.ftm.json', 'https://data.opensanctions.org/datasets/20221116/us_ofac_sdn/entities.ftm.json', 'https://data.opensanctions.org/datasets/20221117/us_ofac_sdn/entities.ftm.json', 'https://data.opensanctions.org/datasets/20221118/us_ofac_sdn/entities.ftm.json', 'https://data.opensanctions.org/datasets/20221119/us_ofac_sdn/entities.ftm.json', 'https://data.opensanctions.org/datasets/20221120/us_ofac_sdn/entities.ftm.json', 'https://data.opensanctions.org/datasets/20221121/us_ofac_sdn/entities.ftm.json', 'https://data.opensanctions.org/datasets/20221122/us_ofac_sdn/entities.ftm.json', 'https://data.opensanctions.org/datasets/20221123/us_ofac_sdn/entities.ftm.json', 'https://data.opensanctions.org/datasets/20221124/us_ofac_sdn/entities.ftm.json', 'https://data.opensanctions.org/datasets/20221125/us_ofac_sdn/entities.ftm.json', 'https://data.opensanctions.org/datasets/20221126/us_ofac_sdn/entities.ftm.json', 'https://data.opensanctions.org/datasets/20221127/us_ofac_sdn/entities.ftm.json', 'https://data.opensanctions.org/datasets/20221128/us_ofac_sdn/entities.ftm.json', 'https://data.opensanctions.org/datasets/20221129/us_ofac_sdn/entities.ftm.json', 'https://data.opensanctions.org/datasets/20221130/us_ofac_sdn/entities.ftm.json', 'https://data.opensanctions.org/datasets/20221201/us_ofac_sdn/entities.ftm.json', 'https://data.opensanctions.org/datasets/20221202/us_ofac_sdn/entities.ftm.json', 'https://data.opensanctions.org/datasets/20221203/us_ofac_sdn/entities.ftm.json', 'https://data.opensanctions.org/datasets/20221204/us_ofac_sdn/entities.ftm.json', 'https://data.opensanctions.org/datasets/20221205/us_ofac_sdn/entities.ftm.json', 'https://data.opensanctions.org/datasets/20221206/us_ofac_sdn/entities.ftm.json', 'https://data.opensanctions.org/datasets/20221207/us_ofac_sdn/entities.ftm.json', 'https://data.opensanctions.org/datasets/20221208/us_ofac_sdn/entities.ftm.json', 'https://data.opensanctions.org/datasets/20221209/us_ofac_sdn/entities.ftm.json', 'https://data.opensanctions.org/datasets/20221210/us_ofac_sdn/entities.ftm.json', 'https://data.opensanctions.org/datasets/20221211/us_ofac_sdn/entities.ftm.json', 'https://data.opensanctions.org/datasets/20221212/us_ofac_sdn/entities.ftm.json', 'https://data.opensanctions.org/datasets/20221213/us_ofac_sdn/entities.ftm.json', 'https://data.opensanctions.org/datasets/20221214/us_ofac_sdn/entities.ftm.json', 'https://data.opensanctions.org/datasets/20221215/us_ofac_sdn/entities.ftm.json', 'https://data.opensanctions.org/datasets/20221216/us_ofac_sdn/entities.ftm.json', 'https://data.opensanctions.org/datasets/20221217/us_ofac_sdn/entities.ftm.json', 'https://data.opensanctions.org/datasets/20221218/us_ofac_sdn/entities.ftm.json', 'https://data.opensanctions.org/datasets/20221219/us_ofac_sdn/entities.ftm.json', 'https://data.opensanctions.org/datasets/20221220/us_ofac_sdn/entities.ftm.json', 'https://data.opensanctions.org/datasets/20221221/us_ofac_sdn/entities.ftm.json', 'https://data.opensanctions.org/datasets/20221222/us_ofac_sdn/entities.ftm.json', 'https://data.opensanctions.org/datasets/20221223/us_ofac_sdn/entities.ftm.json', 'https://data.opensanctions.org/datasets/20221224/us_ofac_sdn/entities.ftm.json', 'https://data.opensanctions.org/datasets/20221225/us_ofac_sdn/entities.ftm.json', 'https://data.opensanctions.org/datasets/20221226/us_ofac_sdn/entities.ftm.json', 'https://data.opensanctions.org/datasets/20221227/us_ofac_sdn/entities.ftm.json', 'https://data.opensanctions.org/datasets/20221228/us_ofac_sdn/entities.ftm.json', 'https://data.opensanctions.org/datasets/20221229/us_ofac_sdn/entities.ftm.json', 'https://data.opensanctions.org/datasets/20221230/us_ofac_sdn/entities.ftm.json', 'https://data.opensanctions.org/datasets/20221231/us_ofac_sdn/entities.ftm.json', 'https://data.opensanctions.org/datasets/20230101/us_ofac_sdn/entities.ftm.json', 'https://data.opensanctions.org/datasets/20230102/us_ofac_sdn/entities.ftm.json', 'https://data.opensanctions.org/datasets/20230103/us_ofac_sdn/entities.ftm.json', 'https://data.opensanctions.org/datasets/20230104/us_ofac_sdn/entities.ftm.json', 'https://data.opensanctions.org/datasets/20230105/us_ofac_sdn/entities.ftm.json', 'https://data.opensanctions.org/datasets/20230106/us_ofac_sdn/entities.ftm.json', 'https://data.opensanctions.org/datasets/20230107/us_ofac_sdn/entities.ftm.json', 'https://data.opensanctions.org/datasets/20230108/us_ofac_sdn/entities.ftm.json', 'https://data.opensanctions.org/datasets/20230109/us_ofac_sdn/entities.ftm.json', 'https://data.opensanctions.org/datasets/20230110/us_ofac_sdn/entities.ftm.json', 'https://data.opensanctions.org/datasets/20230111/us_ofac_sdn/entities.ftm.json', 'https://data.opensanctions.org/datasets/20230112/us_ofac_sdn/entities.ftm.json', 'https://data.opensanctions.org/datasets/20230113/us_ofac_sdn/entities.ftm.json', 'https://data.opensanctions.org/datasets/20230114/us_ofac_sdn/entities.ftm.json', 'https://data.opensanctions.org/datasets/20230115/us_ofac_sdn/entities.ftm.json', 'https://data.opensanctions.org/datasets/20230116/us_ofac_sdn/entities.ftm.json', 'https://data.opensanctions.org/datasets/20230117/us_ofac_sdn/entities.ftm.json', 'https://data.opensanctions.org/datasets/20230118/us_ofac_sdn/entities.ftm.json', 'https://data.opensanctions.org/datasets/20230119/us_ofac_sdn/entities.ftm.json', 'https://data.opensanctions.org/datasets/20230120/us_ofac_sdn/entities.ftm.json', 'https://data.opensanctions.org/datasets/20230121/us_ofac_sdn/entities.ftm.json', 'https://data.opensanctions.org/datasets/20230122/us_ofac_sdn/entities.ftm.json', 'https://data.opensanctions.org/datasets/20230123/us_ofac_sdn/entities.ftm.json', 'https://data.opensanctions.org/datasets/20230124/us_ofac_sdn/entities.ftm.json', 'https://data.opensanctions.org/datasets/20230125/us_ofac_sdn/entities.ftm.json', 'https://data.opensanctions.org/datasets/20230126/us_ofac_sdn/entities.ftm.json', 'https://data.opensanctions.org/datasets/20230127/us_ofac_sdn/entities.ftm.json', 'https://data.opensanctions.org/datasets/20230128/us_ofac_sdn/entities.ftm.json', 'https://data.opensanctions.org/datasets/20230129/us_ofac_sdn/entities.ftm.json', 'https://data.opensanctions.org/datasets/20230130/us_ofac_sdn/entities.ftm.json', 'https://data.opensanctions.org/datasets/20230131/us_ofac_sdn/entities.ftm.json', 'https://data.opensanctions.org/datasets/20230201/us_ofac_sdn/entities.ftm.json', 'https://data.opensanctions.org/datasets/20230202/us_ofac_sdn/entities.ftm.json', 'https://data.opensanctions.org/datasets/20230203/us_ofac_sdn/entities.ftm.json', 'https://data.opensanctions.org/datasets/20230204/us_ofac_sdn/entities.ftm.json', 'https://data.opensanctions.org/datasets/20230205/us_ofac_sdn/entities.ftm.json', 'https://data.opensanctions.org/datasets/20230206/us_ofac_sdn/entities.ftm.json', 'https://data.opensanctions.org/datasets/20230207/us_ofac_sdn/entities.ftm.json', 'https://data.opensanctions.org/datasets/20230208/us_ofac_sdn/entities.ftm.json', 'https://data.opensanctions.org/datasets/20230209/us_ofac_sdn/entities.ftm.json', 'https://data.opensanctions.org/datasets/20230210/us_ofac_sdn/entities.ftm.json', 'https://data.opensanctions.org/datasets/20230211/us_ofac_sdn/entities.ftm.json', 'https://data.opensanctions.org/datasets/20230212/us_ofac_sdn/entities.ftm.json', 'https://data.opensanctions.org/datasets/20230213/us_ofac_sdn/entities.ftm.json', 'https://data.opensanctions.org/datasets/20230214/us_ofac_sdn/entities.ftm.json', 'https://data.opensanctions.org/datasets/20230215/us_ofac_sdn/entities.ftm.json', 'https://data.opensanctions.org/datasets/20230216/us_ofac_sdn/entities.ftm.json', 'https://data.opensanctions.org/datasets/20230217/us_ofac_sdn/entities.ftm.json', 'https://data.opensanctions.org/datasets/20230218/us_ofac_sdn/entities.ftm.json', 'https://data.opensanctions.org/datasets/20230219/us_ofac_sdn/entities.ftm.json', 'https://data.opensanctions.org/datasets/20230220/us_ofac_sdn/entities.ftm.json', 'https://data.opensanctions.org/datasets/20230221/us_ofac_sdn/entities.ftm.json', 'https://data.opensanctions.org/datasets/20230222/us_ofac_sdn/entities.ftm.json', 'https://data.opensanctions.org/datasets/20230223/us_ofac_sdn/entities.ftm.json', 'https://data.opensanctions.org/datasets/20230224/us_ofac_sdn/entities.ftm.json', 'https://data.opensanctions.org/datasets/20230225/us_ofac_sdn/entities.ftm.json', 'https://data.opensanctions.org/datasets/20230226/us_ofac_sdn/entities.ftm.json', 'https://data.opensanctions.org/datasets/20230227/us_ofac_sdn/entities.ftm.json', 'https://data.opensanctions.org/datasets/20230228/us_ofac_sdn/entities.ftm.json', 'https://data.opensanctions.org/datasets/20230301/us_ofac_sdn/entities.ftm.json', 'https://data.opensanctions.org/datasets/20230302/us_ofac_sdn/entities.ftm.json', 'https://data.opensanctions.org/datasets/20230303/us_ofac_sdn/entities.ftm.json', 'https://data.opensanctions.org/datasets/20230304/us_ofac_sdn/entities.ftm.json', 'https://data.opensanctions.org/datasets/20230305/us_ofac_sdn/entities.ftm.json', 'https://data.opensanctions.org/datasets/20230306/us_ofac_sdn/entities.ftm.json', 'https://data.opensanctions.org/datasets/20230307/us_ofac_sdn/entities.ftm.json', 'https://data.opensanctions.org/datasets/20230308/us_ofac_sdn/entities.ftm.json', 'https://data.opensanctions.org/datasets/20230309/us_ofac_sdn/entities.ftm.json', 'https://data.opensanctions.org/datasets/20230310/us_ofac_sdn/entities.ftm.json', 'https://data.opensanctions.org/datasets/20230311/us_ofac_sdn/entities.ftm.json', 'https://data.opensanctions.org/datasets/20230312/us_ofac_sdn/entities.ftm.json', 'https://data.opensanctions.org/datasets/20230313/us_ofac_sdn/entities.ftm.json', 'https://data.opensanctions.org/datasets/20230314/us_ofac_sdn/entities.ftm.json', 'https://data.opensanctions.org/datasets/20230315/us_ofac_sdn/entities.ftm.json', 'https://data.opensanctions.org/datasets/20230316/us_ofac_sdn/entities.ftm.json', 'https://data.opensanctions.org/datasets/20230317/us_ofac_sdn/entities.ftm.json', 'https://data.opensanctions.org/datasets/20230318/us_ofac_sdn/entities.ftm.json', 'https://data.opensanctions.org/datasets/20230319/us_ofac_sdn/entities.ftm.json', 'https://data.opensanctions.org/datasets/20230320/us_ofac_sdn/entities.ftm.json', 'https://data.opensanctions.org/datasets/20230321/us_ofac_sdn/entities.ftm.json', 'https://data.opensanctions.org/datasets/20230322/us_ofac_sdn/entities.ftm.json', 'https://data.opensanctions.org/datasets/20230323/us_ofac_sdn/entities.ftm.json', 'https://data.opensanctions.org/datasets/20230324/us_ofac_sdn/entities.ftm.json', 'https://data.opensanctions.org/datasets/20230325/us_ofac_sdn/entities.ftm.json', 'https://data.opensanctions.org/datasets/20230326/us_ofac_sdn/entities.ftm.json', 'https://data.opensanctions.org/datasets/20230327/us_ofac_sdn/entities.ftm.json', 'https://data.opensanctions.org/datasets/20230328/us_ofac_sdn/entities.ftm.json', 'https://data.opensanctions.org/datasets/20230329/us_ofac_sdn/entities.ftm.json', 'https://data.opensanctions.org/datasets/20230330/us_ofac_sdn/entities.ftm.json', 'https://data.opensanctions.org/datasets/20230331/us_ofac_sdn/entities.ftm.json', 'https://data.opensanctions.org/datasets/20230401/us_ofac_sdn/entities.ftm.json', 'https://data.opensanctions.org/datasets/20230402/us_ofac_sdn/entities.ftm.json', 'https://data.opensanctions.org/datasets/20230403/us_ofac_sdn/entities.ftm.json', 'https://data.opensanctions.org/datasets/20230404/us_ofac_sdn/entities.ftm.json', 'https://data.opensanctions.org/datasets/20230405/us_ofac_sdn/entities.ftm.json', 'https://data.opensanctions.org/datasets/20230406/us_ofac_sdn/entities.ftm.json', 'https://data.opensanctions.org/datasets/20230407/us_ofac_sdn/entities.ftm.json', 'https://data.opensanctions.org/datasets/20230408/us_ofac_sdn/entities.ftm.json', 'https://data.opensanctions.org/datasets/20230409/us_ofac_sdn/entities.ftm.json', 'https://data.opensanctions.org/datasets/20230410/us_ofac_sdn/entities.ftm.json', 'https://data.opensanctions.org/datasets/20230411/us_ofac_sdn/entities.ftm.json', 'https://data.opensanctions.org/datasets/20230412/us_ofac_sdn/entities.ftm.json', 'https://data.opensanctions.org/datasets/20230413/us_ofac_sdn/entities.ftm.json', 'https://data.opensanctions.org/datasets/20230414/us_ofac_sdn/entities.ftm.json', 'https://data.opensanctions.org/datasets/20230415/us_ofac_sdn/entities.ftm.json', 'https://data.opensanctions.org/datasets/20230416/us_ofac_sdn/entities.ftm.json', 'https://data.opensanctions.org/datasets/20230417/us_ofac_sdn/entities.ftm.json', 'https://data.opensanctions.org/datasets/20230418/us_ofac_sdn/entities.ftm.json', 'https://data.opensanctions.org/datasets/20230419/us_ofac_sdn/entities.ftm.json', 'https://data.opensanctions.org/datasets/20230420/us_ofac_sdn/entities.ftm.json', 'https://data.opensanctions.org/datasets/20230421/us_ofac_sdn/entities.ftm.json', 'https://data.opensanctions.org/datasets/20230422/us_ofac_sdn/entities.ftm.json', 'https://data.opensanctions.org/datasets/20230423/us_ofac_sdn/entities.ftm.json', 'https://data.opensanctions.org/datasets/20230424/us_ofac_sdn/entities.ftm.json', 'https://data.opensanctions.org/datasets/20230425/us_ofac_sdn/entities.ftm.json', 'https://data.opensanctions.org/datasets/20230426/us_ofac_sdn/entities.ftm.json', 'https://data.opensanctions.org/datasets/20230427/us_ofac_sdn/entities.ftm.json', 'https://data.opensanctions.org/datasets/20230428/us_ofac_sdn/entities.ftm.json', 'https://data.opensanctions.org/datasets/20230429/us_ofac_sdn/entities.ftm.json', 'https://data.opensanctions.org/datasets/20230430/us_ofac_sdn/entities.ftm.json', 'https://data.opensanctions.org/datasets/20230501/us_ofac_sdn/entities.ftm.json', 'https://data.opensanctions.org/datasets/20230502/us_ofac_sdn/entities.ftm.json', 'https://data.opensanctions.org/datasets/20230503/us_ofac_sdn/entities.ftm.json', 'https://data.opensanctions.org/datasets/20230504/us_ofac_sdn/entities.ftm.json', 'https://data.opensanctions.org/datasets/20230505/us_ofac_sdn/entities.ftm.json', 'https://data.opensanctions.org/datasets/20230506/us_ofac_sdn/entities.ftm.json', 'https://data.opensanctions.org/datasets/20230507/us_ofac_sdn/entities.ftm.json', 'https://data.opensanctions.org/datasets/20230508/us_ofac_sdn/entities.ftm.json', 'https://data.opensanctions.org/datasets/20230509/us_ofac_sdn/entities.ftm.json', 'https://data.opensanctions.org/datasets/20230510/us_ofac_sdn/entities.ftm.json', 'https://data.opensanctions.org/datasets/20230511/us_ofac_sdn/entities.ftm.json', 'https://data.opensanctions.org/datasets/20230512/us_ofac_sdn/entities.ftm.json', 'https://data.opensanctions.org/datasets/20230513/us_ofac_sdn/entities.ftm.json', 'https://data.opensanctions.org/datasets/20230514/us_ofac_sdn/entities.ftm.json', 'https://data.opensanctions.org/datasets/20230515/us_ofac_sdn/entities.ftm.json', 'https://data.opensanctions.org/datasets/20230516/us_ofac_sdn/entities.ftm.json', 'https://data.opensanctions.org/datasets/20230517/us_ofac_sdn/entities.ftm.json', 'https://data.opensanctions.org/datasets/20230518/us_ofac_sdn/entities.ftm.json', 'https://data.opensanctions.org/datasets/20230519/us_ofac_sdn/entities.ftm.json', 'https://data.opensanctions.org/datasets/20230520/us_ofac_sdn/entities.ftm.json', 'https://data.opensanctions.org/datasets/20230521/us_ofac_sdn/entities.ftm.json', 'https://data.opensanctions.org/datasets/20230522/us_ofac_sdn/entities.ftm.json', 'https://data.opensanctions.org/datasets/20230523/us_ofac_sdn/entities.ftm.json', 'https://data.opensanctions.org/datasets/20230524/us_ofac_sdn/entities.ftm.json', 'https://data.opensanctions.org/datasets/20230525/us_ofac_sdn/entities.ftm.json', 'https://data.opensanctions.org/datasets/20230526/us_ofac_sdn/entities.ftm.json', 'https://data.opensanctions.org/datasets/20230527/us_ofac_sdn/entities.ftm.json', 'https://data.opensanctions.org/datasets/20230528/us_ofac_sdn/entities.ftm.json', 'https://data.opensanctions.org/datasets/20230529/us_ofac_sdn/entities.ftm.json', 'https://data.opensanctions.org/datasets/20230530/us_ofac_sdn/entities.ftm.json', 'https://data.opensanctions.org/datasets/20230531/us_ofac_sdn/entities.ftm.json', 'https://data.opensanctions.org/datasets/20230601/us_ofac_sdn/entities.ftm.json', 'https://data.opensanctions.org/datasets/20230602/us_ofac_sdn/entities.ftm.json', 'https://data.opensanctions.org/datasets/20230603/us_ofac_sdn/entities.ftm.json', 'https://data.opensanctions.org/datasets/20230604/us_ofac_sdn/entities.ftm.json', 'https://data.opensanctions.org/datasets/20230605/us_ofac_sdn/entities.ftm.json', 'https://data.opensanctions.org/datasets/20230606/us_ofac_sdn/entities.ftm.json', 'https://data.opensanctions.org/datasets/20230607/us_ofac_sdn/entities.ftm.json', 'https://data.opensanctions.org/datasets/20230608/us_ofac_sdn/entities.ftm.json', 'https://data.opensanctions.org/datasets/20230609/us_ofac_sdn/entities.ftm.json', 'https://data.opensanctions.org/datasets/20230610/us_ofac_sdn/entities.ftm.json', 'https://data.opensanctions.org/datasets/20230611/us_ofac_sdn/entities.ftm.json', 'https://data.opensanctions.org/datasets/20230612/us_ofac_sdn/entities.ftm.json', 'https://data.opensanctions.org/datasets/20230613/us_ofac_sdn/entities.ftm.json', 'https://data.opensanctions.org/datasets/20230614/us_ofac_sdn/entities.ftm.json', 'https://data.opensanctions.org/datasets/20230615/us_ofac_sdn/entities.ftm.json', 'https://data.opensanctions.org/datasets/20230616/us_ofac_sdn/entities.ftm.json', 'https://data.opensanctions.org/datasets/20230617/us_ofac_sdn/entities.ftm.json', 'https://data.opensanctions.org/datasets/20230618/us_ofac_sdn/entities.ftm.json', 'https://data.opensanctions.org/datasets/20230619/us_ofac_sdn/entities.ftm.json', 'https://data.opensanctions.org/datasets/20230620/us_ofac_sdn/entities.ftm.json', 'https://data.opensanctions.org/datasets/20230621/us_ofac_sdn/entities.ftm.json', 'https://data.opensanctions.org/datasets/20230622/us_ofac_sdn/entities.ftm.json', 'https://data.opensanctions.org/datasets/20230623/us_ofac_sdn/entities.ftm.json', 'https://data.opensanctions.org/datasets/20230624/us_ofac_sdn/entities.ftm.json', 'https://data.opensanctions.org/datasets/20230625/us_ofac_sdn/entities.ftm.json', 'https://data.opensanctions.org/datasets/20230626/us_ofac_sdn/entities.ftm.json', 'https://data.opensanctions.org/datasets/20230627/us_ofac_sdn/entities.ftm.json', 'https://data.opensanctions.org/datasets/20230628/us_ofac_sdn/entities.ftm.json', 'https://data.opensanctions.org/datasets/20230629/us_ofac_sdn/entities.ftm.json', 'https://data.opensanctions.org/datasets/20230630/us_ofac_sdn/entities.ftm.json', 'https://data.opensanctions.org/datasets/20230701/us_ofac_sdn/entities.ftm.json', 'https://data.opensanctions.org/datasets/20230702/us_ofac_sdn/entities.ftm.json', 'https://data.opensanctions.org/datasets/20230703/us_ofac_sdn/entities.ftm.json', 'https://data.opensanctions.org/datasets/20230704/us_ofac_sdn/entities.ftm.json', 'https://data.opensanctions.org/datasets/20230705/us_ofac_sdn/entities.ftm.json', 'https://data.opensanctions.org/datasets/20230706/us_ofac_sdn/entities.ftm.json', 'https://data.opensanctions.org/datasets/20230707/us_ofac_sdn/entities.ftm.json', 'https://data.opensanctions.org/datasets/20230708/us_ofac_sdn/entities.ftm.json', 'https://data.opensanctions.org/datasets/20230709/us_ofac_sdn/entities.ftm.json', 'https://data.opensanctions.org/datasets/20230710/us_ofac_sdn/entities.ftm.json', 'https://data.opensanctions.org/datasets/20230711/us_ofac_sdn/entities.ftm.json', 'https://data.opensanctions.org/datasets/20230712/us_ofac_sdn/entities.ftm.json', 'https://data.opensanctions.org/datasets/20230713/us_ofac_sdn/entities.ftm.json', 'https://data.opensanctions.org/datasets/20230714/us_ofac_sdn/entities.ftm.json', 'https://data.opensanctions.org/datasets/20230715/us_ofac_sdn/entities.ftm.json', 'https://data.opensanctions.org/datasets/20230716/us_ofac_sdn/entities.ftm.json', 'https://data.opensanctions.org/datasets/20230717/us_ofac_sdn/entities.ftm.json', 'https://data.opensanctions.org/datasets/20230718/us_ofac_sdn/entities.ftm.json', 'https://data.opensanctions.org/datasets/20230719/us_ofac_sdn/entities.ftm.json', 'https://data.opensanctions.org/datasets/20230720/us_ofac_sdn/entities.ftm.json', 'https://data.opensanctions.org/datasets/20230721/us_ofac_sdn/entities.ftm.json', 'https://data.opensanctions.org/datasets/20230722/us_ofac_sdn/entities.ftm.json', 'https://data.opensanctions.org/datasets/20230723/us_ofac_sdn/entities.ftm.json', 'https://data.opensanctions.org/datasets/20230724/us_ofac_sdn/entities.ftm.json', 'https://data.opensanctions.org/datasets/20230725/us_ofac_sdn/entities.ftm.json', 'https://data.opensanctions.org/datasets/20230726/us_ofac_sdn/entities.ftm.json', 'https://data.opensanctions.org/datasets/20230727/us_ofac_sdn/entities.ftm.json', 'https://data.opensanctions.org/datasets/20230728/us_ofac_sdn/entities.ftm.json', 'https://data.opensanctions.org/datasets/20230729/us_ofac_sdn/entities.ftm.json', 'https://data.opensanctions.org/datasets/20230730/us_ofac_sdn/entities.ftm.json', 'https://data.opensanctions.org/datasets/20230731/us_ofac_sdn/entities.ftm.json', 'https://data.opensanctions.org/datasets/20230801/us_ofac_sdn/entities.ftm.json', 'https://data.opensanctions.org/datasets/20230802/us_ofac_sdn/entities.ftm.json', 'https://data.opensanctions.org/datasets/20230803/us_ofac_sdn/entities.ftm.json', 'https://data.opensanctions.org/datasets/20230804/us_ofac_sdn/entities.ftm.json', 'https://data.opensanctions.org/datasets/20230805/us_ofac_sdn/entities.ftm.json', 'https://data.opensanctions.org/datasets/20230806/us_ofac_sdn/entities.ftm.json', 'https://data.opensanctions.org/datasets/20230807/us_ofac_sdn/entities.ftm.json', 'https://data.opensanctions.org/datasets/20230808/us_ofac_sdn/entities.ftm.json', 'https://data.opensanctions.org/datasets/20230809/us_ofac_sdn/entities.ftm.json', 'https://data.opensanctions.org/datasets/20230810/us_ofac_sdn/entities.ftm.json', 'https://data.opensanctions.org/datasets/20230811/us_ofac_sdn/entities.ftm.json', 'https://data.opensanctions.org/datasets/20230812/us_ofac_sdn/entities.ftm.json', 'https://data.opensanctions.org/datasets/20230813/us_ofac_sdn/entities.ftm.json', 'https://data.opensanctions.org/datasets/20230814/us_ofac_sdn/entities.ftm.json', 'https://data.opensanctions.org/datasets/20230815/us_ofac_sdn/entities.ftm.json', 'https://data.opensanctions.org/datasets/20230816/us_ofac_sdn/entities.ftm.json', 'https://data.opensanctions.org/datasets/20230817/us_ofac_sdn/entities.ftm.json', 'https://data.opensanctions.org/datasets/20230818/us_ofac_sdn/entities.ftm.json', 'https://data.opensanctions.org/datasets/20230819/us_ofac_sdn/entities.ftm.json', 'https://data.opensanctions.org/datasets/20230820/us_ofac_sdn/entities.ftm.json', 'https://data.opensanctions.org/datasets/20230821/us_ofac_sdn/entities.ftm.json', 'https://data.opensanctions.org/datasets/20230822/us_ofac_sdn/entities.ftm.json', 'https://data.opensanctions.org/datasets/20230823/us_ofac_sdn/entities.ftm.json', 'https://data.opensanctions.org/datasets/20230824/us_ofac_sdn/entities.ftm.json', 'https://data.opensanctions.org/datasets/20230825/us_ofac_sdn/entities.ftm.json', 'https://data.opensanctions.org/datasets/20230826/us_ofac_sdn/entities.ftm.json', 'https://data.opensanctions.org/datasets/20230827/us_ofac_sdn/entities.ftm.json', 'https://data.opensanctions.org/datasets/20230828/us_ofac_sdn/entities.ftm.json', 'https://data.opensanctions.org/datasets/20230829/us_ofac_sdn/entities.ftm.json', 'https://data.opensanctions.org/datasets/20230830/us_ofac_sdn/entities.ftm.json', 'https://data.opensanctions.org/datasets/20230831/us_ofac_sdn/entities.ftm.json', 'https://data.opensanctions.org/datasets/20230901/us_ofac_sdn/entities.ftm.json', 'https://data.opensanctions.org/datasets/20230902/us_ofac_sdn/entities.ftm.json', 'https://data.opensanctions.org/datasets/20230903/us_ofac_sdn/entities.ftm.json', 'https://data.opensanctions.org/datasets/20230904/us_ofac_sdn/entities.ftm.json', 'https://data.opensanctions.org/datasets/20230905/us_ofac_sdn/entities.ftm.json', 'https://data.opensanctions.org/datasets/20230906/us_ofac_sdn/entities.ftm.json', 'https://data.opensanctions.org/datasets/20230907/us_ofac_sdn/entities.ftm.json', 'https://data.opensanctions.org/datasets/20230908/us_ofac_sdn/entities.ftm.json', 'https://data.opensanctions.org/datasets/20230909/us_ofac_sdn/entities.ftm.json', 'https://data.opensanctions.org/datasets/20230910/us_ofac_sdn/entities.ftm.json', 'https://data.opensanctions.org/datasets/20230911/us_ofac_sdn/entities.ftm.json', 'https://data.opensanctions.org/datasets/20230912/us_ofac_sdn/entities.ftm.json', 'https://data.opensanctions.org/datasets/20230913/us_ofac_sdn/entities.ftm.json', 'https://data.opensanctions.org/datasets/20230914/us_ofac_sdn/entities.ftm.json', 'https://data.opensanctions.org/datasets/20230915/us_ofac_sdn/entities.ftm.json', 'https://data.opensanctions.org/datasets/20230916/us_ofac_sdn/entities.ftm.json', 'https://data.opensanctions.org/datasets/20230917/us_ofac_sdn/entities.ftm.json', 'https://data.opensanctions.org/datasets/20230918/us_ofac_sdn/entities.ftm.json', 'https://data.opensanctions.org/datasets/20230919/us_ofac_sdn/entities.ftm.json', 'https://data.opensanctions.org/datasets/20230920/us_ofac_sdn/entities.ftm.json', 'https://data.opensanctions.org/datasets/20230921/us_ofac_sdn/entities.ftm.json', 'https://data.opensanctions.org/datasets/20230922/us_ofac_sdn/entities.ftm.json', 'https://data.opensanctions.org/datasets/20230923/us_ofac_sdn/entities.ftm.json', 'https://data.opensanctions.org/datasets/20230924/us_ofac_sdn/entities.ftm.json', 'https://data.opensanctions.org/datasets/20230925/us_ofac_sdn/entities.ftm.json', 'https://data.opensanctions.org/datasets/20230926/us_ofac_sdn/entities.ftm.json', 'https://data.opensanctions.org/datasets/20230927/us_ofac_sdn/entities.ftm.json', 'https://data.opensanctions.org/datasets/20230928/us_ofac_sdn/entities.ftm.json', 'https://data.opensanctions.org/datasets/20230929/us_ofac_sdn/entities.ftm.json', 'https://data.opensanctions.org/datasets/20230930/us_ofac_sdn/entities.ftm.json', 'https://data.opensanctions.org/datasets/20231001/us_ofac_sdn/entities.ftm.json', 'https://data.opensanctions.org/datasets/20231002/us_ofac_sdn/entities.ftm.json', 'https://data.opensanctions.org/datasets/20231003/us_ofac_sdn/entities.ftm.json', 'https://data.opensanctions.org/datasets/20231004/us_ofac_sdn/entities.ftm.json', 'https://data.opensanctions.org/datasets/20231005/us_ofac_sdn/entities.ftm.json', 'https://data.opensanctions.org/datasets/20231006/us_ofac_sdn/entities.ftm.json', 'https://data.opensanctions.org/datasets/20231007/us_ofac_sdn/entities.ftm.json', 'https://data.opensanctions.org/datasets/20231008/us_ofac_sdn/entities.ftm.json', 'https://data.opensanctions.org/datasets/20231009/us_ofac_sdn/entities.ftm.json', 'https://data.opensanctions.org/datasets/20231010/us_ofac_sdn/entities.ftm.json', 'https://data.opensanctions.org/datasets/20231011/us_ofac_sdn/entities.ftm.json', 'https://data.opensanctions.org/datasets/20231012/us_ofac_sdn/entities.ftm.json', 'https://data.opensanctions.org/datasets/20231013/us_ofac_sdn/entities.ftm.json', 'https://data.opensanctions.org/datasets/20231014/us_ofac_sdn/entities.ftm.json', 'https://data.opensanctions.org/datasets/20231015/us_ofac_sdn/entities.ftm.json', 'https://data.opensanctions.org/datasets/20231016/us_ofac_sdn/entities.ftm.json', 'https://data.opensanctions.org/datasets/20231017/us_ofac_sdn/entities.ftm.json', 'https://data.opensanctions.org/datasets/20231018/us_ofac_sdn/entities.ftm.json', 'https://data.opensanctions.org/datasets/20231019/us_ofac_sdn/entities.ftm.json', 'https://data.opensanctions.org/datasets/20231020/us_ofac_sdn/entities.ftm.json', 'https://data.opensanctions.org/datasets/20231021/us_ofac_sdn/entities.ftm.json', 'https://data.opensanctions.org/datasets/20231022/us_ofac_sdn/entities.ftm.json', 'https://data.opensanctions.org/datasets/20231023/us_ofac_sdn/entities.ftm.json', 'https://data.opensanctions.org/datasets/20231024/us_ofac_sdn/entities.ftm.json', 'https://data.opensanctions.org/datasets/20231025/us_ofac_sdn/entities.ftm.json', 'https://data.opensanctions.org/datasets/20231026/us_ofac_sdn/entities.ftm.json', 'https://data.opensanctions.org/datasets/20231027/us_ofac_sdn/entities.ftm.json', 'https://data.opensanctions.org/datasets/20231028/us_ofac_sdn/entities.ftm.json', 'https://data.opensanctions.org/datasets/20231029/us_ofac_sdn/entities.ftm.json', 'https://data.opensanctions.org/datasets/20231030/us_ofac_sdn/entities.ftm.json', 'https://data.opensanctions.org/datasets/20231031/us_ofac_sdn/entities.ftm.json', 'https://data.opensanctions.org/datasets/20231101/us_ofac_sdn/entities.ftm.json', 'https://data.opensanctions.org/datasets/20231102/us_ofac_sdn/entities.ftm.json', 'https://data.opensanctions.org/datasets/20231103/us_ofac_sdn/entities.ftm.json', 'https://data.opensanctions.org/datasets/20231104/us_ofac_sdn/entities.ftm.json', 'https://data.opensanctions.org/datasets/20231105/us_ofac_sdn/entities.ftm.json', 'https://data.opensanctions.org/datasets/20231106/us_ofac_sdn/entities.ftm.json', 'https://data.opensanctions.org/datasets/20231107/us_ofac_sdn/entities.ftm.json', 'https://data.opensanctions.org/datasets/20231108/us_ofac_sdn/entities.ftm.json', 'https://data.opensanctions.org/datasets/20231109/us_ofac_sdn/entities.ftm.json', 'https://data.opensanctions.org/datasets/20231110/us_ofac_sdn/entities.ftm.json', 'https://data.opensanctions.org/datasets/20231111/us_ofac_sdn/entities.ftm.json', 'https://data.opensanctions.org/datasets/20231112/us_ofac_sdn/entities.ftm.json', 'https://data.opensanctions.org/datasets/20231113/us_ofac_sdn/entities.ftm.json', 'https://data.opensanctions.org/datasets/20231114/us_ofac_sdn/entities.ftm.json', 'https://data.opensanctions.org/datasets/20231115/us_ofac_sdn/entities.ftm.json', 'https://data.opensanctions.org/datasets/20231116/us_ofac_sdn/entities.ftm.json', 'https://data.opensanctions.org/datasets/20231117/us_ofac_sdn/entities.ftm.json', 'https://data.opensanctions.org/datasets/20231118/us_ofac_sdn/entities.ftm.json', 'https://data.opensanctions.org/datasets/20231119/us_ofac_sdn/entities.ftm.json', 'https://data.opensanctions.org/datasets/20231120/us_ofac_sdn/entities.ftm.json', 'https://data.opensanctions.org/datasets/20231121/us_ofac_sdn/entities.ftm.json', 'https://data.opensanctions.org/datasets/20231122/us_ofac_sdn/entities.ftm.json', 'https://data.opensanctions.org/datasets/20231123/us_ofac_sdn/entities.ftm.json', 'https://data.opensanctions.org/datasets/20231124/us_ofac_sdn/entities.ftm.json', 'https://data.opensanctions.org/datasets/20231125/us_ofac_sdn/entities.ftm.json', 'https://data.opensanctions.org/datasets/20231126/us_ofac_sdn/entities.ftm.json', 'https://data.opensanctions.org/datasets/20231127/us_ofac_sdn/entities.ftm.json', 'https://data.opensanctions.org/datasets/20231128/us_ofac_sdn/entities.ftm.json', 'https://data.opensanctions.org/datasets/20231129/us_ofac_sdn/entities.ftm.json', 'https://data.opensanctions.org/datasets/20231130/us_ofac_sdn/entities.ftm.json', 'https://data.opensanctions.org/datasets/20231201/us_ofac_sdn/entities.ftm.json', 'https://data.opensanctions.org/datasets/20231202/us_ofac_sdn/entities.ftm.json', 'https://data.opensanctions.org/datasets/20231203/us_ofac_sdn/entities.ftm.json', 'https://data.opensanctions.org/datasets/20231204/us_ofac_sdn/entities.ftm.json', 'https://data.opensanctions.org/datasets/20231205/us_ofac_sdn/entities.ftm.json', 'https://data.opensanctions.org/datasets/20231206/us_ofac_sdn/entities.ftm.json', 'https://data.opensanctions.org/datasets/20231207/us_ofac_sdn/entities.ftm.json', 'https://data.opensanctions.org/datasets/20231208/us_ofac_sdn/entities.ftm.json', 'https://data.opensanctions.org/datasets/20231209/us_ofac_sdn/entities.ftm.json', 'https://data.opensanctions.org/datasets/20231210/us_ofac_sdn/entities.ftm.json', 'https://data.opensanctions.org/datasets/20231211/us_ofac_sdn/entities.ftm.json', 'https://data.opensanctions.org/datasets/20231212/us_ofac_sdn/entities.ftm.json', 'https://data.opensanctions.org/datasets/20231213/us_ofac_sdn/entities.ftm.json', 'https://data.opensanctions.org/datasets/20231214/us_ofac_sdn/entities.ftm.json', 'https://data.opensanctions.org/datasets/20231215/us_ofac_sdn/entities.ftm.json', 'https://data.opensanctions.org/datasets/20231216/us_ofac_sdn/entities.ftm.json', 'https://data.opensanctions.org/datasets/20231217/us_ofac_sdn/entities.ftm.json', 'https://data.opensanctions.org/datasets/20231218/us_ofac_sdn/entities.ftm.json', 'https://data.opensanctions.org/datasets/20231219/us_ofac_sdn/entities.ftm.json', 'https://data.opensanctions.org/datasets/20231220/us_ofac_sdn/entities.ftm.json', 'https://data.opensanctions.org/datasets/20231221/us_ofac_sdn/entities.ftm.json', 'https://data.opensanctions.org/datasets/20231222/us_ofac_sdn/entities.ftm.json', 'https://data.opensanctions.org/datasets/20231223/us_ofac_sdn/entities.ftm.json', 'https://data.opensanctions.org/datasets/20231224/us_ofac_sdn/entities.ftm.json', 'https://data.opensanctions.org/datasets/20231225/us_ofac_sdn/entities.ftm.json', 'https://data.opensanctions.org/datasets/20231226/us_ofac_sdn/entities.ftm.json', 'https://data.opensanctions.org/datasets/20231227/us_ofac_sdn/entities.ftm.json', 'https://data.opensanctions.org/datasets/20231228/us_ofac_sdn/entities.ftm.json', 'https://data.opensanctions.org/datasets/20231229/us_ofac_sdn/entities.ftm.json', 'https://data.opensanctions.org/datasets/20231230/us_ofac_sdn/entities.ftm.json', 'https://data.opensanctions.org/datasets/20231231/us_ofac_sdn/entities.ftm.json']\n"
     ]
    }
   ],
   "source": [
    "#get all the urls for all the dates we need the data for\n",
    "#make each day an individuallist so we can compare and match them\n",
    "websites = []\n",
    "\n",
    "for i in date_list:\n",
    "    test = 'https://data.opensanctions.org/datasets/'+(i)+'/us_ofac_sdn/entities.ftm.json'\n",
    "    websites.append(test)\n",
    "print(websites)"
   ]
  },
  {
   "cell_type": "code",
   "execution_count": 44,
   "id": "782311ab-65c9-4b04-a4ef-07481b86dee6",
   "metadata": {
    "tags": []
   },
   "outputs": [
    {
     "ename": "JSONDecodeError",
     "evalue": "Extra data: line 2 column 1 (char 555)",
     "output_type": "error",
     "traceback": [
      "\u001b[1;31m---------------------------------------------------------------------------\u001b[0m",
      "\u001b[1;31mJSONDecodeError\u001b[0m                           Traceback (most recent call last)",
      "File \u001b[1;32mC:\\ProgramData\\anaconda3\\Lib\\site-packages\\requests\\models.py:971\u001b[0m, in \u001b[0;36mResponse.json\u001b[1;34m(self, **kwargs)\u001b[0m\n\u001b[0;32m    970\u001b[0m \u001b[38;5;28;01mtry\u001b[39;00m:\n\u001b[1;32m--> 971\u001b[0m     \u001b[38;5;28;01mreturn\u001b[39;00m complexjson\u001b[38;5;241m.\u001b[39mloads(\u001b[38;5;28mself\u001b[39m\u001b[38;5;241m.\u001b[39mtext, \u001b[38;5;241m*\u001b[39m\u001b[38;5;241m*\u001b[39mkwargs)\n\u001b[0;32m    972\u001b[0m \u001b[38;5;28;01mexcept\u001b[39;00m JSONDecodeError \u001b[38;5;28;01mas\u001b[39;00m e:\n\u001b[0;32m    973\u001b[0m     \u001b[38;5;66;03m# Catch JSON-related errors and raise as requests.JSONDecodeError\u001b[39;00m\n\u001b[0;32m    974\u001b[0m     \u001b[38;5;66;03m# This aliases json.JSONDecodeError and simplejson.JSONDecodeError\u001b[39;00m\n",
      "File \u001b[1;32mC:\\ProgramData\\anaconda3\\Lib\\json\\__init__.py:346\u001b[0m, in \u001b[0;36mloads\u001b[1;34m(s, cls, object_hook, parse_float, parse_int, parse_constant, object_pairs_hook, **kw)\u001b[0m\n\u001b[0;32m    343\u001b[0m \u001b[38;5;28;01mif\u001b[39;00m (\u001b[38;5;28mcls\u001b[39m \u001b[38;5;129;01mis\u001b[39;00m \u001b[38;5;28;01mNone\u001b[39;00m \u001b[38;5;129;01mand\u001b[39;00m object_hook \u001b[38;5;129;01mis\u001b[39;00m \u001b[38;5;28;01mNone\u001b[39;00m \u001b[38;5;129;01mand\u001b[39;00m\n\u001b[0;32m    344\u001b[0m         parse_int \u001b[38;5;129;01mis\u001b[39;00m \u001b[38;5;28;01mNone\u001b[39;00m \u001b[38;5;129;01mand\u001b[39;00m parse_float \u001b[38;5;129;01mis\u001b[39;00m \u001b[38;5;28;01mNone\u001b[39;00m \u001b[38;5;129;01mand\u001b[39;00m\n\u001b[0;32m    345\u001b[0m         parse_constant \u001b[38;5;129;01mis\u001b[39;00m \u001b[38;5;28;01mNone\u001b[39;00m \u001b[38;5;129;01mand\u001b[39;00m object_pairs_hook \u001b[38;5;129;01mis\u001b[39;00m \u001b[38;5;28;01mNone\u001b[39;00m \u001b[38;5;129;01mand\u001b[39;00m \u001b[38;5;129;01mnot\u001b[39;00m kw):\n\u001b[1;32m--> 346\u001b[0m     \u001b[38;5;28;01mreturn\u001b[39;00m _default_decoder\u001b[38;5;241m.\u001b[39mdecode(s)\n\u001b[0;32m    347\u001b[0m \u001b[38;5;28;01mif\u001b[39;00m \u001b[38;5;28mcls\u001b[39m \u001b[38;5;129;01mis\u001b[39;00m \u001b[38;5;28;01mNone\u001b[39;00m:\n",
      "File \u001b[1;32mC:\\ProgramData\\anaconda3\\Lib\\json\\decoder.py:340\u001b[0m, in \u001b[0;36mJSONDecoder.decode\u001b[1;34m(self, s, _w)\u001b[0m\n\u001b[0;32m    339\u001b[0m \u001b[38;5;28;01mif\u001b[39;00m end \u001b[38;5;241m!=\u001b[39m \u001b[38;5;28mlen\u001b[39m(s):\n\u001b[1;32m--> 340\u001b[0m     \u001b[38;5;28;01mraise\u001b[39;00m JSONDecodeError(\u001b[38;5;124m\"\u001b[39m\u001b[38;5;124mExtra data\u001b[39m\u001b[38;5;124m\"\u001b[39m, s, end)\n\u001b[0;32m    341\u001b[0m \u001b[38;5;28;01mreturn\u001b[39;00m obj\n",
      "\u001b[1;31mJSONDecodeError\u001b[0m: Extra data: line 2 column 1 (char 555)",
      "\nDuring handling of the above exception, another exception occurred:\n",
      "\u001b[1;31mJSONDecodeError\u001b[0m                           Traceback (most recent call last)",
      "Cell \u001b[1;32mIn[44], line 4\u001b[0m\n\u001b[0;32m      2\u001b[0m json_data \u001b[38;5;241m=\u001b[39m []\n\u001b[0;32m      3\u001b[0m \u001b[38;5;28;01mfor\u001b[39;00m site \u001b[38;5;129;01min\u001b[39;00m websites:\n\u001b[1;32m----> 4\u001b[0m     r\u001b[38;5;241m=\u001b[39m requests\u001b[38;5;241m.\u001b[39mget(site)\u001b[38;5;241m.\u001b[39mjson()\n\u001b[0;32m      5\u001b[0m     \u001b[38;5;66;03m#json_data = r.read().decode('utf-8')\u001b[39;00m\n\u001b[0;32m      6\u001b[0m     contents_list\u001b[38;5;241m.\u001b[39mappend(r)\n",
      "File \u001b[1;32mC:\\ProgramData\\anaconda3\\Lib\\site-packages\\requests\\models.py:975\u001b[0m, in \u001b[0;36mResponse.json\u001b[1;34m(self, **kwargs)\u001b[0m\n\u001b[0;32m    971\u001b[0m     \u001b[38;5;28;01mreturn\u001b[39;00m complexjson\u001b[38;5;241m.\u001b[39mloads(\u001b[38;5;28mself\u001b[39m\u001b[38;5;241m.\u001b[39mtext, \u001b[38;5;241m*\u001b[39m\u001b[38;5;241m*\u001b[39mkwargs)\n\u001b[0;32m    972\u001b[0m \u001b[38;5;28;01mexcept\u001b[39;00m JSONDecodeError \u001b[38;5;28;01mas\u001b[39;00m e:\n\u001b[0;32m    973\u001b[0m     \u001b[38;5;66;03m# Catch JSON-related errors and raise as requests.JSONDecodeError\u001b[39;00m\n\u001b[0;32m    974\u001b[0m     \u001b[38;5;66;03m# This aliases json.JSONDecodeError and simplejson.JSONDecodeError\u001b[39;00m\n\u001b[1;32m--> 975\u001b[0m     \u001b[38;5;28;01mraise\u001b[39;00m RequestsJSONDecodeError(e\u001b[38;5;241m.\u001b[39mmsg, e\u001b[38;5;241m.\u001b[39mdoc, e\u001b[38;5;241m.\u001b[39mpos)\n",
      "\u001b[1;31mJSONDecodeError\u001b[0m: Extra data: line 2 column 1 (char 555)"
     ]
    }
   ],
   "source": [
    "contents_list=[]\n",
    "json_data = []\n",
    "for site in websites:\n",
    "    r= requests.get(site).json()\n",
    "    #json_data = r.read().decode('utf-8')\n",
    "    contents_list.append(r)\n",
    "\n",
    "display(contents_list)"
   ]
  },
  {
   "cell_type": "code",
   "execution_count": null,
   "id": "320ddff4-44ca-401b-9fb4-80736ac16d07",
   "metadata": {
    "tags": []
   },
   "outputs": [],
   "source": [
    "#merge and parse into one df\n",
    "#from json import json_normalize\n",
    "#df = pd.json_normalize(contents_list)\n",
    "#df\n",
    "data_ofac = pd.DataFrame.from_dict(contents_list,orient='columns')\n",
    "data_ofac"
   ]
  },
  {
   "cell_type": "code",
   "execution_count": null,
   "id": "f31bc1a6-bfc9-48c6-80c7-034e44edb232",
   "metadata": {},
   "outputs": [],
   "source": [
    "#filter and clean up"
   ]
  },
  {
   "cell_type": "code",
   "execution_count": null,
   "id": "396577f7-f138-424b-844c-ba1a92a25f83",
   "metadata": {},
   "outputs": [],
   "source": []
  },
  {
   "cell_type": "markdown",
   "id": "e294d1d7-dc2a-492c-b150-1d08298a9f79",
   "metadata": {},
   "source": [
    "repeat with EU and other lists"
   ]
  },
  {
   "cell_type": "markdown",
   "id": "00ca7274-a3dc-4c33-a877-b6d4cb6283db",
   "metadata": {},
   "source": [
    "**OFAC Consolidated list**"
   ]
  },
  {
   "cell_type": "code",
   "execution_count": null,
   "id": "824ca644-c8cb-4ca9-8d30-fca3985c73bf",
   "metadata": {
    "tags": []
   },
   "outputs": [],
   "source": [
    "websites = []\n",
    "\n",
    "for i in date_list:\n",
    "    test = 'https://data.opensanctions.org/datasets/'+(i)+'/us_ofac_cons/entities.ftm.json'\n",
    "    websites.append(test)\n",
    "print(websites)"
   ]
  },
  {
   "cell_type": "code",
   "execution_count": 35,
   "id": "8629734f-18ee-4a0e-9dbb-8ccd7ab35039",
   "metadata": {
    "tags": []
   },
   "outputs": [
    {
     "ename": "AttributeError",
     "evalue": "'set' object has no attribute 'timeout'",
     "output_type": "error",
     "traceback": [
      "\u001b[1;31m---------------------------------------------------------------------------\u001b[0m",
      "\u001b[1;31mAttributeError\u001b[0m                            Traceback (most recent call last)",
      "Cell \u001b[1;32mIn[35], line 6\u001b[0m\n\u001b[0;32m      4\u001b[0m \u001b[38;5;28;01mfor\u001b[39;00m site \u001b[38;5;129;01min\u001b[39;00m websites:\n\u001b[0;32m      5\u001b[0m     websites \u001b[38;5;241m=\u001b[39m site\n\u001b[1;32m----> 6\u001b[0m     r \u001b[38;5;241m=\u001b[39m urlopen(websites)\n\u001b[0;32m      7\u001b[0m     json_data \u001b[38;5;241m=\u001b[39m r\u001b[38;5;241m.\u001b[39mread()\u001b[38;5;241m.\u001b[39mdecode(\u001b[38;5;124m'\u001b[39m\u001b[38;5;124mutf-8\u001b[39m\u001b[38;5;124m'\u001b[39m, \u001b[38;5;124m'\u001b[39m\u001b[38;5;124mreplace\u001b[39m\u001b[38;5;124m'\u001b[39m)\n\u001b[0;32m      8\u001b[0m     contents_list\u001b[38;5;241m.\u001b[39mappend(json_data)\n",
      "File \u001b[1;32mC:\\ProgramData\\anaconda3\\Lib\\urllib\\request.py:216\u001b[0m, in \u001b[0;36murlopen\u001b[1;34m(url, data, timeout, cafile, capath, cadefault, context)\u001b[0m\n\u001b[0;32m    214\u001b[0m \u001b[38;5;28;01melse\u001b[39;00m:\n\u001b[0;32m    215\u001b[0m     opener \u001b[38;5;241m=\u001b[39m _opener\n\u001b[1;32m--> 216\u001b[0m \u001b[38;5;28;01mreturn\u001b[39;00m opener\u001b[38;5;241m.\u001b[39mopen(url, data, timeout)\n",
      "File \u001b[1;32mC:\\ProgramData\\anaconda3\\Lib\\urllib\\request.py:509\u001b[0m, in \u001b[0;36mOpenerDirector.open\u001b[1;34m(self, fullurl, data, timeout)\u001b[0m\n\u001b[0;32m    506\u001b[0m     \u001b[38;5;28;01mif\u001b[39;00m data \u001b[38;5;129;01mis\u001b[39;00m \u001b[38;5;129;01mnot\u001b[39;00m \u001b[38;5;28;01mNone\u001b[39;00m:\n\u001b[0;32m    507\u001b[0m         req\u001b[38;5;241m.\u001b[39mdata \u001b[38;5;241m=\u001b[39m data\n\u001b[1;32m--> 509\u001b[0m req\u001b[38;5;241m.\u001b[39mtimeout \u001b[38;5;241m=\u001b[39m timeout\n\u001b[0;32m    510\u001b[0m protocol \u001b[38;5;241m=\u001b[39m req\u001b[38;5;241m.\u001b[39mtype\n\u001b[0;32m    512\u001b[0m \u001b[38;5;66;03m# pre-process request\u001b[39;00m\n",
      "\u001b[1;31mAttributeError\u001b[0m: 'set' object has no attribute 'timeout'"
     ]
    }
   ],
   "source": [
    "from urllib.request import urlopen\n",
    "contents_list=[]\n",
    "json_data=[]\n",
    "for site in websites:\n",
    "    websites = site\n",
    "    r = urlopen(websites)\n",
    "    json_data = r.read().decode('utf-8', 'replace')\n",
    "    contents_list.append(json_data)\n",
    "\n",
    "display(contents_list)"
   ]
  },
  {
   "cell_type": "markdown",
   "id": "89918ac5-d041-48f0-8083-0f1dc2228d38",
   "metadata": {},
   "source": [
    "**US BIS List**"
   ]
  },
  {
   "cell_type": "code",
   "execution_count": null,
   "id": "56510b9a-1872-4200-a461-da2323111113",
   "metadata": {
    "tags": []
   },
   "outputs": [],
   "source": [
    "websites = []\n",
    "\n",
    "for i in date_list:\n",
    "    test = 'https://data.opensanctions.org/datasets/'+(i)+'/us_bis_denied/entities.ftm.json'\n",
    "    websites.append(test)\n",
    "print(websites)"
   ]
  },
  {
   "cell_type": "code",
   "execution_count": null,
   "id": "9cbbf8d0-273d-4e76-9434-66917f973ef7",
   "metadata": {
    "tags": []
   },
   "outputs": [],
   "source": [
    "from urllib.request import urlopen\n",
    "contents_list=[]\n",
    "json_data=[]\n",
    "for site in websites:\n",
    "    websites = site\n",
    "    r = urlopen(websites)\n",
    "    json_data = r.read().decode('utf-8', 'replace')\n",
    "    contents_list.append(json_data)\n",
    "\n",
    "display(contents_list)"
   ]
  },
  {
   "cell_type": "markdown",
   "id": "ae57bf2d-5342-4a4a-b781-1eb8aa38b2dc",
   "metadata": {},
   "source": [
    "**EU FSF**"
   ]
  },
  {
   "cell_type": "code",
   "execution_count": null,
   "id": "bf0d8eef-d220-4b1e-9bb7-e5b509449e06",
   "metadata": {
    "tags": []
   },
   "outputs": [],
   "source": [
    "websites = []\n",
    "\n",
    "for i in date_list:\n",
    "    test = 'https://data.opensanctions.org/datasets/'+(i)+'/eu_fsf/entities.ftm.json'\n",
    "    websites.append(test)\n",
    "print(websites)"
   ]
  },
  {
   "cell_type": "code",
   "execution_count": null,
   "id": "35c4f9d8-0b60-4597-a602-0ba4d149b79e",
   "metadata": {
    "tags": []
   },
   "outputs": [],
   "source": [
    "from urllib.request import urlopen\n",
    "contents_list=[]\n",
    "json_data=[]\n",
    "for site in websites:\n",
    "    websites = site\n",
    "    r = urlopen(websites)\n",
    "    json_data = r.read().decode('utf-8', 'replace')\n",
    "    contents_list.append(json_data)\n",
    "\n",
    "display(contents_list)"
   ]
  },
  {
   "cell_type": "markdown",
   "id": "910e8c9d-95dd-4064-96aa-388d1fdc33c0",
   "metadata": {
    "tags": []
   },
   "source": [
    "**EU Sanctions Map**"
   ]
  },
  {
   "cell_type": "code",
   "execution_count": null,
   "id": "80fc00ce-dfb4-4422-a4d7-a5e5bc76bc41",
   "metadata": {
    "tags": []
   },
   "outputs": [],
   "source": [
    "websites = []\n",
    "\n",
    "for i in date_list:\n",
    "    test = 'https://data.opensanctions.org/datasets/'+(i)+'/eu_sanctions_map/entities.ftm.json'\n",
    "    websites.append(test)\n",
    "print(websites)"
   ]
  },
  {
   "cell_type": "code",
   "execution_count": null,
   "id": "327ba35b-4f4b-4626-97d9-9a7fa4a293e8",
   "metadata": {
    "tags": []
   },
   "outputs": [],
   "source": [
    "from urllib.request import urlopen\n",
    "contents_list=[]\n",
    "json_data=[]\n",
    "for site in websites:\n",
    "    websites = site\n",
    "    r = urlopen(websites)\n",
    "    json_data = r.read().decode('utf-8', 'replace')\n",
    "    contents_list.append(json_data)\n",
    "\n",
    "display(contents_list)"
   ]
  },
  {
   "cell_type": "code",
   "execution_count": null,
   "id": "b8c12ccf-8791-498b-a4ca-3f6ac9421210",
   "metadata": {},
   "outputs": [],
   "source": [
    "eu_travel_bans"
   ]
  }
 ],
 "metadata": {
  "kernelspec": {
   "display_name": "Python 3 (ipykernel)",
   "language": "python",
   "name": "python3"
  },
  "language_info": {
   "codemirror_mode": {
    "name": "ipython",
    "version": 3
   },
   "file_extension": ".py",
   "mimetype": "text/x-python",
   "name": "python",
   "nbconvert_exporter": "python",
   "pygments_lexer": "ipython3",
   "version": "3.11.5"
  }
 },
 "nbformat": 4,
 "nbformat_minor": 5
}
