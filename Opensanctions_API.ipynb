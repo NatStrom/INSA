{
 "cells": [
  {
   "cell_type": "markdown",
   "id": "abccd369-e6de-4c61-b7b7-e0d47066d2a0",
   "metadata": {},
   "source": [
    "**this is an example notebook for querying from the Opensantions API**"
   ]
  },
  {
   "cell_type": "markdown",
   "id": "c039b46e-a09a-43de-acab-696731da7308",
   "metadata": {},
   "source": [
    "datasets of interest:\n",
    "\n",
    "us_ofac_sdn\n",
    "\n",
    "us_ofac_cons\n",
    "\n",
    "us_bis_denied\n",
    "\n",
    "\n",
    "eu_fsf\n",
    "\n",
    "eu_sanctions_map\n",
    "\n",
    "\n",
    "gb_hwt_sanctions"
   ]
  },
  {
   "cell_type": "code",
   "execution_count": null,
   "id": "fbc34aa6-9752-4974-aec6-6651f8d83396",
   "metadata": {},
   "outputs": [],
   "source": [
    "#import packages\n",
    "import requests\n",
    "import json\n",
    "import pandas as pd\n",
    "import numpy as np\n",
    "import os"
   ]
  },
  {
   "cell_type": "code",
   "execution_count": null,
   "id": "cd9e0d19-8954-4783-8afa-85e8072b99b2",
   "metadata": {},
   "outputs": [],
   "source": [
    "#set API path & key\n",
    "url = \"https://api.opensanctions.org/us_ofac_sdn\"\n",
    "\"https://api.opensanctions.org/match/sanctions?algorithm=best\"\n",
    "# Create and read an environment variable to get the API key:\n",
    "API_KEY = os.environ.get(\"OPENSANCTIONS_KEY\")\n",
    "\n",
    "# Create an HTTP session which manages connections and defines shared header configuration:\n",
    "session = requests.Session()\n",
    "session.headers['Authorization'] = f\"ApiKey {API_KEY}\"\n",
    "\n",
    "#how to specify the date?page? --> sech for property\n",
    "\"last_change\": \"2023-11-17T12:42:01\", #then query all days?\n",
    "\n",
    "# Similarly, a company search using just a name and jurisdiction.\n",
    "EXAMPLE = {\n",
    "    \"schema\": \"\",\n",
    "    \"properties\": {\n",
    "        \"name\": [\"\"],\n",
    "        \"jurisdiction\": [\"\"],\n",
    "    },\n",
    "}\n",
    "\n",
    "# We put both of these queries into a matching batch, giving each of them an\n",
    "# ID that we can recognize it by later:\n",
    "BATCH = {\"queries\": {\"q1\": EXAMPLE_1, \"q2\": EXAMPLE_2}}\n",
    "\n",
    "# This configures the scoring system. \"fuzzy\" is related only to the pre-retrieval\n",
    "# of entities and can be turned off for a performance boost.\n",
    "PARAMS = {\"algorithm\": \"best\", \"fuzzy\": \"false\"}\n",
    "\n",
    "# Send the batch off to the API and raise an exception for a non-OK response code.\n",
    "response = session.post(URL, json=BATCH, params=PARAMS)\n",
    "response.raise_for_status()\n",
    "\n",
    "responses = response.json().get(\"responses\")\n",
    "\n",
    "# The responses will include a set of results for each entity, and a parsed version of\n",
    "# the original query:\n",
    "example_1_response = responses.get(\"q1\")\n",
    "example_2_response = responses.get(\"q2\")\n",
    "\n",
    "# You can use the returned query to debug if the API correctly parsed and interpreted \n",
    "# the queries you provided. If any of the fields or values are missing, it's an\n",
    "# indication their format wasn't accepted by the system.\n",
    "pprint(example_2_response[\"query\"])\n",
    "\n",
    "# The results are a list of entities, formatted using the same structure as your\n",
    "# query examples. By default, the API will at most return five potential matches.\n",
    "for result in example_2_response['results']:\n",
    "    pprint(result)"
   ]
  },
  {
   "cell_type": "code",
   "execution_count": null,
   "id": "d685c2e2-3ce0-4a48-9e2a-23b4c4b7b643",
   "metadata": {},
   "outputs": [],
   "source": [
    "# basic API query\n",
    "response = requests.get(url)\n",
    "\n",
    "# ususally you want the response from the API to be json, since this is the easiest to process/parse \n",
    "data = respone.json()"
   ]
  },
  {
   "cell_type": "code",
   "execution_count": null,
   "id": "f946d15b-0ebd-44af-96d2-8c891012c163",
   "metadata": {},
   "outputs": [],
   "source": [
    "#parse into df\n",
    "df = pd.DataFrame(data)"
   ]
  },
  {
   "cell_type": "code",
   "execution_count": null,
   "id": "f79559b4-bb5e-4fbf-b797-f1f0bc09207c",
   "metadata": {},
   "outputs": [],
   "source": [
    "#clean up the df"
   ]
  },
  {
   "cell_type": "code",
   "execution_count": null,
   "id": "974391c7-d368-4b9a-a32a-2d95e1805104",
   "metadata": {},
   "outputs": [],
   "source": [
    "#loop over API to create access to all dates since 2021/07/21"
   ]
  },
  {
   "cell_type": "code",
   "execution_count": null,
   "id": "e3d51dc6-6abe-4607-bd7e-53817a69e69d",
   "metadata": {},
   "outputs": [],
   "source": [
    "import os\n",
    "import requests\n",
    "\n",
    "API_URL = \"https://api.opensanctions.org\"\n",
    "# Read an environment variable to get the API key:\n",
    "API_KEY = os.environ.get(\"OPENSANCTIONS_API_KEY\")\n",
    "\n",
    "session = requests.Session()\n",
    "session.headers['Authorization'] = f\"ApiKey {API_KEY}\"\n",
    "\n",
    "# Fetch an entity:\n",
    "response = session.get(f\"{API_URL}/entities/Q7747\")\n",
    "response.raise_for_status()\n",
    "entity_data = response.json()\n",
    "\n",
    "# Run a match query:\n",
    "query = {\"schema\": \"Person\", \"properties\": {\"name\": [\"Vladimir Putin\"]}}\n",
    "request = {\"queries\": {\"query\": query}}\n",
    "response = session.post(f\"{API_URL}/match/default\", json=request)\n",
    "response.raise_for_status()\n",
    "results = response.json().get(\"responses\").get(\"query\").get(\"results\")"
   ]
  }
 ],
 "metadata": {
  "kernelspec": {
   "display_name": "Python 3 (ipykernel)",
   "language": "python",
   "name": "python3"
  },
  "language_info": {
   "codemirror_mode": {
    "name": "ipython",
    "version": 3
   },
   "file_extension": ".py",
   "mimetype": "text/x-python",
   "name": "python",
   "nbconvert_exporter": "python",
   "pygments_lexer": "ipython3",
   "version": "3.11.5"
  }
 },
 "nbformat": 4,
 "nbformat_minor": 5
}
