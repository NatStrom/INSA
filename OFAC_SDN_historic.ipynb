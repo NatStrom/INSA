{
 "cells": [
  {
   "cell_type": "markdown",
   "id": "e3b5cfd3-bcf8-42a9-9fcc-f5cd2f310207",
   "metadata": {},
   "source": [
    "OFAC SDN historic lists\n",
    "\n",
    "source URL: https://ofac.treasury.gov/specially-designated-nationals-list-sdn-list/archive-of-changes-to-the-sdn-list"
   ]
  },
  {
   "cell_type": "markdown",
   "id": "a3dfdb0f-bd2b-4073-8292-f3b9ac34a060",
   "metadata": {},
   "source": [
    "Process & Problem Description:\n",
    "\n",
    "*The historic files are not structured but in the format of press releases that have a date assigned. One step could be to load each date and its assigned conent as a nested Json/ list. Another possible solution or the next step is, to use regular expression functions to match ans search for context that can then be assigned as a value to a specific key. \n",
    "I have absolutely no idea how to automate that or to ensure, that the lines are not split but the information belonging to one entity is connected to each other. Furthermore, most updates do not provide an Entity ID. I can work on it, but its gonna take some time*\n",
    "\n",
    "additional questions:\n",
    "- *where is it stored?*\n",
    "\n",
    "- *how is the data structured/ what information does it contain?*\n",
    "\n",
    "- *what information should be included?*\n",
    "\n",
    "Technical Notes:\n",
    "- tab separated since comma could be inclduded in the text?\n",
    "\n",
    "*The big problem is, that we do not have a baseline dataset. Also, the txt files involve not enough information, as the ID is missing.*\n",
    "\n",
    "Next steps:\n",
    "- wait for Enigma response?"
   ]
  },
  {
   "cell_type": "code",
   "execution_count": null,
   "id": "55e0e5f5-06a3-4758-be1d-babe6a8f8989",
   "metadata": {},
   "outputs": [],
   "source": [
    "#source url: https://www.treasury.gov/ofac/downloads/sdnewYEAR.txt\n",
    "#YEAR span: 94 to 23\n",
    "\n"
   ]
  }
 ],
 "metadata": {
  "kernelspec": {
   "display_name": "Python 3 (ipykernel)",
   "language": "python",
   "name": "python3"
  },
  "language_info": {
   "codemirror_mode": {
    "name": "ipython",
    "version": 3
   },
   "file_extension": ".py",
   "mimetype": "text/x-python",
   "name": "python",
   "nbconvert_exporter": "python",
   "pygments_lexer": "ipython3",
   "version": "3.11.5"
  }
 },
 "nbformat": 4,
 "nbformat_minor": 5
}
